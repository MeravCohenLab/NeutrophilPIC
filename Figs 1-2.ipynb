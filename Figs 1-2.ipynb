{
 "cells": [
  {
   "cell_type": "code",
   "execution_count": 3,
   "id": "6a5ba046",
   "metadata": {
    "scrolled": true
   },
   "outputs": [
    {
     "name": "stderr",
     "output_type": "stream",
     "text": [
      "\n",
      "Attaching package: ‘babelgene’\n",
      "\n",
      "\n",
      "The following object is masked from ‘package:GenomeInfoDb’:\n",
      "\n",
      "    species\n",
      "\n",
      "\n",
      "The following object is masked from ‘package:BiocGenerics’:\n",
      "\n",
      "    species\n",
      "\n",
      "\n",
      "Loading required package: grid\n",
      "\n",
      "========================================\n",
      "ComplexHeatmap version 2.13.2\n",
      "Bioconductor page: http://bioconductor.org/packages/ComplexHeatmap/\n",
      "Github page: https://github.com/jokergoo/ComplexHeatmap\n",
      "Documentation: http://jokergoo.github.io/ComplexHeatmap-reference\n",
      "\n",
      "If you use it in published research, please cite either one:\n",
      "- Gu, Z. Complex heatmaps reveal patterns and correlations in multidimensional \n",
      "    genomic data. Bioinformatics 2016.\n",
      "- Gu, Z. Complex Heatmap Visualization. iMeta 2022.\n",
      "\n",
      "\n",
      "The new InteractiveComplexHeatmap package can directly export static \n",
      "complex heatmaps into an interactive Shiny app with zero effort. Have a try!\n",
      "\n",
      "This message can be suppressed by:\n",
      "  suppressPackageStartupMessages(library(ComplexHeatmap))\n",
      "========================================\n",
      "\n",
      "\n",
      "Loading required package: vioplot\n",
      "\n",
      "Loading required package: sm\n",
      "\n",
      "Package 'sm', version 2.2-5.7: type help(sm) for summary information\n",
      "\n",
      "Loading required package: zoo\n",
      "\n",
      "\n",
      "Attaching package: ‘zoo’\n",
      "\n",
      "\n",
      "The following objects are masked from ‘package:base’:\n",
      "\n",
      "    as.Date, as.Date.numeric\n",
      "\n",
      "\n",
      "Loading required package: R.oo\n",
      "\n",
      "Loading required package: R.methodsS3\n",
      "\n",
      "R.methodsS3 v1.8.2 (2022-06-13 22:00:14 UTC) successfully loaded. See ?R.methodsS3 for help.\n",
      "\n",
      "R.oo v1.25.0 (2022-06-12 02:20:02 UTC) successfully loaded. See ?R.oo for help.\n",
      "\n",
      "\n",
      "Attaching package: ‘R.oo’\n",
      "\n",
      "\n",
      "The following object is masked from ‘package:R.methodsS3’:\n",
      "\n",
      "    throw\n",
      "\n",
      "\n",
      "The following object is masked from ‘package:SummarizedExperiment’:\n",
      "\n",
      "    trim\n",
      "\n",
      "\n",
      "The following object is masked from ‘package:GenomicRanges’:\n",
      "\n",
      "    trim\n",
      "\n",
      "\n",
      "The following object is masked from ‘package:IRanges’:\n",
      "\n",
      "    trim\n",
      "\n",
      "\n",
      "The following objects are masked from ‘package:devtools’:\n",
      "\n",
      "    check, unload\n",
      "\n",
      "\n",
      "The following objects are masked from ‘package:methods’:\n",
      "\n",
      "    getClasses, getMethods\n",
      "\n",
      "\n",
      "The following objects are masked from ‘package:base’:\n",
      "\n",
      "    attach, detach, load, save\n",
      "\n",
      "\n",
      "R.utils v2.12.2 (2022-11-11 22:00:03 UTC) successfully loaded. See ?R.utils for help.\n",
      "\n",
      "\n",
      "Attaching package: ‘R.utils’\n",
      "\n",
      "\n",
      "The following object is masked from ‘package:ComplexHeatmap’:\n",
      "\n",
      "    draw\n",
      "\n",
      "\n",
      "The following object is masked from ‘package:tidyr’:\n",
      "\n",
      "    extract\n",
      "\n",
      "\n",
      "The following object is masked from ‘package:GEOquery’:\n",
      "\n",
      "    gunzip\n",
      "\n",
      "\n",
      "The following object is masked from ‘package:utils’:\n",
      "\n",
      "    timestamp\n",
      "\n",
      "\n",
      "The following objects are masked from ‘package:base’:\n",
      "\n",
      "    cat, commandArgs, getOption, isOpen, nullfile, parse, warnings\n",
      "\n",
      "\n",
      "Loading required package: lattice\n",
      "\n",
      "Loading required package: survival\n",
      "\n",
      "Loading required package: Formula\n",
      "\n",
      "\n",
      "Attaching package: ‘Hmisc’\n",
      "\n",
      "\n",
      "The following object is masked from ‘package:R.utils’:\n",
      "\n",
      "    capitalize\n",
      "\n",
      "\n",
      "The following objects are masked from ‘package:dplyr’:\n",
      "\n",
      "    src, summarize\n",
      "\n",
      "\n",
      "The following objects are masked from ‘package:plyr’:\n",
      "\n",
      "    is.discrete, summarize\n",
      "\n",
      "\n",
      "The following object is masked from ‘package:Biobase’:\n",
      "\n",
      "    contents\n",
      "\n",
      "\n",
      "The following objects are masked from ‘package:base’:\n",
      "\n",
      "    format.pval, units\n",
      "\n",
      "\n",
      "corrplot 0.92 loaded\n",
      "\n",
      "\n",
      "Attaching package: ‘pheatmap’\n",
      "\n",
      "\n",
      "The following object is masked from ‘package:ComplexHeatmap’:\n",
      "\n",
      "    pheatmap\n",
      "\n",
      "\n",
      "\n",
      "Attaching package: ‘shades’\n",
      "\n",
      "\n",
      "The following object is masked from ‘package:SummarizedExperiment’:\n",
      "\n",
      "    distance\n",
      "\n",
      "\n",
      "The following object is masked from ‘package:GenomicRanges’:\n",
      "\n",
      "    distance\n",
      "\n",
      "\n",
      "The following objects are masked from ‘package:IRanges’:\n",
      "\n",
      "    distance, space\n",
      "\n",
      "\n",
      "The following object is masked from ‘package:S4Vectors’:\n",
      "\n",
      "    space\n",
      "\n",
      "\n"
     ]
    }
   ],
   "source": [
    "library(metacell)\n",
    "library(GEOquery)\n",
    "library(googlesheets4)\n",
    "library(googledrive)\n",
    "library(devtools)\n",
    "library(reshape2)\n",
    "library(plyr)\n",
    "library(dplyr)\n",
    "library(tibble)\n",
    "library(ggplot2)\n",
    "library(tidyverse)\n",
    "library(tgstat)\n",
    "library(tgconfig)\n",
    "library(gridExtra)\n",
    "library(SingleCellExperiment)\n",
    "library(babelgene)\n",
    "library(zellkonverter)\n",
    "library(liana)\n",
    "library(ComplexHeatmap)\n",
    "library(grid)\n",
    "library(GOfuncR)\n",
    "library(cowplot)\n",
    "library(R.utils)\n",
    "library(Hmisc)\n",
    "library(corrplot)\n",
    "library(pheatmap)\n",
    "library(shades)"
   ]
  },
  {
   "cell_type": "code",
   "execution_count": 4,
   "id": "e42bd008",
   "metadata": {},
   "outputs": [
    {
     "name": "stderr",
     "output_type": "stream",
     "text": [
      "\u001b[1m\u001b[22m\u001b[36mℹ\u001b[39m SHA-1 hash of file is \"bda7f06ee7b168c0be4c723ee15644ab99e6421e\"\n",
      "Loading required package: KernSmooth\n",
      "\n",
      "KernSmooth 2.23 loaded\n",
      "Copyright M. P. Wand 1997-2009\n",
      "\n",
      "Loading required package: RANN\n",
      "\n",
      "Loading required package: plotrix\n",
      "\n",
      "Loading required package: gplots\n",
      "\n",
      "\n",
      "Attaching package: ‘gplots’\n",
      "\n",
      "\n",
      "The following object is masked from ‘package:plotrix’:\n",
      "\n",
      "    plotCI\n",
      "\n",
      "\n",
      "The following object is masked from ‘package:shades’:\n",
      "\n",
      "    space\n",
      "\n",
      "\n",
      "The following object is masked from ‘package:IRanges’:\n",
      "\n",
      "    space\n",
      "\n",
      "\n",
      "The following object is masked from ‘package:S4Vectors’:\n",
      "\n",
      "    space\n",
      "\n",
      "\n",
      "The following object is masked from ‘package:stats’:\n",
      "\n",
      "    lowess\n",
      "\n",
      "\n",
      "Loading required package: parallel\n",
      "\n",
      "Loading required package: compositions\n",
      "\n",
      "Welcome to compositions, a package for compositional data analysis.\n",
      "Find an intro with \"? compositions\"\n",
      "\n",
      "\n",
      "\n",
      "Attaching package: ‘compositions’\n",
      "\n",
      "\n",
      "The following objects are masked from ‘package:IRanges’:\n",
      "\n",
      "    cor, cov, var\n",
      "\n",
      "\n",
      "The following objects are masked from ‘package:S4Vectors’:\n",
      "\n",
      "    cor, cov, var\n",
      "\n",
      "\n",
      "The following objects are masked from ‘package:BiocGenerics’:\n",
      "\n",
      "    normalize, var\n",
      "\n",
      "\n",
      "The following objects are masked from ‘package:stats’:\n",
      "\n",
      "    anova, cor, cov, dist, var\n",
      "\n",
      "\n",
      "The following objects are masked from ‘package:base’:\n",
      "\n",
      "    %*%, norm, scale, scale.default\n",
      "\n",
      "\n",
      "Loading required package: RCurl\n",
      "\n",
      "\n",
      "Attaching package: ‘RCurl’\n",
      "\n",
      "\n",
      "The following object is masked from ‘package:R.utils’:\n",
      "\n",
      "    reset\n",
      "\n",
      "\n",
      "The following object is masked from ‘package:R.oo’:\n",
      "\n",
      "    clone\n",
      "\n",
      "\n",
      "The following object is masked from ‘package:tidyr’:\n",
      "\n",
      "    complete\n",
      "\n",
      "\n",
      "\u001b[1m\u001b[22m\u001b[36mℹ\u001b[39m SHA-1 hash of file is \"9adfcccbce4f308dad9fb0d084241583dbbeb5b8\"\n",
      "Loading required package: glmnet\n",
      "\n",
      "Loading required package: Matrix\n",
      "\n",
      "\n",
      "Attaching package: ‘Matrix’\n",
      "\n",
      "\n",
      "The following object is masked from ‘package:S4Vectors’:\n",
      "\n",
      "    expand\n",
      "\n",
      "\n",
      "The following objects are masked from ‘package:tidyr’:\n",
      "\n",
      "    expand, pack, unpack\n",
      "\n",
      "\n",
      "Loaded glmnet 4.1-4\n",
      "\n",
      "\n",
      "Attaching package: ‘glmnet’\n",
      "\n",
      "\n",
      "The following object is masked from ‘package:compositions’:\n",
      "\n",
      "    rmult\n",
      "\n",
      "\n"
     ]
    }
   ],
   "source": [
    "source_url(\"https://raw.githubusercontent.com/aygoldberg/PIC-seq/master/scripts/metacell_functions.r\")\n",
    "source_url(\"https://raw.githubusercontent.com/aygoldberg/PIC-seq/master/scripts/pic_parser.r\")"
   ]
  },
  {
   "cell_type": "code",
   "execution_count": 5,
   "id": "8613bb17",
   "metadata": {},
   "outputs": [
    {
     "name": "stderr",
     "output_type": "stream",
     "text": [
      "initializing scdb to scdb/\n",
      "\n"
     ]
    }
   ],
   "source": [
    "if(!dir.exists(\"scdb\")) dir.create(\"scdb/\")\n",
    "scdb_init(\"scdb/\", force_reinit=T)\n",
    "#> initializing scdb to testdb/"
   ]
  },
  {
   "cell_type": "code",
   "execution_count": 6,
   "id": "96740470",
   "metadata": {},
   "outputs": [],
   "source": [
    "if(!dir.exists(\"final_figs\")) dir.create(\"final_figs/\")\n",
    "scfigs_init(\"final_figs/\")"
   ]
  },
  {
   "cell_type": "code",
   "execution_count": 7,
   "id": "69ea5533",
   "metadata": {},
   "outputs": [],
   "source": [
    "annot_df <- read.csv(\"annotations/kinetics_annots.csv\", sep=\",\")\n",
    "annot_df$label = trimws(annot_df$label)"
   ]
  },
  {
   "cell_type": "code",
   "execution_count": null,
   "id": "a4aa52cb",
   "metadata": {},
   "outputs": [],
   "source": [
    "mcell_mc_add_annot(\"kinetics_mc\", annot_df$label)\n",
    "mcell_mc_add_color(\"kinetics_mc\", annot_df$color)"
   ]
  },
  {
   "cell_type": "code",
   "execution_count": 8,
   "id": "894c5ade",
   "metadata": {},
   "outputs": [],
   "source": [
    "mat = scdb_mat(\"kinetics_singlets\")\n",
    "mc = scdb_mc(\"kinetics_mc\")"
   ]
  },
  {
   "cell_type": "code",
   "execution_count": 9,
   "id": "d9684a8b",
   "metadata": {},
   "outputs": [
    {
     "data": {
      "text/html": [
       "<style>\n",
       ".list-inline {list-style: none; margin:0; padding: 0}\n",
       ".list-inline>li {display: inline-block}\n",
       ".list-inline>li:not(:last-child)::after {content: \"\\00b7\"; padding: 0 .5ex}\n",
       "</style>\n",
       "<ol class=list-inline><li>626</li><li>627</li><li>628</li></ol>\n"
      ],
      "text/latex": [
       "\\begin{enumerate*}\n",
       "\\item 626\n",
       "\\item 627\n",
       "\\item 628\n",
       "\\end{enumerate*}\n"
      ],
      "text/markdown": [
       "1. 626\n",
       "2. 627\n",
       "3. 628\n",
       "\n",
       "\n"
      ],
      "text/plain": [
       "[1] 626 627 628"
      ]
     },
     "metadata": {},
     "output_type": "display_data"
    }
   ],
   "source": [
    "which(mc@annots == 'Neutrophils')"
   ]
  },
  {
   "cell_type": "code",
   "execution_count": 10,
   "id": "fd6452cf",
   "metadata": {},
   "outputs": [],
   "source": [
    "bad_genes = as.character(read_lines('annotations/kinetics_filtered_genes.txt'))\n",
    "rp_markers = grep(\"Rpl|Rps|Snor|Gm|Ig[h,k,l]v|^mt-|Hist|Hsp|Jun|Rik\", colnames(mat@mat), v=T)"
   ]
  },
  {
   "cell_type": "code",
   "execution_count": 11,
   "id": "bd3d18df",
   "metadata": {},
   "outputs": [],
   "source": [
    "FACS_filters = c(\"CD45+\", \"CD45-\", \"EPCAM\")\n",
    "ages = age_order = c(\"10d\", \"3w\", \"6w\", \"8w\", \"10w\", \"12w\")\n",
    "conditions = cond_order = c(\"tumor\", \"normal\")\n",
    "age_condition_order = paste(rep(rev(cond_order), each=6), rep(age_order, 2), sep=\"_\")"
   ]
  },
  {
   "cell_type": "code",
   "execution_count": 12,
   "id": "c76efcbf",
   "metadata": {},
   "outputs": [
    {
     "name": "stderr",
     "output_type": "stream",
     "text": [
      "1: Endothelial\n",
      "\n",
      "2: doublets\n",
      "\n",
      "3: Mcam Endothelial\n",
      "\n",
      "4: Dpp4 fibroblasts\n",
      "\n",
      "5: IFN Dpp4 fibroblasts\n",
      "\n",
      "6: fibroblasts\n",
      "\n",
      "7: CAFs\n",
      "\n",
      "8: Pre-adipocytes\n",
      "\n",
      "9: Schwann cells\n",
      "\n",
      "10: Smooth muscle\n",
      "\n",
      "11: Pericytes\n",
      "\n",
      "12: Alveolar spp l\n",
      "\n",
      "13: Progenitor 1\n",
      "\n",
      "14: Alveolar\n",
      "\n",
      "15: Alveolar secretory\n",
      "\n",
      "16: Alveolar spp1 h\n",
      "\n",
      "17: Progenitor 2\n",
      "\n",
      "18: HS\n",
      "\n",
      "19: Basal\n",
      "\n",
      "20: Hair-like\n",
      "\n",
      "21: MyoLum\n",
      "\n",
      "22: Myoepithelial\n",
      "\n",
      "23: Mast cells\n",
      "\n",
      "24: Cytotoxic NK\n",
      "\n",
      "25: NK cells\n",
      "\n",
      "26: gd NKT Ccl5 l\n",
      "\n",
      "27: NKT cells\n",
      "\n",
      "28: gd NKT Ccl5 h\n",
      "\n",
      "29: Mreg DCs\n",
      "\n",
      "30: Basophils\n",
      "\n",
      "31: B cells\n",
      "\n",
      "32: T cells\n",
      "\n",
      "33: CD8 T cells\n",
      "\n",
      "34: Treg\n",
      "\n",
      "35: gd T cells\n",
      "\n",
      "36: ILC2\n",
      "\n",
      "37: Perivasc macs\n",
      "\n",
      "38: Neutrophils\n",
      "\n",
      "39: Monocytes\n",
      "\n",
      "40: MonMacs\n",
      "\n",
      "41: cDC2\n",
      "\n",
      "42: Ductal macs\n",
      "\n",
      "43: pDC\n",
      "\n",
      "44: cDC1\n",
      "\n"
     ]
    }
   ],
   "source": [
    "for (i in 1:length(unique(annot_df$label))){\n",
    "    message(paste(i, unique(annot_df$label)[i], sep=\": \"))\n",
    "}"
   ]
  },
  {
   "cell_type": "code",
   "execution_count": 13,
   "id": "c0219185",
   "metadata": {},
   "outputs": [
    {
     "name": "stdout",
     "output_type": "stream",
     "text": [
      "31, 32, 33, 34, 35, 36, 26, 27, 25, 24, 23, 37, 30"
     ]
    }
   ],
   "source": [
    "cat(c(32, 33, 34, 35, 36, 37, 27, 28, 26, 25, 24, 38, 31) - 1, sep=', ')"
   ]
  },
  {
   "cell_type": "code",
   "execution_count": 14,
   "id": "605150f6",
   "metadata": {},
   "outputs": [],
   "source": [
    "doublet_order = c(2, 20)\n",
    "doublet_clusters = unique(annot_df$label)[doublet_order]\n",
    "lymphoid_order = c(32, 33, 34, 35, 26, 28, 27, 25, 24, 36, 31)\n",
    "myeloid_order = c(39, 40, 37, 42, 44, 41, 43, 29, 23, 30, 38)\n",
    "epithelial_order = c(13, 17, 14, 18, 22, 19, 21, 12, 16, 15)\n",
    "stromal_order = c(1, 3, 10, 11, 9)\n",
    "fibroblast_order = c(6, 4, 5, 7, 8)"
   ]
  },
  {
   "cell_type": "code",
   "execution_count": 15,
   "id": "2c7708a4",
   "metadata": {},
   "outputs": [],
   "source": [
    "pop_orders = list(lymphoid=unique(annot_df$label)[lymphoid_order],\n",
    "                  myeloid=unique(annot_df$label)[myeloid_order],\n",
    "                  epithelial=unique(annot_df$label)[epithelial_order],\n",
    "                  stromal=unique(annot_df$label)[stromal_order],\n",
    "                  fibroblast=unique(annot_df$label)[fibroblast_order])"
   ]
  },
  {
   "cell_type": "code",
   "execution_count": 16,
   "id": "a79ec248",
   "metadata": {},
   "outputs": [
    {
     "data": {
      "text/html": [
       "<style>\n",
       ".list-inline {list-style: none; margin:0; padding: 0}\n",
       ".list-inline>li {display: inline-block}\n",
       ".list-inline>li:not(:last-child)::after {content: \"\\00b7\"; padding: 0 .5ex}\n",
       "</style>\n",
       "<ol class=list-inline><li>'Progenitor 1'</li><li>'Progenitor 2'</li><li>'Alveolar'</li><li>'HS'</li><li>'Myoepithelial'</li><li>'Basal'</li><li>'MyoLum'</li><li>'Alveolar spp l'</li><li>'Alveolar spp1 h'</li><li>'Alveolar secretory'</li></ol>\n"
      ],
      "text/latex": [
       "\\begin{enumerate*}\n",
       "\\item 'Progenitor 1'\n",
       "\\item 'Progenitor 2'\n",
       "\\item 'Alveolar'\n",
       "\\item 'HS'\n",
       "\\item 'Myoepithelial'\n",
       "\\item 'Basal'\n",
       "\\item 'MyoLum'\n",
       "\\item 'Alveolar spp l'\n",
       "\\item 'Alveolar spp1 h'\n",
       "\\item 'Alveolar secretory'\n",
       "\\end{enumerate*}\n"
      ],
      "text/markdown": [
       "1. 'Progenitor 1'\n",
       "2. 'Progenitor 2'\n",
       "3. 'Alveolar'\n",
       "4. 'HS'\n",
       "5. 'Myoepithelial'\n",
       "6. 'Basal'\n",
       "7. 'MyoLum'\n",
       "8. 'Alveolar spp l'\n",
       "9. 'Alveolar spp1 h'\n",
       "10. 'Alveolar secretory'\n",
       "\n",
       "\n"
      ],
      "text/plain": [
       " [1] \"Progenitor 1\"       \"Progenitor 2\"       \"Alveolar\"          \n",
       " [4] \"HS\"                 \"Myoepithelial\"      \"Basal\"             \n",
       " [7] \"MyoLum\"             \"Alveolar spp l\"     \"Alveolar spp1 h\"   \n",
       "[10] \"Alveolar secretory\""
      ]
     },
     "metadata": {},
     "output_type": "display_data"
    }
   ],
   "source": [
    "pop_orders$epithelial"
   ]
  },
  {
   "cell_type": "code",
   "execution_count": 17,
   "id": "14681296",
   "metadata": {},
   "outputs": [],
   "source": [
    "cell_type_annots = list(unique(annot_df$label)[c(lymphoid_order, myeloid_order)], \n",
    "                        unique(annot_df$label)[c(stromal_order, fibroblast_order)],\n",
    "                        unique(annot_df$label)[epithelial_order])\n",
    "names(cell_type_annots) = FACS_filters"
   ]
  },
  {
   "cell_type": "code",
   "execution_count": 18,
   "id": "a21dbe0c",
   "metadata": {},
   "outputs": [],
   "source": [
    "order_index = c(lymphoid_order, myeloid_order, epithelial_order, stromal_order, fibroblast_order)\n",
    "cell_order = unique(annot_df$label)[order_index]"
   ]
  },
  {
   "cell_type": "code",
   "execution_count": 19,
   "id": "633c7cdc",
   "metadata": {
    "scrolled": true
   },
   "outputs": [
    {
     "data": {
      "text/html": [
       "<style>\n",
       ".list-inline {list-style: none; margin:0; padding: 0}\n",
       ".list-inline>li {display: inline-block}\n",
       ".list-inline>li:not(:last-child)::after {content: \"\\00b7\"; padding: 0 .5ex}\n",
       "</style>\n",
       "<ol class=list-inline><li>'doublets'</li><li>'Hair-like'</li></ol>\n"
      ],
      "text/latex": [
       "\\begin{enumerate*}\n",
       "\\item 'doublets'\n",
       "\\item 'Hair-like'\n",
       "\\end{enumerate*}\n"
      ],
      "text/markdown": [
       "1. 'doublets'\n",
       "2. 'Hair-like'\n",
       "\n",
       "\n"
      ],
      "text/plain": [
       "[1] \"doublets\"  \"Hair-like\""
      ]
     },
     "metadata": {},
     "output_type": "display_data"
    }
   ],
   "source": [
    "unique(annot_df$label)[!unique(annot_df$label) %in% cell_order]"
   ]
  },
  {
   "cell_type": "code",
   "execution_count": 20,
   "id": "b01cef2d",
   "metadata": {},
   "outputs": [
    {
     "data": {
      "text/html": [
       "<style>\n",
       ".list-inline {list-style: none; margin:0; padding: 0}\n",
       ".list-inline>li {display: inline-block}\n",
       ".list-inline>li:not(:last-child)::after {content: \"\\00b7\"; padding: 0 .5ex}\n",
       "</style>\n",
       "<ol class=list-inline><li>'T cells'</li><li>'CD8 T cells'</li><li>'Treg'</li><li>'gd T cells'</li><li>'gd NKT Ccl5 l'</li><li>'gd NKT Ccl5 h'</li><li>'NKT cells'</li><li>'NK cells'</li><li>'Cytotoxic NK'</li><li>'ILC2'</li><li>'B cells'</li><li>'Monocytes'</li><li>'MonMacs'</li><li>'Perivasc macs'</li><li>'Ductal macs'</li><li>'cDC1'</li><li>'cDC2'</li><li>'pDC'</li><li>'Mreg DCs'</li><li>'Mast cells'</li><li>'Basophils'</li><li>'Neutrophils'</li><li>'Progenitor 1'</li><li>'Progenitor 2'</li><li>'Alveolar'</li><li>'HS'</li><li>'Myoepithelial'</li><li>'Basal'</li><li>'MyoLum'</li><li>'Alveolar spp l'</li><li>'Alveolar spp1 h'</li><li>'Alveolar secretory'</li><li>'Endothelial'</li><li>'Mcam Endothelial'</li><li>'Smooth muscle'</li><li>'Pericytes'</li><li>'Schwann cells'</li><li>'fibroblasts'</li><li>'Dpp4 fibroblasts'</li><li>'IFN Dpp4 fibroblasts'</li><li>'CAFs'</li><li>'Pre-adipocytes'</li></ol>\n"
      ],
      "text/latex": [
       "\\begin{enumerate*}\n",
       "\\item 'T cells'\n",
       "\\item 'CD8 T cells'\n",
       "\\item 'Treg'\n",
       "\\item 'gd T cells'\n",
       "\\item 'gd NKT Ccl5 l'\n",
       "\\item 'gd NKT Ccl5 h'\n",
       "\\item 'NKT cells'\n",
       "\\item 'NK cells'\n",
       "\\item 'Cytotoxic NK'\n",
       "\\item 'ILC2'\n",
       "\\item 'B cells'\n",
       "\\item 'Monocytes'\n",
       "\\item 'MonMacs'\n",
       "\\item 'Perivasc macs'\n",
       "\\item 'Ductal macs'\n",
       "\\item 'cDC1'\n",
       "\\item 'cDC2'\n",
       "\\item 'pDC'\n",
       "\\item 'Mreg DCs'\n",
       "\\item 'Mast cells'\n",
       "\\item 'Basophils'\n",
       "\\item 'Neutrophils'\n",
       "\\item 'Progenitor 1'\n",
       "\\item 'Progenitor 2'\n",
       "\\item 'Alveolar'\n",
       "\\item 'HS'\n",
       "\\item 'Myoepithelial'\n",
       "\\item 'Basal'\n",
       "\\item 'MyoLum'\n",
       "\\item 'Alveolar spp l'\n",
       "\\item 'Alveolar spp1 h'\n",
       "\\item 'Alveolar secretory'\n",
       "\\item 'Endothelial'\n",
       "\\item 'Mcam Endothelial'\n",
       "\\item 'Smooth muscle'\n",
       "\\item 'Pericytes'\n",
       "\\item 'Schwann cells'\n",
       "\\item 'fibroblasts'\n",
       "\\item 'Dpp4 fibroblasts'\n",
       "\\item 'IFN Dpp4 fibroblasts'\n",
       "\\item 'CAFs'\n",
       "\\item 'Pre-adipocytes'\n",
       "\\end{enumerate*}\n"
      ],
      "text/markdown": [
       "1. 'T cells'\n",
       "2. 'CD8 T cells'\n",
       "3. 'Treg'\n",
       "4. 'gd T cells'\n",
       "5. 'gd NKT Ccl5 l'\n",
       "6. 'gd NKT Ccl5 h'\n",
       "7. 'NKT cells'\n",
       "8. 'NK cells'\n",
       "9. 'Cytotoxic NK'\n",
       "10. 'ILC2'\n",
       "11. 'B cells'\n",
       "12. 'Monocytes'\n",
       "13. 'MonMacs'\n",
       "14. 'Perivasc macs'\n",
       "15. 'Ductal macs'\n",
       "16. 'cDC1'\n",
       "17. 'cDC2'\n",
       "18. 'pDC'\n",
       "19. 'Mreg DCs'\n",
       "20. 'Mast cells'\n",
       "21. 'Basophils'\n",
       "22. 'Neutrophils'\n",
       "23. 'Progenitor 1'\n",
       "24. 'Progenitor 2'\n",
       "25. 'Alveolar'\n",
       "26. 'HS'\n",
       "27. 'Myoepithelial'\n",
       "28. 'Basal'\n",
       "29. 'MyoLum'\n",
       "30. 'Alveolar spp l'\n",
       "31. 'Alveolar spp1 h'\n",
       "32. 'Alveolar secretory'\n",
       "33. 'Endothelial'\n",
       "34. 'Mcam Endothelial'\n",
       "35. 'Smooth muscle'\n",
       "36. 'Pericytes'\n",
       "37. 'Schwann cells'\n",
       "38. 'fibroblasts'\n",
       "39. 'Dpp4 fibroblasts'\n",
       "40. 'IFN Dpp4 fibroblasts'\n",
       "41. 'CAFs'\n",
       "42. 'Pre-adipocytes'\n",
       "\n",
       "\n"
      ],
      "text/plain": [
       " [1] \"T cells\"              \"CD8 T cells\"          \"Treg\"                \n",
       " [4] \"gd T cells\"           \"gd NKT Ccl5 l\"        \"gd NKT Ccl5 h\"       \n",
       " [7] \"NKT cells\"            \"NK cells\"             \"Cytotoxic NK\"        \n",
       "[10] \"ILC2\"                 \"B cells\"              \"Monocytes\"           \n",
       "[13] \"MonMacs\"              \"Perivasc macs\"        \"Ductal macs\"         \n",
       "[16] \"cDC1\"                 \"cDC2\"                 \"pDC\"                 \n",
       "[19] \"Mreg DCs\"             \"Mast cells\"           \"Basophils\"           \n",
       "[22] \"Neutrophils\"          \"Progenitor 1\"         \"Progenitor 2\"        \n",
       "[25] \"Alveolar\"             \"HS\"                   \"Myoepithelial\"       \n",
       "[28] \"Basal\"                \"MyoLum\"               \"Alveolar spp l\"      \n",
       "[31] \"Alveolar spp1 h\"      \"Alveolar secretory\"   \"Endothelial\"         \n",
       "[34] \"Mcam Endothelial\"     \"Smooth muscle\"        \"Pericytes\"           \n",
       "[37] \"Schwann cells\"        \"fibroblasts\"          \"Dpp4 fibroblasts\"    \n",
       "[40] \"IFN Dpp4 fibroblasts\" \"CAFs\"                 \"Pre-adipocytes\"      "
      ]
     },
     "metadata": {},
     "output_type": "display_data"
    }
   ],
   "source": [
    "cell_order"
   ]
  },
  {
   "cell_type": "code",
   "execution_count": 131,
   "id": "b94ead57",
   "metadata": {},
   "outputs": [
    {
     "data": {
      "text/html": [
       "38206"
      ],
      "text/latex": [
       "38206"
      ],
      "text/markdown": [
       "38206"
      ],
      "text/plain": [
       "[1] 38206"
      ]
     },
     "metadata": {},
     "output_type": "display_data"
    }
   ],
   "source": [
    "length(mc@mc[mc@annots[mc@mc] %in% cell_order])"
   ]
  },
  {
   "cell_type": "code",
   "execution_count": 132,
   "id": "5a22d731",
   "metadata": {},
   "outputs": [
    {
     "data": {
      "text/html": [
       "683"
      ],
      "text/latex": [
       "683"
      ],
      "text/markdown": [
       "683"
      ],
      "text/plain": [
       "[1] 683"
      ]
     },
     "metadata": {},
     "output_type": "display_data"
    }
   ],
   "source": [
    "length(mc@mc[mc@annots[mc@mc] %in% cell_order] %>% unique)"
   ]
  },
  {
   "cell_type": "code",
   "execution_count": 133,
   "id": "2b0d6ef2",
   "metadata": {},
   "outputs": [
    {
     "data": {
      "text/plain": [
       "\n",
       " 10d   3w   6w   8w  10w  12w \n",
       "6179 9105 5413 5160 7191 5158 "
      ]
     },
     "metadata": {},
     "output_type": "display_data"
    }
   ],
   "source": [
    "table(mat@cell_metadata[mc@annots[mc@mc[mat@cells]] %in% cell_order, c('Age')])[age_order]"
   ]
  },
  {
   "cell_type": "code",
   "execution_count": 134,
   "id": "cc338347",
   "metadata": {},
   "outputs": [
    {
     "data": {
      "text/plain": [
       "\n",
       "normal  tumor \n",
       " 17378  20828 "
      ]
     },
     "metadata": {},
     "output_type": "display_data"
    }
   ],
   "source": [
    "table(mat@cell_metadata[mc@annots[mc@mc[mat@cells]] %in% cell_order, c('condition')])"
   ]
  },
  {
   "cell_type": "code",
   "execution_count": 135,
   "id": "606901a5",
   "metadata": {
    "scrolled": true
   },
   "outputs": [
    {
     "data": {
      "text/plain": [
       "\n",
       "CD45+ CD45- EPCAM \n",
       "16778 12783  8645 "
      ]
     },
     "metadata": {},
     "output_type": "display_data"
    }
   ],
   "source": [
    "table(mat@cell_metadata[mc@annots[mc@mc[mat@cells]] %in% cell_order, c('Cell_type')])"
   ]
  },
  {
   "cell_type": "code",
   "execution_count": 136,
   "id": "fb75ef36",
   "metadata": {},
   "outputs": [
    {
     "data": {
      "text/plain": [
       "     condition\n",
       "Age   normal tumor\n",
       "  10d   2674  3505\n",
       "  3w    4149  4956\n",
       "  6w    3120  2293\n",
       "  8w    2452  2708\n",
       "  10w   2855  4336\n",
       "  12w   2128  3030"
      ]
     },
     "metadata": {},
     "output_type": "display_data"
    }
   ],
   "source": [
    "table(mat@cell_metadata[mc@annots[mc@mc[mat@cells]] %in% cell_order, c('Age','condition')])[age_order,]"
   ]
  },
  {
   "cell_type": "code",
   "execution_count": 139,
   "id": "939c7707",
   "metadata": {},
   "outputs": [
    {
     "data": {
      "text/plain": [
       "         condition\n",
       "Cell_type normal tumor\n",
       "    CD45+   6948  9830\n",
       "    CD45-   6452  6331\n",
       "    EPCAM   3978  4667"
      ]
     },
     "metadata": {},
     "output_type": "display_data"
    }
   ],
   "source": [
    "table(mat@cell_metadata[mc@annots[mc@mc[mat@cells]] %in% cell_order, c('Cell_type','condition')])"
   ]
  },
  {
   "cell_type": "code",
   "execution_count": 137,
   "id": "b4b48efe",
   "metadata": {},
   "outputs": [
    {
     "data": {
      "text/plain": [
       "     Cell_type\n",
       "Age   CD45+ CD45- EPCAM\n",
       "  10d  2778  1942  1459\n",
       "  3w   3456  3196  2453\n",
       "  6w   2072  2110  1231\n",
       "  8w   2562  1927   671\n",
       "  10w  3451  2532  1208\n",
       "  12w  2459  1076  1623"
      ]
     },
     "metadata": {},
     "output_type": "display_data"
    }
   ],
   "source": [
    "table(mat@cell_metadata[mc@annots[mc@mc[mat@cells]] %in% cell_order, c('Age','Cell_type')])[age_order,]"
   ]
  },
  {
   "cell_type": "code",
   "execution_count": 27,
   "id": "43c9b320",
   "metadata": {},
   "outputs": [],
   "source": [
    "group.colors = annot_df$color[match(cell_order, annot_df$label)]\n",
    "names(group.colors) = cell_order"
   ]
  },
  {
   "cell_type": "code",
   "execution_count": 28,
   "id": "4f009699",
   "metadata": {},
   "outputs": [],
   "source": [
    "good_cellnames = names(mc@mc[mc@annots[mc@mc] %in% cell_order])"
   ]
  },
  {
   "cell_type": "code",
   "execution_count": 29,
   "id": "79714cf6",
   "metadata": {},
   "outputs": [],
   "source": [
    "full_df = cbind(subset(mat@cell_metadata[good_cellnames,], select=-metacell), \n",
    "                metacell=mc@mc[good_cellnames], \n",
    "                annotation=mc@annots[mc@mc[good_cellnames]])"
   ]
  },
  {
   "cell_type": "code",
   "execution_count": 26,
   "id": "f0ea518c",
   "metadata": {},
   "outputs": [
    {
     "data": {
      "text/html": [
       "<table class=\"dataframe\">\n",
       "<caption>A data.frame: 711 × 47</caption>\n",
       "<thead>\n",
       "\t<tr><th></th><th scope=col>Amp.Batch.ID</th><th scope=col>Well_position</th><th scope=col>Seq.Batch.ID</th><th scope=col>Date of sequencing</th><th scope=col>Batch.Set.ID</th><th scope=col>Owner</th><th scope=col>Date of sort</th><th scope=col>Plate ID (15 characters, no _/+)</th><th scope=col>Plate description</th><th scope=col>Empty_well</th><th scope=col>⋯</th><th scope=col>pre_cell_deviant_votes</th><th scope=col>cell_deviant_votes</th><th scope=col>pre_dissolved</th><th scope=col>dissolved</th><th scope=col>pre_metacell</th><th scope=col>outlier</th><th scope=col>amp_batch_id</th><th scope=col>metacell</th><th scope=col>annotation</th><th scope=col>replicate</th></tr>\n",
       "\t<tr><th></th><th scope=col>&lt;fct&gt;</th><th scope=col>&lt;fct&gt;</th><th scope=col>&lt;fct&gt;</th><th scope=col>&lt;fct&gt;</th><th scope=col>&lt;fct&gt;</th><th scope=col>&lt;fct&gt;</th><th scope=col>&lt;fct&gt;</th><th scope=col>&lt;fct&gt;</th><th scope=col>&lt;fct&gt;</th><th scope=col>&lt;lgl&gt;</th><th scope=col>⋯</th><th scope=col>&lt;int&gt;</th><th scope=col>&lt;int&gt;</th><th scope=col>&lt;lgl&gt;</th><th scope=col>&lt;lgl&gt;</th><th scope=col>&lt;int&gt;</th><th scope=col>&lt;lgl&gt;</th><th scope=col>&lt;dbl&gt;</th><th scope=col>&lt;dbl&gt;</th><th scope=col>&lt;chr&gt;</th><th scope=col>&lt;chr&gt;</th></tr>\n",
       "</thead>\n",
       "<tbody>\n",
       "\t<tr><th scope=row>AB159_C20</th><td>AB159</td><td>C20</td><td>SB004</td><td>22/06/2022</td><td>Sandra-12w-1</td><td>Sandra</td><td>19/05/2022</td><td>W12-N16-CD45-</td><td>week12-1normalplate16CD45-</td><td>FALSE</td><td>⋯</td><td>0</td><td>0</td><td>FALSE</td><td>FALSE</td><td>279</td><td>FALSE</td><td>1</td><td>467</td><td>Myoepithelial </td><td>1</td></tr>\n",
       "\t<tr><th scope=row>AB159_I2</th><td>AB159</td><td>I2 </td><td>SB004</td><td>22/06/2022</td><td>Sandra-12w-1</td><td>Sandra</td><td>19/05/2022</td><td>W12-N16-CD45-</td><td>week12-1normalplate16CD45-</td><td>FALSE</td><td>⋯</td><td>0</td><td>0</td><td>FALSE</td><td>FALSE</td><td>129</td><td>FALSE</td><td>1</td><td>494</td><td>Myoepithelial </td><td>1</td></tr>\n",
       "\t<tr><th scope=row>AB159_K10</th><td>AB159</td><td>K10</td><td>SB004</td><td>22/06/2022</td><td>Sandra-12w-1</td><td>Sandra</td><td>19/05/2022</td><td>W12-N16-CD45-</td><td>week12-1normalplate16CD45-</td><td>FALSE</td><td>⋯</td><td>0</td><td>0</td><td>FALSE</td><td>FALSE</td><td>120</td><td>FALSE</td><td>1</td><td>384</td><td>Alveolar      </td><td>1</td></tr>\n",
       "\t<tr><th scope=row>AB159_D16</th><td>AB159</td><td>D16</td><td>SB004</td><td>22/06/2022</td><td>Sandra-12w-1</td><td>Sandra</td><td>19/05/2022</td><td>W12-N16-CD45-</td><td>week12-1normalplate16CD45-</td><td>FALSE</td><td>⋯</td><td>0</td><td>0</td><td>FALSE</td><td>FALSE</td><td>341</td><td>FALSE</td><td>1</td><td>493</td><td>Myoepithelial </td><td>1</td></tr>\n",
       "\t<tr><th scope=row>AB159_O19</th><td>AB159</td><td>O19</td><td>SB004</td><td>22/06/2022</td><td>Sandra-12w-1</td><td>Sandra</td><td>19/05/2022</td><td>W12-N16-CD45-</td><td>week12-1normalplate16CD45-</td><td>FALSE</td><td>⋯</td><td>0</td><td>0</td><td>FALSE</td><td>FALSE</td><td> 31</td><td>FALSE</td><td>1</td><td>406</td><td>HS            </td><td>1</td></tr>\n",
       "\t<tr><th scope=row>AB159_H23</th><td>AB159</td><td>H23</td><td>SB004</td><td>22/06/2022</td><td>Sandra-12w-1</td><td>Sandra</td><td>19/05/2022</td><td>W12-N16-CD45-</td><td>week12-1normalplate16CD45-</td><td>FALSE</td><td>⋯</td><td>0</td><td>0</td><td>FALSE</td><td>FALSE</td><td>674</td><td>FALSE</td><td>1</td><td>201</td><td>Alveolar spp l</td><td>1</td></tr>\n",
       "\t<tr><th scope=row>AB159_O21</th><td>AB159</td><td>O21</td><td>SB004</td><td>22/06/2022</td><td>Sandra-12w-1</td><td>Sandra</td><td>19/05/2022</td><td>W12-N16-CD45-</td><td>week12-1normalplate16CD45-</td><td>FALSE</td><td>⋯</td><td>0</td><td>0</td><td>FALSE</td><td>FALSE</td><td>749</td><td>FALSE</td><td>1</td><td>410</td><td>HS            </td><td>1</td></tr>\n",
       "\t<tr><th scope=row>AB159_N22</th><td>AB159</td><td>N22</td><td>SB004</td><td>22/06/2022</td><td>Sandra-12w-1</td><td>Sandra</td><td>19/05/2022</td><td>W12-N16-CD45-</td><td>week12-1normalplate16CD45-</td><td>FALSE</td><td>⋯</td><td>0</td><td>0</td><td>FALSE</td><td>FALSE</td><td>380</td><td>FALSE</td><td>1</td><td>496</td><td>Myoepithelial </td><td>1</td></tr>\n",
       "\t<tr><th scope=row>AB159_G23</th><td>AB159</td><td>G23</td><td>SB004</td><td>22/06/2022</td><td>Sandra-12w-1</td><td>Sandra</td><td>19/05/2022</td><td>W12-N16-CD45-</td><td>week12-1normalplate16CD45-</td><td>FALSE</td><td>⋯</td><td>0</td><td>0</td><td>FALSE</td><td>FALSE</td><td>439</td><td>FALSE</td><td>1</td><td>384</td><td>Alveolar      </td><td>1</td></tr>\n",
       "\t<tr><th scope=row>AB159_J8</th><td>AB159</td><td>J8 </td><td>SB004</td><td>22/06/2022</td><td>Sandra-12w-1</td><td>Sandra</td><td>19/05/2022</td><td>W12-N16-CD45-</td><td>week12-1normalplate16CD45-</td><td>FALSE</td><td>⋯</td><td>0</td><td>0</td><td>FALSE</td><td>FALSE</td><td>447</td><td>FALSE</td><td>1</td><td>380</td><td>Alveolar      </td><td>1</td></tr>\n",
       "\t<tr><th scope=row>AB159_J11</th><td>AB159</td><td>J11</td><td>SB004</td><td>22/06/2022</td><td>Sandra-12w-1</td><td>Sandra</td><td>19/05/2022</td><td>W12-N16-CD45-</td><td>week12-1normalplate16CD45-</td><td>FALSE</td><td>⋯</td><td>0</td><td>0</td><td>FALSE</td><td>FALSE</td><td>685</td><td>FALSE</td><td>1</td><td>247</td><td>Alveolar      </td><td>1</td></tr>\n",
       "\t<tr><th scope=row>AB159_C5</th><td>AB159</td><td>C5 </td><td>SB004</td><td>22/06/2022</td><td>Sandra-12w-1</td><td>Sandra</td><td>19/05/2022</td><td>W12-N16-CD45-</td><td>week12-1normalplate16CD45-</td><td>FALSE</td><td>⋯</td><td>0</td><td>0</td><td>FALSE</td><td>FALSE</td><td>442</td><td>FALSE</td><td>1</td><td>496</td><td>Myoepithelial </td><td>1</td></tr>\n",
       "\t<tr><th scope=row>AB159_N4</th><td>AB159</td><td>N4 </td><td>SB004</td><td>22/06/2022</td><td>Sandra-12w-1</td><td>Sandra</td><td>19/05/2022</td><td>W12-N16-CD45-</td><td>week12-1normalplate16CD45-</td><td>FALSE</td><td>⋯</td><td>0</td><td>0</td><td>FALSE</td><td>FALSE</td><td>763</td><td>FALSE</td><td>1</td><td>410</td><td>HS            </td><td>1</td></tr>\n",
       "\t<tr><th scope=row>AB159_F16</th><td>AB159</td><td>F16</td><td>SB004</td><td>22/06/2022</td><td>Sandra-12w-1</td><td>Sandra</td><td>19/05/2022</td><td>W12-N16-CD45-</td><td>week12-1normalplate16CD45-</td><td>FALSE</td><td>⋯</td><td>0</td><td>0</td><td>FALSE</td><td>FALSE</td><td>380</td><td>FALSE</td><td>1</td><td>490</td><td>Myoepithelial </td><td>1</td></tr>\n",
       "\t<tr><th scope=row>AB159_B10</th><td>AB159</td><td>B10</td><td>SB004</td><td>22/06/2022</td><td>Sandra-12w-1</td><td>Sandra</td><td>19/05/2022</td><td>W12-N16-CD45-</td><td>week12-1normalplate16CD45-</td><td>FALSE</td><td>⋯</td><td>0</td><td>0</td><td>FALSE</td><td>FALSE</td><td>749</td><td>FALSE</td><td>1</td><td>414</td><td>HS            </td><td>1</td></tr>\n",
       "\t<tr><th scope=row>AB159_E5</th><td>AB159</td><td>E5 </td><td>SB004</td><td>22/06/2022</td><td>Sandra-12w-1</td><td>Sandra</td><td>19/05/2022</td><td>W12-N16-CD45-</td><td>week12-1normalplate16CD45-</td><td>FALSE</td><td>⋯</td><td>0</td><td>0</td><td>FALSE</td><td>FALSE</td><td>749</td><td>FALSE</td><td>1</td><td>412</td><td>HS            </td><td>1</td></tr>\n",
       "\t<tr><th scope=row>AB159_K17</th><td>AB159</td><td>K17</td><td>SB004</td><td>22/06/2022</td><td>Sandra-12w-1</td><td>Sandra</td><td>19/05/2022</td><td>W12-N16-CD45-</td><td>week12-1normalplate16CD45-</td><td>FALSE</td><td>⋯</td><td>0</td><td>0</td><td>FALSE</td><td>FALSE</td><td>156</td><td>FALSE</td><td>1</td><td>406</td><td>HS            </td><td>1</td></tr>\n",
       "\t<tr><th scope=row>AB159_E8</th><td>AB159</td><td>E8 </td><td>SB004</td><td>22/06/2022</td><td>Sandra-12w-1</td><td>Sandra</td><td>19/05/2022</td><td>W12-N16-CD45-</td><td>week12-1normalplate16CD45-</td><td>FALSE</td><td>⋯</td><td>0</td><td>0</td><td>FALSE</td><td>FALSE</td><td>341</td><td>FALSE</td><td>1</td><td>466</td><td>Myoepithelial </td><td>1</td></tr>\n",
       "\t<tr><th scope=row>AB159_D21</th><td>AB159</td><td>D21</td><td>SB004</td><td>22/06/2022</td><td>Sandra-12w-1</td><td>Sandra</td><td>19/05/2022</td><td>W12-N16-CD45-</td><td>week12-1normalplate16CD45-</td><td>FALSE</td><td>⋯</td><td>0</td><td>0</td><td>FALSE</td><td>FALSE</td><td>749</td><td>FALSE</td><td>1</td><td>414</td><td>HS            </td><td>1</td></tr>\n",
       "\t<tr><th scope=row>AB159_E18</th><td>AB159</td><td>E18</td><td>SB004</td><td>22/06/2022</td><td>Sandra-12w-1</td><td>Sandra</td><td>19/05/2022</td><td>W12-N16-CD45-</td><td>week12-1normalplate16CD45-</td><td>FALSE</td><td>⋯</td><td>0</td><td>0</td><td>FALSE</td><td>FALSE</td><td>503</td><td>FALSE</td><td>1</td><td>480</td><td>Myoepithelial </td><td>1</td></tr>\n",
       "\t<tr><th scope=row>AB159_L13</th><td>AB159</td><td>L13</td><td>SB004</td><td>22/06/2022</td><td>Sandra-12w-1</td><td>Sandra</td><td>19/05/2022</td><td>W12-N16-CD45-</td><td>week12-1normalplate16CD45-</td><td>FALSE</td><td>⋯</td><td>0</td><td>0</td><td>FALSE</td><td>FALSE</td><td>771</td><td>FALSE</td><td>1</td><td>412</td><td>HS            </td><td>1</td></tr>\n",
       "\t<tr><th scope=row>AB159_L7</th><td>AB159</td><td>L7 </td><td>SB004</td><td>22/06/2022</td><td>Sandra-12w-1</td><td>Sandra</td><td>19/05/2022</td><td>W12-N16-CD45-</td><td>week12-1normalplate16CD45-</td><td>FALSE</td><td>⋯</td><td>0</td><td>0</td><td>FALSE</td><td>FALSE</td><td>749</td><td>FALSE</td><td>1</td><td>414</td><td>HS            </td><td>1</td></tr>\n",
       "\t<tr><th scope=row>AB159_J10</th><td>AB159</td><td>J10</td><td>SB004</td><td>22/06/2022</td><td>Sandra-12w-1</td><td>Sandra</td><td>19/05/2022</td><td>W12-N16-CD45-</td><td>week12-1normalplate16CD45-</td><td>FALSE</td><td>⋯</td><td>0</td><td>0</td><td>FALSE</td><td>FALSE</td><td>101</td><td>FALSE</td><td>1</td><td>486</td><td>Myoepithelial </td><td>1</td></tr>\n",
       "\t<tr><th scope=row>AB159_I9</th><td>AB159</td><td>I9 </td><td>SB004</td><td>22/06/2022</td><td>Sandra-12w-1</td><td>Sandra</td><td>19/05/2022</td><td>W12-N16-CD45-</td><td>week12-1normalplate16CD45-</td><td>FALSE</td><td>⋯</td><td>0</td><td>0</td><td>FALSE</td><td>FALSE</td><td>603</td><td>FALSE</td><td>1</td><td>462</td><td>Myoepithelial </td><td>1</td></tr>\n",
       "\t<tr><th scope=row>AB159_A10</th><td>AB159</td><td>A10</td><td>SB004</td><td>22/06/2022</td><td>Sandra-12w-1</td><td>Sandra</td><td>19/05/2022</td><td>W12-N16-CD45-</td><td>week12-1normalplate16CD45-</td><td>FALSE</td><td>⋯</td><td>0</td><td>0</td><td>FALSE</td><td>FALSE</td><td> 51</td><td>FALSE</td><td>1</td><td>409</td><td>HS            </td><td>1</td></tr>\n",
       "\t<tr><th scope=row>AB159_P24</th><td>AB159</td><td>P24</td><td>SB004</td><td>22/06/2022</td><td>Sandra-12w-1</td><td>Sandra</td><td>19/05/2022</td><td>W12-N16-CD45-</td><td>week12-1normalplate16CD45-</td><td>FALSE</td><td>⋯</td><td>0</td><td>0</td><td>FALSE</td><td>FALSE</td><td>278</td><td>FALSE</td><td>1</td><td>483</td><td>Myoepithelial </td><td>1</td></tr>\n",
       "\t<tr><th scope=row>AB159_L8</th><td>AB159</td><td>L8 </td><td>SB004</td><td>22/06/2022</td><td>Sandra-12w-1</td><td>Sandra</td><td>19/05/2022</td><td>W12-N16-CD45-</td><td>week12-1normalplate16CD45-</td><td>FALSE</td><td>⋯</td><td>0</td><td>0</td><td>FALSE</td><td>FALSE</td><td>764</td><td>FALSE</td><td>1</td><td>378</td><td>Alveolar      </td><td>1</td></tr>\n",
       "\t<tr><th scope=row>AB159_H5</th><td>AB159</td><td>H5 </td><td>SB004</td><td>22/06/2022</td><td>Sandra-12w-1</td><td>Sandra</td><td>19/05/2022</td><td>W12-N16-CD45-</td><td>week12-1normalplate16CD45-</td><td>FALSE</td><td>⋯</td><td>0</td><td>0</td><td>FALSE</td><td>FALSE</td><td>151</td><td>FALSE</td><td>1</td><td>454</td><td>Myoepithelial </td><td>1</td></tr>\n",
       "\t<tr><th scope=row>AB159_B19</th><td>AB159</td><td>B19</td><td>SB004</td><td>22/06/2022</td><td>Sandra-12w-1</td><td>Sandra</td><td>19/05/2022</td><td>W12-N16-CD45-</td><td>week12-1normalplate16CD45-</td><td>FALSE</td><td>⋯</td><td>0</td><td>0</td><td>FALSE</td><td>FALSE</td><td>503</td><td>FALSE</td><td>1</td><td>474</td><td>Myoepithelial </td><td>1</td></tr>\n",
       "\t<tr><th scope=row>AB159_F8</th><td>AB159</td><td>F8 </td><td>SB004</td><td>22/06/2022</td><td>Sandra-12w-1</td><td>Sandra</td><td>19/05/2022</td><td>W12-N16-CD45-</td><td>week12-1normalplate16CD45-</td><td>FALSE</td><td>⋯</td><td>0</td><td>0</td><td>FALSE</td><td>FALSE</td><td>763</td><td>FALSE</td><td>1</td><td>410</td><td>HS            </td><td>1</td></tr>\n",
       "\t<tr><th scope=row>⋮</th><td>⋮</td><td>⋮</td><td>⋮</td><td>⋮</td><td>⋮</td><td>⋮</td><td>⋮</td><td>⋮</td><td>⋮</td><td>⋮</td><td>⋱</td><td>⋮</td><td>⋮</td><td>⋮</td><td>⋮</td><td>⋮</td><td>⋮</td><td>⋮</td><td>⋮</td><td>⋮</td><td>⋮</td></tr>\n",
       "\t<tr><th scope=row>AB327_E18</th><td>AB327</td><td>E18</td><td>SB006</td><td>18/09/2022</td><td>sandra-12w-2</td><td>Sandra</td><td>04/09/2022</td><td></td><td>12wEPCAMN10</td><td>FALSE</td><td>⋯</td><td>0</td><td>0</td><td>FALSE</td><td>FALSE</td><td> 67</td><td>FALSE</td><td>1</td><td>348</td><td>Progenitor 1 </td><td>2</td></tr>\n",
       "\t<tr><th scope=row>AB327_G14</th><td>AB327</td><td>G14</td><td>SB006</td><td>18/09/2022</td><td>sandra-12w-2</td><td>Sandra</td><td>04/09/2022</td><td></td><td>12wEPCAMN10</td><td>FALSE</td><td>⋯</td><td>0</td><td>0</td><td>FALSE</td><td>FALSE</td><td>262</td><td>FALSE</td><td>1</td><td>415</td><td>HS           </td><td>2</td></tr>\n",
       "\t<tr><th scope=row>AB327_M7</th><td>AB327</td><td>M7 </td><td>SB006</td><td>18/09/2022</td><td>sandra-12w-2</td><td>Sandra</td><td>04/09/2022</td><td></td><td>12wEPCAMN10</td><td>FALSE</td><td>⋯</td><td>0</td><td>0</td><td>FALSE</td><td>FALSE</td><td>349</td><td>FALSE</td><td>1</td><td>391</td><td>HS           </td><td>2</td></tr>\n",
       "\t<tr><th scope=row>AB327_H2</th><td>AB327</td><td>H2 </td><td>SB006</td><td>18/09/2022</td><td>sandra-12w-2</td><td>Sandra</td><td>04/09/2022</td><td></td><td>12wEPCAMN10</td><td>FALSE</td><td>⋯</td><td>0</td><td>0</td><td>FALSE</td><td>FALSE</td><td>170</td><td>FALSE</td><td>1</td><td>418</td><td>HS           </td><td>2</td></tr>\n",
       "\t<tr><th scope=row>AB327_N6</th><td>AB327</td><td>N6 </td><td>SB006</td><td>18/09/2022</td><td>sandra-12w-2</td><td>Sandra</td><td>04/09/2022</td><td></td><td>12wEPCAMN10</td><td>FALSE</td><td>⋯</td><td>0</td><td>0</td><td>FALSE</td><td>FALSE</td><td> 67</td><td>FALSE</td><td>1</td><td>348</td><td>Progenitor 1 </td><td>2</td></tr>\n",
       "\t<tr><th scope=row>AB327_J5</th><td>AB327</td><td>J5 </td><td>SB006</td><td>18/09/2022</td><td>sandra-12w-2</td><td>Sandra</td><td>04/09/2022</td><td></td><td>12wEPCAMN10</td><td>FALSE</td><td>⋯</td><td>0</td><td>0</td><td>FALSE</td><td>FALSE</td><td>135</td><td>FALSE</td><td>1</td><td>365</td><td>Progenitor 1 </td><td>2</td></tr>\n",
       "\t<tr><th scope=row>AB327_M21</th><td>AB327</td><td>M21</td><td>SB006</td><td>18/09/2022</td><td>sandra-12w-2</td><td>Sandra</td><td>04/09/2022</td><td></td><td>12wEPCAMN10</td><td>FALSE</td><td>⋯</td><td>0</td><td>0</td><td>FALSE</td><td>FALSE</td><td>553</td><td>FALSE</td><td>1</td><td>417</td><td>HS           </td><td>2</td></tr>\n",
       "\t<tr><th scope=row>AB327_D3</th><td>AB327</td><td>D3 </td><td>SB006</td><td>18/09/2022</td><td>sandra-12w-2</td><td>Sandra</td><td>04/09/2022</td><td></td><td>12wEPCAMN10</td><td>FALSE</td><td>⋯</td><td>0</td><td>0</td><td>FALSE</td><td>FALSE</td><td> 67</td><td>FALSE</td><td>1</td><td>348</td><td>Progenitor 1 </td><td>2</td></tr>\n",
       "\t<tr><th scope=row>AB327_F13</th><td>AB327</td><td>F13</td><td>SB006</td><td>18/09/2022</td><td>sandra-12w-2</td><td>Sandra</td><td>04/09/2022</td><td></td><td>12wEPCAMN10</td><td>FALSE</td><td>⋯</td><td>0</td><td>0</td><td>FALSE</td><td>FALSE</td><td>262</td><td>FALSE</td><td>1</td><td>417</td><td>HS           </td><td>2</td></tr>\n",
       "\t<tr><th scope=row>AB327_O23</th><td>AB327</td><td>O23</td><td>SB006</td><td>18/09/2022</td><td>sandra-12w-2</td><td>Sandra</td><td>04/09/2022</td><td></td><td>12wEPCAMN10</td><td>FALSE</td><td>⋯</td><td>0</td><td>0</td><td>FALSE</td><td>FALSE</td><td> 67</td><td>FALSE</td><td>1</td><td>348</td><td>Progenitor 1 </td><td>2</td></tr>\n",
       "\t<tr><th scope=row>AB327_H3</th><td>AB327</td><td>H3 </td><td>SB006</td><td>18/09/2022</td><td>sandra-12w-2</td><td>Sandra</td><td>04/09/2022</td><td></td><td>12wEPCAMN10</td><td>FALSE</td><td>⋯</td><td>0</td><td>0</td><td>FALSE</td><td>FALSE</td><td>349</td><td>FALSE</td><td>1</td><td>416</td><td>HS           </td><td>2</td></tr>\n",
       "\t<tr><th scope=row>AB327_P8</th><td>AB327</td><td>P8 </td><td>SB006</td><td>18/09/2022</td><td>sandra-12w-2</td><td>Sandra</td><td>04/09/2022</td><td></td><td>12wEPCAMN10</td><td>FALSE</td><td>⋯</td><td>0</td><td>0</td><td>FALSE</td><td>FALSE</td><td>773</td><td>FALSE</td><td>1</td><td>453</td><td>Myoepithelial</td><td>2</td></tr>\n",
       "\t<tr><th scope=row>AB327_A7</th><td>AB327</td><td>A7 </td><td>SB006</td><td>18/09/2022</td><td>sandra-12w-2</td><td>Sandra</td><td>04/09/2022</td><td></td><td>12wEPCAMN10</td><td>FALSE</td><td>⋯</td><td>0</td><td>0</td><td>FALSE</td><td>FALSE</td><td>262</td><td>FALSE</td><td>1</td><td>416</td><td>HS           </td><td>2</td></tr>\n",
       "\t<tr><th scope=row>AB327_K22</th><td>AB327</td><td>K22</td><td>SB006</td><td>18/09/2022</td><td>sandra-12w-2</td><td>Sandra</td><td>04/09/2022</td><td></td><td>12wEPCAMN10</td><td>FALSE</td><td>⋯</td><td>0</td><td>0</td><td>FALSE</td><td>FALSE</td><td> 67</td><td>FALSE</td><td>1</td><td>348</td><td>Progenitor 1 </td><td>2</td></tr>\n",
       "\t<tr><th scope=row>AB327_O3</th><td>AB327</td><td>O3 </td><td>SB006</td><td>18/09/2022</td><td>sandra-12w-2</td><td>Sandra</td><td>04/09/2022</td><td></td><td>12wEPCAMN10</td><td>FALSE</td><td>⋯</td><td>0</td><td>0</td><td>FALSE</td><td>FALSE</td><td>262</td><td>FALSE</td><td>1</td><td>391</td><td>HS           </td><td>2</td></tr>\n",
       "\t<tr><th scope=row>AB327_B7</th><td>AB327</td><td>B7 </td><td>SB006</td><td>18/09/2022</td><td>sandra-12w-2</td><td>Sandra</td><td>04/09/2022</td><td></td><td>12wEPCAMN10</td><td>FALSE</td><td>⋯</td><td>0</td><td>0</td><td>FALSE</td><td>FALSE</td><td>136</td><td>FALSE</td><td>1</td><td>424</td><td>HS           </td><td>2</td></tr>\n",
       "\t<tr><th scope=row>AB327_O10</th><td>AB327</td><td>O10</td><td>SB006</td><td>18/09/2022</td><td>sandra-12w-2</td><td>Sandra</td><td>04/09/2022</td><td></td><td>12wEPCAMN10</td><td>FALSE</td><td>⋯</td><td>0</td><td>0</td><td>FALSE</td><td>FALSE</td><td>136</td><td>FALSE</td><td>1</td><td>416</td><td>HS           </td><td>2</td></tr>\n",
       "\t<tr><th scope=row>AB327_L13</th><td>AB327</td><td>L13</td><td>SB006</td><td>18/09/2022</td><td>sandra-12w-2</td><td>Sandra</td><td>04/09/2022</td><td></td><td>12wEPCAMN10</td><td>FALSE</td><td>⋯</td><td>0</td><td>0</td><td>FALSE</td><td>FALSE</td><td>572</td><td>FALSE</td><td>1</td><td>245</td><td>Alveolar     </td><td>2</td></tr>\n",
       "\t<tr><th scope=row>AB327_H21</th><td>AB327</td><td>H21</td><td>SB006</td><td>18/09/2022</td><td>sandra-12w-2</td><td>Sandra</td><td>04/09/2022</td><td></td><td>12wEPCAMN10</td><td>FALSE</td><td>⋯</td><td>0</td><td>0</td><td>FALSE</td><td>FALSE</td><td> 67</td><td>FALSE</td><td>1</td><td>348</td><td>Progenitor 1 </td><td>2</td></tr>\n",
       "\t<tr><th scope=row>AB327_E9</th><td>AB327</td><td>E9 </td><td>SB006</td><td>18/09/2022</td><td>sandra-12w-2</td><td>Sandra</td><td>04/09/2022</td><td></td><td>12wEPCAMN10</td><td>FALSE</td><td>⋯</td><td>0</td><td>0</td><td>FALSE</td><td>FALSE</td><td>572</td><td>FALSE</td><td>1</td><td>348</td><td>Progenitor 1 </td><td>2</td></tr>\n",
       "\t<tr><th scope=row>AB327_L19</th><td>AB327</td><td>L19</td><td>SB006</td><td>18/09/2022</td><td>sandra-12w-2</td><td>Sandra</td><td>04/09/2022</td><td></td><td>12wEPCAMN10</td><td>FALSE</td><td>⋯</td><td>0</td><td>0</td><td>FALSE</td><td>FALSE</td><td>136</td><td>FALSE</td><td>1</td><td>418</td><td>HS           </td><td>2</td></tr>\n",
       "\t<tr><th scope=row>AB327_P21</th><td>AB327</td><td>P21</td><td>SB006</td><td>18/09/2022</td><td>sandra-12w-2</td><td>Sandra</td><td>04/09/2022</td><td></td><td>12wEPCAMN10</td><td>FALSE</td><td>⋯</td><td>0</td><td>0</td><td>FALSE</td><td>FALSE</td><td>129</td><td>FALSE</td><td>1</td><td>471</td><td>Myoepithelial</td><td>2</td></tr>\n",
       "\t<tr><th scope=row>AB327_J10</th><td>AB327</td><td>J10</td><td>SB006</td><td>18/09/2022</td><td>sandra-12w-2</td><td>Sandra</td><td>04/09/2022</td><td></td><td>12wEPCAMN10</td><td>FALSE</td><td>⋯</td><td>0</td><td>0</td><td>FALSE</td><td>FALSE</td><td>572</td><td>FALSE</td><td>1</td><td>348</td><td>Progenitor 1 </td><td>2</td></tr>\n",
       "\t<tr><th scope=row>AB327_J9</th><td>AB327</td><td>J9 </td><td>SB006</td><td>18/09/2022</td><td>sandra-12w-2</td><td>Sandra</td><td>04/09/2022</td><td></td><td>12wEPCAMN10</td><td>FALSE</td><td>⋯</td><td>0</td><td>0</td><td>FALSE</td><td>FALSE</td><td>154</td><td>FALSE</td><td>1</td><td>348</td><td>Progenitor 1 </td><td>2</td></tr>\n",
       "\t<tr><th scope=row>AB327_N3</th><td>AB327</td><td>N3 </td><td>SB006</td><td>18/09/2022</td><td>sandra-12w-2</td><td>Sandra</td><td>04/09/2022</td><td></td><td>12wEPCAMN10</td><td>FALSE</td><td>⋯</td><td>0</td><td>0</td><td>FALSE</td><td>FALSE</td><td>349</td><td>FALSE</td><td>1</td><td>411</td><td>HS           </td><td>2</td></tr>\n",
       "\t<tr><th scope=row>AB327_A21</th><td>AB327</td><td>A21</td><td>SB006</td><td>18/09/2022</td><td>sandra-12w-2</td><td>Sandra</td><td>04/09/2022</td><td></td><td>12wEPCAMN10</td><td>FALSE</td><td>⋯</td><td>0</td><td>0</td><td>FALSE</td><td>FALSE</td><td>572</td><td>FALSE</td><td>1</td><td>365</td><td>Progenitor 1 </td><td>2</td></tr>\n",
       "\t<tr><th scope=row>AB327_G16</th><td>AB327</td><td>G16</td><td>SB006</td><td>18/09/2022</td><td>sandra-12w-2</td><td>Sandra</td><td>04/09/2022</td><td></td><td>12wEPCAMN10</td><td>FALSE</td><td>⋯</td><td>0</td><td>0</td><td>FALSE</td><td>FALSE</td><td>136</td><td>FALSE</td><td>1</td><td>416</td><td>HS           </td><td>2</td></tr>\n",
       "\t<tr><th scope=row>AB327_A5</th><td>AB327</td><td>A5 </td><td>SB006</td><td>18/09/2022</td><td>sandra-12w-2</td><td>Sandra</td><td>04/09/2022</td><td></td><td>12wEPCAMN10</td><td>FALSE</td><td>⋯</td><td>0</td><td>0</td><td>FALSE</td><td>FALSE</td><td>405</td><td>FALSE</td><td>1</td><td>348</td><td>Progenitor 1 </td><td>2</td></tr>\n",
       "\t<tr><th scope=row>AB327_P4</th><td>AB327</td><td>P4 </td><td>SB006</td><td>18/09/2022</td><td>sandra-12w-2</td><td>Sandra</td><td>04/09/2022</td><td></td><td>12wEPCAMN10</td><td>FALSE</td><td>⋯</td><td>0</td><td>0</td><td>FALSE</td><td>FALSE</td><td>136</td><td>FALSE</td><td>1</td><td>416</td><td>HS           </td><td>2</td></tr>\n",
       "\t<tr><th scope=row>AB327_P10</th><td>AB327</td><td>P10</td><td>SB006</td><td>18/09/2022</td><td>sandra-12w-2</td><td>Sandra</td><td>04/09/2022</td><td></td><td>12wEPCAMN10</td><td>FALSE</td><td>⋯</td><td>0</td><td>0</td><td>FALSE</td><td>FALSE</td><td>125</td><td>FALSE</td><td>1</td><td>389</td><td>HS           </td><td>2</td></tr>\n",
       "</tbody>\n",
       "</table>\n"
      ],
      "text/latex": [
       "A data.frame: 711 × 47\n",
       "\\begin{tabular}{r|lllllllllllllllllllll}\n",
       "  & Amp.Batch.ID & Well\\_position & Seq.Batch.ID & Date of sequencing & Batch.Set.ID & Owner & Date of sort & Plate ID (15 characters, no \\_/+) & Plate description & Empty\\_well & ⋯ & pre\\_cell\\_deviant\\_votes & cell\\_deviant\\_votes & pre\\_dissolved & dissolved & pre\\_metacell & outlier & amp\\_batch\\_id & metacell & annotation & replicate\\\\\n",
       "  & <fct> & <fct> & <fct> & <fct> & <fct> & <fct> & <fct> & <fct> & <fct> & <lgl> & ⋯ & <int> & <int> & <lgl> & <lgl> & <int> & <lgl> & <dbl> & <dbl> & <chr> & <chr>\\\\\n",
       "\\hline\n",
       "\tAB159\\_C20 & AB159 & C20 & SB004 & 22/06/2022 & Sandra-12w-1 & Sandra & 19/05/2022 & W12-N16-CD45- & week12-1normalplate16CD45- & FALSE & ⋯ & 0 & 0 & FALSE & FALSE & 279 & FALSE & 1 & 467 & Myoepithelial  & 1\\\\\n",
       "\tAB159\\_I2 & AB159 & I2  & SB004 & 22/06/2022 & Sandra-12w-1 & Sandra & 19/05/2022 & W12-N16-CD45- & week12-1normalplate16CD45- & FALSE & ⋯ & 0 & 0 & FALSE & FALSE & 129 & FALSE & 1 & 494 & Myoepithelial  & 1\\\\\n",
       "\tAB159\\_K10 & AB159 & K10 & SB004 & 22/06/2022 & Sandra-12w-1 & Sandra & 19/05/2022 & W12-N16-CD45- & week12-1normalplate16CD45- & FALSE & ⋯ & 0 & 0 & FALSE & FALSE & 120 & FALSE & 1 & 384 & Alveolar       & 1\\\\\n",
       "\tAB159\\_D16 & AB159 & D16 & SB004 & 22/06/2022 & Sandra-12w-1 & Sandra & 19/05/2022 & W12-N16-CD45- & week12-1normalplate16CD45- & FALSE & ⋯ & 0 & 0 & FALSE & FALSE & 341 & FALSE & 1 & 493 & Myoepithelial  & 1\\\\\n",
       "\tAB159\\_O19 & AB159 & O19 & SB004 & 22/06/2022 & Sandra-12w-1 & Sandra & 19/05/2022 & W12-N16-CD45- & week12-1normalplate16CD45- & FALSE & ⋯ & 0 & 0 & FALSE & FALSE &  31 & FALSE & 1 & 406 & HS             & 1\\\\\n",
       "\tAB159\\_H23 & AB159 & H23 & SB004 & 22/06/2022 & Sandra-12w-1 & Sandra & 19/05/2022 & W12-N16-CD45- & week12-1normalplate16CD45- & FALSE & ⋯ & 0 & 0 & FALSE & FALSE & 674 & FALSE & 1 & 201 & Alveolar spp l & 1\\\\\n",
       "\tAB159\\_O21 & AB159 & O21 & SB004 & 22/06/2022 & Sandra-12w-1 & Sandra & 19/05/2022 & W12-N16-CD45- & week12-1normalplate16CD45- & FALSE & ⋯ & 0 & 0 & FALSE & FALSE & 749 & FALSE & 1 & 410 & HS             & 1\\\\\n",
       "\tAB159\\_N22 & AB159 & N22 & SB004 & 22/06/2022 & Sandra-12w-1 & Sandra & 19/05/2022 & W12-N16-CD45- & week12-1normalplate16CD45- & FALSE & ⋯ & 0 & 0 & FALSE & FALSE & 380 & FALSE & 1 & 496 & Myoepithelial  & 1\\\\\n",
       "\tAB159\\_G23 & AB159 & G23 & SB004 & 22/06/2022 & Sandra-12w-1 & Sandra & 19/05/2022 & W12-N16-CD45- & week12-1normalplate16CD45- & FALSE & ⋯ & 0 & 0 & FALSE & FALSE & 439 & FALSE & 1 & 384 & Alveolar       & 1\\\\\n",
       "\tAB159\\_J8 & AB159 & J8  & SB004 & 22/06/2022 & Sandra-12w-1 & Sandra & 19/05/2022 & W12-N16-CD45- & week12-1normalplate16CD45- & FALSE & ⋯ & 0 & 0 & FALSE & FALSE & 447 & FALSE & 1 & 380 & Alveolar       & 1\\\\\n",
       "\tAB159\\_J11 & AB159 & J11 & SB004 & 22/06/2022 & Sandra-12w-1 & Sandra & 19/05/2022 & W12-N16-CD45- & week12-1normalplate16CD45- & FALSE & ⋯ & 0 & 0 & FALSE & FALSE & 685 & FALSE & 1 & 247 & Alveolar       & 1\\\\\n",
       "\tAB159\\_C5 & AB159 & C5  & SB004 & 22/06/2022 & Sandra-12w-1 & Sandra & 19/05/2022 & W12-N16-CD45- & week12-1normalplate16CD45- & FALSE & ⋯ & 0 & 0 & FALSE & FALSE & 442 & FALSE & 1 & 496 & Myoepithelial  & 1\\\\\n",
       "\tAB159\\_N4 & AB159 & N4  & SB004 & 22/06/2022 & Sandra-12w-1 & Sandra & 19/05/2022 & W12-N16-CD45- & week12-1normalplate16CD45- & FALSE & ⋯ & 0 & 0 & FALSE & FALSE & 763 & FALSE & 1 & 410 & HS             & 1\\\\\n",
       "\tAB159\\_F16 & AB159 & F16 & SB004 & 22/06/2022 & Sandra-12w-1 & Sandra & 19/05/2022 & W12-N16-CD45- & week12-1normalplate16CD45- & FALSE & ⋯ & 0 & 0 & FALSE & FALSE & 380 & FALSE & 1 & 490 & Myoepithelial  & 1\\\\\n",
       "\tAB159\\_B10 & AB159 & B10 & SB004 & 22/06/2022 & Sandra-12w-1 & Sandra & 19/05/2022 & W12-N16-CD45- & week12-1normalplate16CD45- & FALSE & ⋯ & 0 & 0 & FALSE & FALSE & 749 & FALSE & 1 & 414 & HS             & 1\\\\\n",
       "\tAB159\\_E5 & AB159 & E5  & SB004 & 22/06/2022 & Sandra-12w-1 & Sandra & 19/05/2022 & W12-N16-CD45- & week12-1normalplate16CD45- & FALSE & ⋯ & 0 & 0 & FALSE & FALSE & 749 & FALSE & 1 & 412 & HS             & 1\\\\\n",
       "\tAB159\\_K17 & AB159 & K17 & SB004 & 22/06/2022 & Sandra-12w-1 & Sandra & 19/05/2022 & W12-N16-CD45- & week12-1normalplate16CD45- & FALSE & ⋯ & 0 & 0 & FALSE & FALSE & 156 & FALSE & 1 & 406 & HS             & 1\\\\\n",
       "\tAB159\\_E8 & AB159 & E8  & SB004 & 22/06/2022 & Sandra-12w-1 & Sandra & 19/05/2022 & W12-N16-CD45- & week12-1normalplate16CD45- & FALSE & ⋯ & 0 & 0 & FALSE & FALSE & 341 & FALSE & 1 & 466 & Myoepithelial  & 1\\\\\n",
       "\tAB159\\_D21 & AB159 & D21 & SB004 & 22/06/2022 & Sandra-12w-1 & Sandra & 19/05/2022 & W12-N16-CD45- & week12-1normalplate16CD45- & FALSE & ⋯ & 0 & 0 & FALSE & FALSE & 749 & FALSE & 1 & 414 & HS             & 1\\\\\n",
       "\tAB159\\_E18 & AB159 & E18 & SB004 & 22/06/2022 & Sandra-12w-1 & Sandra & 19/05/2022 & W12-N16-CD45- & week12-1normalplate16CD45- & FALSE & ⋯ & 0 & 0 & FALSE & FALSE & 503 & FALSE & 1 & 480 & Myoepithelial  & 1\\\\\n",
       "\tAB159\\_L13 & AB159 & L13 & SB004 & 22/06/2022 & Sandra-12w-1 & Sandra & 19/05/2022 & W12-N16-CD45- & week12-1normalplate16CD45- & FALSE & ⋯ & 0 & 0 & FALSE & FALSE & 771 & FALSE & 1 & 412 & HS             & 1\\\\\n",
       "\tAB159\\_L7 & AB159 & L7  & SB004 & 22/06/2022 & Sandra-12w-1 & Sandra & 19/05/2022 & W12-N16-CD45- & week12-1normalplate16CD45- & FALSE & ⋯ & 0 & 0 & FALSE & FALSE & 749 & FALSE & 1 & 414 & HS             & 1\\\\\n",
       "\tAB159\\_J10 & AB159 & J10 & SB004 & 22/06/2022 & Sandra-12w-1 & Sandra & 19/05/2022 & W12-N16-CD45- & week12-1normalplate16CD45- & FALSE & ⋯ & 0 & 0 & FALSE & FALSE & 101 & FALSE & 1 & 486 & Myoepithelial  & 1\\\\\n",
       "\tAB159\\_I9 & AB159 & I9  & SB004 & 22/06/2022 & Sandra-12w-1 & Sandra & 19/05/2022 & W12-N16-CD45- & week12-1normalplate16CD45- & FALSE & ⋯ & 0 & 0 & FALSE & FALSE & 603 & FALSE & 1 & 462 & Myoepithelial  & 1\\\\\n",
       "\tAB159\\_A10 & AB159 & A10 & SB004 & 22/06/2022 & Sandra-12w-1 & Sandra & 19/05/2022 & W12-N16-CD45- & week12-1normalplate16CD45- & FALSE & ⋯ & 0 & 0 & FALSE & FALSE &  51 & FALSE & 1 & 409 & HS             & 1\\\\\n",
       "\tAB159\\_P24 & AB159 & P24 & SB004 & 22/06/2022 & Sandra-12w-1 & Sandra & 19/05/2022 & W12-N16-CD45- & week12-1normalplate16CD45- & FALSE & ⋯ & 0 & 0 & FALSE & FALSE & 278 & FALSE & 1 & 483 & Myoepithelial  & 1\\\\\n",
       "\tAB159\\_L8 & AB159 & L8  & SB004 & 22/06/2022 & Sandra-12w-1 & Sandra & 19/05/2022 & W12-N16-CD45- & week12-1normalplate16CD45- & FALSE & ⋯ & 0 & 0 & FALSE & FALSE & 764 & FALSE & 1 & 378 & Alveolar       & 1\\\\\n",
       "\tAB159\\_H5 & AB159 & H5  & SB004 & 22/06/2022 & Sandra-12w-1 & Sandra & 19/05/2022 & W12-N16-CD45- & week12-1normalplate16CD45- & FALSE & ⋯ & 0 & 0 & FALSE & FALSE & 151 & FALSE & 1 & 454 & Myoepithelial  & 1\\\\\n",
       "\tAB159\\_B19 & AB159 & B19 & SB004 & 22/06/2022 & Sandra-12w-1 & Sandra & 19/05/2022 & W12-N16-CD45- & week12-1normalplate16CD45- & FALSE & ⋯ & 0 & 0 & FALSE & FALSE & 503 & FALSE & 1 & 474 & Myoepithelial  & 1\\\\\n",
       "\tAB159\\_F8 & AB159 & F8  & SB004 & 22/06/2022 & Sandra-12w-1 & Sandra & 19/05/2022 & W12-N16-CD45- & week12-1normalplate16CD45- & FALSE & ⋯ & 0 & 0 & FALSE & FALSE & 763 & FALSE & 1 & 410 & HS             & 1\\\\\n",
       "\t⋮ & ⋮ & ⋮ & ⋮ & ⋮ & ⋮ & ⋮ & ⋮ & ⋮ & ⋮ & ⋮ & ⋱ & ⋮ & ⋮ & ⋮ & ⋮ & ⋮ & ⋮ & ⋮ & ⋮ & ⋮ & ⋮\\\\\n",
       "\tAB327\\_E18 & AB327 & E18 & SB006 & 18/09/2022 & sandra-12w-2 & Sandra & 04/09/2022 &  & 12wEPCAMN10 & FALSE & ⋯ & 0 & 0 & FALSE & FALSE &  67 & FALSE & 1 & 348 & Progenitor 1  & 2\\\\\n",
       "\tAB327\\_G14 & AB327 & G14 & SB006 & 18/09/2022 & sandra-12w-2 & Sandra & 04/09/2022 &  & 12wEPCAMN10 & FALSE & ⋯ & 0 & 0 & FALSE & FALSE & 262 & FALSE & 1 & 415 & HS            & 2\\\\\n",
       "\tAB327\\_M7 & AB327 & M7  & SB006 & 18/09/2022 & sandra-12w-2 & Sandra & 04/09/2022 &  & 12wEPCAMN10 & FALSE & ⋯ & 0 & 0 & FALSE & FALSE & 349 & FALSE & 1 & 391 & HS            & 2\\\\\n",
       "\tAB327\\_H2 & AB327 & H2  & SB006 & 18/09/2022 & sandra-12w-2 & Sandra & 04/09/2022 &  & 12wEPCAMN10 & FALSE & ⋯ & 0 & 0 & FALSE & FALSE & 170 & FALSE & 1 & 418 & HS            & 2\\\\\n",
       "\tAB327\\_N6 & AB327 & N6  & SB006 & 18/09/2022 & sandra-12w-2 & Sandra & 04/09/2022 &  & 12wEPCAMN10 & FALSE & ⋯ & 0 & 0 & FALSE & FALSE &  67 & FALSE & 1 & 348 & Progenitor 1  & 2\\\\\n",
       "\tAB327\\_J5 & AB327 & J5  & SB006 & 18/09/2022 & sandra-12w-2 & Sandra & 04/09/2022 &  & 12wEPCAMN10 & FALSE & ⋯ & 0 & 0 & FALSE & FALSE & 135 & FALSE & 1 & 365 & Progenitor 1  & 2\\\\\n",
       "\tAB327\\_M21 & AB327 & M21 & SB006 & 18/09/2022 & sandra-12w-2 & Sandra & 04/09/2022 &  & 12wEPCAMN10 & FALSE & ⋯ & 0 & 0 & FALSE & FALSE & 553 & FALSE & 1 & 417 & HS            & 2\\\\\n",
       "\tAB327\\_D3 & AB327 & D3  & SB006 & 18/09/2022 & sandra-12w-2 & Sandra & 04/09/2022 &  & 12wEPCAMN10 & FALSE & ⋯ & 0 & 0 & FALSE & FALSE &  67 & FALSE & 1 & 348 & Progenitor 1  & 2\\\\\n",
       "\tAB327\\_F13 & AB327 & F13 & SB006 & 18/09/2022 & sandra-12w-2 & Sandra & 04/09/2022 &  & 12wEPCAMN10 & FALSE & ⋯ & 0 & 0 & FALSE & FALSE & 262 & FALSE & 1 & 417 & HS            & 2\\\\\n",
       "\tAB327\\_O23 & AB327 & O23 & SB006 & 18/09/2022 & sandra-12w-2 & Sandra & 04/09/2022 &  & 12wEPCAMN10 & FALSE & ⋯ & 0 & 0 & FALSE & FALSE &  67 & FALSE & 1 & 348 & Progenitor 1  & 2\\\\\n",
       "\tAB327\\_H3 & AB327 & H3  & SB006 & 18/09/2022 & sandra-12w-2 & Sandra & 04/09/2022 &  & 12wEPCAMN10 & FALSE & ⋯ & 0 & 0 & FALSE & FALSE & 349 & FALSE & 1 & 416 & HS            & 2\\\\\n",
       "\tAB327\\_P8 & AB327 & P8  & SB006 & 18/09/2022 & sandra-12w-2 & Sandra & 04/09/2022 &  & 12wEPCAMN10 & FALSE & ⋯ & 0 & 0 & FALSE & FALSE & 773 & FALSE & 1 & 453 & Myoepithelial & 2\\\\\n",
       "\tAB327\\_A7 & AB327 & A7  & SB006 & 18/09/2022 & sandra-12w-2 & Sandra & 04/09/2022 &  & 12wEPCAMN10 & FALSE & ⋯ & 0 & 0 & FALSE & FALSE & 262 & FALSE & 1 & 416 & HS            & 2\\\\\n",
       "\tAB327\\_K22 & AB327 & K22 & SB006 & 18/09/2022 & sandra-12w-2 & Sandra & 04/09/2022 &  & 12wEPCAMN10 & FALSE & ⋯ & 0 & 0 & FALSE & FALSE &  67 & FALSE & 1 & 348 & Progenitor 1  & 2\\\\\n",
       "\tAB327\\_O3 & AB327 & O3  & SB006 & 18/09/2022 & sandra-12w-2 & Sandra & 04/09/2022 &  & 12wEPCAMN10 & FALSE & ⋯ & 0 & 0 & FALSE & FALSE & 262 & FALSE & 1 & 391 & HS            & 2\\\\\n",
       "\tAB327\\_B7 & AB327 & B7  & SB006 & 18/09/2022 & sandra-12w-2 & Sandra & 04/09/2022 &  & 12wEPCAMN10 & FALSE & ⋯ & 0 & 0 & FALSE & FALSE & 136 & FALSE & 1 & 424 & HS            & 2\\\\\n",
       "\tAB327\\_O10 & AB327 & O10 & SB006 & 18/09/2022 & sandra-12w-2 & Sandra & 04/09/2022 &  & 12wEPCAMN10 & FALSE & ⋯ & 0 & 0 & FALSE & FALSE & 136 & FALSE & 1 & 416 & HS            & 2\\\\\n",
       "\tAB327\\_L13 & AB327 & L13 & SB006 & 18/09/2022 & sandra-12w-2 & Sandra & 04/09/2022 &  & 12wEPCAMN10 & FALSE & ⋯ & 0 & 0 & FALSE & FALSE & 572 & FALSE & 1 & 245 & Alveolar      & 2\\\\\n",
       "\tAB327\\_H21 & AB327 & H21 & SB006 & 18/09/2022 & sandra-12w-2 & Sandra & 04/09/2022 &  & 12wEPCAMN10 & FALSE & ⋯ & 0 & 0 & FALSE & FALSE &  67 & FALSE & 1 & 348 & Progenitor 1  & 2\\\\\n",
       "\tAB327\\_E9 & AB327 & E9  & SB006 & 18/09/2022 & sandra-12w-2 & Sandra & 04/09/2022 &  & 12wEPCAMN10 & FALSE & ⋯ & 0 & 0 & FALSE & FALSE & 572 & FALSE & 1 & 348 & Progenitor 1  & 2\\\\\n",
       "\tAB327\\_L19 & AB327 & L19 & SB006 & 18/09/2022 & sandra-12w-2 & Sandra & 04/09/2022 &  & 12wEPCAMN10 & FALSE & ⋯ & 0 & 0 & FALSE & FALSE & 136 & FALSE & 1 & 418 & HS            & 2\\\\\n",
       "\tAB327\\_P21 & AB327 & P21 & SB006 & 18/09/2022 & sandra-12w-2 & Sandra & 04/09/2022 &  & 12wEPCAMN10 & FALSE & ⋯ & 0 & 0 & FALSE & FALSE & 129 & FALSE & 1 & 471 & Myoepithelial & 2\\\\\n",
       "\tAB327\\_J10 & AB327 & J10 & SB006 & 18/09/2022 & sandra-12w-2 & Sandra & 04/09/2022 &  & 12wEPCAMN10 & FALSE & ⋯ & 0 & 0 & FALSE & FALSE & 572 & FALSE & 1 & 348 & Progenitor 1  & 2\\\\\n",
       "\tAB327\\_J9 & AB327 & J9  & SB006 & 18/09/2022 & sandra-12w-2 & Sandra & 04/09/2022 &  & 12wEPCAMN10 & FALSE & ⋯ & 0 & 0 & FALSE & FALSE & 154 & FALSE & 1 & 348 & Progenitor 1  & 2\\\\\n",
       "\tAB327\\_N3 & AB327 & N3  & SB006 & 18/09/2022 & sandra-12w-2 & Sandra & 04/09/2022 &  & 12wEPCAMN10 & FALSE & ⋯ & 0 & 0 & FALSE & FALSE & 349 & FALSE & 1 & 411 & HS            & 2\\\\\n",
       "\tAB327\\_A21 & AB327 & A21 & SB006 & 18/09/2022 & sandra-12w-2 & Sandra & 04/09/2022 &  & 12wEPCAMN10 & FALSE & ⋯ & 0 & 0 & FALSE & FALSE & 572 & FALSE & 1 & 365 & Progenitor 1  & 2\\\\\n",
       "\tAB327\\_G16 & AB327 & G16 & SB006 & 18/09/2022 & sandra-12w-2 & Sandra & 04/09/2022 &  & 12wEPCAMN10 & FALSE & ⋯ & 0 & 0 & FALSE & FALSE & 136 & FALSE & 1 & 416 & HS            & 2\\\\\n",
       "\tAB327\\_A5 & AB327 & A5  & SB006 & 18/09/2022 & sandra-12w-2 & Sandra & 04/09/2022 &  & 12wEPCAMN10 & FALSE & ⋯ & 0 & 0 & FALSE & FALSE & 405 & FALSE & 1 & 348 & Progenitor 1  & 2\\\\\n",
       "\tAB327\\_P4 & AB327 & P4  & SB006 & 18/09/2022 & sandra-12w-2 & Sandra & 04/09/2022 &  & 12wEPCAMN10 & FALSE & ⋯ & 0 & 0 & FALSE & FALSE & 136 & FALSE & 1 & 416 & HS            & 2\\\\\n",
       "\tAB327\\_P10 & AB327 & P10 & SB006 & 18/09/2022 & sandra-12w-2 & Sandra & 04/09/2022 &  & 12wEPCAMN10 & FALSE & ⋯ & 0 & 0 & FALSE & FALSE & 125 & FALSE & 1 & 389 & HS            & 2\\\\\n",
       "\\end{tabular}\n"
      ],
      "text/markdown": [
       "\n",
       "A data.frame: 711 × 47\n",
       "\n",
       "| <!--/--> | Amp.Batch.ID &lt;fct&gt; | Well_position &lt;fct&gt; | Seq.Batch.ID &lt;fct&gt; | Date of sequencing &lt;fct&gt; | Batch.Set.ID &lt;fct&gt; | Owner &lt;fct&gt; | Date of sort &lt;fct&gt; | Plate ID (15 characters, no _/+) &lt;fct&gt; | Plate description &lt;fct&gt; | Empty_well &lt;lgl&gt; | ⋯ ⋯ | pre_cell_deviant_votes &lt;int&gt; | cell_deviant_votes &lt;int&gt; | pre_dissolved &lt;lgl&gt; | dissolved &lt;lgl&gt; | pre_metacell &lt;int&gt; | outlier &lt;lgl&gt; | amp_batch_id &lt;dbl&gt; | metacell &lt;dbl&gt; | annotation &lt;chr&gt; | replicate &lt;chr&gt; |\n",
       "|---|---|---|---|---|---|---|---|---|---|---|---|---|---|---|---|---|---|---|---|---|---|\n",
       "| AB159_C20 | AB159 | C20 | SB004 | 22/06/2022 | Sandra-12w-1 | Sandra | 19/05/2022 | W12-N16-CD45- | week12-1normalplate16CD45- | FALSE | ⋯ | 0 | 0 | FALSE | FALSE | 279 | FALSE | 1 | 467 | Myoepithelial  | 1 |\n",
       "| AB159_I2 | AB159 | I2  | SB004 | 22/06/2022 | Sandra-12w-1 | Sandra | 19/05/2022 | W12-N16-CD45- | week12-1normalplate16CD45- | FALSE | ⋯ | 0 | 0 | FALSE | FALSE | 129 | FALSE | 1 | 494 | Myoepithelial  | 1 |\n",
       "| AB159_K10 | AB159 | K10 | SB004 | 22/06/2022 | Sandra-12w-1 | Sandra | 19/05/2022 | W12-N16-CD45- | week12-1normalplate16CD45- | FALSE | ⋯ | 0 | 0 | FALSE | FALSE | 120 | FALSE | 1 | 384 | Alveolar       | 1 |\n",
       "| AB159_D16 | AB159 | D16 | SB004 | 22/06/2022 | Sandra-12w-1 | Sandra | 19/05/2022 | W12-N16-CD45- | week12-1normalplate16CD45- | FALSE | ⋯ | 0 | 0 | FALSE | FALSE | 341 | FALSE | 1 | 493 | Myoepithelial  | 1 |\n",
       "| AB159_O19 | AB159 | O19 | SB004 | 22/06/2022 | Sandra-12w-1 | Sandra | 19/05/2022 | W12-N16-CD45- | week12-1normalplate16CD45- | FALSE | ⋯ | 0 | 0 | FALSE | FALSE |  31 | FALSE | 1 | 406 | HS             | 1 |\n",
       "| AB159_H23 | AB159 | H23 | SB004 | 22/06/2022 | Sandra-12w-1 | Sandra | 19/05/2022 | W12-N16-CD45- | week12-1normalplate16CD45- | FALSE | ⋯ | 0 | 0 | FALSE | FALSE | 674 | FALSE | 1 | 201 | Alveolar spp l | 1 |\n",
       "| AB159_O21 | AB159 | O21 | SB004 | 22/06/2022 | Sandra-12w-1 | Sandra | 19/05/2022 | W12-N16-CD45- | week12-1normalplate16CD45- | FALSE | ⋯ | 0 | 0 | FALSE | FALSE | 749 | FALSE | 1 | 410 | HS             | 1 |\n",
       "| AB159_N22 | AB159 | N22 | SB004 | 22/06/2022 | Sandra-12w-1 | Sandra | 19/05/2022 | W12-N16-CD45- | week12-1normalplate16CD45- | FALSE | ⋯ | 0 | 0 | FALSE | FALSE | 380 | FALSE | 1 | 496 | Myoepithelial  | 1 |\n",
       "| AB159_G23 | AB159 | G23 | SB004 | 22/06/2022 | Sandra-12w-1 | Sandra | 19/05/2022 | W12-N16-CD45- | week12-1normalplate16CD45- | FALSE | ⋯ | 0 | 0 | FALSE | FALSE | 439 | FALSE | 1 | 384 | Alveolar       | 1 |\n",
       "| AB159_J8 | AB159 | J8  | SB004 | 22/06/2022 | Sandra-12w-1 | Sandra | 19/05/2022 | W12-N16-CD45- | week12-1normalplate16CD45- | FALSE | ⋯ | 0 | 0 | FALSE | FALSE | 447 | FALSE | 1 | 380 | Alveolar       | 1 |\n",
       "| AB159_J11 | AB159 | J11 | SB004 | 22/06/2022 | Sandra-12w-1 | Sandra | 19/05/2022 | W12-N16-CD45- | week12-1normalplate16CD45- | FALSE | ⋯ | 0 | 0 | FALSE | FALSE | 685 | FALSE | 1 | 247 | Alveolar       | 1 |\n",
       "| AB159_C5 | AB159 | C5  | SB004 | 22/06/2022 | Sandra-12w-1 | Sandra | 19/05/2022 | W12-N16-CD45- | week12-1normalplate16CD45- | FALSE | ⋯ | 0 | 0 | FALSE | FALSE | 442 | FALSE | 1 | 496 | Myoepithelial  | 1 |\n",
       "| AB159_N4 | AB159 | N4  | SB004 | 22/06/2022 | Sandra-12w-1 | Sandra | 19/05/2022 | W12-N16-CD45- | week12-1normalplate16CD45- | FALSE | ⋯ | 0 | 0 | FALSE | FALSE | 763 | FALSE | 1 | 410 | HS             | 1 |\n",
       "| AB159_F16 | AB159 | F16 | SB004 | 22/06/2022 | Sandra-12w-1 | Sandra | 19/05/2022 | W12-N16-CD45- | week12-1normalplate16CD45- | FALSE | ⋯ | 0 | 0 | FALSE | FALSE | 380 | FALSE | 1 | 490 | Myoepithelial  | 1 |\n",
       "| AB159_B10 | AB159 | B10 | SB004 | 22/06/2022 | Sandra-12w-1 | Sandra | 19/05/2022 | W12-N16-CD45- | week12-1normalplate16CD45- | FALSE | ⋯ | 0 | 0 | FALSE | FALSE | 749 | FALSE | 1 | 414 | HS             | 1 |\n",
       "| AB159_E5 | AB159 | E5  | SB004 | 22/06/2022 | Sandra-12w-1 | Sandra | 19/05/2022 | W12-N16-CD45- | week12-1normalplate16CD45- | FALSE | ⋯ | 0 | 0 | FALSE | FALSE | 749 | FALSE | 1 | 412 | HS             | 1 |\n",
       "| AB159_K17 | AB159 | K17 | SB004 | 22/06/2022 | Sandra-12w-1 | Sandra | 19/05/2022 | W12-N16-CD45- | week12-1normalplate16CD45- | FALSE | ⋯ | 0 | 0 | FALSE | FALSE | 156 | FALSE | 1 | 406 | HS             | 1 |\n",
       "| AB159_E8 | AB159 | E8  | SB004 | 22/06/2022 | Sandra-12w-1 | Sandra | 19/05/2022 | W12-N16-CD45- | week12-1normalplate16CD45- | FALSE | ⋯ | 0 | 0 | FALSE | FALSE | 341 | FALSE | 1 | 466 | Myoepithelial  | 1 |\n",
       "| AB159_D21 | AB159 | D21 | SB004 | 22/06/2022 | Sandra-12w-1 | Sandra | 19/05/2022 | W12-N16-CD45- | week12-1normalplate16CD45- | FALSE | ⋯ | 0 | 0 | FALSE | FALSE | 749 | FALSE | 1 | 414 | HS             | 1 |\n",
       "| AB159_E18 | AB159 | E18 | SB004 | 22/06/2022 | Sandra-12w-1 | Sandra | 19/05/2022 | W12-N16-CD45- | week12-1normalplate16CD45- | FALSE | ⋯ | 0 | 0 | FALSE | FALSE | 503 | FALSE | 1 | 480 | Myoepithelial  | 1 |\n",
       "| AB159_L13 | AB159 | L13 | SB004 | 22/06/2022 | Sandra-12w-1 | Sandra | 19/05/2022 | W12-N16-CD45- | week12-1normalplate16CD45- | FALSE | ⋯ | 0 | 0 | FALSE | FALSE | 771 | FALSE | 1 | 412 | HS             | 1 |\n",
       "| AB159_L7 | AB159 | L7  | SB004 | 22/06/2022 | Sandra-12w-1 | Sandra | 19/05/2022 | W12-N16-CD45- | week12-1normalplate16CD45- | FALSE | ⋯ | 0 | 0 | FALSE | FALSE | 749 | FALSE | 1 | 414 | HS             | 1 |\n",
       "| AB159_J10 | AB159 | J10 | SB004 | 22/06/2022 | Sandra-12w-1 | Sandra | 19/05/2022 | W12-N16-CD45- | week12-1normalplate16CD45- | FALSE | ⋯ | 0 | 0 | FALSE | FALSE | 101 | FALSE | 1 | 486 | Myoepithelial  | 1 |\n",
       "| AB159_I9 | AB159 | I9  | SB004 | 22/06/2022 | Sandra-12w-1 | Sandra | 19/05/2022 | W12-N16-CD45- | week12-1normalplate16CD45- | FALSE | ⋯ | 0 | 0 | FALSE | FALSE | 603 | FALSE | 1 | 462 | Myoepithelial  | 1 |\n",
       "| AB159_A10 | AB159 | A10 | SB004 | 22/06/2022 | Sandra-12w-1 | Sandra | 19/05/2022 | W12-N16-CD45- | week12-1normalplate16CD45- | FALSE | ⋯ | 0 | 0 | FALSE | FALSE |  51 | FALSE | 1 | 409 | HS             | 1 |\n",
       "| AB159_P24 | AB159 | P24 | SB004 | 22/06/2022 | Sandra-12w-1 | Sandra | 19/05/2022 | W12-N16-CD45- | week12-1normalplate16CD45- | FALSE | ⋯ | 0 | 0 | FALSE | FALSE | 278 | FALSE | 1 | 483 | Myoepithelial  | 1 |\n",
       "| AB159_L8 | AB159 | L8  | SB004 | 22/06/2022 | Sandra-12w-1 | Sandra | 19/05/2022 | W12-N16-CD45- | week12-1normalplate16CD45- | FALSE | ⋯ | 0 | 0 | FALSE | FALSE | 764 | FALSE | 1 | 378 | Alveolar       | 1 |\n",
       "| AB159_H5 | AB159 | H5  | SB004 | 22/06/2022 | Sandra-12w-1 | Sandra | 19/05/2022 | W12-N16-CD45- | week12-1normalplate16CD45- | FALSE | ⋯ | 0 | 0 | FALSE | FALSE | 151 | FALSE | 1 | 454 | Myoepithelial  | 1 |\n",
       "| AB159_B19 | AB159 | B19 | SB004 | 22/06/2022 | Sandra-12w-1 | Sandra | 19/05/2022 | W12-N16-CD45- | week12-1normalplate16CD45- | FALSE | ⋯ | 0 | 0 | FALSE | FALSE | 503 | FALSE | 1 | 474 | Myoepithelial  | 1 |\n",
       "| AB159_F8 | AB159 | F8  | SB004 | 22/06/2022 | Sandra-12w-1 | Sandra | 19/05/2022 | W12-N16-CD45- | week12-1normalplate16CD45- | FALSE | ⋯ | 0 | 0 | FALSE | FALSE | 763 | FALSE | 1 | 410 | HS             | 1 |\n",
       "| ⋮ | ⋮ | ⋮ | ⋮ | ⋮ | ⋮ | ⋮ | ⋮ | ⋮ | ⋮ | ⋮ | ⋱ | ⋮ | ⋮ | ⋮ | ⋮ | ⋮ | ⋮ | ⋮ | ⋮ | ⋮ | ⋮ |\n",
       "| AB327_E18 | AB327 | E18 | SB006 | 18/09/2022 | sandra-12w-2 | Sandra | 04/09/2022 | <!----> | 12wEPCAMN10 | FALSE | ⋯ | 0 | 0 | FALSE | FALSE |  67 | FALSE | 1 | 348 | Progenitor 1  | 2 |\n",
       "| AB327_G14 | AB327 | G14 | SB006 | 18/09/2022 | sandra-12w-2 | Sandra | 04/09/2022 | <!----> | 12wEPCAMN10 | FALSE | ⋯ | 0 | 0 | FALSE | FALSE | 262 | FALSE | 1 | 415 | HS            | 2 |\n",
       "| AB327_M7 | AB327 | M7  | SB006 | 18/09/2022 | sandra-12w-2 | Sandra | 04/09/2022 | <!----> | 12wEPCAMN10 | FALSE | ⋯ | 0 | 0 | FALSE | FALSE | 349 | FALSE | 1 | 391 | HS            | 2 |\n",
       "| AB327_H2 | AB327 | H2  | SB006 | 18/09/2022 | sandra-12w-2 | Sandra | 04/09/2022 | <!----> | 12wEPCAMN10 | FALSE | ⋯ | 0 | 0 | FALSE | FALSE | 170 | FALSE | 1 | 418 | HS            | 2 |\n",
       "| AB327_N6 | AB327 | N6  | SB006 | 18/09/2022 | sandra-12w-2 | Sandra | 04/09/2022 | <!----> | 12wEPCAMN10 | FALSE | ⋯ | 0 | 0 | FALSE | FALSE |  67 | FALSE | 1 | 348 | Progenitor 1  | 2 |\n",
       "| AB327_J5 | AB327 | J5  | SB006 | 18/09/2022 | sandra-12w-2 | Sandra | 04/09/2022 | <!----> | 12wEPCAMN10 | FALSE | ⋯ | 0 | 0 | FALSE | FALSE | 135 | FALSE | 1 | 365 | Progenitor 1  | 2 |\n",
       "| AB327_M21 | AB327 | M21 | SB006 | 18/09/2022 | sandra-12w-2 | Sandra | 04/09/2022 | <!----> | 12wEPCAMN10 | FALSE | ⋯ | 0 | 0 | FALSE | FALSE | 553 | FALSE | 1 | 417 | HS            | 2 |\n",
       "| AB327_D3 | AB327 | D3  | SB006 | 18/09/2022 | sandra-12w-2 | Sandra | 04/09/2022 | <!----> | 12wEPCAMN10 | FALSE | ⋯ | 0 | 0 | FALSE | FALSE |  67 | FALSE | 1 | 348 | Progenitor 1  | 2 |\n",
       "| AB327_F13 | AB327 | F13 | SB006 | 18/09/2022 | sandra-12w-2 | Sandra | 04/09/2022 | <!----> | 12wEPCAMN10 | FALSE | ⋯ | 0 | 0 | FALSE | FALSE | 262 | FALSE | 1 | 417 | HS            | 2 |\n",
       "| AB327_O23 | AB327 | O23 | SB006 | 18/09/2022 | sandra-12w-2 | Sandra | 04/09/2022 | <!----> | 12wEPCAMN10 | FALSE | ⋯ | 0 | 0 | FALSE | FALSE |  67 | FALSE | 1 | 348 | Progenitor 1  | 2 |\n",
       "| AB327_H3 | AB327 | H3  | SB006 | 18/09/2022 | sandra-12w-2 | Sandra | 04/09/2022 | <!----> | 12wEPCAMN10 | FALSE | ⋯ | 0 | 0 | FALSE | FALSE | 349 | FALSE | 1 | 416 | HS            | 2 |\n",
       "| AB327_P8 | AB327 | P8  | SB006 | 18/09/2022 | sandra-12w-2 | Sandra | 04/09/2022 | <!----> | 12wEPCAMN10 | FALSE | ⋯ | 0 | 0 | FALSE | FALSE | 773 | FALSE | 1 | 453 | Myoepithelial | 2 |\n",
       "| AB327_A7 | AB327 | A7  | SB006 | 18/09/2022 | sandra-12w-2 | Sandra | 04/09/2022 | <!----> | 12wEPCAMN10 | FALSE | ⋯ | 0 | 0 | FALSE | FALSE | 262 | FALSE | 1 | 416 | HS            | 2 |\n",
       "| AB327_K22 | AB327 | K22 | SB006 | 18/09/2022 | sandra-12w-2 | Sandra | 04/09/2022 | <!----> | 12wEPCAMN10 | FALSE | ⋯ | 0 | 0 | FALSE | FALSE |  67 | FALSE | 1 | 348 | Progenitor 1  | 2 |\n",
       "| AB327_O3 | AB327 | O3  | SB006 | 18/09/2022 | sandra-12w-2 | Sandra | 04/09/2022 | <!----> | 12wEPCAMN10 | FALSE | ⋯ | 0 | 0 | FALSE | FALSE | 262 | FALSE | 1 | 391 | HS            | 2 |\n",
       "| AB327_B7 | AB327 | B7  | SB006 | 18/09/2022 | sandra-12w-2 | Sandra | 04/09/2022 | <!----> | 12wEPCAMN10 | FALSE | ⋯ | 0 | 0 | FALSE | FALSE | 136 | FALSE | 1 | 424 | HS            | 2 |\n",
       "| AB327_O10 | AB327 | O10 | SB006 | 18/09/2022 | sandra-12w-2 | Sandra | 04/09/2022 | <!----> | 12wEPCAMN10 | FALSE | ⋯ | 0 | 0 | FALSE | FALSE | 136 | FALSE | 1 | 416 | HS            | 2 |\n",
       "| AB327_L13 | AB327 | L13 | SB006 | 18/09/2022 | sandra-12w-2 | Sandra | 04/09/2022 | <!----> | 12wEPCAMN10 | FALSE | ⋯ | 0 | 0 | FALSE | FALSE | 572 | FALSE | 1 | 245 | Alveolar      | 2 |\n",
       "| AB327_H21 | AB327 | H21 | SB006 | 18/09/2022 | sandra-12w-2 | Sandra | 04/09/2022 | <!----> | 12wEPCAMN10 | FALSE | ⋯ | 0 | 0 | FALSE | FALSE |  67 | FALSE | 1 | 348 | Progenitor 1  | 2 |\n",
       "| AB327_E9 | AB327 | E9  | SB006 | 18/09/2022 | sandra-12w-2 | Sandra | 04/09/2022 | <!----> | 12wEPCAMN10 | FALSE | ⋯ | 0 | 0 | FALSE | FALSE | 572 | FALSE | 1 | 348 | Progenitor 1  | 2 |\n",
       "| AB327_L19 | AB327 | L19 | SB006 | 18/09/2022 | sandra-12w-2 | Sandra | 04/09/2022 | <!----> | 12wEPCAMN10 | FALSE | ⋯ | 0 | 0 | FALSE | FALSE | 136 | FALSE | 1 | 418 | HS            | 2 |\n",
       "| AB327_P21 | AB327 | P21 | SB006 | 18/09/2022 | sandra-12w-2 | Sandra | 04/09/2022 | <!----> | 12wEPCAMN10 | FALSE | ⋯ | 0 | 0 | FALSE | FALSE | 129 | FALSE | 1 | 471 | Myoepithelial | 2 |\n",
       "| AB327_J10 | AB327 | J10 | SB006 | 18/09/2022 | sandra-12w-2 | Sandra | 04/09/2022 | <!----> | 12wEPCAMN10 | FALSE | ⋯ | 0 | 0 | FALSE | FALSE | 572 | FALSE | 1 | 348 | Progenitor 1  | 2 |\n",
       "| AB327_J9 | AB327 | J9  | SB006 | 18/09/2022 | sandra-12w-2 | Sandra | 04/09/2022 | <!----> | 12wEPCAMN10 | FALSE | ⋯ | 0 | 0 | FALSE | FALSE | 154 | FALSE | 1 | 348 | Progenitor 1  | 2 |\n",
       "| AB327_N3 | AB327 | N3  | SB006 | 18/09/2022 | sandra-12w-2 | Sandra | 04/09/2022 | <!----> | 12wEPCAMN10 | FALSE | ⋯ | 0 | 0 | FALSE | FALSE | 349 | FALSE | 1 | 411 | HS            | 2 |\n",
       "| AB327_A21 | AB327 | A21 | SB006 | 18/09/2022 | sandra-12w-2 | Sandra | 04/09/2022 | <!----> | 12wEPCAMN10 | FALSE | ⋯ | 0 | 0 | FALSE | FALSE | 572 | FALSE | 1 | 365 | Progenitor 1  | 2 |\n",
       "| AB327_G16 | AB327 | G16 | SB006 | 18/09/2022 | sandra-12w-2 | Sandra | 04/09/2022 | <!----> | 12wEPCAMN10 | FALSE | ⋯ | 0 | 0 | FALSE | FALSE | 136 | FALSE | 1 | 416 | HS            | 2 |\n",
       "| AB327_A5 | AB327 | A5  | SB006 | 18/09/2022 | sandra-12w-2 | Sandra | 04/09/2022 | <!----> | 12wEPCAMN10 | FALSE | ⋯ | 0 | 0 | FALSE | FALSE | 405 | FALSE | 1 | 348 | Progenitor 1  | 2 |\n",
       "| AB327_P4 | AB327 | P4  | SB006 | 18/09/2022 | sandra-12w-2 | Sandra | 04/09/2022 | <!----> | 12wEPCAMN10 | FALSE | ⋯ | 0 | 0 | FALSE | FALSE | 136 | FALSE | 1 | 416 | HS            | 2 |\n",
       "| AB327_P10 | AB327 | P10 | SB006 | 18/09/2022 | sandra-12w-2 | Sandra | 04/09/2022 | <!----> | 12wEPCAMN10 | FALSE | ⋯ | 0 | 0 | FALSE | FALSE | 125 | FALSE | 1 | 389 | HS            | 2 |\n",
       "\n"
      ],
      "text/plain": [
       "          Amp.Batch.ID Well_position Seq.Batch.ID Date of sequencing\n",
       "AB159_C20 AB159        C20           SB004        22/06/2022        \n",
       "AB159_I2  AB159        I2            SB004        22/06/2022        \n",
       "AB159_K10 AB159        K10           SB004        22/06/2022        \n",
       "AB159_D16 AB159        D16           SB004        22/06/2022        \n",
       "AB159_O19 AB159        O19           SB004        22/06/2022        \n",
       "AB159_H23 AB159        H23           SB004        22/06/2022        \n",
       "AB159_O21 AB159        O21           SB004        22/06/2022        \n",
       "AB159_N22 AB159        N22           SB004        22/06/2022        \n",
       "AB159_G23 AB159        G23           SB004        22/06/2022        \n",
       "AB159_J8  AB159        J8            SB004        22/06/2022        \n",
       "AB159_J11 AB159        J11           SB004        22/06/2022        \n",
       "AB159_C5  AB159        C5            SB004        22/06/2022        \n",
       "AB159_N4  AB159        N4            SB004        22/06/2022        \n",
       "AB159_F16 AB159        F16           SB004        22/06/2022        \n",
       "AB159_B10 AB159        B10           SB004        22/06/2022        \n",
       "AB159_E5  AB159        E5            SB004        22/06/2022        \n",
       "AB159_K17 AB159        K17           SB004        22/06/2022        \n",
       "AB159_E8  AB159        E8            SB004        22/06/2022        \n",
       "AB159_D21 AB159        D21           SB004        22/06/2022        \n",
       "AB159_E18 AB159        E18           SB004        22/06/2022        \n",
       "AB159_L13 AB159        L13           SB004        22/06/2022        \n",
       "AB159_L7  AB159        L7            SB004        22/06/2022        \n",
       "AB159_J10 AB159        J10           SB004        22/06/2022        \n",
       "AB159_I9  AB159        I9            SB004        22/06/2022        \n",
       "AB159_A10 AB159        A10           SB004        22/06/2022        \n",
       "AB159_P24 AB159        P24           SB004        22/06/2022        \n",
       "AB159_L8  AB159        L8            SB004        22/06/2022        \n",
       "AB159_H5  AB159        H5            SB004        22/06/2022        \n",
       "AB159_B19 AB159        B19           SB004        22/06/2022        \n",
       "AB159_F8  AB159        F8            SB004        22/06/2022        \n",
       "⋮         ⋮            ⋮             ⋮            ⋮                 \n",
       "AB327_E18 AB327        E18           SB006        18/09/2022        \n",
       "AB327_G14 AB327        G14           SB006        18/09/2022        \n",
       "AB327_M7  AB327        M7            SB006        18/09/2022        \n",
       "AB327_H2  AB327        H2            SB006        18/09/2022        \n",
       "AB327_N6  AB327        N6            SB006        18/09/2022        \n",
       "AB327_J5  AB327        J5            SB006        18/09/2022        \n",
       "AB327_M21 AB327        M21           SB006        18/09/2022        \n",
       "AB327_D3  AB327        D3            SB006        18/09/2022        \n",
       "AB327_F13 AB327        F13           SB006        18/09/2022        \n",
       "AB327_O23 AB327        O23           SB006        18/09/2022        \n",
       "AB327_H3  AB327        H3            SB006        18/09/2022        \n",
       "AB327_P8  AB327        P8            SB006        18/09/2022        \n",
       "AB327_A7  AB327        A7            SB006        18/09/2022        \n",
       "AB327_K22 AB327        K22           SB006        18/09/2022        \n",
       "AB327_O3  AB327        O3            SB006        18/09/2022        \n",
       "AB327_B7  AB327        B7            SB006        18/09/2022        \n",
       "AB327_O10 AB327        O10           SB006        18/09/2022        \n",
       "AB327_L13 AB327        L13           SB006        18/09/2022        \n",
       "AB327_H21 AB327        H21           SB006        18/09/2022        \n",
       "AB327_E9  AB327        E9            SB006        18/09/2022        \n",
       "AB327_L19 AB327        L19           SB006        18/09/2022        \n",
       "AB327_P21 AB327        P21           SB006        18/09/2022        \n",
       "AB327_J10 AB327        J10           SB006        18/09/2022        \n",
       "AB327_J9  AB327        J9            SB006        18/09/2022        \n",
       "AB327_N3  AB327        N3            SB006        18/09/2022        \n",
       "AB327_A21 AB327        A21           SB006        18/09/2022        \n",
       "AB327_G16 AB327        G16           SB006        18/09/2022        \n",
       "AB327_A5  AB327        A5            SB006        18/09/2022        \n",
       "AB327_P4  AB327        P4            SB006        18/09/2022        \n",
       "AB327_P10 AB327        P10           SB006        18/09/2022        \n",
       "          Batch.Set.ID Owner  Date of sort Plate ID (15 characters, no _/+)\n",
       "AB159_C20 Sandra-12w-1 Sandra 19/05/2022   W12-N16-CD45-                   \n",
       "AB159_I2  Sandra-12w-1 Sandra 19/05/2022   W12-N16-CD45-                   \n",
       "AB159_K10 Sandra-12w-1 Sandra 19/05/2022   W12-N16-CD45-                   \n",
       "AB159_D16 Sandra-12w-1 Sandra 19/05/2022   W12-N16-CD45-                   \n",
       "AB159_O19 Sandra-12w-1 Sandra 19/05/2022   W12-N16-CD45-                   \n",
       "AB159_H23 Sandra-12w-1 Sandra 19/05/2022   W12-N16-CD45-                   \n",
       "AB159_O21 Sandra-12w-1 Sandra 19/05/2022   W12-N16-CD45-                   \n",
       "AB159_N22 Sandra-12w-1 Sandra 19/05/2022   W12-N16-CD45-                   \n",
       "AB159_G23 Sandra-12w-1 Sandra 19/05/2022   W12-N16-CD45-                   \n",
       "AB159_J8  Sandra-12w-1 Sandra 19/05/2022   W12-N16-CD45-                   \n",
       "AB159_J11 Sandra-12w-1 Sandra 19/05/2022   W12-N16-CD45-                   \n",
       "AB159_C5  Sandra-12w-1 Sandra 19/05/2022   W12-N16-CD45-                   \n",
       "AB159_N4  Sandra-12w-1 Sandra 19/05/2022   W12-N16-CD45-                   \n",
       "AB159_F16 Sandra-12w-1 Sandra 19/05/2022   W12-N16-CD45-                   \n",
       "AB159_B10 Sandra-12w-1 Sandra 19/05/2022   W12-N16-CD45-                   \n",
       "AB159_E5  Sandra-12w-1 Sandra 19/05/2022   W12-N16-CD45-                   \n",
       "AB159_K17 Sandra-12w-1 Sandra 19/05/2022   W12-N16-CD45-                   \n",
       "AB159_E8  Sandra-12w-1 Sandra 19/05/2022   W12-N16-CD45-                   \n",
       "AB159_D21 Sandra-12w-1 Sandra 19/05/2022   W12-N16-CD45-                   \n",
       "AB159_E18 Sandra-12w-1 Sandra 19/05/2022   W12-N16-CD45-                   \n",
       "AB159_L13 Sandra-12w-1 Sandra 19/05/2022   W12-N16-CD45-                   \n",
       "AB159_L7  Sandra-12w-1 Sandra 19/05/2022   W12-N16-CD45-                   \n",
       "AB159_J10 Sandra-12w-1 Sandra 19/05/2022   W12-N16-CD45-                   \n",
       "AB159_I9  Sandra-12w-1 Sandra 19/05/2022   W12-N16-CD45-                   \n",
       "AB159_A10 Sandra-12w-1 Sandra 19/05/2022   W12-N16-CD45-                   \n",
       "AB159_P24 Sandra-12w-1 Sandra 19/05/2022   W12-N16-CD45-                   \n",
       "AB159_L8  Sandra-12w-1 Sandra 19/05/2022   W12-N16-CD45-                   \n",
       "AB159_H5  Sandra-12w-1 Sandra 19/05/2022   W12-N16-CD45-                   \n",
       "AB159_B19 Sandra-12w-1 Sandra 19/05/2022   W12-N16-CD45-                   \n",
       "AB159_F8  Sandra-12w-1 Sandra 19/05/2022   W12-N16-CD45-                   \n",
       "⋮         ⋮            ⋮      ⋮            ⋮                               \n",
       "AB327_E18 sandra-12w-2 Sandra 04/09/2022                                   \n",
       "AB327_G14 sandra-12w-2 Sandra 04/09/2022                                   \n",
       "AB327_M7  sandra-12w-2 Sandra 04/09/2022                                   \n",
       "AB327_H2  sandra-12w-2 Sandra 04/09/2022                                   \n",
       "AB327_N6  sandra-12w-2 Sandra 04/09/2022                                   \n",
       "AB327_J5  sandra-12w-2 Sandra 04/09/2022                                   \n",
       "AB327_M21 sandra-12w-2 Sandra 04/09/2022                                   \n",
       "AB327_D3  sandra-12w-2 Sandra 04/09/2022                                   \n",
       "AB327_F13 sandra-12w-2 Sandra 04/09/2022                                   \n",
       "AB327_O23 sandra-12w-2 Sandra 04/09/2022                                   \n",
       "AB327_H3  sandra-12w-2 Sandra 04/09/2022                                   \n",
       "AB327_P8  sandra-12w-2 Sandra 04/09/2022                                   \n",
       "AB327_A7  sandra-12w-2 Sandra 04/09/2022                                   \n",
       "AB327_K22 sandra-12w-2 Sandra 04/09/2022                                   \n",
       "AB327_O3  sandra-12w-2 Sandra 04/09/2022                                   \n",
       "AB327_B7  sandra-12w-2 Sandra 04/09/2022                                   \n",
       "AB327_O10 sandra-12w-2 Sandra 04/09/2022                                   \n",
       "AB327_L13 sandra-12w-2 Sandra 04/09/2022                                   \n",
       "AB327_H21 sandra-12w-2 Sandra 04/09/2022                                   \n",
       "AB327_E9  sandra-12w-2 Sandra 04/09/2022                                   \n",
       "AB327_L19 sandra-12w-2 Sandra 04/09/2022                                   \n",
       "AB327_P21 sandra-12w-2 Sandra 04/09/2022                                   \n",
       "AB327_J10 sandra-12w-2 Sandra 04/09/2022                                   \n",
       "AB327_J9  sandra-12w-2 Sandra 04/09/2022                                   \n",
       "AB327_N3  sandra-12w-2 Sandra 04/09/2022                                   \n",
       "AB327_A21 sandra-12w-2 Sandra 04/09/2022                                   \n",
       "AB327_G16 sandra-12w-2 Sandra 04/09/2022                                   \n",
       "AB327_A5  sandra-12w-2 Sandra 04/09/2022                                   \n",
       "AB327_P4  sandra-12w-2 Sandra 04/09/2022                                   \n",
       "AB327_P10 sandra-12w-2 Sandra 04/09/2022                                   \n",
       "          Plate description          Empty_well ⋯ pre_cell_deviant_votes\n",
       "AB159_C20 week12-1normalplate16CD45- FALSE      ⋯ 0                     \n",
       "AB159_I2  week12-1normalplate16CD45- FALSE      ⋯ 0                     \n",
       "AB159_K10 week12-1normalplate16CD45- FALSE      ⋯ 0                     \n",
       "AB159_D16 week12-1normalplate16CD45- FALSE      ⋯ 0                     \n",
       "AB159_O19 week12-1normalplate16CD45- FALSE      ⋯ 0                     \n",
       "AB159_H23 week12-1normalplate16CD45- FALSE      ⋯ 0                     \n",
       "AB159_O21 week12-1normalplate16CD45- FALSE      ⋯ 0                     \n",
       "AB159_N22 week12-1normalplate16CD45- FALSE      ⋯ 0                     \n",
       "AB159_G23 week12-1normalplate16CD45- FALSE      ⋯ 0                     \n",
       "AB159_J8  week12-1normalplate16CD45- FALSE      ⋯ 0                     \n",
       "AB159_J11 week12-1normalplate16CD45- FALSE      ⋯ 0                     \n",
       "AB159_C5  week12-1normalplate16CD45- FALSE      ⋯ 0                     \n",
       "AB159_N4  week12-1normalplate16CD45- FALSE      ⋯ 0                     \n",
       "AB159_F16 week12-1normalplate16CD45- FALSE      ⋯ 0                     \n",
       "AB159_B10 week12-1normalplate16CD45- FALSE      ⋯ 0                     \n",
       "AB159_E5  week12-1normalplate16CD45- FALSE      ⋯ 0                     \n",
       "AB159_K17 week12-1normalplate16CD45- FALSE      ⋯ 0                     \n",
       "AB159_E8  week12-1normalplate16CD45- FALSE      ⋯ 0                     \n",
       "AB159_D21 week12-1normalplate16CD45- FALSE      ⋯ 0                     \n",
       "AB159_E18 week12-1normalplate16CD45- FALSE      ⋯ 0                     \n",
       "AB159_L13 week12-1normalplate16CD45- FALSE      ⋯ 0                     \n",
       "AB159_L7  week12-1normalplate16CD45- FALSE      ⋯ 0                     \n",
       "AB159_J10 week12-1normalplate16CD45- FALSE      ⋯ 0                     \n",
       "AB159_I9  week12-1normalplate16CD45- FALSE      ⋯ 0                     \n",
       "AB159_A10 week12-1normalplate16CD45- FALSE      ⋯ 0                     \n",
       "AB159_P24 week12-1normalplate16CD45- FALSE      ⋯ 0                     \n",
       "AB159_L8  week12-1normalplate16CD45- FALSE      ⋯ 0                     \n",
       "AB159_H5  week12-1normalplate16CD45- FALSE      ⋯ 0                     \n",
       "AB159_B19 week12-1normalplate16CD45- FALSE      ⋯ 0                     \n",
       "AB159_F8  week12-1normalplate16CD45- FALSE      ⋯ 0                     \n",
       "⋮         ⋮                          ⋮          ⋱ ⋮                     \n",
       "AB327_E18 12wEPCAMN10                FALSE      ⋯ 0                     \n",
       "AB327_G14 12wEPCAMN10                FALSE      ⋯ 0                     \n",
       "AB327_M7  12wEPCAMN10                FALSE      ⋯ 0                     \n",
       "AB327_H2  12wEPCAMN10                FALSE      ⋯ 0                     \n",
       "AB327_N6  12wEPCAMN10                FALSE      ⋯ 0                     \n",
       "AB327_J5  12wEPCAMN10                FALSE      ⋯ 0                     \n",
       "AB327_M21 12wEPCAMN10                FALSE      ⋯ 0                     \n",
       "AB327_D3  12wEPCAMN10                FALSE      ⋯ 0                     \n",
       "AB327_F13 12wEPCAMN10                FALSE      ⋯ 0                     \n",
       "AB327_O23 12wEPCAMN10                FALSE      ⋯ 0                     \n",
       "AB327_H3  12wEPCAMN10                FALSE      ⋯ 0                     \n",
       "AB327_P8  12wEPCAMN10                FALSE      ⋯ 0                     \n",
       "AB327_A7  12wEPCAMN10                FALSE      ⋯ 0                     \n",
       "AB327_K22 12wEPCAMN10                FALSE      ⋯ 0                     \n",
       "AB327_O3  12wEPCAMN10                FALSE      ⋯ 0                     \n",
       "AB327_B7  12wEPCAMN10                FALSE      ⋯ 0                     \n",
       "AB327_O10 12wEPCAMN10                FALSE      ⋯ 0                     \n",
       "AB327_L13 12wEPCAMN10                FALSE      ⋯ 0                     \n",
       "AB327_H21 12wEPCAMN10                FALSE      ⋯ 0                     \n",
       "AB327_E9  12wEPCAMN10                FALSE      ⋯ 0                     \n",
       "AB327_L19 12wEPCAMN10                FALSE      ⋯ 0                     \n",
       "AB327_P21 12wEPCAMN10                FALSE      ⋯ 0                     \n",
       "AB327_J10 12wEPCAMN10                FALSE      ⋯ 0                     \n",
       "AB327_J9  12wEPCAMN10                FALSE      ⋯ 0                     \n",
       "AB327_N3  12wEPCAMN10                FALSE      ⋯ 0                     \n",
       "AB327_A21 12wEPCAMN10                FALSE      ⋯ 0                     \n",
       "AB327_G16 12wEPCAMN10                FALSE      ⋯ 0                     \n",
       "AB327_A5  12wEPCAMN10                FALSE      ⋯ 0                     \n",
       "AB327_P4  12wEPCAMN10                FALSE      ⋯ 0                     \n",
       "AB327_P10 12wEPCAMN10                FALSE      ⋯ 0                     \n",
       "          cell_deviant_votes pre_dissolved dissolved pre_metacell outlier\n",
       "AB159_C20 0                  FALSE         FALSE     279          FALSE  \n",
       "AB159_I2  0                  FALSE         FALSE     129          FALSE  \n",
       "AB159_K10 0                  FALSE         FALSE     120          FALSE  \n",
       "AB159_D16 0                  FALSE         FALSE     341          FALSE  \n",
       "AB159_O19 0                  FALSE         FALSE      31          FALSE  \n",
       "AB159_H23 0                  FALSE         FALSE     674          FALSE  \n",
       "AB159_O21 0                  FALSE         FALSE     749          FALSE  \n",
       "AB159_N22 0                  FALSE         FALSE     380          FALSE  \n",
       "AB159_G23 0                  FALSE         FALSE     439          FALSE  \n",
       "AB159_J8  0                  FALSE         FALSE     447          FALSE  \n",
       "AB159_J11 0                  FALSE         FALSE     685          FALSE  \n",
       "AB159_C5  0                  FALSE         FALSE     442          FALSE  \n",
       "AB159_N4  0                  FALSE         FALSE     763          FALSE  \n",
       "AB159_F16 0                  FALSE         FALSE     380          FALSE  \n",
       "AB159_B10 0                  FALSE         FALSE     749          FALSE  \n",
       "AB159_E5  0                  FALSE         FALSE     749          FALSE  \n",
       "AB159_K17 0                  FALSE         FALSE     156          FALSE  \n",
       "AB159_E8  0                  FALSE         FALSE     341          FALSE  \n",
       "AB159_D21 0                  FALSE         FALSE     749          FALSE  \n",
       "AB159_E18 0                  FALSE         FALSE     503          FALSE  \n",
       "AB159_L13 0                  FALSE         FALSE     771          FALSE  \n",
       "AB159_L7  0                  FALSE         FALSE     749          FALSE  \n",
       "AB159_J10 0                  FALSE         FALSE     101          FALSE  \n",
       "AB159_I9  0                  FALSE         FALSE     603          FALSE  \n",
       "AB159_A10 0                  FALSE         FALSE      51          FALSE  \n",
       "AB159_P24 0                  FALSE         FALSE     278          FALSE  \n",
       "AB159_L8  0                  FALSE         FALSE     764          FALSE  \n",
       "AB159_H5  0                  FALSE         FALSE     151          FALSE  \n",
       "AB159_B19 0                  FALSE         FALSE     503          FALSE  \n",
       "AB159_F8  0                  FALSE         FALSE     763          FALSE  \n",
       "⋮         ⋮                  ⋮             ⋮         ⋮            ⋮      \n",
       "AB327_E18 0                  FALSE         FALSE      67          FALSE  \n",
       "AB327_G14 0                  FALSE         FALSE     262          FALSE  \n",
       "AB327_M7  0                  FALSE         FALSE     349          FALSE  \n",
       "AB327_H2  0                  FALSE         FALSE     170          FALSE  \n",
       "AB327_N6  0                  FALSE         FALSE      67          FALSE  \n",
       "AB327_J5  0                  FALSE         FALSE     135          FALSE  \n",
       "AB327_M21 0                  FALSE         FALSE     553          FALSE  \n",
       "AB327_D3  0                  FALSE         FALSE      67          FALSE  \n",
       "AB327_F13 0                  FALSE         FALSE     262          FALSE  \n",
       "AB327_O23 0                  FALSE         FALSE      67          FALSE  \n",
       "AB327_H3  0                  FALSE         FALSE     349          FALSE  \n",
       "AB327_P8  0                  FALSE         FALSE     773          FALSE  \n",
       "AB327_A7  0                  FALSE         FALSE     262          FALSE  \n",
       "AB327_K22 0                  FALSE         FALSE      67          FALSE  \n",
       "AB327_O3  0                  FALSE         FALSE     262          FALSE  \n",
       "AB327_B7  0                  FALSE         FALSE     136          FALSE  \n",
       "AB327_O10 0                  FALSE         FALSE     136          FALSE  \n",
       "AB327_L13 0                  FALSE         FALSE     572          FALSE  \n",
       "AB327_H21 0                  FALSE         FALSE      67          FALSE  \n",
       "AB327_E9  0                  FALSE         FALSE     572          FALSE  \n",
       "AB327_L19 0                  FALSE         FALSE     136          FALSE  \n",
       "AB327_P21 0                  FALSE         FALSE     129          FALSE  \n",
       "AB327_J10 0                  FALSE         FALSE     572          FALSE  \n",
       "AB327_J9  0                  FALSE         FALSE     154          FALSE  \n",
       "AB327_N3  0                  FALSE         FALSE     349          FALSE  \n",
       "AB327_A21 0                  FALSE         FALSE     572          FALSE  \n",
       "AB327_G16 0                  FALSE         FALSE     136          FALSE  \n",
       "AB327_A5  0                  FALSE         FALSE     405          FALSE  \n",
       "AB327_P4  0                  FALSE         FALSE     136          FALSE  \n",
       "AB327_P10 0                  FALSE         FALSE     125          FALSE  \n",
       "          amp_batch_id metacell annotation     replicate\n",
       "AB159_C20 1            467      Myoepithelial  1        \n",
       "AB159_I2  1            494      Myoepithelial  1        \n",
       "AB159_K10 1            384      Alveolar       1        \n",
       "AB159_D16 1            493      Myoepithelial  1        \n",
       "AB159_O19 1            406      HS             1        \n",
       "AB159_H23 1            201      Alveolar spp l 1        \n",
       "AB159_O21 1            410      HS             1        \n",
       "AB159_N22 1            496      Myoepithelial  1        \n",
       "AB159_G23 1            384      Alveolar       1        \n",
       "AB159_J8  1            380      Alveolar       1        \n",
       "AB159_J11 1            247      Alveolar       1        \n",
       "AB159_C5  1            496      Myoepithelial  1        \n",
       "AB159_N4  1            410      HS             1        \n",
       "AB159_F16 1            490      Myoepithelial  1        \n",
       "AB159_B10 1            414      HS             1        \n",
       "AB159_E5  1            412      HS             1        \n",
       "AB159_K17 1            406      HS             1        \n",
       "AB159_E8  1            466      Myoepithelial  1        \n",
       "AB159_D21 1            414      HS             1        \n",
       "AB159_E18 1            480      Myoepithelial  1        \n",
       "AB159_L13 1            412      HS             1        \n",
       "AB159_L7  1            414      HS             1        \n",
       "AB159_J10 1            486      Myoepithelial  1        \n",
       "AB159_I9  1            462      Myoepithelial  1        \n",
       "AB159_A10 1            409      HS             1        \n",
       "AB159_P24 1            483      Myoepithelial  1        \n",
       "AB159_L8  1            378      Alveolar       1        \n",
       "AB159_H5  1            454      Myoepithelial  1        \n",
       "AB159_B19 1            474      Myoepithelial  1        \n",
       "AB159_F8  1            410      HS             1        \n",
       "⋮         ⋮            ⋮        ⋮              ⋮        \n",
       "AB327_E18 1            348      Progenitor 1   2        \n",
       "AB327_G14 1            415      HS             2        \n",
       "AB327_M7  1            391      HS             2        \n",
       "AB327_H2  1            418      HS             2        \n",
       "AB327_N6  1            348      Progenitor 1   2        \n",
       "AB327_J5  1            365      Progenitor 1   2        \n",
       "AB327_M21 1            417      HS             2        \n",
       "AB327_D3  1            348      Progenitor 1   2        \n",
       "AB327_F13 1            417      HS             2        \n",
       "AB327_O23 1            348      Progenitor 1   2        \n",
       "AB327_H3  1            416      HS             2        \n",
       "AB327_P8  1            453      Myoepithelial  2        \n",
       "AB327_A7  1            416      HS             2        \n",
       "AB327_K22 1            348      Progenitor 1   2        \n",
       "AB327_O3  1            391      HS             2        \n",
       "AB327_B7  1            424      HS             2        \n",
       "AB327_O10 1            416      HS             2        \n",
       "AB327_L13 1            245      Alveolar       2        \n",
       "AB327_H21 1            348      Progenitor 1   2        \n",
       "AB327_E9  1            348      Progenitor 1   2        \n",
       "AB327_L19 1            418      HS             2        \n",
       "AB327_P21 1            471      Myoepithelial  2        \n",
       "AB327_J10 1            348      Progenitor 1   2        \n",
       "AB327_J9  1            348      Progenitor 1   2        \n",
       "AB327_N3  1            411      HS             2        \n",
       "AB327_A21 1            365      Progenitor 1   2        \n",
       "AB327_G16 1            416      HS             2        \n",
       "AB327_A5  1            348      Progenitor 1   2        \n",
       "AB327_P4  1            416      HS             2        \n",
       "AB327_P10 1            389      HS             2        "
      ]
     },
     "metadata": {},
     "output_type": "display_data"
    }
   ],
   "source": [
    "full_df[full_df$condition == 'normal' & full_df$Age == '12w' & full_df$annotation %in% pop_orders$epithelial,]"
   ]
  },
  {
   "cell_type": "code",
   "execution_count": 30,
   "id": "4bc38a33",
   "metadata": {},
   "outputs": [
    {
     "name": "stderr",
     "output_type": "stream",
     "text": [
      "\u001b[1m\u001b[22m`summarise()` has grouped output by 'annotation', 'Age', 'condition',\n",
      "'Cell_type'. You can override using the `.groups` argument.\n",
      "Warning message:\n",
      "“\u001b[1m\u001b[22mReturning more (or less) than 1 row per `summarise()` group was deprecated in\n",
      "dplyr 1.1.0.\n",
      "\u001b[36mℹ\u001b[39m Please use `reframe()` instead.\n",
      "\u001b[36mℹ\u001b[39m When switching from `summarise()` to `reframe()`, remember that `reframe()`\n",
      "  always returns an ungrouped data frame and adjust accordingly.”\n",
      "\u001b[1m\u001b[22m`summarise()` has grouped output by 'Age', 'condition', 'Cell_type',\n",
      "'Replicate'. You can override using the `.groups` argument.\n"
     ]
    }
   ],
   "source": [
    "replicate_df = full_df %>%\n",
    "    group_by(annotation, Age, condition, Cell_type, Replicate) %>% \n",
    "    summarise(Count=length(annotation)) %>% drop_na() %>% as.data.frame %>%\n",
    "    tidyr::complete(annotation, Age, condition, Cell_type, Replicate, fill=list(Count=0))\n",
    "\n",
    "replicate_df = replicate_df[apply(replicate_df, 1, \n",
    "                                  function(x) {x['annotation'] %in% unlist(cell_type_annots[x['Cell_type']])}),] %>%\n",
    "    group_by(Age, condition, Cell_type, Replicate) %>% \n",
    "    summarise(Cell_type=Cell_type, \n",
    "              annotation=annotation, \n",
    "              Count=Count, \n",
    "              total=sum(Count), \n",
    "              fraction = Count / sum(Count),\n",
    "              Replicate = Replicate) %>% \n",
    "    filter(total != 0)\n",
    "\n",
    "replicate_df$annotation = factor(replicate_df$annotation, levels=cell_order)\n",
    "replicate_df$condition = factor(replicate_df$condition, levels=cond_order)\n",
    "replicate_df$Age = factor(replicate_df$Age, levels=age_order)\n",
    "replicate_df$Replicate = factor(replicate_df$Replicate, levels=1:5)"
   ]
  },
  {
   "cell_type": "markdown",
   "id": "86b9bbe0",
   "metadata": {},
   "source": [
    "##### Attempted to make it by population:\n",
    "\n",
    "replicate_df = full_df %>%\n",
    "    mutate(broad_annotation = ifelse(full_df$annotation %in% unique(annot_df$label)[fibroblast_order], \"Fibroblast populations\",\n",
    "                              ifelse(full_df$annotation %in% unique(annot_df$label)[myeloid_order], \"Myeloid populations\",\n",
    "                              ifelse(full_df$annotation %in% unique(annot_df$label)[lymphoid_order], \"Lymphoid populations\",\n",
    "                              ifelse(full_df$annotation %in% unique(annot_df$label)[epithelial_order], \"Epithelial populations\",\n",
    "                              \"Stromal populations\"))))) %>%\n",
    "    group_by(annotation, Age, condition, broad_annotation, Replicate) %>% \n",
    "    summarise(Count=length(annotation)) %>% drop_na() %>% as.data.frame %>%\n",
    "    tidyr::complete(annotation, Age, condition, broad_annotation, Replicate, fill=list(Count=0))\n",
    "\n",
    "replicate_df = replicate_df %>%\n",
    "    group_by(Age, condition, broad_annotation, Replicate) %>% \n",
    "    summarise(broad_annotation=broad_annotation, \n",
    "              annotation=annotation, \n",
    "              Count=Count, \n",
    "              total=sum(Count), \n",
    "              fraction = Count / sum(Count),\n",
    "              Replicate = Replicate) %>% \n",
    "    filter(total > 20)\n",
    "\n",
    "replicate_df$annotation = factor(replicate_df$annotation, levels=cell_order)\n",
    "replicate_df$condition = factor(replicate_df$condition, levels=cond_order)\n",
    "replicate_df$Age = factor(replicate_df$Age, levels=age_order)\n",
    "replicate_df$Replicate = factor(replicate_df$Replicate, levels=1:6)"
   ]
  },
  {
   "cell_type": "code",
   "execution_count": 85,
   "id": "ec3a5eb2",
   "metadata": {},
   "outputs": [],
   "source": [
    "anova_df = sapply(cell_order, function(pop){\n",
    "    aov_res = aov(fraction ~ Age + condition, data = replicate_df[replicate_df$annotation == pop,])\n",
    "    pval_df = TukeyHSD(aov_res, which = \"Age\")$Age %>% as.data.frame %>% select('p adj')\n",
    "    pval_df['Age', 'p adj'] = summary(aov_res)[[1]]['Age',\"Pr(>F)\"]\n",
    "    pval_df['condition', 'p adj'] = summary(aov_res)[[1]]['condition',\"Pr(>F)\"]\n",
    "    return(as.matrix(pval_df))\n",
    "}) %>% t %>% as.data.frame"
   ]
  },
  {
   "cell_type": "code",
   "execution_count": 86,
   "id": "6f494286",
   "metadata": {},
   "outputs": [],
   "source": [
    "colnames(anova_df) = c(\"3w-10d\", \"6w-10d\", \"8w-10d\", \"10w-10d\", \"12w-10d\", \"6w-3w\", \"8w-3w\", \"10w-3w\", \"12w-3w\", \"8w-6w\", \n",
    "                       \"10w-6w\", \"12w-6w\", \"10w-8w\", \"12w-8w\", \"12w-10w\", \"Age\", \"condition\")"
   ]
  },
  {
   "cell_type": "code",
   "execution_count": 87,
   "id": "6fbfb8a0",
   "metadata": {},
   "outputs": [],
   "source": [
    "anova_df = anova_df[c(\"Age\", \"condition\", \"3w-10d\", \"6w-10d\", \"8w-10d\", \"10w-10d\", \"12w-10d\", \"6w-3w\", \"8w-3w\", \"10w-3w\", \n",
    "                      \"12w-3w\", \"8w-6w\", \"10w-6w\", \"12w-6w\", \"10w-8w\", \"12w-8w\", \"12w-10w\")]"
   ]
  },
  {
   "cell_type": "code",
   "execution_count": 88,
   "id": "f72e93f2",
   "metadata": {},
   "outputs": [],
   "source": [
    "corr_anova_df = mutate_all(anova_df, function(x){p.adjust(x, method='fdr')})"
   ]
  },
  {
   "cell_type": "code",
   "execution_count": null,
   "id": "f42e482e",
   "metadata": {},
   "outputs": [],
   "source": []
  },
  {
   "cell_type": "code",
   "execution_count": 31,
   "id": "53289577",
   "metadata": {},
   "outputs": [
    {
     "name": "stderr",
     "output_type": "stream",
     "text": [
      "\u001b[1m\u001b[22mNew names:\n",
      "\u001b[36m•\u001b[39m `` -> `...2`\n",
      "\u001b[36m•\u001b[39m `` -> `...8`\n",
      "\u001b[36m•\u001b[39m `` -> `...9`\n",
      "\u001b[36m•\u001b[39m `` -> `...10`\n",
      "\u001b[36m•\u001b[39m `` -> `...11`\n",
      "\u001b[36m•\u001b[39m `` -> `...12`\n",
      "\u001b[36m•\u001b[39m `` -> `...13`\n",
      "\u001b[36m•\u001b[39m `` -> `...14`\n",
      "\u001b[36m•\u001b[39m `` -> `...15`\n",
      "\u001b[1mRows: \u001b[22m\u001b[34m161\u001b[39m \u001b[1mColumns: \u001b[22m\u001b[34m15\u001b[39m\n",
      "\u001b[36m──\u001b[39m \u001b[1mColumn specification\u001b[22m \u001b[36m────────────────────────────────────────────────────────\u001b[39m\n",
      "\u001b[1mDelimiter:\u001b[22m \",\"\n",
      "\u001b[31mchr\u001b[39m (7): date, ...2, Age, Condition, FACs Filter, Comments, ...8\n",
      "\u001b[32mdbl\u001b[39m (3): Percentage, ...9, ...10\n",
      "\u001b[33mlgl\u001b[39m (5): ...11, ...12, ...13, ...14, ...15\n",
      "\n",
      "\u001b[36mℹ\u001b[39m Use `spec()` to retrieve the full column specification for this data.\n",
      "\u001b[36mℹ\u001b[39m Specify the column types or set `show_col_types = FALSE` to quiet this message.\n"
     ]
    }
   ],
   "source": [
    "facs_data = read_csv(\"/home/orimosko/projects/updated_breast/kinetic percentages.csv\")"
   ]
  },
  {
   "cell_type": "code",
   "execution_count": 237,
   "id": "9ad30990",
   "metadata": {},
   "outputs": [
    {
     "name": "stderr",
     "output_type": "stream",
     "text": [
      "\u001b[1mRows: \u001b[22m\u001b[34m18\u001b[39m \u001b[1mColumns: \u001b[22m\u001b[34m4\u001b[39m\n",
      "\u001b[36m──\u001b[39m \u001b[1mColumn specification\u001b[22m \u001b[36m────────────────────────────────────────────────────────\u001b[39m\n",
      "\u001b[1mDelimiter:\u001b[22m \",\"\n",
      "\u001b[31mchr\u001b[39m (3): FACS.gate, Date, Age\n",
      "\u001b[32mdbl\u001b[39m (1): MFI\n",
      "\n",
      "\u001b[36mℹ\u001b[39m Use `spec()` to retrieve the full column specification for this data.\n",
      "\u001b[36mℹ\u001b[39m Specify the column types or set `show_col_types = FALSE` to quiet this message.\n"
     ]
    }
   ],
   "source": [
    "mfi_data = read_csv(\"MFI.csv\")"
   ]
  },
  {
   "cell_type": "code",
   "execution_count": 138,
   "id": "50d3df8c",
   "metadata": {},
   "outputs": [
    {
     "data": {
      "text/html": [
       "<table class=\"dataframe\">\n",
       "<caption>A spec_tbl_df: 161 × 15</caption>\n",
       "<thead>\n",
       "\t<tr><th scope=col>date</th><th scope=col>...2</th><th scope=col>Age</th><th scope=col>Condition</th><th scope=col>FACs Filter</th><th scope=col>Percentage</th><th scope=col>Comments</th><th scope=col>...8</th><th scope=col>...9</th><th scope=col>...10</th><th scope=col>...11</th><th scope=col>...12</th><th scope=col>...13</th><th scope=col>...14</th><th scope=col>...15</th></tr>\n",
       "\t<tr><th scope=col>&lt;chr&gt;</th><th scope=col>&lt;chr&gt;</th><th scope=col>&lt;chr&gt;</th><th scope=col>&lt;chr&gt;</th><th scope=col>&lt;chr&gt;</th><th scope=col>&lt;dbl&gt;</th><th scope=col>&lt;chr&gt;</th><th scope=col>&lt;chr&gt;</th><th scope=col>&lt;dbl&gt;</th><th scope=col>&lt;dbl&gt;</th><th scope=col>&lt;lgl&gt;</th><th scope=col>&lt;lgl&gt;</th><th scope=col>&lt;lgl&gt;</th><th scope=col>&lt;lgl&gt;</th><th scope=col>&lt;lgl&gt;</th></tr>\n",
       "</thead>\n",
       "<tbody>\n",
       "\t<tr><td>16/01/2022</td><td>Sandra-10d-1</td><td>10d</td><td>Normal</td><td>CD45      </td><td>30.50</td><td>12 mg 6 mice, gentle macs                        </td><td>NA</td><td>NA</td><td>NA</td><td>NA</td><td>NA</td><td>NA</td><td>NA</td><td>NA</td></tr>\n",
       "\t<tr><td>29/06/2022</td><td>Sandra-10d-2</td><td>10d</td><td>Normal</td><td>CD45      </td><td>35.50</td><td>CD49f filter                                     </td><td>NA</td><td>NA</td><td>NA</td><td>NA</td><td>NA</td><td>NA</td><td>NA</td><td>NA</td></tr>\n",
       "\t<tr><td>27/11/2022</td><td>Sandra-10d-3</td><td>10d</td><td>Normal</td><td>CD45      </td><td>44.50</td><td>NA                                               </td><td>NA</td><td>NA</td><td>NA</td><td>NA</td><td>NA</td><td>NA</td><td>NA</td><td>NA</td></tr>\n",
       "\t<tr><td>16/01/2022</td><td>Sandra-10d-1</td><td>10d</td><td>Normal</td><td>EPCAM     </td><td> 4.24</td><td>NA                                               </td><td>NA</td><td>NA</td><td>NA</td><td>NA</td><td>NA</td><td>NA</td><td>NA</td><td>NA</td></tr>\n",
       "\t<tr><td>27/11/2022</td><td>Sandra-10d-3</td><td>10d</td><td>Normal</td><td>EPCAM     </td><td> 0.87</td><td>NA                                               </td><td>NA</td><td>NA</td><td>NA</td><td>NA</td><td>NA</td><td>NA</td><td>NA</td><td>NA</td></tr>\n",
       "\t<tr><td>16/01/2022</td><td>Sandra-10d-1</td><td>10d</td><td>Normal</td><td>CD45/EPCAM</td><td> 0.23</td><td>NA                                               </td><td>NA</td><td>NA</td><td>NA</td><td>NA</td><td>NA</td><td>NA</td><td>NA</td><td>NA</td></tr>\n",
       "\t<tr><td>27/11/2022</td><td>Sandra-10d-3</td><td>10d</td><td>Normal</td><td>CD45/EPCAM</td><td> 1.11</td><td>NA                                               </td><td>NA</td><td>NA</td><td>NA</td><td>NA</td><td>NA</td><td>NA</td><td>NA</td><td>NA</td></tr>\n",
       "\t<tr><td>27/11/2022</td><td>Sandra-10d-3</td><td>10d</td><td>Normal</td><td>LY6G/EPCAM</td><td> 3.25</td><td>FROM PICS GATE                                   </td><td>NA</td><td>NA</td><td>NA</td><td>NA</td><td>NA</td><td>NA</td><td>NA</td><td>NA</td></tr>\n",
       "\t<tr><td>27/11/2022</td><td>Sandra-10d-3</td><td>10d</td><td>Normal</td><td>LY6G      </td><td> 2.60</td><td>gate from CD45+                                  </td><td>NA</td><td>NA</td><td>NA</td><td>NA</td><td>NA</td><td>NA</td><td>NA</td><td>NA</td></tr>\n",
       "\t<tr><td>16/01/2022</td><td>Sandra-10d-1</td><td>10d</td><td>Tumor </td><td>CD45      </td><td>24.10</td><td>10 mg 5 mice, gentle macs                        </td><td>NA</td><td>NA</td><td>NA</td><td>NA</td><td>NA</td><td>NA</td><td>NA</td><td>NA</td></tr>\n",
       "\t<tr><td>29/06/2022</td><td>Sandra-10d-2</td><td>10d</td><td>Tumor </td><td>CD45      </td><td>39.80</td><td>NA                                               </td><td>NA</td><td>NA</td><td>NA</td><td>NA</td><td>NA</td><td>NA</td><td>NA</td><td>NA</td></tr>\n",
       "\t<tr><td>27/11/2022</td><td>Sandra-10d-3</td><td>10d</td><td>Tumor </td><td>CD45      </td><td>38.80</td><td>NA                                               </td><td>NA</td><td>NA</td><td>NA</td><td>NA</td><td>NA</td><td>NA</td><td>NA</td><td>NA</td></tr>\n",
       "\t<tr><td>16/01/2022</td><td>Sandra-10d-1</td><td>10d</td><td>Tumor </td><td>EPCAM     </td><td> 3.99</td><td>NA                                               </td><td>NA</td><td>NA</td><td>NA</td><td>NA</td><td>NA</td><td>NA</td><td>NA</td><td>NA</td></tr>\n",
       "\t<tr><td>27/11/2022</td><td>Sandra-10d-3</td><td>10d</td><td>Tumor </td><td>EPCAM     </td><td> 1.13</td><td>NA                                               </td><td>NA</td><td>NA</td><td>NA</td><td>NA</td><td>NA</td><td>NA</td><td>NA</td><td>NA</td></tr>\n",
       "\t<tr><td>16/01/2022</td><td>Sandra-10d-1</td><td>10d</td><td>Tumor </td><td>CD45/EPCAM</td><td> 0.15</td><td>NA                                               </td><td>NA</td><td>NA</td><td>NA</td><td>NA</td><td>NA</td><td>NA</td><td>NA</td><td>NA</td></tr>\n",
       "\t<tr><td>27/11/2022</td><td>Sandra-10d-3</td><td>10d</td><td>Tumor </td><td>CD45/EPCAM</td><td> 0.85</td><td>FROM PICS GATE                                   </td><td>NA</td><td>NA</td><td>NA</td><td>NA</td><td>NA</td><td>NA</td><td>NA</td><td>NA</td></tr>\n",
       "\t<tr><td>27/11/2022</td><td>Sandra-10d-3</td><td>10d</td><td>Tumor </td><td>LY6G/EPCAM</td><td> 3.03</td><td>gate from CD45+                                  </td><td>NA</td><td>NA</td><td>NA</td><td>NA</td><td>NA</td><td>NA</td><td>NA</td><td>NA</td></tr>\n",
       "\t<tr><td>27/11/2022</td><td>Sandra-10d-3</td><td>10d</td><td>Tumor </td><td>LY6G      </td><td> 2.87</td><td>NA                                               </td><td>NA</td><td>NA</td><td>NA</td><td>NA</td><td>NA</td><td>NA</td><td>NA</td><td>NA</td></tr>\n",
       "\t<tr><td>17/02/2022</td><td>NA          </td><td>3w </td><td>Normal</td><td>CD45      </td><td>40.50</td><td>2 mg 1 mouse                                     </td><td>NA</td><td>NA</td><td>NA</td><td>NA</td><td>NA</td><td>NA</td><td>NA</td><td>NA</td></tr>\n",
       "\t<tr><td>04/04/2022</td><td>Sandra-3w-1 </td><td>3w </td><td>Normal</td><td>CD45      </td><td>79.00</td><td>2 mg 1 mouse                                     </td><td>NA</td><td>NA</td><td>NA</td><td>NA</td><td>NA</td><td>NA</td><td>NA</td><td>NA</td></tr>\n",
       "\t<tr><td>03/05/2022</td><td>Sandra-3w-2 </td><td>3w </td><td>Normal</td><td>CD45      </td><td>31.90</td><td>4 mg 2 mice                                      </td><td>NA</td><td>NA</td><td>NA</td><td>NA</td><td>NA</td><td>NA</td><td>NA</td><td>NA</td></tr>\n",
       "\t<tr><td>31/07/2022</td><td>Sandra-3w-3 </td><td>3w </td><td>Normal</td><td>CD45      </td><td>17.50</td><td>6 mg 3 mice, CD49f filter                        </td><td>NA</td><td>NA</td><td>NA</td><td>NA</td><td>NA</td><td>NA</td><td>NA</td><td>NA</td></tr>\n",
       "\t<tr><td>11/09/2022</td><td>Sandra-3w-4 </td><td>3w </td><td>Normal</td><td>CD45      </td><td>25.20</td><td>2 mg 1 mouse, same clones different fluorochromes</td><td>NA</td><td>NA</td><td>NA</td><td>NA</td><td>NA</td><td>NA</td><td>NA</td><td>NA</td></tr>\n",
       "\t<tr><td>17/02/2022</td><td>NA          </td><td>3w </td><td>Normal</td><td>EPCAM     </td><td> 0.22</td><td>NA                                               </td><td>NA</td><td>NA</td><td>NA</td><td>NA</td><td>NA</td><td>NA</td><td>NA</td><td>NA</td></tr>\n",
       "\t<tr><td>04/04/2022</td><td>Sandra-3w-1 </td><td>3w </td><td>Normal</td><td>EPCAM     </td><td> 0.16</td><td>NA                                               </td><td>NA</td><td>NA</td><td>NA</td><td>NA</td><td>NA</td><td>NA</td><td>NA</td><td>NA</td></tr>\n",
       "\t<tr><td>03/05/2022</td><td>Sandra-3w-2 </td><td>3w </td><td>Normal</td><td>EPCAM     </td><td> 0.83</td><td>NA                                               </td><td>NA</td><td>NA</td><td>NA</td><td>NA</td><td>NA</td><td>NA</td><td>NA</td><td>NA</td></tr>\n",
       "\t<tr><td>11/09/2022</td><td>Sandra-3w-4 </td><td>3w </td><td>Normal</td><td>EPCAM     </td><td> 1.09</td><td>NA                                               </td><td>NA</td><td>NA</td><td>NA</td><td>NA</td><td>NA</td><td>NA</td><td>NA</td><td>NA</td></tr>\n",
       "\t<tr><td>17/02/2022</td><td>NA          </td><td>3w </td><td>Normal</td><td>CD45/EPCAM</td><td> 0.99</td><td>NA                                               </td><td>NA</td><td>NA</td><td>NA</td><td>NA</td><td>NA</td><td>NA</td><td>NA</td><td>NA</td></tr>\n",
       "\t<tr><td>04/04/2022</td><td>Sandra-3w-1 </td><td>3w </td><td>Normal</td><td>CD45/EPCAM</td><td> 0.43</td><td>NA                                               </td><td>NA</td><td>NA</td><td>NA</td><td>NA</td><td>NA</td><td>NA</td><td>NA</td><td>NA</td></tr>\n",
       "\t<tr><td>03/05/2022</td><td>Sandra-3w-2 </td><td>3w </td><td>Normal</td><td>CD45/EPCAM</td><td> 0.23</td><td>NA                                               </td><td>NA</td><td>NA</td><td>NA</td><td>NA</td><td>NA</td><td>NA</td><td>NA</td><td>NA</td></tr>\n",
       "\t<tr><td>⋮</td><td>⋮</td><td>⋮</td><td>⋮</td><td>⋮</td><td>⋮</td><td>⋮</td><td>⋮</td><td>⋮</td><td>⋮</td><td>⋮</td><td>⋮</td><td>⋮</td><td>⋮</td><td>⋮</td></tr>\n",
       "\t<tr><td>21/06/2023</td><td>Sandra-12w-4</td><td>12w</td><td>Tumor</td><td>CD45      </td><td>23.20</td><td>NA            </td><td>NA</td><td>        NA</td><td>  NA</td><td>NA</td><td>NA</td><td>NA</td><td>NA</td><td>NA</td></tr>\n",
       "\t<tr><td>28/06/2023</td><td>Maiia-12w-5 </td><td>12w</td><td>Tumor</td><td>CD45      </td><td>10.70</td><td>NA            </td><td>NA</td><td>        NA</td><td>  NA</td><td>NA</td><td>NA</td><td>NA</td><td>NA</td><td>NA</td></tr>\n",
       "\t<tr><td>19/05/2022</td><td>Sandra-12w-1</td><td>12w</td><td>Tumor</td><td>EPCAM     </td><td>51.60</td><td>NA            </td><td>NA</td><td>55.2750000</td><td>2.95</td><td>NA</td><td>NA</td><td>NA</td><td>NA</td><td>NA</td></tr>\n",
       "\t<tr><td>04/09/2022</td><td>Sandra-12w-2</td><td>12w</td><td>Tumor</td><td>EPCAM     </td><td>57.50</td><td>NA            </td><td>NA</td><td>        NA</td><td>  NA</td><td>NA</td><td>NA</td><td>NA</td><td>NA</td><td>NA</td></tr>\n",
       "\t<tr><td>23/04/2023</td><td>Sandra-12w-3</td><td>12w</td><td>Tumor</td><td>EPCAM     </td><td>56.20</td><td>NA            </td><td>NA</td><td>        NA</td><td>  NA</td><td>NA</td><td>NA</td><td>NA</td><td>NA</td><td>NA</td></tr>\n",
       "\t<tr><td>21/06/2023</td><td>Sandra-12w-4</td><td>12w</td><td>Tumor</td><td>EPCAM     </td><td>55.80</td><td>NA            </td><td>NA</td><td>        NA</td><td>  NA</td><td>NA</td><td>NA</td><td>NA</td><td>NA</td><td>NA</td></tr>\n",
       "\t<tr><td>28/06/2023</td><td>Maiia-12w-5 </td><td>12w</td><td>Tumor</td><td>EPCAM     </td><td>73.00</td><td>NA            </td><td>NA</td><td>        NA</td><td>  NA</td><td>NA</td><td>NA</td><td>NA</td><td>NA</td><td>NA</td></tr>\n",
       "\t<tr><td>19/05/2022</td><td>Sandra-12w-1</td><td>12w</td><td>Tumor</td><td>CD45/EPCAM</td><td> 0.70</td><td>NA            </td><td>NA</td><td> 1.0100000</td><td>0.12</td><td>NA</td><td>NA</td><td>NA</td><td>NA</td><td>NA</td></tr>\n",
       "\t<tr><td>04/09/2022</td><td>Sandra-12w-2</td><td>12w</td><td>Tumor</td><td>CD45/EPCAM</td><td> 0.46</td><td>NA            </td><td>NA</td><td>        NA</td><td>  NA</td><td>NA</td><td>NA</td><td>NA</td><td>NA</td><td>NA</td></tr>\n",
       "\t<tr><td>23/04/2023</td><td>Sandra-12w-3</td><td>12w</td><td>Tumor</td><td>CD45/EPCAM</td><td> 1.29</td><td>NA            </td><td>NA</td><td>        NA</td><td>  NA</td><td>NA</td><td>NA</td><td>NA</td><td>NA</td><td>NA</td></tr>\n",
       "\t<tr><td>21/06/2023</td><td>Sandra-12w-4</td><td>12w</td><td>Tumor</td><td>CD45/EPCAM</td><td> 1.59</td><td>NA            </td><td>NA</td><td>        NA</td><td>  NA</td><td>NA</td><td>NA</td><td>NA</td><td>NA</td><td>NA</td></tr>\n",
       "\t<tr><td>28/06/2023</td><td>Maiia-12w-5 </td><td>12w</td><td>Tumor</td><td>CD45/EPCAM</td><td> 0.85</td><td>NA            </td><td>NA</td><td>        NA</td><td>  NA</td><td>NA</td><td>NA</td><td>NA</td><td>NA</td><td>NA</td></tr>\n",
       "\t<tr><td>04/09/2022</td><td>Sandra-12w-2</td><td>12w</td><td>Tumor</td><td>LY6G/EPCAM</td><td> 9.68</td><td>FROM PICS GATE</td><td>NA</td><td> 9.6566667</td><td>  NA</td><td>NA</td><td>NA</td><td>NA</td><td>NA</td><td>NA</td></tr>\n",
       "\t<tr><td>23/04/2023</td><td>Sandra-12w-3</td><td>12w</td><td>Tumor</td><td>LY6G/EPCAM</td><td>10.00</td><td>NA            </td><td>NA</td><td> 0.2903255</td><td>  NA</td><td>NA</td><td>NA</td><td>NA</td><td>NA</td><td>NA</td></tr>\n",
       "\t<tr><td>21/06/2023</td><td>Sandra-12w-4</td><td>12w</td><td>Tumor</td><td>LY6G/EPCAM</td><td> 9.29</td><td>NA            </td><td>NA</td><td>        NA</td><td>  NA</td><td>NA</td><td>NA</td><td>NA</td><td>NA</td><td>NA</td></tr>\n",
       "\t<tr><td>28/06/2023</td><td>Maiia-12w-5 </td><td>12w</td><td>Tumor</td><td>LY6G/EPCAM</td><td>15.20</td><td>NA            </td><td>NA</td><td>        NA</td><td>  NA</td><td>NA</td><td>NA</td><td>NA</td><td>NA</td><td>NA</td></tr>\n",
       "\t<tr><td>04/09/2022</td><td>Sandra-12w-2</td><td>12w</td><td>Tumor</td><td>LY6G      </td><td> 6.72</td><td>FROM CD45     </td><td>NA</td><td>        NA</td><td>  NA</td><td>NA</td><td>NA</td><td>NA</td><td>NA</td><td>NA</td></tr>\n",
       "\t<tr><td>23/04/2023</td><td>Sandra-12w-3</td><td>12w</td><td>Tumor</td><td>LY6G      </td><td> 5.12</td><td>NA            </td><td>NA</td><td>        NA</td><td>  NA</td><td>NA</td><td>NA</td><td>NA</td><td>NA</td><td>NA</td></tr>\n",
       "\t<tr><td>21/06/2023</td><td>Sandra-12w-4</td><td>12w</td><td>Tumor</td><td>LY6G      </td><td> 4.47</td><td>NA            </td><td>NA</td><td>        NA</td><td>  NA</td><td>NA</td><td>NA</td><td>NA</td><td>NA</td><td>NA</td></tr>\n",
       "\t<tr><td>28/06/2023</td><td>Maiia-12w-5 </td><td>12w</td><td>Tumor</td><td>LY6G      </td><td> 4.72</td><td>NA            </td><td>NA</td><td>        NA</td><td>  NA</td><td>NA</td><td>NA</td><td>NA</td><td>NA</td><td>NA</td></tr>\n",
       "\t<tr><td>NA        </td><td>NA          </td><td>NA </td><td>NA   </td><td>NA        </td><td>   NA</td><td>NA            </td><td>NA</td><td>        NA</td><td>  NA</td><td>NA</td><td>NA</td><td>NA</td><td>NA</td><td>NA</td></tr>\n",
       "\t<tr><td>NA        </td><td>NA          </td><td>NA </td><td>NA   </td><td>NA        </td><td>   NA</td><td>NA            </td><td>NA</td><td>        NA</td><td>  NA</td><td>NA</td><td>NA</td><td>NA</td><td>NA</td><td>NA</td></tr>\n",
       "\t<tr><td>NA        </td><td>NA          </td><td>NA </td><td>NA   </td><td>NA        </td><td>   NA</td><td>NA            </td><td>NA</td><td>        NA</td><td>  NA</td><td>NA</td><td>NA</td><td>NA</td><td>NA</td><td>NA</td></tr>\n",
       "\t<tr><td>NA        </td><td>NA          </td><td>NA </td><td>NA   </td><td>NA        </td><td>   NA</td><td>NA            </td><td>NA</td><td>        NA</td><td>  NA</td><td>NA</td><td>NA</td><td>NA</td><td>NA</td><td>NA</td></tr>\n",
       "\t<tr><td>NA        </td><td>NA          </td><td>NA </td><td>NA   </td><td>NA        </td><td>   NA</td><td>NA            </td><td>NA</td><td>        NA</td><td>  NA</td><td>NA</td><td>NA</td><td>NA</td><td>NA</td><td>NA</td></tr>\n",
       "\t<tr><td>NA        </td><td>NA          </td><td>NA </td><td>NA   </td><td>NA        </td><td>   NA</td><td>NA            </td><td>NA</td><td>        NA</td><td>  NA</td><td>NA</td><td>NA</td><td>NA</td><td>NA</td><td>NA</td></tr>\n",
       "\t<tr><td>NA        </td><td>NA          </td><td>NA </td><td>NA   </td><td>NA        </td><td>   NA</td><td>NA            </td><td>NA</td><td>        NA</td><td>  NA</td><td>NA</td><td>NA</td><td>NA</td><td>NA</td><td>NA</td></tr>\n",
       "\t<tr><td>NA        </td><td>NA          </td><td>NA </td><td>NA   </td><td>NA        </td><td>   NA</td><td>NA            </td><td>NA</td><td>        NA</td><td>  NA</td><td>NA</td><td>NA</td><td>NA</td><td>NA</td><td>NA</td></tr>\n",
       "\t<tr><td>NA        </td><td>NA          </td><td>NA </td><td>NA   </td><td>NA        </td><td>   NA</td><td>NA            </td><td>NA</td><td>        NA</td><td>  NA</td><td>NA</td><td>NA</td><td>NA</td><td>NA</td><td>NA</td></tr>\n",
       "\t<tr><td>NA        </td><td>NA          </td><td>NA </td><td>NA   </td><td>NA        </td><td>   NA</td><td>NA            </td><td>NA</td><td>        NA</td><td>  NA</td><td>NA</td><td>NA</td><td>NA</td><td>NA</td><td>NA</td></tr>\n",
       "</tbody>\n",
       "</table>\n"
      ],
      "text/latex": [
       "A spec\\_tbl\\_df: 161 × 15\n",
       "\\begin{tabular}{lllllllllllllll}\n",
       " date & ...2 & Age & Condition & FACs Filter & Percentage & Comments & ...8 & ...9 & ...10 & ...11 & ...12 & ...13 & ...14 & ...15\\\\\n",
       " <chr> & <chr> & <chr> & <chr> & <chr> & <dbl> & <chr> & <chr> & <dbl> & <dbl> & <lgl> & <lgl> & <lgl> & <lgl> & <lgl>\\\\\n",
       "\\hline\n",
       "\t 16/01/2022 & Sandra-10d-1 & 10d & Normal & CD45       & 30.50 & 12 mg 6 mice, gentle macs                         & NA & NA & NA & NA & NA & NA & NA & NA\\\\\n",
       "\t 29/06/2022 & Sandra-10d-2 & 10d & Normal & CD45       & 35.50 & CD49f filter                                      & NA & NA & NA & NA & NA & NA & NA & NA\\\\\n",
       "\t 27/11/2022 & Sandra-10d-3 & 10d & Normal & CD45       & 44.50 & NA                                                & NA & NA & NA & NA & NA & NA & NA & NA\\\\\n",
       "\t 16/01/2022 & Sandra-10d-1 & 10d & Normal & EPCAM      &  4.24 & NA                                                & NA & NA & NA & NA & NA & NA & NA & NA\\\\\n",
       "\t 27/11/2022 & Sandra-10d-3 & 10d & Normal & EPCAM      &  0.87 & NA                                                & NA & NA & NA & NA & NA & NA & NA & NA\\\\\n",
       "\t 16/01/2022 & Sandra-10d-1 & 10d & Normal & CD45/EPCAM &  0.23 & NA                                                & NA & NA & NA & NA & NA & NA & NA & NA\\\\\n",
       "\t 27/11/2022 & Sandra-10d-3 & 10d & Normal & CD45/EPCAM &  1.11 & NA                                                & NA & NA & NA & NA & NA & NA & NA & NA\\\\\n",
       "\t 27/11/2022 & Sandra-10d-3 & 10d & Normal & LY6G/EPCAM &  3.25 & FROM PICS GATE                                    & NA & NA & NA & NA & NA & NA & NA & NA\\\\\n",
       "\t 27/11/2022 & Sandra-10d-3 & 10d & Normal & LY6G       &  2.60 & gate from CD45+                                   & NA & NA & NA & NA & NA & NA & NA & NA\\\\\n",
       "\t 16/01/2022 & Sandra-10d-1 & 10d & Tumor  & CD45       & 24.10 & 10 mg 5 mice, gentle macs                         & NA & NA & NA & NA & NA & NA & NA & NA\\\\\n",
       "\t 29/06/2022 & Sandra-10d-2 & 10d & Tumor  & CD45       & 39.80 & NA                                                & NA & NA & NA & NA & NA & NA & NA & NA\\\\\n",
       "\t 27/11/2022 & Sandra-10d-3 & 10d & Tumor  & CD45       & 38.80 & NA                                                & NA & NA & NA & NA & NA & NA & NA & NA\\\\\n",
       "\t 16/01/2022 & Sandra-10d-1 & 10d & Tumor  & EPCAM      &  3.99 & NA                                                & NA & NA & NA & NA & NA & NA & NA & NA\\\\\n",
       "\t 27/11/2022 & Sandra-10d-3 & 10d & Tumor  & EPCAM      &  1.13 & NA                                                & NA & NA & NA & NA & NA & NA & NA & NA\\\\\n",
       "\t 16/01/2022 & Sandra-10d-1 & 10d & Tumor  & CD45/EPCAM &  0.15 & NA                                                & NA & NA & NA & NA & NA & NA & NA & NA\\\\\n",
       "\t 27/11/2022 & Sandra-10d-3 & 10d & Tumor  & CD45/EPCAM &  0.85 & FROM PICS GATE                                    & NA & NA & NA & NA & NA & NA & NA & NA\\\\\n",
       "\t 27/11/2022 & Sandra-10d-3 & 10d & Tumor  & LY6G/EPCAM &  3.03 & gate from CD45+                                   & NA & NA & NA & NA & NA & NA & NA & NA\\\\\n",
       "\t 27/11/2022 & Sandra-10d-3 & 10d & Tumor  & LY6G       &  2.87 & NA                                                & NA & NA & NA & NA & NA & NA & NA & NA\\\\\n",
       "\t 17/02/2022 & NA           & 3w  & Normal & CD45       & 40.50 & 2 mg 1 mouse                                      & NA & NA & NA & NA & NA & NA & NA & NA\\\\\n",
       "\t 04/04/2022 & Sandra-3w-1  & 3w  & Normal & CD45       & 79.00 & 2 mg 1 mouse                                      & NA & NA & NA & NA & NA & NA & NA & NA\\\\\n",
       "\t 03/05/2022 & Sandra-3w-2  & 3w  & Normal & CD45       & 31.90 & 4 mg 2 mice                                       & NA & NA & NA & NA & NA & NA & NA & NA\\\\\n",
       "\t 31/07/2022 & Sandra-3w-3  & 3w  & Normal & CD45       & 17.50 & 6 mg 3 mice, CD49f filter                         & NA & NA & NA & NA & NA & NA & NA & NA\\\\\n",
       "\t 11/09/2022 & Sandra-3w-4  & 3w  & Normal & CD45       & 25.20 & 2 mg 1 mouse, same clones different fluorochromes & NA & NA & NA & NA & NA & NA & NA & NA\\\\\n",
       "\t 17/02/2022 & NA           & 3w  & Normal & EPCAM      &  0.22 & NA                                                & NA & NA & NA & NA & NA & NA & NA & NA\\\\\n",
       "\t 04/04/2022 & Sandra-3w-1  & 3w  & Normal & EPCAM      &  0.16 & NA                                                & NA & NA & NA & NA & NA & NA & NA & NA\\\\\n",
       "\t 03/05/2022 & Sandra-3w-2  & 3w  & Normal & EPCAM      &  0.83 & NA                                                & NA & NA & NA & NA & NA & NA & NA & NA\\\\\n",
       "\t 11/09/2022 & Sandra-3w-4  & 3w  & Normal & EPCAM      &  1.09 & NA                                                & NA & NA & NA & NA & NA & NA & NA & NA\\\\\n",
       "\t 17/02/2022 & NA           & 3w  & Normal & CD45/EPCAM &  0.99 & NA                                                & NA & NA & NA & NA & NA & NA & NA & NA\\\\\n",
       "\t 04/04/2022 & Sandra-3w-1  & 3w  & Normal & CD45/EPCAM &  0.43 & NA                                                & NA & NA & NA & NA & NA & NA & NA & NA\\\\\n",
       "\t 03/05/2022 & Sandra-3w-2  & 3w  & Normal & CD45/EPCAM &  0.23 & NA                                                & NA & NA & NA & NA & NA & NA & NA & NA\\\\\n",
       "\t ⋮ & ⋮ & ⋮ & ⋮ & ⋮ & ⋮ & ⋮ & ⋮ & ⋮ & ⋮ & ⋮ & ⋮ & ⋮ & ⋮ & ⋮\\\\\n",
       "\t 21/06/2023 & Sandra-12w-4 & 12w & Tumor & CD45       & 23.20 & NA             & NA &         NA &   NA & NA & NA & NA & NA & NA\\\\\n",
       "\t 28/06/2023 & Maiia-12w-5  & 12w & Tumor & CD45       & 10.70 & NA             & NA &         NA &   NA & NA & NA & NA & NA & NA\\\\\n",
       "\t 19/05/2022 & Sandra-12w-1 & 12w & Tumor & EPCAM      & 51.60 & NA             & NA & 55.2750000 & 2.95 & NA & NA & NA & NA & NA\\\\\n",
       "\t 04/09/2022 & Sandra-12w-2 & 12w & Tumor & EPCAM      & 57.50 & NA             & NA &         NA &   NA & NA & NA & NA & NA & NA\\\\\n",
       "\t 23/04/2023 & Sandra-12w-3 & 12w & Tumor & EPCAM      & 56.20 & NA             & NA &         NA &   NA & NA & NA & NA & NA & NA\\\\\n",
       "\t 21/06/2023 & Sandra-12w-4 & 12w & Tumor & EPCAM      & 55.80 & NA             & NA &         NA &   NA & NA & NA & NA & NA & NA\\\\\n",
       "\t 28/06/2023 & Maiia-12w-5  & 12w & Tumor & EPCAM      & 73.00 & NA             & NA &         NA &   NA & NA & NA & NA & NA & NA\\\\\n",
       "\t 19/05/2022 & Sandra-12w-1 & 12w & Tumor & CD45/EPCAM &  0.70 & NA             & NA &  1.0100000 & 0.12 & NA & NA & NA & NA & NA\\\\\n",
       "\t 04/09/2022 & Sandra-12w-2 & 12w & Tumor & CD45/EPCAM &  0.46 & NA             & NA &         NA &   NA & NA & NA & NA & NA & NA\\\\\n",
       "\t 23/04/2023 & Sandra-12w-3 & 12w & Tumor & CD45/EPCAM &  1.29 & NA             & NA &         NA &   NA & NA & NA & NA & NA & NA\\\\\n",
       "\t 21/06/2023 & Sandra-12w-4 & 12w & Tumor & CD45/EPCAM &  1.59 & NA             & NA &         NA &   NA & NA & NA & NA & NA & NA\\\\\n",
       "\t 28/06/2023 & Maiia-12w-5  & 12w & Tumor & CD45/EPCAM &  0.85 & NA             & NA &         NA &   NA & NA & NA & NA & NA & NA\\\\\n",
       "\t 04/09/2022 & Sandra-12w-2 & 12w & Tumor & LY6G/EPCAM &  9.68 & FROM PICS GATE & NA &  9.6566667 &   NA & NA & NA & NA & NA & NA\\\\\n",
       "\t 23/04/2023 & Sandra-12w-3 & 12w & Tumor & LY6G/EPCAM & 10.00 & NA             & NA &  0.2903255 &   NA & NA & NA & NA & NA & NA\\\\\n",
       "\t 21/06/2023 & Sandra-12w-4 & 12w & Tumor & LY6G/EPCAM &  9.29 & NA             & NA &         NA &   NA & NA & NA & NA & NA & NA\\\\\n",
       "\t 28/06/2023 & Maiia-12w-5  & 12w & Tumor & LY6G/EPCAM & 15.20 & NA             & NA &         NA &   NA & NA & NA & NA & NA & NA\\\\\n",
       "\t 04/09/2022 & Sandra-12w-2 & 12w & Tumor & LY6G       &  6.72 & FROM CD45      & NA &         NA &   NA & NA & NA & NA & NA & NA\\\\\n",
       "\t 23/04/2023 & Sandra-12w-3 & 12w & Tumor & LY6G       &  5.12 & NA             & NA &         NA &   NA & NA & NA & NA & NA & NA\\\\\n",
       "\t 21/06/2023 & Sandra-12w-4 & 12w & Tumor & LY6G       &  4.47 & NA             & NA &         NA &   NA & NA & NA & NA & NA & NA\\\\\n",
       "\t 28/06/2023 & Maiia-12w-5  & 12w & Tumor & LY6G       &  4.72 & NA             & NA &         NA &   NA & NA & NA & NA & NA & NA\\\\\n",
       "\t NA         & NA           & NA  & NA    & NA         &    NA & NA             & NA &         NA &   NA & NA & NA & NA & NA & NA\\\\\n",
       "\t NA         & NA           & NA  & NA    & NA         &    NA & NA             & NA &         NA &   NA & NA & NA & NA & NA & NA\\\\\n",
       "\t NA         & NA           & NA  & NA    & NA         &    NA & NA             & NA &         NA &   NA & NA & NA & NA & NA & NA\\\\\n",
       "\t NA         & NA           & NA  & NA    & NA         &    NA & NA             & NA &         NA &   NA & NA & NA & NA & NA & NA\\\\\n",
       "\t NA         & NA           & NA  & NA    & NA         &    NA & NA             & NA &         NA &   NA & NA & NA & NA & NA & NA\\\\\n",
       "\t NA         & NA           & NA  & NA    & NA         &    NA & NA             & NA &         NA &   NA & NA & NA & NA & NA & NA\\\\\n",
       "\t NA         & NA           & NA  & NA    & NA         &    NA & NA             & NA &         NA &   NA & NA & NA & NA & NA & NA\\\\\n",
       "\t NA         & NA           & NA  & NA    & NA         &    NA & NA             & NA &         NA &   NA & NA & NA & NA & NA & NA\\\\\n",
       "\t NA         & NA           & NA  & NA    & NA         &    NA & NA             & NA &         NA &   NA & NA & NA & NA & NA & NA\\\\\n",
       "\t NA         & NA           & NA  & NA    & NA         &    NA & NA             & NA &         NA &   NA & NA & NA & NA & NA & NA\\\\\n",
       "\\end{tabular}\n"
      ],
      "text/markdown": [
       "\n",
       "A spec_tbl_df: 161 × 15\n",
       "\n",
       "| date &lt;chr&gt; | ...2 &lt;chr&gt; | Age &lt;chr&gt; | Condition &lt;chr&gt; | FACs Filter &lt;chr&gt; | Percentage &lt;dbl&gt; | Comments &lt;chr&gt; | ...8 &lt;chr&gt; | ...9 &lt;dbl&gt; | ...10 &lt;dbl&gt; | ...11 &lt;lgl&gt; | ...12 &lt;lgl&gt; | ...13 &lt;lgl&gt; | ...14 &lt;lgl&gt; | ...15 &lt;lgl&gt; |\n",
       "|---|---|---|---|---|---|---|---|---|---|---|---|---|---|---|\n",
       "| 16/01/2022 | Sandra-10d-1 | 10d | Normal | CD45       | 30.50 | 12 mg 6 mice, gentle macs                         | NA | NA | NA | NA | NA | NA | NA | NA |\n",
       "| 29/06/2022 | Sandra-10d-2 | 10d | Normal | CD45       | 35.50 | CD49f filter                                      | NA | NA | NA | NA | NA | NA | NA | NA |\n",
       "| 27/11/2022 | Sandra-10d-3 | 10d | Normal | CD45       | 44.50 | NA                                                | NA | NA | NA | NA | NA | NA | NA | NA |\n",
       "| 16/01/2022 | Sandra-10d-1 | 10d | Normal | EPCAM      |  4.24 | NA                                                | NA | NA | NA | NA | NA | NA | NA | NA |\n",
       "| 27/11/2022 | Sandra-10d-3 | 10d | Normal | EPCAM      |  0.87 | NA                                                | NA | NA | NA | NA | NA | NA | NA | NA |\n",
       "| 16/01/2022 | Sandra-10d-1 | 10d | Normal | CD45/EPCAM |  0.23 | NA                                                | NA | NA | NA | NA | NA | NA | NA | NA |\n",
       "| 27/11/2022 | Sandra-10d-3 | 10d | Normal | CD45/EPCAM |  1.11 | NA                                                | NA | NA | NA | NA | NA | NA | NA | NA |\n",
       "| 27/11/2022 | Sandra-10d-3 | 10d | Normal | LY6G/EPCAM |  3.25 | FROM PICS GATE                                    | NA | NA | NA | NA | NA | NA | NA | NA |\n",
       "| 27/11/2022 | Sandra-10d-3 | 10d | Normal | LY6G       |  2.60 | gate from CD45+                                   | NA | NA | NA | NA | NA | NA | NA | NA |\n",
       "| 16/01/2022 | Sandra-10d-1 | 10d | Tumor  | CD45       | 24.10 | 10 mg 5 mice, gentle macs                         | NA | NA | NA | NA | NA | NA | NA | NA |\n",
       "| 29/06/2022 | Sandra-10d-2 | 10d | Tumor  | CD45       | 39.80 | NA                                                | NA | NA | NA | NA | NA | NA | NA | NA |\n",
       "| 27/11/2022 | Sandra-10d-3 | 10d | Tumor  | CD45       | 38.80 | NA                                                | NA | NA | NA | NA | NA | NA | NA | NA |\n",
       "| 16/01/2022 | Sandra-10d-1 | 10d | Tumor  | EPCAM      |  3.99 | NA                                                | NA | NA | NA | NA | NA | NA | NA | NA |\n",
       "| 27/11/2022 | Sandra-10d-3 | 10d | Tumor  | EPCAM      |  1.13 | NA                                                | NA | NA | NA | NA | NA | NA | NA | NA |\n",
       "| 16/01/2022 | Sandra-10d-1 | 10d | Tumor  | CD45/EPCAM |  0.15 | NA                                                | NA | NA | NA | NA | NA | NA | NA | NA |\n",
       "| 27/11/2022 | Sandra-10d-3 | 10d | Tumor  | CD45/EPCAM |  0.85 | FROM PICS GATE                                    | NA | NA | NA | NA | NA | NA | NA | NA |\n",
       "| 27/11/2022 | Sandra-10d-3 | 10d | Tumor  | LY6G/EPCAM |  3.03 | gate from CD45+                                   | NA | NA | NA | NA | NA | NA | NA | NA |\n",
       "| 27/11/2022 | Sandra-10d-3 | 10d | Tumor  | LY6G       |  2.87 | NA                                                | NA | NA | NA | NA | NA | NA | NA | NA |\n",
       "| 17/02/2022 | NA           | 3w  | Normal | CD45       | 40.50 | 2 mg 1 mouse                                      | NA | NA | NA | NA | NA | NA | NA | NA |\n",
       "| 04/04/2022 | Sandra-3w-1  | 3w  | Normal | CD45       | 79.00 | 2 mg 1 mouse                                      | NA | NA | NA | NA | NA | NA | NA | NA |\n",
       "| 03/05/2022 | Sandra-3w-2  | 3w  | Normal | CD45       | 31.90 | 4 mg 2 mice                                       | NA | NA | NA | NA | NA | NA | NA | NA |\n",
       "| 31/07/2022 | Sandra-3w-3  | 3w  | Normal | CD45       | 17.50 | 6 mg 3 mice, CD49f filter                         | NA | NA | NA | NA | NA | NA | NA | NA |\n",
       "| 11/09/2022 | Sandra-3w-4  | 3w  | Normal | CD45       | 25.20 | 2 mg 1 mouse, same clones different fluorochromes | NA | NA | NA | NA | NA | NA | NA | NA |\n",
       "| 17/02/2022 | NA           | 3w  | Normal | EPCAM      |  0.22 | NA                                                | NA | NA | NA | NA | NA | NA | NA | NA |\n",
       "| 04/04/2022 | Sandra-3w-1  | 3w  | Normal | EPCAM      |  0.16 | NA                                                | NA | NA | NA | NA | NA | NA | NA | NA |\n",
       "| 03/05/2022 | Sandra-3w-2  | 3w  | Normal | EPCAM      |  0.83 | NA                                                | NA | NA | NA | NA | NA | NA | NA | NA |\n",
       "| 11/09/2022 | Sandra-3w-4  | 3w  | Normal | EPCAM      |  1.09 | NA                                                | NA | NA | NA | NA | NA | NA | NA | NA |\n",
       "| 17/02/2022 | NA           | 3w  | Normal | CD45/EPCAM |  0.99 | NA                                                | NA | NA | NA | NA | NA | NA | NA | NA |\n",
       "| 04/04/2022 | Sandra-3w-1  | 3w  | Normal | CD45/EPCAM |  0.43 | NA                                                | NA | NA | NA | NA | NA | NA | NA | NA |\n",
       "| 03/05/2022 | Sandra-3w-2  | 3w  | Normal | CD45/EPCAM |  0.23 | NA                                                | NA | NA | NA | NA | NA | NA | NA | NA |\n",
       "| ⋮ | ⋮ | ⋮ | ⋮ | ⋮ | ⋮ | ⋮ | ⋮ | ⋮ | ⋮ | ⋮ | ⋮ | ⋮ | ⋮ | ⋮ |\n",
       "| 21/06/2023 | Sandra-12w-4 | 12w | Tumor | CD45       | 23.20 | NA             | NA |         NA |   NA | NA | NA | NA | NA | NA |\n",
       "| 28/06/2023 | Maiia-12w-5  | 12w | Tumor | CD45       | 10.70 | NA             | NA |         NA |   NA | NA | NA | NA | NA | NA |\n",
       "| 19/05/2022 | Sandra-12w-1 | 12w | Tumor | EPCAM      | 51.60 | NA             | NA | 55.2750000 | 2.95 | NA | NA | NA | NA | NA |\n",
       "| 04/09/2022 | Sandra-12w-2 | 12w | Tumor | EPCAM      | 57.50 | NA             | NA |         NA |   NA | NA | NA | NA | NA | NA |\n",
       "| 23/04/2023 | Sandra-12w-3 | 12w | Tumor | EPCAM      | 56.20 | NA             | NA |         NA |   NA | NA | NA | NA | NA | NA |\n",
       "| 21/06/2023 | Sandra-12w-4 | 12w | Tumor | EPCAM      | 55.80 | NA             | NA |         NA |   NA | NA | NA | NA | NA | NA |\n",
       "| 28/06/2023 | Maiia-12w-5  | 12w | Tumor | EPCAM      | 73.00 | NA             | NA |         NA |   NA | NA | NA | NA | NA | NA |\n",
       "| 19/05/2022 | Sandra-12w-1 | 12w | Tumor | CD45/EPCAM |  0.70 | NA             | NA |  1.0100000 | 0.12 | NA | NA | NA | NA | NA |\n",
       "| 04/09/2022 | Sandra-12w-2 | 12w | Tumor | CD45/EPCAM |  0.46 | NA             | NA |         NA |   NA | NA | NA | NA | NA | NA |\n",
       "| 23/04/2023 | Sandra-12w-3 | 12w | Tumor | CD45/EPCAM |  1.29 | NA             | NA |         NA |   NA | NA | NA | NA | NA | NA |\n",
       "| 21/06/2023 | Sandra-12w-4 | 12w | Tumor | CD45/EPCAM |  1.59 | NA             | NA |         NA |   NA | NA | NA | NA | NA | NA |\n",
       "| 28/06/2023 | Maiia-12w-5  | 12w | Tumor | CD45/EPCAM |  0.85 | NA             | NA |         NA |   NA | NA | NA | NA | NA | NA |\n",
       "| 04/09/2022 | Sandra-12w-2 | 12w | Tumor | LY6G/EPCAM |  9.68 | FROM PICS GATE | NA |  9.6566667 |   NA | NA | NA | NA | NA | NA |\n",
       "| 23/04/2023 | Sandra-12w-3 | 12w | Tumor | LY6G/EPCAM | 10.00 | NA             | NA |  0.2903255 |   NA | NA | NA | NA | NA | NA |\n",
       "| 21/06/2023 | Sandra-12w-4 | 12w | Tumor | LY6G/EPCAM |  9.29 | NA             | NA |         NA |   NA | NA | NA | NA | NA | NA |\n",
       "| 28/06/2023 | Maiia-12w-5  | 12w | Tumor | LY6G/EPCAM | 15.20 | NA             | NA |         NA |   NA | NA | NA | NA | NA | NA |\n",
       "| 04/09/2022 | Sandra-12w-2 | 12w | Tumor | LY6G       |  6.72 | FROM CD45      | NA |         NA |   NA | NA | NA | NA | NA | NA |\n",
       "| 23/04/2023 | Sandra-12w-3 | 12w | Tumor | LY6G       |  5.12 | NA             | NA |         NA |   NA | NA | NA | NA | NA | NA |\n",
       "| 21/06/2023 | Sandra-12w-4 | 12w | Tumor | LY6G       |  4.47 | NA             | NA |         NA |   NA | NA | NA | NA | NA | NA |\n",
       "| 28/06/2023 | Maiia-12w-5  | 12w | Tumor | LY6G       |  4.72 | NA             | NA |         NA |   NA | NA | NA | NA | NA | NA |\n",
       "| NA         | NA           | NA  | NA    | NA         |    NA | NA             | NA |         NA |   NA | NA | NA | NA | NA | NA |\n",
       "| NA         | NA           | NA  | NA    | NA         |    NA | NA             | NA |         NA |   NA | NA | NA | NA | NA | NA |\n",
       "| NA         | NA           | NA  | NA    | NA         |    NA | NA             | NA |         NA |   NA | NA | NA | NA | NA | NA |\n",
       "| NA         | NA           | NA  | NA    | NA         |    NA | NA             | NA |         NA |   NA | NA | NA | NA | NA | NA |\n",
       "| NA         | NA           | NA  | NA    | NA         |    NA | NA             | NA |         NA |   NA | NA | NA | NA | NA | NA |\n",
       "| NA         | NA           | NA  | NA    | NA         |    NA | NA             | NA |         NA |   NA | NA | NA | NA | NA | NA |\n",
       "| NA         | NA           | NA  | NA    | NA         |    NA | NA             | NA |         NA |   NA | NA | NA | NA | NA | NA |\n",
       "| NA         | NA           | NA  | NA    | NA         |    NA | NA             | NA |         NA |   NA | NA | NA | NA | NA | NA |\n",
       "| NA         | NA           | NA  | NA    | NA         |    NA | NA             | NA |         NA |   NA | NA | NA | NA | NA | NA |\n",
       "| NA         | NA           | NA  | NA    | NA         |    NA | NA             | NA |         NA |   NA | NA | NA | NA | NA | NA |\n",
       "\n"
      ],
      "text/plain": [
       "    date       ...2         Age Condition FACs Filter Percentage\n",
       "1   16/01/2022 Sandra-10d-1 10d Normal    CD45        30.50     \n",
       "2   29/06/2022 Sandra-10d-2 10d Normal    CD45        35.50     \n",
       "3   27/11/2022 Sandra-10d-3 10d Normal    CD45        44.50     \n",
       "4   16/01/2022 Sandra-10d-1 10d Normal    EPCAM        4.24     \n",
       "5   27/11/2022 Sandra-10d-3 10d Normal    EPCAM        0.87     \n",
       "6   16/01/2022 Sandra-10d-1 10d Normal    CD45/EPCAM   0.23     \n",
       "7   27/11/2022 Sandra-10d-3 10d Normal    CD45/EPCAM   1.11     \n",
       "8   27/11/2022 Sandra-10d-3 10d Normal    LY6G/EPCAM   3.25     \n",
       "9   27/11/2022 Sandra-10d-3 10d Normal    LY6G         2.60     \n",
       "10  16/01/2022 Sandra-10d-1 10d Tumor     CD45        24.10     \n",
       "11  29/06/2022 Sandra-10d-2 10d Tumor     CD45        39.80     \n",
       "12  27/11/2022 Sandra-10d-3 10d Tumor     CD45        38.80     \n",
       "13  16/01/2022 Sandra-10d-1 10d Tumor     EPCAM        3.99     \n",
       "14  27/11/2022 Sandra-10d-3 10d Tumor     EPCAM        1.13     \n",
       "15  16/01/2022 Sandra-10d-1 10d Tumor     CD45/EPCAM   0.15     \n",
       "16  27/11/2022 Sandra-10d-3 10d Tumor     CD45/EPCAM   0.85     \n",
       "17  27/11/2022 Sandra-10d-3 10d Tumor     LY6G/EPCAM   3.03     \n",
       "18  27/11/2022 Sandra-10d-3 10d Tumor     LY6G         2.87     \n",
       "19  17/02/2022 NA           3w  Normal    CD45        40.50     \n",
       "20  04/04/2022 Sandra-3w-1  3w  Normal    CD45        79.00     \n",
       "21  03/05/2022 Sandra-3w-2  3w  Normal    CD45        31.90     \n",
       "22  31/07/2022 Sandra-3w-3  3w  Normal    CD45        17.50     \n",
       "23  11/09/2022 Sandra-3w-4  3w  Normal    CD45        25.20     \n",
       "24  17/02/2022 NA           3w  Normal    EPCAM        0.22     \n",
       "25  04/04/2022 Sandra-3w-1  3w  Normal    EPCAM        0.16     \n",
       "26  03/05/2022 Sandra-3w-2  3w  Normal    EPCAM        0.83     \n",
       "27  11/09/2022 Sandra-3w-4  3w  Normal    EPCAM        1.09     \n",
       "28  17/02/2022 NA           3w  Normal    CD45/EPCAM   0.99     \n",
       "29  04/04/2022 Sandra-3w-1  3w  Normal    CD45/EPCAM   0.43     \n",
       "30  03/05/2022 Sandra-3w-2  3w  Normal    CD45/EPCAM   0.23     \n",
       "⋮   ⋮          ⋮            ⋮   ⋮         ⋮           ⋮         \n",
       "132 21/06/2023 Sandra-12w-4 12w Tumor     CD45        23.20     \n",
       "133 28/06/2023 Maiia-12w-5  12w Tumor     CD45        10.70     \n",
       "134 19/05/2022 Sandra-12w-1 12w Tumor     EPCAM       51.60     \n",
       "135 04/09/2022 Sandra-12w-2 12w Tumor     EPCAM       57.50     \n",
       "136 23/04/2023 Sandra-12w-3 12w Tumor     EPCAM       56.20     \n",
       "137 21/06/2023 Sandra-12w-4 12w Tumor     EPCAM       55.80     \n",
       "138 28/06/2023 Maiia-12w-5  12w Tumor     EPCAM       73.00     \n",
       "139 19/05/2022 Sandra-12w-1 12w Tumor     CD45/EPCAM   0.70     \n",
       "140 04/09/2022 Sandra-12w-2 12w Tumor     CD45/EPCAM   0.46     \n",
       "141 23/04/2023 Sandra-12w-3 12w Tumor     CD45/EPCAM   1.29     \n",
       "142 21/06/2023 Sandra-12w-4 12w Tumor     CD45/EPCAM   1.59     \n",
       "143 28/06/2023 Maiia-12w-5  12w Tumor     CD45/EPCAM   0.85     \n",
       "144 04/09/2022 Sandra-12w-2 12w Tumor     LY6G/EPCAM   9.68     \n",
       "145 23/04/2023 Sandra-12w-3 12w Tumor     LY6G/EPCAM  10.00     \n",
       "146 21/06/2023 Sandra-12w-4 12w Tumor     LY6G/EPCAM   9.29     \n",
       "147 28/06/2023 Maiia-12w-5  12w Tumor     LY6G/EPCAM  15.20     \n",
       "148 04/09/2022 Sandra-12w-2 12w Tumor     LY6G         6.72     \n",
       "149 23/04/2023 Sandra-12w-3 12w Tumor     LY6G         5.12     \n",
       "150 21/06/2023 Sandra-12w-4 12w Tumor     LY6G         4.47     \n",
       "151 28/06/2023 Maiia-12w-5  12w Tumor     LY6G         4.72     \n",
       "152 NA         NA           NA  NA        NA             NA     \n",
       "153 NA         NA           NA  NA        NA             NA     \n",
       "154 NA         NA           NA  NA        NA             NA     \n",
       "155 NA         NA           NA  NA        NA             NA     \n",
       "156 NA         NA           NA  NA        NA             NA     \n",
       "157 NA         NA           NA  NA        NA             NA     \n",
       "158 NA         NA           NA  NA        NA             NA     \n",
       "159 NA         NA           NA  NA        NA             NA     \n",
       "160 NA         NA           NA  NA        NA             NA     \n",
       "161 NA         NA           NA  NA        NA             NA     \n",
       "    Comments                                          ...8 ...9       ...10\n",
       "1   12 mg 6 mice, gentle macs                         NA   NA         NA   \n",
       "2   CD49f filter                                      NA   NA         NA   \n",
       "3   NA                                                NA   NA         NA   \n",
       "4   NA                                                NA   NA         NA   \n",
       "5   NA                                                NA   NA         NA   \n",
       "6   NA                                                NA   NA         NA   \n",
       "7   NA                                                NA   NA         NA   \n",
       "8   FROM PICS GATE                                    NA   NA         NA   \n",
       "9   gate from CD45+                                   NA   NA         NA   \n",
       "10  10 mg 5 mice, gentle macs                         NA   NA         NA   \n",
       "11  NA                                                NA   NA         NA   \n",
       "12  NA                                                NA   NA         NA   \n",
       "13  NA                                                NA   NA         NA   \n",
       "14  NA                                                NA   NA         NA   \n",
       "15  NA                                                NA   NA         NA   \n",
       "16  FROM PICS GATE                                    NA   NA         NA   \n",
       "17  gate from CD45+                                   NA   NA         NA   \n",
       "18  NA                                                NA   NA         NA   \n",
       "19  2 mg 1 mouse                                      NA   NA         NA   \n",
       "20  2 mg 1 mouse                                      NA   NA         NA   \n",
       "21  4 mg 2 mice                                       NA   NA         NA   \n",
       "22  6 mg 3 mice, CD49f filter                         NA   NA         NA   \n",
       "23  2 mg 1 mouse, same clones different fluorochromes NA   NA         NA   \n",
       "24  NA                                                NA   NA         NA   \n",
       "25  NA                                                NA   NA         NA   \n",
       "26  NA                                                NA   NA         NA   \n",
       "27  NA                                                NA   NA         NA   \n",
       "28  NA                                                NA   NA         NA   \n",
       "29  NA                                                NA   NA         NA   \n",
       "30  NA                                                NA   NA         NA   \n",
       "⋮   ⋮                                                 ⋮    ⋮          ⋮    \n",
       "132 NA                                                NA           NA   NA \n",
       "133 NA                                                NA           NA   NA \n",
       "134 NA                                                NA   55.2750000 2.95 \n",
       "135 NA                                                NA           NA   NA \n",
       "136 NA                                                NA           NA   NA \n",
       "137 NA                                                NA           NA   NA \n",
       "138 NA                                                NA           NA   NA \n",
       "139 NA                                                NA    1.0100000 0.12 \n",
       "140 NA                                                NA           NA   NA \n",
       "141 NA                                                NA           NA   NA \n",
       "142 NA                                                NA           NA   NA \n",
       "143 NA                                                NA           NA   NA \n",
       "144 FROM PICS GATE                                    NA    9.6566667   NA \n",
       "145 NA                                                NA    0.2903255   NA \n",
       "146 NA                                                NA           NA   NA \n",
       "147 NA                                                NA           NA   NA \n",
       "148 FROM CD45                                         NA           NA   NA \n",
       "149 NA                                                NA           NA   NA \n",
       "150 NA                                                NA           NA   NA \n",
       "151 NA                                                NA           NA   NA \n",
       "152 NA                                                NA           NA   NA \n",
       "153 NA                                                NA           NA   NA \n",
       "154 NA                                                NA           NA   NA \n",
       "155 NA                                                NA           NA   NA \n",
       "156 NA                                                NA           NA   NA \n",
       "157 NA                                                NA           NA   NA \n",
       "158 NA                                                NA           NA   NA \n",
       "159 NA                                                NA           NA   NA \n",
       "160 NA                                                NA           NA   NA \n",
       "161 NA                                                NA           NA   NA \n",
       "    ...11 ...12 ...13 ...14 ...15\n",
       "1   NA    NA    NA    NA    NA   \n",
       "2   NA    NA    NA    NA    NA   \n",
       "3   NA    NA    NA    NA    NA   \n",
       "4   NA    NA    NA    NA    NA   \n",
       "5   NA    NA    NA    NA    NA   \n",
       "6   NA    NA    NA    NA    NA   \n",
       "7   NA    NA    NA    NA    NA   \n",
       "8   NA    NA    NA    NA    NA   \n",
       "9   NA    NA    NA    NA    NA   \n",
       "10  NA    NA    NA    NA    NA   \n",
       "11  NA    NA    NA    NA    NA   \n",
       "12  NA    NA    NA    NA    NA   \n",
       "13  NA    NA    NA    NA    NA   \n",
       "14  NA    NA    NA    NA    NA   \n",
       "15  NA    NA    NA    NA    NA   \n",
       "16  NA    NA    NA    NA    NA   \n",
       "17  NA    NA    NA    NA    NA   \n",
       "18  NA    NA    NA    NA    NA   \n",
       "19  NA    NA    NA    NA    NA   \n",
       "20  NA    NA    NA    NA    NA   \n",
       "21  NA    NA    NA    NA    NA   \n",
       "22  NA    NA    NA    NA    NA   \n",
       "23  NA    NA    NA    NA    NA   \n",
       "24  NA    NA    NA    NA    NA   \n",
       "25  NA    NA    NA    NA    NA   \n",
       "26  NA    NA    NA    NA    NA   \n",
       "27  NA    NA    NA    NA    NA   \n",
       "28  NA    NA    NA    NA    NA   \n",
       "29  NA    NA    NA    NA    NA   \n",
       "30  NA    NA    NA    NA    NA   \n",
       "⋮   ⋮     ⋮     ⋮     ⋮     ⋮    \n",
       "132 NA    NA    NA    NA    NA   \n",
       "133 NA    NA    NA    NA    NA   \n",
       "134 NA    NA    NA    NA    NA   \n",
       "135 NA    NA    NA    NA    NA   \n",
       "136 NA    NA    NA    NA    NA   \n",
       "137 NA    NA    NA    NA    NA   \n",
       "138 NA    NA    NA    NA    NA   \n",
       "139 NA    NA    NA    NA    NA   \n",
       "140 NA    NA    NA    NA    NA   \n",
       "141 NA    NA    NA    NA    NA   \n",
       "142 NA    NA    NA    NA    NA   \n",
       "143 NA    NA    NA    NA    NA   \n",
       "144 NA    NA    NA    NA    NA   \n",
       "145 NA    NA    NA    NA    NA   \n",
       "146 NA    NA    NA    NA    NA   \n",
       "147 NA    NA    NA    NA    NA   \n",
       "148 NA    NA    NA    NA    NA   \n",
       "149 NA    NA    NA    NA    NA   \n",
       "150 NA    NA    NA    NA    NA   \n",
       "151 NA    NA    NA    NA    NA   \n",
       "152 NA    NA    NA    NA    NA   \n",
       "153 NA    NA    NA    NA    NA   \n",
       "154 NA    NA    NA    NA    NA   \n",
       "155 NA    NA    NA    NA    NA   \n",
       "156 NA    NA    NA    NA    NA   \n",
       "157 NA    NA    NA    NA    NA   \n",
       "158 NA    NA    NA    NA    NA   \n",
       "159 NA    NA    NA    NA    NA   \n",
       "160 NA    NA    NA    NA    NA   \n",
       "161 NA    NA    NA    NA    NA   "
      ]
     },
     "metadata": {},
     "output_type": "display_data"
    }
   ],
   "source": [
    "facs_data"
   ]
  },
  {
   "cell_type": "code",
   "execution_count": 37,
   "id": "94377158",
   "metadata": {},
   "outputs": [],
   "source": [
    "facs_data = facs_data[!is.na(facs_data$Percentage),1:7] %>% as.data.frame # CHANGE THIS WHEN RE-RUNNING!"
   ]
  },
  {
   "cell_type": "code",
   "execution_count": 38,
   "id": "ec81c5fa",
   "metadata": {},
   "outputs": [],
   "source": [
    "colnames(facs_data) = str_replace(colnames(facs_data), \" \", \".\")"
   ]
  },
  {
   "cell_type": "code",
   "execution_count": 39,
   "id": "0cec1b9c",
   "metadata": {},
   "outputs": [],
   "source": [
    "colnames(facs_data)[2] = 'batch_name'"
   ]
  },
  {
   "cell_type": "code",
   "execution_count": 40,
   "id": "cc29dfdf",
   "metadata": {},
   "outputs": [],
   "source": [
    "facs_data = facs_data %>% mutate(Age = factor(Age, levels = age_order), \n",
    "                                 Condition = factor(Condition, levels = c('Tumor', 'Normal')))"
   ]
  },
  {
   "cell_type": "code",
   "execution_count": 42,
   "id": "5943f80f",
   "metadata": {},
   "outputs": [
    {
     "data": {
      "text/html": [
       "<table class=\"dataframe\">\n",
       "<caption>A data.frame: 15 × 7</caption>\n",
       "<thead>\n",
       "\t<tr><th></th><th scope=col>date</th><th scope=col>batch_name</th><th scope=col>Age</th><th scope=col>Condition</th><th scope=col>FACs.Filter</th><th scope=col>Percentage</th><th scope=col>Comments</th></tr>\n",
       "\t<tr><th></th><th scope=col>&lt;chr&gt;</th><th scope=col>&lt;chr&gt;</th><th scope=col>&lt;fct&gt;</th><th scope=col>&lt;fct&gt;</th><th scope=col>&lt;chr&gt;</th><th scope=col>&lt;dbl&gt;</th><th scope=col>&lt;chr&gt;</th></tr>\n",
       "</thead>\n",
       "<tbody>\n",
       "\t<tr><th scope=row>9</th><td>27/11/2022</td><td>Sandra-10d-3</td><td>10d</td><td>Normal</td><td>LY6G</td><td>2.60</td><td>gate from CD45+</td></tr>\n",
       "\t<tr><th scope=row>18</th><td>27/11/2022</td><td>Sandra-10d-3</td><td>10d</td><td>Tumor </td><td>LY6G</td><td>2.87</td><td>NA             </td></tr>\n",
       "\t<tr><th scope=row>32</th><td>11/09/2022</td><td>Sandra-3w-4 </td><td>3w </td><td>Normal</td><td>LY6G</td><td>1.81</td><td>gate from CD45+</td></tr>\n",
       "\t<tr><th scope=row>47</th><td>11/09/2022</td><td>Sandra-3w-4 </td><td>3w </td><td>Tumor </td><td>LY6G</td><td>2.03</td><td>from CD45+     </td></tr>\n",
       "\t<tr><th scope=row>74</th><td>06/11/2022</td><td>Sandra-8w-3 </td><td>8w </td><td>Normal</td><td>LY6G</td><td>0.60</td><td>From CD45      </td></tr>\n",
       "\t<tr><th scope=row>83</th><td>06/11/2022</td><td>Sandra-8w-3 </td><td>8w </td><td>Tumor </td><td>LY6G</td><td>2.83</td><td>From CD45      </td></tr>\n",
       "\t<tr><th scope=row>95</th><td>03/11/2022</td><td>Sandra-10w-5</td><td>10w</td><td>Normal</td><td>LY6G</td><td>0.71</td><td>NA             </td></tr>\n",
       "\t<tr><th scope=row>114</th><td>12/09/2022</td><td>Sandra-10w-4</td><td>10w</td><td>Tumor </td><td>LY6G</td><td>2.54</td><td>FROM CD45      </td></tr>\n",
       "\t<tr><th scope=row>115</th><td>03/11/2022</td><td>Sandra-10w-5</td><td>10w</td><td>Tumor </td><td>LY6G</td><td>3.52</td><td>FROM CD45      </td></tr>\n",
       "\t<tr><th scope=row>127</th><td>04/09/2022</td><td>Sandra-12w-2</td><td>12w</td><td>Normal</td><td>LY6G</td><td>0.64</td><td>NA             </td></tr>\n",
       "\t<tr><th scope=row>128</th><td>23/04/2023</td><td>Sandra-12w-3</td><td>12w</td><td>Normal</td><td>LY6G</td><td>1.00</td><td>NA             </td></tr>\n",
       "\t<tr><th scope=row>148</th><td>04/09/2022</td><td>Sandra-12w-2</td><td>12w</td><td>Tumor </td><td>LY6G</td><td>6.72</td><td>FROM CD45      </td></tr>\n",
       "\t<tr><th scope=row>149</th><td>23/04/2023</td><td>Sandra-12w-3</td><td>12w</td><td>Tumor </td><td>LY6G</td><td>5.12</td><td>NA             </td></tr>\n",
       "\t<tr><th scope=row>150</th><td>21/06/2023</td><td>Sandra-12w-4</td><td>12w</td><td>Tumor </td><td>LY6G</td><td>4.47</td><td>NA             </td></tr>\n",
       "\t<tr><th scope=row>151</th><td>28/06/2023</td><td>Maiia-12w-5 </td><td>12w</td><td>Tumor </td><td>LY6G</td><td>4.72</td><td>NA             </td></tr>\n",
       "</tbody>\n",
       "</table>\n"
      ],
      "text/latex": [
       "A data.frame: 15 × 7\n",
       "\\begin{tabular}{r|lllllll}\n",
       "  & date & batch\\_name & Age & Condition & FACs.Filter & Percentage & Comments\\\\\n",
       "  & <chr> & <chr> & <fct> & <fct> & <chr> & <dbl> & <chr>\\\\\n",
       "\\hline\n",
       "\t9 & 27/11/2022 & Sandra-10d-3 & 10d & Normal & LY6G & 2.60 & gate from CD45+\\\\\n",
       "\t18 & 27/11/2022 & Sandra-10d-3 & 10d & Tumor  & LY6G & 2.87 & NA             \\\\\n",
       "\t32 & 11/09/2022 & Sandra-3w-4  & 3w  & Normal & LY6G & 1.81 & gate from CD45+\\\\\n",
       "\t47 & 11/09/2022 & Sandra-3w-4  & 3w  & Tumor  & LY6G & 2.03 & from CD45+     \\\\\n",
       "\t74 & 06/11/2022 & Sandra-8w-3  & 8w  & Normal & LY6G & 0.60 & From CD45      \\\\\n",
       "\t83 & 06/11/2022 & Sandra-8w-3  & 8w  & Tumor  & LY6G & 2.83 & From CD45      \\\\\n",
       "\t95 & 03/11/2022 & Sandra-10w-5 & 10w & Normal & LY6G & 0.71 & NA             \\\\\n",
       "\t114 & 12/09/2022 & Sandra-10w-4 & 10w & Tumor  & LY6G & 2.54 & FROM CD45      \\\\\n",
       "\t115 & 03/11/2022 & Sandra-10w-5 & 10w & Tumor  & LY6G & 3.52 & FROM CD45      \\\\\n",
       "\t127 & 04/09/2022 & Sandra-12w-2 & 12w & Normal & LY6G & 0.64 & NA             \\\\\n",
       "\t128 & 23/04/2023 & Sandra-12w-3 & 12w & Normal & LY6G & 1.00 & NA             \\\\\n",
       "\t148 & 04/09/2022 & Sandra-12w-2 & 12w & Tumor  & LY6G & 6.72 & FROM CD45      \\\\\n",
       "\t149 & 23/04/2023 & Sandra-12w-3 & 12w & Tumor  & LY6G & 5.12 & NA             \\\\\n",
       "\t150 & 21/06/2023 & Sandra-12w-4 & 12w & Tumor  & LY6G & 4.47 & NA             \\\\\n",
       "\t151 & 28/06/2023 & Maiia-12w-5  & 12w & Tumor  & LY6G & 4.72 & NA             \\\\\n",
       "\\end{tabular}\n"
      ],
      "text/markdown": [
       "\n",
       "A data.frame: 15 × 7\n",
       "\n",
       "| <!--/--> | date &lt;chr&gt; | batch_name &lt;chr&gt; | Age &lt;fct&gt; | Condition &lt;fct&gt; | FACs.Filter &lt;chr&gt; | Percentage &lt;dbl&gt; | Comments &lt;chr&gt; |\n",
       "|---|---|---|---|---|---|---|---|\n",
       "| 9 | 27/11/2022 | Sandra-10d-3 | 10d | Normal | LY6G | 2.60 | gate from CD45+ |\n",
       "| 18 | 27/11/2022 | Sandra-10d-3 | 10d | Tumor  | LY6G | 2.87 | NA              |\n",
       "| 32 | 11/09/2022 | Sandra-3w-4  | 3w  | Normal | LY6G | 1.81 | gate from CD45+ |\n",
       "| 47 | 11/09/2022 | Sandra-3w-4  | 3w  | Tumor  | LY6G | 2.03 | from CD45+      |\n",
       "| 74 | 06/11/2022 | Sandra-8w-3  | 8w  | Normal | LY6G | 0.60 | From CD45       |\n",
       "| 83 | 06/11/2022 | Sandra-8w-3  | 8w  | Tumor  | LY6G | 2.83 | From CD45       |\n",
       "| 95 | 03/11/2022 | Sandra-10w-5 | 10w | Normal | LY6G | 0.71 | NA              |\n",
       "| 114 | 12/09/2022 | Sandra-10w-4 | 10w | Tumor  | LY6G | 2.54 | FROM CD45       |\n",
       "| 115 | 03/11/2022 | Sandra-10w-5 | 10w | Tumor  | LY6G | 3.52 | FROM CD45       |\n",
       "| 127 | 04/09/2022 | Sandra-12w-2 | 12w | Normal | LY6G | 0.64 | NA              |\n",
       "| 128 | 23/04/2023 | Sandra-12w-3 | 12w | Normal | LY6G | 1.00 | NA              |\n",
       "| 148 | 04/09/2022 | Sandra-12w-2 | 12w | Tumor  | LY6G | 6.72 | FROM CD45       |\n",
       "| 149 | 23/04/2023 | Sandra-12w-3 | 12w | Tumor  | LY6G | 5.12 | NA              |\n",
       "| 150 | 21/06/2023 | Sandra-12w-4 | 12w | Tumor  | LY6G | 4.47 | NA              |\n",
       "| 151 | 28/06/2023 | Maiia-12w-5  | 12w | Tumor  | LY6G | 4.72 | NA              |\n",
       "\n"
      ],
      "text/plain": [
       "    date       batch_name   Age Condition FACs.Filter Percentage\n",
       "9   27/11/2022 Sandra-10d-3 10d Normal    LY6G        2.60      \n",
       "18  27/11/2022 Sandra-10d-3 10d Tumor     LY6G        2.87      \n",
       "32  11/09/2022 Sandra-3w-4  3w  Normal    LY6G        1.81      \n",
       "47  11/09/2022 Sandra-3w-4  3w  Tumor     LY6G        2.03      \n",
       "74  06/11/2022 Sandra-8w-3  8w  Normal    LY6G        0.60      \n",
       "83  06/11/2022 Sandra-8w-3  8w  Tumor     LY6G        2.83      \n",
       "95  03/11/2022 Sandra-10w-5 10w Normal    LY6G        0.71      \n",
       "114 12/09/2022 Sandra-10w-4 10w Tumor     LY6G        2.54      \n",
       "115 03/11/2022 Sandra-10w-5 10w Tumor     LY6G        3.52      \n",
       "127 04/09/2022 Sandra-12w-2 12w Normal    LY6G        0.64      \n",
       "128 23/04/2023 Sandra-12w-3 12w Normal    LY6G        1.00      \n",
       "148 04/09/2022 Sandra-12w-2 12w Tumor     LY6G        6.72      \n",
       "149 23/04/2023 Sandra-12w-3 12w Tumor     LY6G        5.12      \n",
       "150 21/06/2023 Sandra-12w-4 12w Tumor     LY6G        4.47      \n",
       "151 28/06/2023 Maiia-12w-5  12w Tumor     LY6G        4.72      \n",
       "    Comments       \n",
       "9   gate from CD45+\n",
       "18  NA             \n",
       "32  gate from CD45+\n",
       "47  from CD45+     \n",
       "74  From CD45      \n",
       "83  From CD45      \n",
       "95  NA             \n",
       "114 FROM CD45      \n",
       "115 FROM CD45      \n",
       "127 NA             \n",
       "128 NA             \n",
       "148 FROM CD45      \n",
       "149 NA             \n",
       "150 NA             \n",
       "151 NA             "
      ]
     },
     "metadata": {},
     "output_type": "display_data"
    }
   ],
   "source": [
    "facs_data[facs_data$FACs.Filter == \"LY6G\",]"
   ]
  },
  {
   "cell_type": "markdown",
   "id": "f7345172",
   "metadata": {},
   "source": [
    "# Figure 1"
   ]
  },
  {
   "cell_type": "code",
   "execution_count": 130,
   "id": "403d1baa",
   "metadata": {},
   "outputs": [],
   "source": [
    "if(!dir.exists(\"final_figs/fig1\")) dir.create(\"final_figs/fig1/\")"
   ]
  },
  {
   "cell_type": "code",
   "execution_count": 131,
   "id": "9bd78efd",
   "metadata": {},
   "outputs": [],
   "source": [
    "m2d = scdb_mc2d(\"kinetics_2dproj\")"
   ]
  },
  {
   "cell_type": "code",
   "execution_count": 132,
   "id": "319f2194",
   "metadata": {},
   "outputs": [],
   "source": [
    "mc_2d = data.frame(x=m2d@sc_x[!mc@annots[mc@mc[names(m2d@sc_x)]] %in% doublet_clusters], \n",
    "                   y=m2d@sc_y[!mc@annots[mc@mc[names(m2d@sc_y)]] %in% doublet_clusters], \n",
    "                   annotation=mc@annots[mc@mc[names(m2d@sc_y[!mc@annots[mc@mc[names(m2d@sc_y)]] %in% doublet_clusters])]])\n",
    "mc_2d = mc_2d %>% mutate(annotation=factor(annotation, levels=cell_order))"
   ]
  },
  {
   "cell_type": "code",
   "execution_count": 133,
   "id": "ba1020b9",
   "metadata": {},
   "outputs": [
    {
     "name": "stderr",
     "output_type": "stream",
     "text": [
      "Warning message:\n",
      "“\u001b[1m\u001b[22mRemoved 1313 rows containing missing values (`position_stack()`).”\n",
      "Warning message:\n",
      "“\u001b[1m\u001b[22mRemoved 1313 rows containing missing values (`geom_point()`).”\n",
      "Warning message:\n",
      "“\u001b[1m\u001b[22mRemoved 1313 rows containing missing values (`position_stack()`).”\n",
      "Warning message:\n",
      "“\u001b[1m\u001b[22mRemoved 1313 rows containing missing values (`geom_point()`).”\n",
      "\u001b[1m\u001b[22mSaving 9 x 6.67 in image\n"
     ]
    }
   ],
   "source": [
    "# B\n",
    "\n",
    "p = ggplot(mc_2d, aes(x=x, y=y, col=annotation)) +\n",
    "    geom_point(size=0.5, show.legend = F) +\n",
    "    geom_bar(aes(y=0, fill=annotation), stat=\"identity\", color=\"white\") +\n",
    "    scale_color_manual(values = group.colors[names(group.colors) %in% mc_2d$annotation]) +\n",
    "    scale_fill_manual(values = group.colors[names(group.colors) %in% mc_2d$annotation]) +\n",
    "    theme(axis.title.x = element_blank(), axis.title.y = element_blank(), #legend.text=element_blank(), \n",
    "    axis.text.x = element_blank(), axis.text.y = element_blank(),\n",
    "    axis.ticks.x = element_blank(), axis.ticks.y = element_blank(),\n",
    "    axis.line.x = element_blank(), axis.line.y = element_blank(), )\n",
    "\n",
    "l = get_legend(p)\n",
    "p = plot_grid(p + theme(legend.position=\"none\"))\n",
    "\n",
    "ggsave(\"final_figs/fig1/2d_visualization.png\", plot = p, width = 9, height = 9, dpi = 1200)\n",
    "ggsave(\"final_figs/fig1/legend.png\", plot=l, dpi = 1200, width = 9)"
   ]
  },
  {
   "cell_type": "code",
   "execution_count": 134,
   "id": "3612d7a8",
   "metadata": {},
   "outputs": [
    {
     "name": "stderr",
     "output_type": "stream",
     "text": [
      "Warning message:\n",
      "“\u001b[1m\u001b[22mRemoved 1313 rows containing missing values (`position_stack()`).”\n",
      "\u001b[1m\u001b[22mSaving 9 x 6.67 in image\n"
     ]
    }
   ],
   "source": [
    "# B - no letters\n",
    "\n",
    "p = ggplot(mc_2d, aes(x=x, y=y, col=annotation)) +\n",
    "    geom_bar(aes(y=0, fill=annotation), stat=\"identity\", color=\"white\") +\n",
    "    scale_fill_manual(values = group.colors[names(group.colors) %in% mc_2d$annotation]) +\n",
    "    theme(axis.title.x = element_blank(), axis.title.y = element_blank(), legend.text=element_blank(), \n",
    "    axis.text.x = element_blank(), axis.text.y = element_blank(),\n",
    "    axis.ticks.x = element_blank(), axis.ticks.y = element_blank(),\n",
    "    axis.line.x = element_blank(), axis.line.y = element_blank(), )\n",
    "\n",
    "l = get_legend(p)\n",
    "\n",
    "ggsave(\"final_figs/fig1/legend_blank.png\", plot=l, dpi = 1200, width = 9)"
   ]
  },
  {
   "cell_type": "code",
   "execution_count": 42,
   "id": "14a14a04",
   "metadata": {},
   "outputs": [
    {
     "name": "stderr",
     "output_type": "stream",
     "text": [
      "Warning message:\n",
      "“\u001b[1m\u001b[22mRemoved 1313 rows containing missing values (`geom_point()`).”\n",
      "Warning message:\n",
      "“\u001b[1m\u001b[22mRemoved 1313 rows containing missing values (`geom_point()`).”\n",
      "Warning message:\n",
      "“\u001b[1m\u001b[22mRemoved 1313 rows containing missing values (`geom_point()`).”\n",
      "Warning message:\n",
      "“\u001b[1m\u001b[22mRemoved 1313 rows containing missing values (`geom_point()`).”\n",
      "Warning message:\n",
      "“\u001b[1m\u001b[22mRemoved 1313 rows containing missing values (`geom_point()`).”\n",
      "Warning message:\n",
      "“\u001b[1m\u001b[22mRemoved 1313 rows containing missing values (`geom_point()`).”\n",
      "\u001b[1m\u001b[22mSaving 6.67 x 6.67 in image\n"
     ]
    }
   ],
   "source": [
    "# C\n",
    "\n",
    "df_2d = data.frame(x=m2d@sc_x[!mc@annots[mc@mc[names(m2d@sc_x)]] %in% doublet_clusters], \n",
    "                   y=m2d@sc_y[!mc@annots[mc@mc[names(m2d@sc_y)]] %in% doublet_clusters], \n",
    "                   color=mc@colors[mc@mc[names(m2d@sc_y[!mc@annots[mc@mc[names(m2d@sc_y)]] %in% doublet_clusters])]],\n",
    "                   facs=mat@cell_metadata[names(m2d@sc_y[!mc@annots[mc@mc[names(m2d@sc_y)]] %in% doublet_clusters]),\n",
    "                                                 \"Cell_type\"],\n",
    "                   condition=mat@cell_metadata[names(m2d@sc_y[!mc@annots[mc@mc[names(m2d@sc_y)]] %in% doublet_clusters]),\n",
    "                                                 \"condition\"])\n",
    "\n",
    "gbs = apply(expand.grid(conditions, FACS_filters), 1, function(rowrow){\n",
    "    df_2d = mutate(df_2d, Color=ifelse(condition == rowrow[\"Var1\"] & facs == rowrow[\"Var2\"], \n",
    "                                       df_2d$color, \n",
    "                                       \"#C0C0C0\")) \n",
    "    ggplot(df_2d %>% arrange(Color), aes(x=x, y=y, color=Color)) +\n",
    "        geom_point(size=0.01) +\n",
    "        labs(title = paste(rowrow[\"Var1\"], rowrow[\"Var2\"], sep=\" - \"), \n",
    "             subtitle = paste(sum(df_2d$condition == rowrow[\"Var1\"] & df_2d$facs == rowrow[\"Var2\"], na.rm = T), \"cells\")) +\n",
    "        scale_color_identity() +\n",
    "        theme(plot.title = element_blank(),  \n",
    "              plot.subtitle = element_blank(),#element_text(size = 10, hjust = 0.5),\n",
    "              axis.title.x = element_blank(), axis.title.y = element_blank(),\n",
    "              axis.text.x = element_blank(), axis.text.y = element_blank(),\n",
    "              axis.ticks.x = element_blank(), axis.ticks.y = element_blank(),\n",
    "              axis.line.x = element_blank(), axis.line.y = element_blank(),\n",
    "              aspect.ratio=1)\n",
    "})\n",
    "\n",
    " g <- arrangeGrob(grobs=gbs, ncol=2) #generates g\n",
    " ggsave(file=\"final_figs/fig1/facs_conditions_nonumbers.png\", g, dpi=1200) #saves g"
   ]
  },
  {
   "cell_type": "code",
   "execution_count": 43,
   "id": "69315364",
   "metadata": {
    "scrolled": true
   },
   "outputs": [
    {
     "name": "stderr",
     "output_type": "stream",
     "text": [
      "Warning message:\n",
      "“\u001b[1m\u001b[22mRemoved 1313 rows containing missing values (`geom_point()`).”\n",
      "Warning message:\n",
      "“\u001b[1m\u001b[22mRemoved 1313 rows containing missing values (`geom_point()`).”\n",
      "Warning message:\n",
      "“\u001b[1m\u001b[22mRemoved 1313 rows containing missing values (`geom_point()`).”\n",
      "Warning message:\n",
      "“\u001b[1m\u001b[22mRemoved 1313 rows containing missing values (`geom_point()`).”\n",
      "Warning message:\n",
      "“\u001b[1m\u001b[22mRemoved 1313 rows containing missing values (`geom_point()`).”\n",
      "Warning message:\n",
      "“\u001b[1m\u001b[22mRemoved 1313 rows containing missing values (`geom_point()`).”\n",
      "\u001b[1m\u001b[22mSaving 6.67 x 6.67 in image\n"
     ]
    }
   ],
   "source": [
    "df_2d = data.frame(x=m2d@sc_x[!mc@annots[mc@mc[names(m2d@sc_x)]] %in% doublet_clusters], \n",
    "                   y=m2d@sc_y[!mc@annots[mc@mc[names(m2d@sc_y)]] %in% doublet_clusters], \n",
    "                   color=mc@colors[mc@mc[names(m2d@sc_y[!mc@annots[mc@mc[names(m2d@sc_y)]] %in% doublet_clusters])]],\n",
    "                   facs=mat@cell_metadata[names(m2d@sc_y[!mc@annots[mc@mc[names(m2d@sc_y)]] %in% doublet_clusters]),\n",
    "                                                 \"Cell_type\"],\n",
    "                   condition=mat@cell_metadata[names(m2d@sc_y[!mc@annots[mc@mc[names(m2d@sc_y)]] %in% doublet_clusters]),\n",
    "                                                 \"condition\"])\n",
    "\n",
    "gbs = apply(expand.grid(conditions, FACS_filters), 1, function(rowrow){\n",
    "    df_2d = mutate(df_2d, Color=ifelse(condition == rowrow[\"Var1\"] & facs == rowrow[\"Var2\"], \n",
    "                                       df_2d$color, \n",
    "                                       \"#C0C0C0\")) \n",
    "    ggplot(df_2d %>% arrange(Color), aes(x=x, y=y, color=Color)) +\n",
    "        geom_point(size=0.01) +\n",
    "        labs(title = paste(rowrow[\"Var1\"], rowrow[\"Var2\"], sep=\" - \"), \n",
    "             subtitle = paste(sum(df_2d$condition == rowrow[\"Var1\"] & df_2d$facs == rowrow[\"Var2\"], na.rm = T), \"cells\")) +\n",
    "        scale_color_identity() +\n",
    "        theme(plot.title = element_blank(),  \n",
    "              axis.title.x = element_blank(), axis.title.y = element_blank(),\n",
    "              axis.text.x = element_blank(), axis.text.y = element_blank(),\n",
    "              axis.ticks.x = element_blank(), axis.ticks.y = element_blank(),\n",
    "              axis.line.x = element_blank(), axis.line.y = element_blank(),\n",
    "              aspect.ratio=1)\n",
    "})\n",
    "\n",
    " g <- arrangeGrob(grobs=gbs, ncol=2) #generates g\n",
    " ggsave(file=\"final_figs/fig1/facs_conditions.png\", g, dpi=1200) #saves g"
   ]
  },
  {
   "cell_type": "code",
   "execution_count": 105,
   "id": "245ee94f",
   "metadata": {},
   "outputs": [
    {
     "name": "stderr",
     "output_type": "stream",
     "text": [
      "\u001b[1m\u001b[22m`summarise()` has grouped output by 'annotation', 'Age'. You can override using\n",
      "the `.groups` argument.\n",
      "\u001b[1m\u001b[22m`summarise()` has grouped output by 'annotation'. You can override using the\n",
      "`.groups` argument.\n"
     ]
    }
   ],
   "source": [
    "proportion_df = replicate_df %>% \n",
    "    group_by(annotation, Age, condition) %>%\n",
    "    summarise(fraction=mean(fraction)) %>%\n",
    "    group_by(annotation, condition) %>% \n",
    "    summarise(fraction=mean(fraction)) %>%\n",
    "    as.data.frame %>%\n",
    "    reshape(idvar = \"annotation\", timevar = \"condition\", direction = \"wide\") %>%\n",
    "    mutate(log_ratio = log(fraction.tumor / fraction.normal)) %>%\n",
    "    `rownames<-`(.$annotation)"
   ]
  },
  {
   "cell_type": "code",
   "execution_count": 106,
   "id": "196a7785",
   "metadata": {},
   "outputs": [],
   "source": [
    "proportion_df = proportion_df[cell_order,]\n",
    "proportion_df$color = group.colors[proportion_df$annotation]\n",
    "proportion_df$annotation = factor(proportion_df$annotation, \n",
    "                                  levels=proportion_df$annotation[order(proportion_df$log_ratio)])"
   ]
  },
  {
   "cell_type": "code",
   "execution_count": 107,
   "id": "297ae279",
   "metadata": {},
   "outputs": [
    {
     "data": {
      "text/html": [
       "<style>\n",
       ".list-inline {list-style: none; margin:0; padding: 0}\n",
       ".list-inline>li {display: inline-block}\n",
       ".list-inline>li:not(:last-child)::after {content: \"\\00b7\"; padding: 0 .5ex}\n",
       "</style>\n",
       "<ol class=list-inline><li>T cells</li><li>CD8 T cells</li><li>Treg</li><li>gd T cells</li><li>gd NKT Ccl5 l</li><li>gd NKT Ccl5 h</li><li>NKT cells</li><li>NK cells</li><li>Cytotoxic NK</li><li>ILC2</li><li>B cells</li><li>Monocytes</li><li>MonMacs</li><li>Perivasc macs</li><li>Ductal macs</li><li>cDC1</li><li>cDC2</li><li>pDC</li><li>Mreg DCs</li><li>Mast cells</li><li>Basophils</li><li>Neutrophils</li><li>Progenitor 1</li><li>Progenitor 2</li><li>Alveolar</li><li>HS</li><li>Myoepithelial</li><li>Basal</li><li>MyoLum</li><li>Alveolar spp l</li><li>Alveolar spp1 h</li><li>Alveolar secretory</li><li>Endothelial</li><li>Mcam Endothelial</li><li>Smooth muscle</li><li>Pericytes</li><li>Schwann cells</li><li>fibroblasts</li><li>Dpp4 fibroblasts</li><li>IFN Dpp4 fibroblasts</li><li>CAFs</li><li>Pre-adipocytes</li></ol>\n",
       "\n",
       "<details>\n",
       "\t<summary style=display:list-item;cursor:pointer>\n",
       "\t\t<strong>Levels</strong>:\n",
       "\t</summary>\n",
       "\t<style>\n",
       "\t.list-inline {list-style: none; margin:0; padding: 0}\n",
       "\t.list-inline>li {display: inline-block}\n",
       "\t.list-inline>li:not(:last-child)::after {content: \"\\00b7\"; padding: 0 .5ex}\n",
       "\t</style>\n",
       "\t<ol class=list-inline><li>'Alveolar'</li><li>'HS'</li><li>'Myoepithelial'</li><li>'Progenitor 1'</li><li>'Basal'</li><li>'Cytotoxic NK'</li><li>'fibroblasts'</li><li>'IFN Dpp4 fibroblasts'</li><li>'Mast cells'</li><li>'T cells'</li><li>'CD8 T cells'</li><li>'NK cells'</li><li>'Treg'</li><li>'gd NKT Ccl5 h'</li><li>'pDC'</li><li>'Endothelial'</li><li>'Schwann cells'</li><li>'Perivasc macs'</li><li>'cDC2'</li><li>'NKT cells'</li><li>'Monocytes'</li><li>'cDC1'</li><li>'ILC2'</li><li>'Dpp4 fibroblasts'</li><li>'MonMacs'</li><li>'Pre-adipocytes'</li><li>'B cells'</li><li>'Smooth muscle'</li><li>'Neutrophils'</li><li>'gd T cells'</li><li>'Mreg DCs'</li><li>'Basophils'</li><li>'Pericytes'</li><li>'gd NKT Ccl5 l'</li><li>'Progenitor 2'</li><li>'Ductal macs'</li><li>'Alveolar secretory'</li><li>'CAFs'</li><li>'Alveolar spp1 h'</li><li>'MyoLum'</li><li>'Alveolar spp l'</li><li>'Mcam Endothelial'</li></ol>\n",
       "</details>"
      ],
      "text/latex": [
       "\\begin{enumerate*}\n",
       "\\item T cells\n",
       "\\item CD8 T cells\n",
       "\\item Treg\n",
       "\\item gd T cells\n",
       "\\item gd NKT Ccl5 l\n",
       "\\item gd NKT Ccl5 h\n",
       "\\item NKT cells\n",
       "\\item NK cells\n",
       "\\item Cytotoxic NK\n",
       "\\item ILC2\n",
       "\\item B cells\n",
       "\\item Monocytes\n",
       "\\item MonMacs\n",
       "\\item Perivasc macs\n",
       "\\item Ductal macs\n",
       "\\item cDC1\n",
       "\\item cDC2\n",
       "\\item pDC\n",
       "\\item Mreg DCs\n",
       "\\item Mast cells\n",
       "\\item Basophils\n",
       "\\item Neutrophils\n",
       "\\item Progenitor 1\n",
       "\\item Progenitor 2\n",
       "\\item Alveolar\n",
       "\\item HS\n",
       "\\item Myoepithelial\n",
       "\\item Basal\n",
       "\\item MyoLum\n",
       "\\item Alveolar spp l\n",
       "\\item Alveolar spp1 h\n",
       "\\item Alveolar secretory\n",
       "\\item Endothelial\n",
       "\\item Mcam Endothelial\n",
       "\\item Smooth muscle\n",
       "\\item Pericytes\n",
       "\\item Schwann cells\n",
       "\\item fibroblasts\n",
       "\\item Dpp4 fibroblasts\n",
       "\\item IFN Dpp4 fibroblasts\n",
       "\\item CAFs\n",
       "\\item Pre-adipocytes\n",
       "\\end{enumerate*}\n",
       "\n",
       "\\emph{Levels}: \\begin{enumerate*}\n",
       "\\item 'Alveolar'\n",
       "\\item 'HS'\n",
       "\\item 'Myoepithelial'\n",
       "\\item 'Progenitor 1'\n",
       "\\item 'Basal'\n",
       "\\item 'Cytotoxic NK'\n",
       "\\item 'fibroblasts'\n",
       "\\item 'IFN Dpp4 fibroblasts'\n",
       "\\item 'Mast cells'\n",
       "\\item 'T cells'\n",
       "\\item 'CD8 T cells'\n",
       "\\item 'NK cells'\n",
       "\\item 'Treg'\n",
       "\\item 'gd NKT Ccl5 h'\n",
       "\\item 'pDC'\n",
       "\\item 'Endothelial'\n",
       "\\item 'Schwann cells'\n",
       "\\item 'Perivasc macs'\n",
       "\\item 'cDC2'\n",
       "\\item 'NKT cells'\n",
       "\\item 'Monocytes'\n",
       "\\item 'cDC1'\n",
       "\\item 'ILC2'\n",
       "\\item 'Dpp4 fibroblasts'\n",
       "\\item 'MonMacs'\n",
       "\\item 'Pre-adipocytes'\n",
       "\\item 'B cells'\n",
       "\\item 'Smooth muscle'\n",
       "\\item 'Neutrophils'\n",
       "\\item 'gd T cells'\n",
       "\\item 'Mreg DCs'\n",
       "\\item 'Basophils'\n",
       "\\item 'Pericytes'\n",
       "\\item 'gd NKT Ccl5 l'\n",
       "\\item 'Progenitor 2'\n",
       "\\item 'Ductal macs'\n",
       "\\item 'Alveolar secretory'\n",
       "\\item 'CAFs'\n",
       "\\item 'Alveolar spp1 h'\n",
       "\\item 'MyoLum'\n",
       "\\item 'Alveolar spp l'\n",
       "\\item 'Mcam Endothelial'\n",
       "\\end{enumerate*}\n"
      ],
      "text/markdown": [
       "1. T cells\n",
       "2. CD8 T cells\n",
       "3. Treg\n",
       "4. gd T cells\n",
       "5. gd NKT Ccl5 l\n",
       "6. gd NKT Ccl5 h\n",
       "7. NKT cells\n",
       "8. NK cells\n",
       "9. Cytotoxic NK\n",
       "10. ILC2\n",
       "11. B cells\n",
       "12. Monocytes\n",
       "13. MonMacs\n",
       "14. Perivasc macs\n",
       "15. Ductal macs\n",
       "16. cDC1\n",
       "17. cDC2\n",
       "18. pDC\n",
       "19. Mreg DCs\n",
       "20. Mast cells\n",
       "21. Basophils\n",
       "22. Neutrophils\n",
       "23. Progenitor 1\n",
       "24. Progenitor 2\n",
       "25. Alveolar\n",
       "26. HS\n",
       "27. Myoepithelial\n",
       "28. Basal\n",
       "29. MyoLum\n",
       "30. Alveolar spp l\n",
       "31. Alveolar spp1 h\n",
       "32. Alveolar secretory\n",
       "33. Endothelial\n",
       "34. Mcam Endothelial\n",
       "35. Smooth muscle\n",
       "36. Pericytes\n",
       "37. Schwann cells\n",
       "38. fibroblasts\n",
       "39. Dpp4 fibroblasts\n",
       "40. IFN Dpp4 fibroblasts\n",
       "41. CAFs\n",
       "42. Pre-adipocytes\n",
       "\n",
       "\n",
       "\n",
       "**Levels**: 1. 'Alveolar'\n",
       "2. 'HS'\n",
       "3. 'Myoepithelial'\n",
       "4. 'Progenitor 1'\n",
       "5. 'Basal'\n",
       "6. 'Cytotoxic NK'\n",
       "7. 'fibroblasts'\n",
       "8. 'IFN Dpp4 fibroblasts'\n",
       "9. 'Mast cells'\n",
       "10. 'T cells'\n",
       "11. 'CD8 T cells'\n",
       "12. 'NK cells'\n",
       "13. 'Treg'\n",
       "14. 'gd NKT Ccl5 h'\n",
       "15. 'pDC'\n",
       "16. 'Endothelial'\n",
       "17. 'Schwann cells'\n",
       "18. 'Perivasc macs'\n",
       "19. 'cDC2'\n",
       "20. 'NKT cells'\n",
       "21. 'Monocytes'\n",
       "22. 'cDC1'\n",
       "23. 'ILC2'\n",
       "24. 'Dpp4 fibroblasts'\n",
       "25. 'MonMacs'\n",
       "26. 'Pre-adipocytes'\n",
       "27. 'B cells'\n",
       "28. 'Smooth muscle'\n",
       "29. 'Neutrophils'\n",
       "30. 'gd T cells'\n",
       "31. 'Mreg DCs'\n",
       "32. 'Basophils'\n",
       "33. 'Pericytes'\n",
       "34. 'gd NKT Ccl5 l'\n",
       "35. 'Progenitor 2'\n",
       "36. 'Ductal macs'\n",
       "37. 'Alveolar secretory'\n",
       "38. 'CAFs'\n",
       "39. 'Alveolar spp1 h'\n",
       "40. 'MyoLum'\n",
       "41. 'Alveolar spp l'\n",
       "42. 'Mcam Endothelial'\n",
       "\n",
       "\n"
      ],
      "text/plain": [
       " [1] T cells              CD8 T cells          Treg                \n",
       " [4] gd T cells           gd NKT Ccl5 l        gd NKT Ccl5 h       \n",
       " [7] NKT cells            NK cells             Cytotoxic NK        \n",
       "[10] ILC2                 B cells              Monocytes           \n",
       "[13] MonMacs              Perivasc macs        Ductal macs         \n",
       "[16] cDC1                 cDC2                 pDC                 \n",
       "[19] Mreg DCs             Mast cells           Basophils           \n",
       "[22] Neutrophils          Progenitor 1         Progenitor 2        \n",
       "[25] Alveolar             HS                   Myoepithelial       \n",
       "[28] Basal                MyoLum               Alveolar spp l      \n",
       "[31] Alveolar spp1 h      Alveolar secretory   Endothelial         \n",
       "[34] Mcam Endothelial     Smooth muscle        Pericytes           \n",
       "[37] Schwann cells        fibroblasts          Dpp4 fibroblasts    \n",
       "[40] IFN Dpp4 fibroblasts CAFs                 Pre-adipocytes      \n",
       "42 Levels: Alveolar HS Myoepithelial Progenitor 1 Basal ... Mcam Endothelial"
      ]
     },
     "metadata": {},
     "output_type": "display_data"
    }
   ],
   "source": [
    "proportion_df$annotation"
   ]
  },
  {
   "cell_type": "code",
   "execution_count": 108,
   "id": "e2961101",
   "metadata": {},
   "outputs": [],
   "source": [
    "range1 = 1:length(lymphoid_order)\n",
    "range2 = (max(range1)+1):(max(range1)+length(myeloid_order))\n",
    "range3 = (max(range2)+1):(max(range2)+length(epithelial_order))\n",
    "range4 = (max(range3)+1):(max(range3)+length(fibroblast_order))\n",
    "range5 = (max(range4)+1):(max(range4)+length(stromal_order))"
   ]
  },
  {
   "cell_type": "code",
   "execution_count": 109,
   "id": "5787f037",
   "metadata": {},
   "outputs": [],
   "source": [
    "proportion_df$annotation = factor(proportion_df$annotation, \n",
    "                                  levels=proportion_df$annotation[c(c(range1)[order(proportion_df[range1,\"log_ratio\"])],\n",
    "                                                                    c(range2)[order(proportion_df[range2,\"log_ratio\"])],\n",
    "                                                                    c(range3)[order(proportion_df[range3,\"log_ratio\"])],\n",
    "                                                                    c(range4)[order(proportion_df[range4,\"log_ratio\"])],\n",
    "                                                                    c(range5)[order(proportion_df[range5,\"log_ratio\"])])\n",
    "                                                                 ]\n",
    "                                 )"
   ]
  },
  {
   "cell_type": "code",
   "execution_count": 110,
   "id": "13314ebc",
   "metadata": {},
   "outputs": [
    {
     "data": {
      "image/png": "[encoded data removed]",
      "text/plain": [
       "plot without title"
      ]
     },
     "metadata": {
      "image/png": {
       "height": 420,
       "width": 420
      }
     },
     "output_type": "display_data"
    }
   ],
   "source": [
    "ggplot(proportion_df, aes(x=annotation, y=log_ratio, fill=color)) +\n",
    "    geom_hline(yintercept=c(-2, 2), linetype=\"dashed\", color=\"gray\", size = 1) +\n",
    "    geom_bar(stat = \"identity\", show.legend = F) +\n",
    "    scale_fill_identity() +\n",
    "    scale_y_continuous(name=\"Log ratio of proportion of tumor/normal cells\", breaks = c(-2, 0, 2), limits = c(-4.5, 4.5)) + \n",
    "    theme(axis.text.x = element_blank(), axis.title.x = element_blank(), \n",
    "          axis.ticks.x = element_blank(), axis.line.x = element_blank(),\n",
    "          axis.title.y = element_text(size=12), axis.text.y = element_text(size=12))\n",
    "\n",
    "ggsave(\"final_figs/fig1/log_ratio_bars_all.png\", dpi = 1200,\n",
    "       width = 8, height = 6)"
   ]
  },
  {
   "cell_type": "code",
   "execution_count": 111,
   "id": "2b6e7ddf",
   "metadata": {},
   "outputs": [
    {
     "data": {
      "image/png": "[encoded data removed]",
      "text/plain": [
       "plot without title"
      ]
     },
     "metadata": {
      "image/png": {
       "height": 420,
       "width": 420
      }
     },
     "output_type": "display_data"
    }
   ],
   "source": [
    "ggplot(proportion_df[proportion_df$annotation %in% cell_order[c(range1, range2)],], aes(x=annotation, y=log_ratio, fill=color)) +\n",
    "    geom_hline(yintercept=c(2), linetype=\"dashed\", color=\"gray\", size = 1) +\n",
    "    geom_bar(stat = \"identity\", show.legend = F) +\n",
    "    scale_fill_identity() +\n",
    "    scale_y_continuous(name=\"Log ratio of proportion of tumor/normal cells\", breaks = c(-2, 0, 2)) + \n",
    "    theme(axis.text.x = element_blank(), axis.title.x = element_blank(), \n",
    "          axis.ticks.x = element_blank(), axis.line.x = element_blank(),\n",
    "          axis.title.y = element_text(size=12), axis.text.y = element_text(size=12))\n",
    "\n",
    "ggsave(\"final_figs/fig1/log_ratio_bars_cd45.png\", dpi = 1200,\n",
    "       width = 6, height = 6)"
   ]
  },
  {
   "cell_type": "code",
   "execution_count": 112,
   "id": "3151edb0",
   "metadata": {},
   "outputs": [
    {
     "data": {
      "image/png": "[encoded data removed]",
      "text/plain": [
       "plot without title"
      ]
     },
     "metadata": {
      "image/png": {
       "height": 420,
       "width": 420
      }
     },
     "output_type": "display_data"
    }
   ],
   "source": [
    "ggplot(proportion_df[proportion_df$annotation %in% cell_order[range1],], aes(x=annotation, y=log_ratio, fill=color)) +\n",
    "    geom_hline(yintercept=c(2), linetype=\"dashed\", color=\"gray\", size = 1) +\n",
    "    geom_bar(stat = \"identity\", show.legend = F) +\n",
    "    scale_fill_identity() +\n",
    "    scale_y_continuous(name=\"Log ratio of proportion of tumor/normal cells\", breaks = c(-2, 0, 2)) + \n",
    "    theme(axis.text.x = element_blank(), axis.title.x = element_blank(), \n",
    "          axis.ticks.x = element_blank(), axis.line.x = element_blank(),\n",
    "          axis.title.y = element_text(size=12), axis.text.y = element_text(size=12))\n",
    "\n",
    "ggsave(\"final_figs/fig1/log_ratio_bars_lymphoid.png\", dpi = 1200,\n",
    "       width = 6, height = 6)"
   ]
  },
  {
   "cell_type": "code",
   "execution_count": 113,
   "id": "ddb16ae0",
   "metadata": {},
   "outputs": [
    {
     "data": {
      "image/png": "[encoded data removed]",
      "text/plain": [
       "plot without title"
      ]
     },
     "metadata": {
      "image/png": {
       "height": 420,
       "width": 420
      }
     },
     "output_type": "display_data"
    }
   ],
   "source": [
    "ggplot(proportion_df[proportion_df$annotation %in% cell_order[range2],], aes(x=annotation, y=log_ratio, fill=color)) +\n",
    "    geom_hline(yintercept=c(2), linetype=\"dashed\", color=\"gray\", size = 1) +\n",
    "    geom_bar(stat = \"identity\", show.legend = F) +\n",
    "    scale_fill_identity() +\n",
    "    scale_y_continuous(name=\"Log ratio of proportion of tumor/normal cells\", breaks = c(-2, 0, 2)) + \n",
    "    theme(axis.text.x = element_blank(), axis.title.x = element_blank(), \n",
    "          axis.ticks.x = element_blank(), axis.line.x = element_blank(),\n",
    "          axis.title.y = element_text(size=12), axis.text.y = element_text(size=12))\n",
    "\n",
    "ggsave(\"final_figs/fig1/log_ratio_bars_myeloid.png\", dpi = 1200,\n",
    "       width = 6, height = 6)"
   ]
  },
  {
   "cell_type": "code",
   "execution_count": 114,
   "id": "b3fbe5d0",
   "metadata": {},
   "outputs": [
    {
     "data": {
      "image/png": "[encoded data removed]",
      "text/plain": [
       "plot without title"
      ]
     },
     "metadata": {
      "image/png": {
       "height": 420,
       "width": 420
      }
     },
     "output_type": "display_data"
    }
   ],
   "source": [
    "ggplot(proportion_df[proportion_df$annotation %in% cell_order[range3],], aes(x=annotation, y=log_ratio, fill=color)) +\n",
    "    geom_hline(yintercept=c(-2, 2), linetype=\"dashed\", color=\"gray\", size = 1) +\n",
    "    geom_bar(stat = \"identity\", show.legend = F) +\n",
    "    scale_fill_identity() +\n",
    "    scale_y_continuous(name=\"Log ratio of proportion of tumor/normal cells\", breaks = c(-2, 0, 2)) + \n",
    "    theme(axis.text.x = element_blank(), axis.title.x = element_blank(), \n",
    "          axis.ticks.x = element_blank(), axis.line.x = element_blank(),\n",
    "          axis.title.y = element_text(size=12), axis.text.y = element_text(size=12))\n",
    "\n",
    "ggsave(\"final_figs/fig1/log_ratio_bars_epcam.png\", dpi = 1200,\n",
    "       width = 6, height = 6)"
   ]
  },
  {
   "cell_type": "code",
   "execution_count": 115,
   "id": "8c2ef7d8",
   "metadata": {},
   "outputs": [
    {
     "data": {
      "image/png": "[encoded data removed]",
      "text/plain": [
       "plot without title"
      ]
     },
     "metadata": {
      "image/png": {
       "height": 420,
       "width": 420
      }
     },
     "output_type": "display_data"
    }
   ],
   "source": [
    "ggplot(proportion_df[proportion_df$annotation %in% cell_order[c(range4, range5)],], aes(x=annotation, y=log_ratio, fill=color)) +\n",
    "    geom_hline(yintercept=c(2), linetype=\"dashed\", color=\"gray\", size = 1) +\n",
    "    geom_bar(stat = \"identity\", show.legend = F) +\n",
    "    scale_fill_identity() +\n",
    "    scale_y_continuous(name=\"Log ratio of proportion of tumor/normal cells\", breaks = c(-2, 0, 2)) + \n",
    "    theme(axis.text.x = element_blank(), axis.title.x = element_blank(), \n",
    "          axis.ticks.x = element_blank(), axis.line.x = element_blank(),\n",
    "          axis.title.y = element_text(size=12), axis.text.y = element_text(size=12))\n",
    "\n",
    "ggsave(\"final_figs/fig1/log_ratio_bars_cd45-.png\", dpi = 1200,\n",
    "       width = 6, height = 6)"
   ]
  },
  {
   "cell_type": "code",
   "execution_count": 116,
   "id": "ce1b902a",
   "metadata": {},
   "outputs": [
    {
     "data": {
      "image/png": "[encoded data removed]",
      "text/plain": [
       "plot without title"
      ]
     },
     "metadata": {
      "image/png": {
       "height": 420,
       "width": 420
      }
     },
     "output_type": "display_data"
    }
   ],
   "source": [
    "ggplot(proportion_df[proportion_df$annotation %in% cell_order[range4],], aes(x=annotation, y=log_ratio, fill=color)) +\n",
    "    geom_hline(yintercept=c(2), linetype=\"dashed\", color=\"gray\", size = 1) +\n",
    "    geom_bar(stat = \"identity\", show.legend = F) +\n",
    "    scale_fill_identity() +\n",
    "    scale_y_continuous(name=\"Log ratio of proportion of tumor/normal cells\", breaks = c(-2, 0, 2)) + \n",
    "    theme(axis.text.x = element_blank(), axis.title.x = element_blank(), \n",
    "          axis.ticks.x = element_blank(), axis.line.x = element_blank(),\n",
    "          axis.title.y = element_text(size=12), axis.text.y = element_text(size=12))\n",
    "\n",
    "ggsave(\"final_figs/fig1/log_ratio_bars_perivasc.png\", dpi = 1200,\n",
    "       width = 6, height = 6)"
   ]
  },
  {
   "cell_type": "code",
   "execution_count": 117,
   "id": "a086bd06",
   "metadata": {},
   "outputs": [
    {
     "data": {
      "image/png": "[encoded data removed]",
      "text/plain": [
       "plot without title"
      ]
     },
     "metadata": {
      "image/png": {
       "height": 420,
       "width": 420
      }
     },
     "output_type": "display_data"
    }
   ],
   "source": [
    "ggplot(proportion_df[proportion_df$annotation %in% cell_order[range5],], aes(x=annotation, y=log_ratio, fill=color)) +\n",
    "    geom_hline(yintercept=c(2), linetype=\"dashed\", color=\"gray\", size = 1) +\n",
    "    geom_bar(stat = \"identity\", show.legend = F) +\n",
    "    scale_fill_identity() +\n",
    "    scale_y_continuous(name=\"Log ratio of proportion of tumor/normal cells\", breaks = c(-2, 0, 2)) + \n",
    "    theme(axis.text.x = element_blank(), axis.title.x = element_blank(), \n",
    "          axis.ticks.x = element_blank(), axis.line.x = element_blank(),\n",
    "          axis.title.y = element_text(size=12), axis.text.y = element_text(size=12))\n",
    "\n",
    "ggsave(\"final_figs/fig1/log_ratio_bars_fibrobalsts.png\", dpi = 1200,\n",
    "       width = 6, height = 6)"
   ]
  },
  {
   "cell_type": "code",
   "execution_count": 123,
   "id": "b74b71e7",
   "metadata": {},
   "outputs": [
    {
     "name": "stderr",
     "output_type": "stream",
     "text": [
      "Warning message in grid.Call(C_textBounds, as.graphicsAnnot(x$label), x$x, x$y, :\n",
      "“devEMF: your system substituted font family 'DejaVu Sans' when you requested 'Arial'”\n"
     ]
    },
    {
     "data": {
      "image/png": "[encoded data removed]",
      "text/plain": [
       "plot without title"
      ]
     },
     "metadata": {
      "image/png": {
       "height": 420,
       "width": 420
      }
     },
     "output_type": "display_data"
    }
   ],
   "source": [
    "ggplot(proportion_df[proportion_df$annotation %in% cell_order[range5],], aes(x=annotation, y=log_ratio, fill=color)) +\n",
    "    geom_hline(yintercept=c(2), linetype=\"dashed\", color=\"gray\", size = 1) +\n",
    "    geom_bar(stat = \"identity\", show.legend = F) +\n",
    "    scale_fill_identity() +\n",
    "    scale_y_continuous(name=\"Log ratio of proportion of tumor/normal cells\", breaks = c(-2, 0, 2)) + \n",
    "    theme(text = element_text(family = 'Arial'), axis.text.x = element_blank(), axis.title.x = element_blank(), \n",
    "          axis.ticks.x = element_blank(), axis.line.x = element_blank(),\n",
    "          axis.title.y = element_text(size=12), axis.text.y = element_text(size=12))\n",
    "\n",
    "ggsave(\"final_figs/fig1/log_ratio_bars_fibrobalsts.emf\", width = 6, height = 6, \n",
    "       device = {function(filename, ...) devEMF::emf(file = filename, family = 'Arial')})"
   ]
  },
  {
   "cell_type": "code",
   "execution_count": 120,
   "id": "ee761324",
   "metadata": {},
   "outputs": [
    {
     "name": "stderr",
     "output_type": "stream",
     "text": [
      "Updating HTML index of packages in '.Library'\n",
      "\n",
      "Making 'packages.html' ...\n",
      " done\n",
      "\n"
     ]
    }
   ],
   "source": [
    "install.packages('devEMF')"
   ]
  },
  {
   "cell_type": "code",
   "execution_count": null,
   "id": "37d76d79",
   "metadata": {},
   "outputs": [],
   "source": []
  },
  {
   "cell_type": "markdown",
   "id": "503edc71",
   "metadata": {},
   "source": [
    "# Supp figure 1"
   ]
  },
  {
   "cell_type": "code",
   "execution_count": 42,
   "id": "87b9785d",
   "metadata": {
    "scrolled": true
   },
   "outputs": [],
   "source": [
    "c_vec = mc@colors[!duplicated(mc@colors)]\n",
    "names(c_vec) = mc@annots[!duplicated(mc@annots)]"
   ]
  },
  {
   "cell_type": "code",
   "execution_count": 278,
   "id": "aa345bf6",
   "metadata": {},
   "outputs": [],
   "source": [
    "hm_genes = list(\n",
    "    lymphoid=c('Cd79b', 'Ms4a1', 'Cd19', 'H2-DMb2',\n",
    "               'Id2', 'S100a4', 'Il7r', 'Cxcr6', \n",
    "               'Il1rl1', 'Arg1', 'Csf2', 'Rora', 'Gata3',\n",
    "               'Gzma', 'Prf1', 'Ncr1', \n",
    "               'Klrd1', 'Ccl5', 'Nkg7', 'Gzmb', \n",
    "               'Itgae', 'Trgc1', 'Trgc2', 'Trdc',\n",
    "               'Icos', 'Ctla4', 'Foxp3', 'Cd4',\n",
    "               'Cd8a', 'Cd8b1', \n",
    "               'Trbc2', 'Trbc1', 'Trac', 'Cd3e', 'Tcf7'),\n",
    "    myeloid=c('Csf3r', 'S100a8', 'S100a9', 'Retnlg',\n",
    "              'Il6', 'Mcpt8', 'Osm', 'Ccl3', 'Ccl6',\n",
    "              'Fscn1', 'Epsti1', 'Ccl22', 'Ccl17',\n",
    "              'Cma1', 'Cpa3', 'Tpsb2', 'Mcpt4',\n",
    "              'Siglech', 'Cd209d', 'Ccr9', \n",
    "              'Clec10a', #'H2-Aa', 'H2-Ab1', 'Cd74',\n",
    "              'Cd209a', 'Irf8', 'Xcr1',\n",
    "              'Cx3cr1', 'Spp1', 'Trem2', 'Ms4a7',\n",
    "              'C1qa', 'Tmem176a', 'Tmem176b', 'Il1b',\n",
    "              'Csf1r', 'Cd163', 'Cd209f', \n",
    "              'Lyve1', 'Mrc1', 'F13a1',\n",
    "              'Retnla', 'Ccr2', 'Ccl6', 'Lyz1',\n",
    "              'Lyz2', 'Ear2', 'Plac8'),\n",
    "    fibroblast=rev(c(\"Dcn\", \"Sparc\", \"Col1a1\", \"Col3a1\", \"Ly6a\", \"Acta2\", \"Ifitm3\", \"Anxa3\", \"Pi16\", \"Dpp4\", \"Vegfd\", \"Cxcl13\", \n",
    "                     \"Irf7\", \"Ifit3\", \"C3\", \"Pla1a\", \"Cilp\", \"Cxcl14\", \"Spon1\", \"Mgp\", \"Adipoq\", \"Aoc3\", \"Car3\")),\n",
    "    stromal=rev(c(\"Cav1\", \"Cdh5\", \"Pecam1\", \"Fabp5\", \"Cd36\", \"Igfbp7\", \"Mcam\", \"Lcn2\", \"Spp1\",\n",
    "                  #\"Csn3\", \"Lalba\", \"Krt14\", \"Epcam\",\n",
    "                  \"Tagln\", \"Myl9\", \"Myh11\", \n",
    "                  \"Abcc9\", \"Kcnj8\", \"Pdgfrb\", \"Rgs5\", \n",
    "                  \"Sox10\", \"Mbp\", \"Cnp\", \"Plp1\", \"Mpz\", \"Pmp22\")),\n",
    "    epithelial=rev(c(\"Kit\", \"Cd14\", \"Aldh1a3\", \"Mfge8\", \"Fcgbp\", \"Wfdc18\", \"Krt8\", \"Krt18\", \"Cp\", \n",
    "                     \"Lalba\", \"Csn3\", \n",
    "                     \"Cited1\", \"Pgr\", \"Esr1\", \"Prlr\", \n",
    "                     \"Vim\", \"Col16a1\", \"Myl9\", \"Cxcl14\", \"Acta2\", \"Pdpn\", \"Mylk\", \"Myh11\", \"Ecrg4\", \"Oxtr\", \"Tpm2\", \n",
    "                     \"Krt5\", \"Krt14\", \n",
    "                     \"Krt17\", \"Rbp1\", \"Rflnb\", \"Gja1\", \"Pclaf\", \"Tuba1b\", \"Hmgb2\", \"Ccna2\",\n",
    "                     \"Spp1\",\n",
    "                     \"Wap\", \"Csn1s1\", \"Csn1s2a\", \"Csn2\", \"Thrsp\", \"Car6\", \"Saa1\", \"Saa2\"))\n",
    ")"
   ]
  },
  {
   "cell_type": "code",
   "execution_count": 279,
   "id": "248ac54b",
   "metadata": {},
   "outputs": [],
   "source": [
    "for (pop_name in names(hm_genes)){\n",
    "    focus_genes = unlist(hm_genes[pop_name])\n",
    "    write_lines(focus_genes, paste0(\"final_figs/supp1/heatmaps/\", pop_name, \"_heatmap_genes.txt\"))\n",
    "    focus_mc_nums = which(mc@annots %in% unlist(pop_orders[pop_name]))\n",
    "    focus_mcs = match(mc@annots[mc@mc[mc@mc %in% focus_mc_nums]], cell_order) * 1000 + mc@mc[mc@mc %in% focus_mc_nums]\n",
    "    focus_mat = t(mat@mat[,names(focus_mcs[order(focus_mcs, decreasing = F)])])\n",
    "    focus_mat_norm = log1p(10000 * focus_mat / rowSums(focus_mat))    \n",
    "    heatmap_df = as.matrix(t(focus_mat_norm[,focus_genes]))\n",
    "    ha = HeatmapAnnotation(Type=factor(mc@annots[mc@mc[colnames(heatmap_df)]], \n",
    "                                       levels = cell_order[cell_order %in% mc@annots[mc@mc[colnames(heatmap_df)]]]), \n",
    "                           col = list(Type=c_vec))\n",
    "    png(file=paste0(\"final_figs/supp1/heatmaps/\", pop_name, \".png\"), \n",
    "        width     = 10,\n",
    "        height    = 7,\n",
    "        units     = \"in\",\n",
    "        res       = 1200,\n",
    "        pointsize = 1\n",
    "    )\n",
    "\n",
    "    h = Heatmap(heatmap_df, row_names_gp = gpar(fontsize=10), show_column_dend = F,\n",
    "                column_split =  factor(mc@annots[mc@mc[colnames(heatmap_df)]], \n",
    "                                       levels = cell_order[cell_order %in% mc@annots[mc@mc[colnames(heatmap_df)]]]),\n",
    "                heatmap_legend_param = list(labels_gp = gpar(fontsize = 10)),\n",
    "                cluster_rows = F, cluster_columns =  F, top_annotation = ha, \n",
    "                bottom_annotation = ha, show_column_names = F, name=\"Count\",\n",
    "                col = colorRampPalette(c(\"white\", \"orange\", \"tomato\", \"mediumorchid4\", \"midnightblue\"))(1000), use_raster = F)\n",
    "    plot(h)\n",
    "    dev.off()\n",
    "}"
   ]
  },
  {
   "cell_type": "code",
   "execution_count": 280,
   "id": "3169e939",
   "metadata": {},
   "outputs": [
    {
     "data": {
      "text/html": [
       "<strong>png:</strong> 2"
      ],
      "text/latex": [
       "\\textbf{png:} 2"
      ],
      "text/markdown": [
       "**png:** 2"
      ],
      "text/plain": [
       "png \n",
       "  2 "
      ]
     },
     "metadata": {},
     "output_type": "display_data"
    }
   ],
   "source": [
    "focus_genes = c(unlist(hm_genes['fibroblast']), unlist(hm_genes['stromal']))\n",
    "focus_mc_nums = which(mc@annots %in% c(unlist(pop_orders['fibroblast']), unlist(pop_orders['stromal'])))\n",
    "focus_mcs = match(mc@annots[mc@mc[mc@mc %in% focus_mc_nums]], cell_order) * 1000 + mc@mc[mc@mc %in% focus_mc_nums]\n",
    "focus_mat = t(mat@mat[,names(focus_mcs[order(focus_mcs, decreasing = F)])])\n",
    "focus_mat_norm = log1p(10000 * focus_mat / rowSums(focus_mat))    \n",
    "heatmap_df = as.matrix(t(focus_mat_norm[,focus_genes]))\n",
    "ha = HeatmapAnnotation(Type=factor(mc@annots[mc@mc[colnames(heatmap_df)]], \n",
    "                                   levels = cell_order[cell_order %in% mc@annots[mc@mc[colnames(heatmap_df)]]]), \n",
    "                       col = list(Type=c_vec))\n",
    "png(file=paste0(\"final_figs/supp1/heatmaps/\", 'fibro_stromal', \".png\"), \n",
    "    width     = 10,\n",
    "    height    = 7,\n",
    "    units     = \"in\",\n",
    "    res       = 1200,\n",
    "    pointsize = 1\n",
    ")\n",
    "\n",
    "h = Heatmap(heatmap_df, row_names_gp = gpar(fontsize=10), show_column_dend = F,\n",
    "            column_split =  factor(mc@annots[mc@mc[colnames(heatmap_df)]], \n",
    "                                   levels = cell_order[cell_order %in% mc@annots[mc@mc[colnames(heatmap_df)]]]),\n",
    "            heatmap_legend_param = list(labels_gp = gpar(fontsize = 10)),\n",
    "            cluster_rows = F, cluster_columns =  F, top_annotation = ha, \n",
    "            bottom_annotation = ha, show_column_names = F, name=\"Count\",\n",
    "            col = colorRampPalette(c(\"white\", \"orange\", \"tomato\", \"mediumorchid4\", \"midnightblue\"))(1000), use_raster = F)\n",
    "plot(h)\n",
    "dev.off()\n"
   ]
  },
  {
   "cell_type": "code",
   "execution_count": 281,
   "id": "8a66519c",
   "metadata": {},
   "outputs": [],
   "source": [
    "all_mat = t(mat@mat[,good_cellnames])\n",
    "lognorm_mat = log1p(10000 * all_mat / rowSums(all_mat))"
   ]
  },
  {
   "cell_type": "code",
   "execution_count": 282,
   "id": "a5e19bfb",
   "metadata": {},
   "outputs": [],
   "source": [
    "gene_names = c(\"Trac\", \"Gzmb\", \"Cd79a\", \"Csf1r\", \"Csf3r\", \"Dcn\", \"Cdh5\", \"Mpz\", \"Krt18\", \"Krt14\")\n",
    "\n",
    "df_2d = data.frame(x=m2d@sc_x[good_cellnames], \n",
    "                   y=m2d@sc_y[good_cellnames]) %>% \n",
    "    cbind(as.data.frame(as.matrix(lognorm_mat[good_cellnames, gene_names])))\n",
    "\n",
    "gbs = lapply(gene_names, function(gene_name){\n",
    "\n",
    "    ggplot(df_2d[order(df_2d[,gene_name], decreasing = F),], aes_string(x='x', y='y', col=gene_name)) +\n",
    "        geom_point(size=0.1, show.legend = F) +\n",
    "        scale_color_gradientn(colors=c(\"ivory2\", \"orange\", \"tomato\", \"mediumorchid4\", \"midnightblue\")) +\n",
    "        labs(title = gene_name) +\n",
    "        theme(plot.title = element_blank(),#element_text(size = 8, hjust = 0.5, face = \"bold\"), \n",
    "              axis.title.x = element_blank(), axis.title.y = element_blank(),\n",
    "              axis.text.x = element_blank(), axis.text.y = element_blank(),\n",
    "              axis.ticks.x = element_blank(), axis.ticks.y = element_blank(),\n",
    "              axis.line.x = element_blank(), axis.line.y = element_blank(),\n",
    "              legend.key.size = unit(0.25, 'cm'), legend.text =  element_text(size = 10))\n",
    "\n",
    "})"
   ]
  },
  {
   "cell_type": "code",
   "execution_count": 283,
   "id": "641fbff0",
   "metadata": {},
   "outputs": [
    {
     "name": "stderr",
     "output_type": "stream",
     "text": [
      "Warning message:\n",
      "“\u001b[1m\u001b[22mRemoved 1151 rows containing missing values (`geom_point()`).”\n",
      "Warning message:\n",
      "“\u001b[1m\u001b[22mRemoved 1151 rows containing missing values (`geom_point()`).”\n",
      "Warning message:\n",
      "“\u001b[1m\u001b[22mRemoved 1151 rows containing missing values (`geom_point()`).”\n",
      "Warning message:\n",
      "“\u001b[1m\u001b[22mRemoved 1151 rows containing missing values (`geom_point()`).”\n",
      "Warning message:\n",
      "“\u001b[1m\u001b[22mRemoved 1151 rows containing missing values (`geom_point()`).”\n",
      "Warning message:\n",
      "“\u001b[1m\u001b[22mRemoved 1151 rows containing missing values (`geom_point()`).”\n",
      "Warning message:\n",
      "“\u001b[1m\u001b[22mRemoved 1151 rows containing missing values (`geom_point()`).”\n",
      "Warning message:\n",
      "“\u001b[1m\u001b[22mRemoved 1151 rows containing missing values (`geom_point()`).”\n",
      "Warning message:\n",
      "“\u001b[1m\u001b[22mRemoved 1151 rows containing missing values (`geom_point()`).”\n",
      "Warning message:\n",
      "“\u001b[1m\u001b[22mRemoved 1151 rows containing missing values (`geom_point()`).”\n"
     ]
    }
   ],
   "source": [
    " g <- arrangeGrob(grobs=gbs, nrow=5, respect = T) #generates g\n",
    " ggsave(file=\"final_figs/supp1/gene_projections_noname.png\", g, dpi = 1200, width = 6, height = 16, units = 'cm') #saves g"
   ]
  },
  {
   "cell_type": "code",
   "execution_count": 284,
   "id": "d3ed8428",
   "metadata": {},
   "outputs": [],
   "source": [
    "check_if_doublets = function(annot_a, annot_b, annot_c, gene_list, ds_min=500){\n",
    "    cells_a = names(mc@mc[mc@annots[mc@mc] == annot_a])\n",
    "    cells_b = names(mc@mc[mc@annots[mc@mc] == annot_b])\n",
    "    cells_c = names(mc@mc[mc@annots[mc@mc] == annot_c])\n",
    "    ds_num = max(ds_min, min(length(cells_a), length(cells_b), length(cells_c)))\n",
    "    gene_list = gene_list[gene_list %in% colnames(lognorm_mat)]\n",
    "    df_a = lognorm_mat[sample(cells_a, min(ds_num, length(cells_a))),gene_list] %>% t %>% as.matrix %>%\n",
    "        melt(varnames = c('gene', 'cell_name'), value.name = 'LogNormExpr') %>% cbind(source=annot_a)\n",
    "    df_b = lognorm_mat[sample(cells_b, min(ds_num, length(cells_b))),gene_list] %>% t %>% as.matrix %>%\n",
    "        melt(varnames = c('gene', 'cell_name'), value.name = 'LogNormExpr') %>% cbind(source=annot_b)\n",
    "    df_c = lognorm_mat[sample(cells_c, min(ds_num, length(cells_c))),gene_list] %>% t %>% as.matrix %>%\n",
    "        melt(varnames = c('gene', 'cell_name'), value.name = 'LogNormExpr') %>% cbind(source=annot_c)\n",
    "    plot_df = rbind(df_a, df_b, df_c) %>% mutate(gene=factor(gene, levels=gene_list), \n",
    "                                                 source=factor(source, levels=c(annot_a, annot_b, annot_c)))\n",
    "    ggplot(plot_df, aes(x=cell_name, y=gene, fill=LogNormExpr)) +\n",
    "        geom_tile() +\n",
    "        scale_fill_gradientn(colors=c(\"white\", \"orange\", \"tomato\", \"mediumorchid4\", \"midnightblue\")) +\n",
    "        facet_grid(~ source, scales = 'free_x') +\n",
    "        theme(axis.text.x = element_blank(), axis.title.x = element_blank(), axis.ticks = element_blank(),\n",
    "              axis.title.y = element_blank(), axis.text = element_text(size = 12))\n",
    "}"
   ]
  },
  {
   "cell_type": "code",
   "execution_count": 285,
   "id": "5f578bcb",
   "metadata": {},
   "outputs": [
    {
     "name": "stderr",
     "output_type": "stream",
     "text": [
      "\u001b[1m\u001b[22mSaving 6.67 x 6.67 in image\n"
     ]
    },
    {
     "data": {
      "image/png": "[encoded data removed]",
      "text/plain": [
       "plot without title"
      ]
     },
     "metadata": {
      "image/png": {
       "height": 420,
       "width": 420
      }
     },
     "output_type": "display_data"
    }
   ],
   "source": [
    "check_if_doublets('Endothelial', 'Mcam Endothelial', 'Alveolar spp l', \n",
    "                  c('Cdh5', 'Cd36', 'Pecam1', 'Igfbp7', 'Mcam', 'Spp1', 'Csn3', 'Csn2', 'Lalba', 'Krt18', 'Epcam'))\n",
    "ggsave('final_figs/supp1/heatmaps/Mcam Endothelial proof.png', dpi=1200)"
   ]
  },
  {
   "cell_type": "code",
   "execution_count": 286,
   "id": "70a1be50",
   "metadata": {},
   "outputs": [
    {
     "name": "stderr",
     "output_type": "stream",
     "text": [
      "\u001b[1m\u001b[22mSaving 6.67 x 6.67 in image\n"
     ]
    },
    {
     "data": {
      "image/png": "[encoded data removed]",
      "text/plain": [
       "plot without title"
      ]
     },
     "metadata": {
      "image/png": {
       "height": 420,
       "width": 420
      }
     },
     "output_type": "display_data"
    }
   ],
   "source": [
    "check_if_doublets('fibroblasts', 'CAFs', 'Alveolar spp l', \n",
    "                  c('Col1a1', 'Dcn', 'Sparc', 'Mgp', 'Cilp', 'Cxcl14', 'Spp1', 'Csn3', 'Csn2', 'Lalba', 'Krt18', 'Epcam'))\n",
    "ggsave('final_figs/supp1/heatmaps/CAFs proof.png', dpi=1200)"
   ]
  },
  {
   "cell_type": "code",
   "execution_count": 287,
   "id": "755f3c53",
   "metadata": {},
   "outputs": [
    {
     "data": {
      "text/plain": [
       ".\n",
       "186 189 194 207 213 217 219 220 228 231 236 239 250 251 252 256 257 261 263 269 \n",
       "  1   1   1   1   1   1   1   1   1   1   1   1   1   1   1   1   1   1   1   1 \n",
       "280 281 283 286 291 301 302 311 316 317 330 332 333 334 206 223 230 271 273 274 \n",
       "  1   1   1   1   1   1   1   1   1   1   1   1   1   1   2   2   2   2   2   2 \n",
       "278 320 322 323 336 360 201 202 249 254 275 312 338 359 204 262 313 214 287 248 \n",
       "  2   2   2   2   2   2   3   3   3   3   3   3   3   3   4   4   4   5  10  13 "
      ]
     },
     "metadata": {},
     "output_type": "display_data"
    }
   ],
   "source": [
    "mc@mc[mc@annots[mc@mc] %in% c('Alveolar spp1 h', 'Alveolar spp l', 'myo_lum', 'Tumor spp1 neg', 'Alveolar secretory') &\n",
    "      mat@cell_metadata[names(mc@mc), 'condition'] == 'normal'] %>% table %>% sort"
   ]
  },
  {
   "cell_type": "code",
   "execution_count": 288,
   "id": "1b329e02",
   "metadata": {},
   "outputs": [
    {
     "data": {
      "text/plain": [
       ".\n",
       "186 189 194 207 213 217 219 220 228 231 236 239 250 251 252 256 257 261 263 269 \n",
       "  1   1   1   1   1   1   1   1   1   1   1   1   1   1   1   1   1   1   1   1 \n",
       "280 281 283 286 291 301 302 311 316 317 330 332 333 334 206 223 230 271 273 274 \n",
       "  1   1   1   1   1   1   1   1   1   1   1   1   1   1   2   2   2   2   2   2 \n",
       "278 320 322 323 336 360 201 202 249 254 275 312 338 359 361 204 262 313 214 362 \n",
       "  2   2   2   2   2   2   3   3   3   3   3   3   3   3   3   4   4   4   5   6 \n",
       "357 287 363 248 \n",
       "  9  10  10  13 "
      ]
     },
     "metadata": {},
     "output_type": "display_data"
    }
   ],
   "source": [
    "mc@mc[mc@annots[mc@mc] %in% c('Alveolar spp1 h', 'Alveolar spp l', 'Progenitor 2', 'Alveolar secretory') &\n",
    "      mat@cell_metadata[names(mc@mc), 'condition'] == 'normal'] %>% table %>% sort"
   ]
  },
  {
   "cell_type": "code",
   "execution_count": 289,
   "id": "dcd7500c",
   "metadata": {},
   "outputs": [
    {
     "data": {
      "text/html": [
       "150"
      ],
      "text/latex": [
       "150"
      ],
      "text/markdown": [
       "150"
      ],
      "text/plain": [
       "[1] 150"
      ]
     },
     "metadata": {},
     "output_type": "display_data"
    }
   ],
   "source": [
    "mc@mc[mc@annots[mc@mc] %in% c('Alveolar spp1 h', 'Alveolar spp l', 'Progenitor 2', 'Alveolar secretory') &\n",
    "      mat@cell_metadata[names(mc@mc), 'condition'] == 'normal'] %>% length"
   ]
  },
  {
   "cell_type": "code",
   "execution_count": 59,
   "id": "d9c10817",
   "metadata": {},
   "outputs": [
    {
     "data": {
      "image/png": "[encoded data removed]",
      "text/plain": [
       "plot without title"
      ]
     },
     "metadata": {
      "image/png": {
       "height": 420,
       "width": 420
      }
     },
     "output_type": "display_data"
    }
   ],
   "source": [
    "mat@cell_metadata[names(mc@mc[mc@annots[mc@mc] %in% cell_order]),] %>%\n",
    "    mutate(annot = factor(mc@annots[metacell + 1], levels=cell_order)) %>%\n",
    "    ggplot(aes(x=annot, fill=annot, y=total_counts)) +\n",
    "    geom_hline(yintercept = c(300, 6000), linetype='dotted') +\n",
    "    geom_violin(show.legend = F, draw_quantiles = c(0.25, 0.5, 0.75), width=1, linewidth=0.1) +\n",
    "    scale_y_log10() +\n",
    "    scale_fill_manual(values = c_vec) +\n",
    "    theme(axis.title.x = element_blank(), axis.ticks.x = element_blank(), axis.text.x = element_blank(),\n",
    "          axis.line.x = element_blank())\n",
    "ggsave(filename = \"final_figs/supp1/counts_per_pop.png\", dpi=1200, width=110, height=55, units='mm')"
   ]
  },
  {
   "cell_type": "markdown",
   "id": "b41abe59",
   "metadata": {},
   "source": [
    "# Figure 2"
   ]
  },
  {
   "cell_type": "code",
   "execution_count": 290,
   "id": "9dadd482",
   "metadata": {},
   "outputs": [],
   "source": [
    "if(!dir.exists(\"final_figs/fig2\")) dir.create(\"final_figs/fig2/\")"
   ]
  },
  {
   "cell_type": "code",
   "execution_count": 291,
   "id": "dac5c3e0",
   "metadata": {},
   "outputs": [],
   "source": [
    "anova_df = sapply(cell_order, function(pop){\n",
    "    aov_res = aov(fraction ~ Age + condition, data = replicate_df[replicate_df$annotation == pop,])\n",
    "    pval_df = TukeyHSD(aov_res, which = \"Age\")$Age %>% as.data.frame %>% select('p adj')\n",
    "    pval_df['Age', 'p adj'] = summary(aov_res)[[1]]['Age',\"Pr(>F)\"]\n",
    "    pval_df['condition', 'p adj'] = summary(aov_res)[[1]]['condition',\"Pr(>F)\"]\n",
    "    return(as.matrix(pval_df))\n",
    "}) %>% t %>% as.data.frame"
   ]
  },
  {
   "cell_type": "code",
   "execution_count": 292,
   "id": "4da5d993",
   "metadata": {},
   "outputs": [],
   "source": [
    "colnames(anova_df) = c(\"3w-10d\", \"6w-10d\", \"8w-10d\", \"10w-10d\", \"12w-10d\", \"6w-3w\", \"8w-3w\", \"10w-3w\", \"12w-3w\", \"8w-6w\", \n",
    "                       \"10w-6w\", \"12w-6w\", \"10w-8w\", \"12w-8w\", \"12w-10w\", \"Age\", \"condition\")"
   ]
  },
  {
   "cell_type": "code",
   "execution_count": 293,
   "id": "37ea9f82",
   "metadata": {},
   "outputs": [],
   "source": [
    "anova_df = anova_df[c(\"Age\", \"condition\", \"3w-10d\", \"6w-10d\", \"8w-10d\", \"10w-10d\", \"12w-10d\", \"6w-3w\", \"8w-3w\", \"10w-3w\", \n",
    "                      \"12w-3w\", \"8w-6w\", \"10w-6w\", \"12w-6w\", \"10w-8w\", \"12w-8w\", \"12w-10w\")]"
   ]
  },
  {
   "cell_type": "code",
   "execution_count": 294,
   "id": "4f06d742",
   "metadata": {},
   "outputs": [],
   "source": [
    "corr_anova_df = mutate_all(anova_df, function(x){p.adjust(x, method='fdr')})"
   ]
  },
  {
   "cell_type": "code",
   "execution_count": 295,
   "id": "38be2628",
   "metadata": {},
   "outputs": [],
   "source": [
    "write.csv(corr_anova_df, \"final_figs/fig2/anova_table.csv\")"
   ]
  },
  {
   "cell_type": "code",
   "execution_count": 296,
   "id": "cfe1027e",
   "metadata": {},
   "outputs": [],
   "source": [
    "replicate_df$Stage = factor(ifelse(replicate_df$Age %in% c('10d', '3w'), 'Prepuberty', 'Postpuberty'), \n",
    "                            levels=c('Prepuberty', 'Postpuberty'))"
   ]
  },
  {
   "cell_type": "code",
   "execution_count": 297,
   "id": "a05ab5ec",
   "metadata": {},
   "outputs": [
    {
     "name": "stderr",
     "output_type": "stream",
     "text": [
      "Warning message in wilcox.test.default(x = c(0.0690789473684211, 0.0568807339449541, :\n",
      "“cannot compute exact p-value with ties”\n",
      "Warning message in wilcox.test.default(x = c(0.0230263157894737, 0.0128440366972477, :\n",
      "“cannot compute exact p-value with ties”\n",
      "Warning message in wilcox.test.default(x = c(0.00657894736842105, 0, 0, 0, 0.00437956204379562, :\n",
      "“cannot compute exact p-value with ties”\n",
      "Warning message in wilcox.test.default(x = c(0, 0, 0, 0, 0.00145985401459854, 0, :\n",
      "“cannot compute exact p-value with ties”\n",
      "Warning message in wilcox.test.default(x = c(0.00657894736842105, 0, 0.00555555555555556, :\n",
      "“cannot compute exact p-value with ties”\n",
      "Warning message in wilcox.test.default(x = c(0.00986842105263158, 0.0073394495412844, :\n",
      "“cannot compute exact p-value with ties”\n",
      "Warning message in wilcox.test.default(x = c(0.00328947368421053, 0.0073394495412844, :\n",
      "“cannot compute exact p-value with ties”\n",
      "Warning message in wilcox.test.default(x = c(0.00986842105263158, 0.0275229357798165, :\n",
      "“cannot compute exact p-value with ties”\n",
      "Warning message in wilcox.test.default(x = c(0, 0.0036697247706422, 0.00555555555555556, :\n",
      "“cannot compute exact p-value with ties”\n",
      "Warning message in wilcox.test.default(x = c(0, 0.0275229357798165, 0.0166666666666667, :\n",
      "“cannot compute exact p-value with ties”\n",
      "Warning message in wilcox.test.default(x = c(0, 0.0073394495412844, 0.0111111111111111, :\n",
      "“cannot compute exact p-value with ties”\n",
      "Warning message in wilcox.test.default(x = c(0.00657894736842105, 0.0036697247706422, :\n",
      "“cannot compute exact p-value with ties”\n",
      "Warning message in wilcox.test.default(x = c(0, 0.0036697247706422, 0, 0, 0, 0.0020746887966805, :\n",
      "“cannot compute exact p-value with ties”\n",
      "Warning message in wilcox.test.default(x = c(0.00657894736842105, 0.0201834862385321, :\n",
      "“cannot compute exact p-value with ties”\n",
      "Warning message in wilcox.test.default(x = c(0.1, 0.161654135338346, 0.223140495867769, :\n",
      "“cannot compute exact p-value with ties”\n",
      "Warning message in wilcox.test.default(x = c(0.03125, 0.0075187969924812, 0.012396694214876, :\n",
      "“cannot compute exact p-value with ties”\n",
      "Warning message in wilcox.test.default(x = c(0.0125, 0.0488721804511278, 0.0495867768595041, :\n",
      "“cannot compute exact p-value with ties”\n",
      "Warning message in wilcox.test.default(x = c(0.25625, 0.406015037593985, 0.272727272727273, :\n",
      "“cannot compute exact p-value with ties”\n",
      "Warning message in wilcox.test.default(x = c(0.5625, 0.360902255639098, 0.40495867768595, :\n",
      "“cannot compute exact p-value with ties”\n",
      "Warning message in wilcox.test.default(x = c(0, 0, 0.012396694214876, 0.00588235294117647, :\n",
      "“cannot compute exact p-value with ties”\n",
      "Warning message in wilcox.test.default(x = c(0, 0.0037593984962406, 0.00413223140495868, :\n",
      "“cannot compute exact p-value with ties”\n",
      "Warning message in wilcox.test.default(x = c(0, 0.0037593984962406, 0, 0, 0.0392156862745098, :\n",
      "“cannot compute exact p-value with ties”\n",
      "Warning message in wilcox.test.default(x = c(0, 0, 0, 0, 0.00784313725490196, 0, :\n",
      "“cannot compute exact p-value with ties”\n",
      "Warning message in wilcox.test.default(x = c(0.0033500837520938, 0, 0, 0.00289435600578871, :\n",
      "“cannot compute exact p-value with ties”\n",
      "Warning message in wilcox.test.default(x = c(0, 0.0267111853088481, 0.00492610837438424, :\n",
      "“cannot compute exact p-value with ties”\n",
      "Warning message in wilcox.test.default(x = c(0.0234505862646566, 0.00834724540901502, :\n",
      "“cannot compute exact p-value with ties”\n",
      "Warning message in wilcox.test.default(x = c(0.0586264656616415, 0.0417362270450751, :\n",
      "“cannot compute exact p-value with ties”\n",
      "Warning message in wilcox.test.default(x = c(0.274706867671692, 0.146911519198664, :\n",
      "“cannot compute exact p-value with ties”\n",
      "Warning message in wilcox.test.default(x = c(0.0067001675041876, 0.00500834724540901, :\n",
      "“cannot compute exact p-value with ties”\n",
      "Warning message in wilcox.test.default(x = c(0.0016750418760469, 0, 0, 0.0101302460202605, :\n",
      "“cannot compute exact p-value with ties”\n",
      "Warning message in wilcox.test.default(x = c(0.0050251256281407, 0.00333889816360601, :\n",
      "“cannot compute exact p-value with ties”\n"
     ]
    }
   ],
   "source": [
    "developmental_diff = sapply(cell_order, function(pop){\n",
    "    test_params = wilcox.test(fraction ~ Stage, \n",
    "                              data = replicate_df, \n",
    "                              subset = replicate_df$annotation == pop, \n",
    "                              alternative = 'greater', exact = T, paired=F)\n",
    "    return(test_params$p.value)\n",
    "})"
   ]
  },
  {
   "cell_type": "code",
   "execution_count": 298,
   "id": "e2db75af",
   "metadata": {
    "scrolled": false
   },
   "outputs": [],
   "source": [
    "p.adjust(developmental_diff, method = 'fdr') %>% sort %>% as.data.frame %>% write_csv(\"final_figs/fig2/pvals_development.csv\")"
   ]
  },
  {
   "cell_type": "code",
   "execution_count": 299,
   "id": "b5141063",
   "metadata": {},
   "outputs": [
    {
     "name": "stderr",
     "output_type": "stream",
     "text": [
      "Warning message in wilcox.test.default(x = c(0.0331491712707182, 0.0201793721973094, :\n",
      "“cannot compute exact p-value with ties”\n",
      "Warning message in wilcox.test.default(x = c(0.00736648250460405, 0.0134529147982063, :\n",
      "“cannot compute exact p-value with ties”\n",
      "Warning message in wilcox.test.default(x = c(0.00552486187845304, 0.00672645739910314, :\n",
      "“cannot compute exact p-value with ties”\n",
      "Warning message in wilcox.test.default(x = c(0.0589318600368324, 0.047085201793722, :\n",
      "“cannot compute exact p-value with ties”\n",
      "Warning message in wilcox.test.default(x = c(0, 0, 0, 0.00868055555555556, 0.00887573964497041, :\n",
      "“cannot compute exact p-value with ties”\n",
      "Warning message in wilcox.test.default(x = c(0.0110497237569061, 0, 0.0105708245243129, :\n",
      "“cannot compute exact p-value with ties”\n",
      "Warning message in wilcox.test.default(x = c(0.00184162062615101, 0, 0.00211416490486258, :\n",
      "“cannot compute exact p-value with ties”\n",
      "Warning message in wilcox.test.default(x = c(0.0202578268876611, 0.00896860986547085, :\n",
      "“cannot compute exact p-value with ties”\n",
      "Warning message in wilcox.test.default(x = c(0.0112359550561798, 0.0130548302872063, :\n",
      "“cannot compute exact p-value with ties”\n",
      "Warning message in wilcox.test.default(x = c(0.0252808988764045, 0.0287206266318538, :\n",
      "“cannot compute exact p-value with ties”\n",
      "Warning message in wilcox.test.default(x = c(0.0112359550561798, 0.00783289817232376, :\n",
      "“cannot compute exact p-value with ties”\n",
      "Warning message in wilcox.test.default(x = c(0.0196629213483146, 0.0261096605744125, :\n",
      "“cannot compute exact p-value with ties”\n",
      "Warning message in wilcox.test.default(x = c(0.0196629213483146, 0.00522193211488251, :\n",
      "“cannot compute exact p-value with ties”\n",
      "Warning message in wilcox.test.default(x = c(0, 0, 0, 0, 0, 0, 0, 0, 0, 0.0109289617486339:\n",
      "“cannot compute exact p-value with ties”\n",
      "Warning message in wilcox.test.default(x = c(0.0842696629213483, 0.0339425587467363, :\n",
      "“cannot compute exact p-value with ties”\n",
      "Warning message in wilcox.test.default(x = c(0.160112359550562, 0.352480417754569, :\n",
      "“cannot compute exact p-value with ties”\n",
      "Warning message in wilcox.test.default(x = c(0.0352112676056338, 0.149732620320856, :\n",
      "“cannot compute exact p-value with ties”\n",
      "Warning message in wilcox.test.default(x = c(0.00352112676056338, 0, 0.00714285714285714, :\n",
      "“cannot compute exact p-value with ties”\n",
      "Warning message in wilcox.test.default(x = c(0.028169014084507, 0.0588235294117647, :\n",
      "“cannot compute exact p-value with ties”\n",
      "Warning message in wilcox.test.default(x = c(0.0105633802816901, 0.0106951871657754, :\n",
      "“cannot compute exact p-value with ties”\n",
      "Warning message in wilcox.test.default(x = c(0.0704225352112676, 0, 0.0214285714285714, :\n",
      "“cannot compute exact p-value with ties”\n",
      "Warning message in wilcox.test.default(x = c(0, 0, 0, 0.00649350649350649, 0, 0, :\n",
      "“cannot compute exact p-value with ties”\n"
     ]
    }
   ],
   "source": [
    "cancer_diff = sapply(cell_order, function(pop){\n",
    "    test_params = wilcox.test(fraction ~ condition, \n",
    "                              data = replicate_df, \n",
    "                              subset = replicate_df$annotation == pop & replicate_df$Stage == 'Postpuberty', \n",
    "                              alternative = 'greater', exact = T, paired=F)\n",
    "    return(test_params$p.value)\n",
    "})"
   ]
  },
  {
   "cell_type": "code",
   "execution_count": 300,
   "id": "0611c046",
   "metadata": {},
   "outputs": [],
   "source": [
    "p.adjust(cancer_diff, method = 'fdr') %>% sort %>% as.data.frame %>% write_csv(\"final_figs/fig2/pvals_cancer.csv\")"
   ]
  },
  {
   "cell_type": "code",
   "execution_count": 301,
   "id": "98073ec6",
   "metadata": {
    "scrolled": true
   },
   "outputs": [
    {
     "name": "stderr",
     "output_type": "stream",
     "text": [
      "\u001b[1m\u001b[22m`summarise()` has grouped output by 'annotation', 'Age', 'condition'. You can\n",
      "override using the `.groups` argument.\n"
     ]
    }
   ],
   "source": [
    "sum_df = replicate_df %>%\n",
    "    group_by(annotation, Age, condition, Cell_type) %>% \n",
    "    summarise(mean_fraction=mean(fraction), sum_count=sum(Count))\n",
    "\n",
    "sum_df$annotation = factor(sum_df$annotation, levels=cell_order)\n",
    "sum_df$condition = factor(sum_df$condition, levels=cond_order)\n",
    "sum_df$Age = factor(sum_df$Age, levels=age_order)"
   ]
  },
  {
   "cell_type": "code",
   "execution_count": 302,
   "id": "f34f22bd",
   "metadata": {},
   "outputs": [
    {
     "name": "stderr",
     "output_type": "stream",
     "text": [
      "\u001b[1m\u001b[22mSaving 6.67 x 6.67 in image\n",
      "\u001b[1m\u001b[22mSaving 6.67 x 6.67 in image\n",
      "\u001b[1m\u001b[22mSaving 6.67 x 6.67 in image\n"
     ]
    }
   ],
   "source": [
    "if(!dir.exists(\"final_figs/fig2/kinetic_bargraphs\")) dir.create(\"final_figs/fig2/kinetic_bargraphs/\")\n",
    "\n",
    "for (cell_type in FACS_filters){\n",
    "    plot_df = sum_df[sum_df$Cell_type == cell_type & sum_df$annotation %in% unlist(cell_type_annots[cell_type]),]\n",
    "    p = ggplot(plot_df, aes(y=mean_fraction, x=1, fill=annotation)) + \n",
    "            geom_bar(position=\"fill\", stat=\"identity\", orientation = \"x\") +\n",
    "            scale_fill_manual(values = group.colors[names(group.colors) %in% plot_df$annotation]) +\n",
    "            facet_grid(condition ~ Age, switch = \"both\") +\n",
    "            theme(strip.text = element_text(size=12), legend.text = element_text(size=12), axis.title.y = element_blank(),\n",
    "                  legend.box.margin = margin(c(0,0,0,5)),\n",
    "                  legend.title = element_text(size=12),   \n",
    "                  strip.background = element_rect(linetype=\"blank\"),\n",
    "                  axis.text.y = element_blank(), axis.text.x = element_blank(), axis.title.x = element_blank(),\n",
    "                  axis.ticks.x = element_blank(), axis.ticks.y = element_blank(),\n",
    "                  axis.line.x = element_blank(), axis.line.y = element_blank())\n",
    "    l = get_legend(p)\n",
    "    p = plot_grid(p + theme(legend.position=\"none\"))\n",
    "    \n",
    "    ggsave(paste0(\"final_figs/fig2/kinetic_bargraphs/kinetic_bars_\", str_replace(cell_type, \"\\\\+\", \"\"), \".png\"), plot = p, \n",
    "           width = 4, height = 6, dpi = 1200)\n",
    "    ggsave(paste0(\"final_figs/fig2/kinetic_bargraphs/kinetic_bars_\", str_replace(cell_type, \"\\\\+\", \"\"), \"_legend.png\"), plot=l, \n",
    "           dpi = 1200)\n",
    "}"
   ]
  },
  {
   "cell_type": "code",
   "execution_count": 303,
   "id": "a2c2d6fe",
   "metadata": {},
   "outputs": [],
   "source": [
    "if(!dir.exists(\"final_figs/fig2/fraction_linegraphs\")) dir.create(\"final_figs/fig2/fraction_linegraphs/\")\n",
    "    \n",
    "\n",
    "for (annot in cell_order){\n",
    "    plot_df = sum_df[sum_df$annotation == annot,c(\"Age\", \"condition\", \"mean_fraction\")]\n",
    "    p = ggplot(plot_df, aes(x=Age, y=mean_fraction, col=condition)) +\n",
    "        geom_boxplot(data=replicate_df[replicate_df$annotation == annot,], \n",
    "                   aes(y=fraction), size=1, show.legend = F, width=0.2,\n",
    "                   position = position_dodge(width = 0.25)) +\n",
    "        geom_line(aes(group=condition), size=1) +\n",
    "        scale_color_manual(values = brightness(group.colors[annot], c(0.5, 1.5))) +\n",
    "        labs(title=paste(annot, \"fraction\")) +\n",
    "        theme(strip.text = element_text(size=12), plot.title = element_text(size=12, hjust=0.5),\n",
    "              legend.text = element_blank(), legend.title = element_blank(), \n",
    "              legend.position = 'right',\n",
    "              axis.title.y = element_text(size=12), axis.title.x =element_text(size=12),\n",
    "              axis.text.y = element_text(size=12), axis.text.x = element_text(size=12, angle = 90, vjust = 0.5))\n",
    "\n",
    "    ggsave(paste0(\"final_figs/fig2/fraction_linegraphs/fraction_\", annot, \"_box.png\"), plot=p, units = 'mm',\n",
    "           height=150, width=150, dpi = 1200)\n",
    "}"
   ]
  },
  {
   "cell_type": "code",
   "execution_count": 304,
   "id": "a8e2bd79",
   "metadata": {},
   "outputs": [],
   "source": [
    "for (pop_name in names(pop_orders)){\n",
    "    plot_df = sum_df[sum_df$annotation %in% unlist(pop_orders[pop_name]),]\n",
    "    p = ggplot(plot_df, aes(y=mean_fraction, x=1, fill=annotation)) + \n",
    "            geom_bar(position=\"fill\", stat=\"identity\", orientation = \"x\") +\n",
    "            scale_fill_manual(values = group.colors[names(group.colors) %in% plot_df$annotation]) +\n",
    "            facet_grid(condition ~ Age, switch = \"both\") +\n",
    "            theme(strip.text = element_text(size=12), legend.text = element_text(size=12), axis.title.y = element_blank(),\n",
    "                  legend.box.margin = margin(c(0,0,0,5)),\n",
    "                  legend.title = element_text(size=12),   \n",
    "                  strip.background = element_rect(linetype=\"blank\"),\n",
    "                  axis.text.y = element_blank(), axis.text.x = element_blank(), axis.title.x = element_blank(),\n",
    "                  axis.ticks.x = element_blank(), axis.ticks.y = element_blank(),\n",
    "                  axis.line.x = element_blank(), axis.line.y = element_blank())\n",
    "\n",
    "    l = get_legend(p)\n",
    "    p = plot_grid(p + theme(legend.position=\"none\"))\n",
    "\n",
    "    ggsave(paste0(\"final_figs/fig2/kinetic_bargraphs/kinetic_bars_\", pop_name, \".png\"), plot = p, width = 4, height = 6, \n",
    "           dpi = 1200)\n",
    "    ggsave(paste0(\"final_figs/fig2/kinetic_bargraphs/kinetic_bars_\", pop_name, \"_legend.png\"), plot = l, width=4, height=6)\n",
    "}"
   ]
  },
  {
   "cell_type": "code",
   "execution_count": 305,
   "id": "f2fc4e0c",
   "metadata": {},
   "outputs": [
    {
     "name": "stderr",
     "output_type": "stream",
     "text": [
      "\u001b[1m\u001b[22m`summarise()` has grouped output by 'broad_annotation', 'Age', 'condition'. You\n",
      "can override using the `.groups` argument.\n"
     ]
    }
   ],
   "source": [
    "sum_df$broad_annotation = ifelse(sum_df$annotation %in% unique(annot_df$label)[fibroblast_order], \"Fibroblast populations\",\n",
    "                                 ifelse(sum_df$annotation %in% unique(annot_df$label)[myeloid_order], \"Myeloid populations\",\n",
    "                                 ifelse(sum_df$annotation %in% unique(annot_df$label)[lymphoid_order], \"Lymphoid populations\",\n",
    "                                 ifelse(sum_df$annotation %in% unique(annot_df$label)[epithelial_order], \"Epithelial populations\",\n",
    "                                 \"Stromal populations\"))))\n",
    "\n",
    "broad_df = sum_df %>% \n",
    "    group_by(broad_annotation, Age, condition, Cell_type) %>% \n",
    "    summarise(total_frac=sum(mean_fraction))\n",
    "\n",
    "broad_df$condition = factor(broad_df$condition, levels=cond_order)\n",
    "broad_df$Age = factor(broad_df$Age, levels=age_order)\n",
    "\n",
    "broad_order = c(\"Lymphoid populations\", \"Myeloid populations\", \"Epithelial populations\", \"Fibroblast populations\", \n",
    "                \"Stromal populations\")\n",
    "broad_df$broad_annotation = factor(broad_df$broad_annotation, levels=broad_order)\n",
    "broad.colors = c(\"cyan3\", \"darkgreen\", \"darkgoldenrod1\", \"brown1\", \"tan\")\n",
    "names(broad.colors) = broad_order"
   ]
  },
  {
   "cell_type": "code",
   "execution_count": 306,
   "id": "4dfa57b4",
   "metadata": {},
   "outputs": [],
   "source": [
    "for (cell_type in unique(broad_df$Cell_type)){\n",
    "    plot_df = broad_df[broad_df$Cell_type == cell_type,]\n",
    "    if (cell_type == \"CD45+\"){plot_df = plot_df[plot_df$broad_annotation != \"Epithelial populations\",]}\n",
    "    p = ggplot(plot_df, aes(y=total_frac, x=1, fill=broad_annotation)) + \n",
    "            geom_bar(position=\"fill\", stat=\"identity\", orientation = \"x\") +\n",
    "            scale_fill_manual(values = broad.colors[names(broad.colors) %in% plot_df$broad_annotation]) +\n",
    "            facet_grid(condition ~ Age, switch = \"both\") +\n",
    "            theme(strip.text = element_text(size=12), legend.text = element_text(size=12), axis.title.y = element_blank(),\n",
    "                  legend.box.margin = margin(c(0,0,0,5)),\n",
    "                  legend.title = element_text(size=12),   \n",
    "                  strip.background = element_rect(linetype=\"blank\"),\n",
    "                  axis.text.y = element_blank(), axis.text.x = element_blank(), axis.title.x = element_blank(),\n",
    "                  axis.ticks.x = element_blank(), axis.ticks.y = element_blank(),\n",
    "                  axis.line.x = element_blank(), axis.line.y = element_blank())\n",
    "\n",
    "    l = get_legend(p)\n",
    "    p = plot_grid(p + theme(legend.position=\"none\"))\n",
    "\n",
    "    ggsave(paste0(\"final_figs/fig2/kinetic_bargraphs/kinetic_bars_broad_\", str_replace(cell_type, \"\\\\+\", \"\"), \".png\"), \n",
    "           plot = p, width = 4, height = 6, dpi = 1200)\n",
    "    ggsave(paste0(\"final_figs/fig2/kinetic_bargraphs/kinetic_bars_broad_\", str_replace(cell_type, \"\\\\+\", \"\"), \"_legend.png\"), \n",
    "           plot = l, width = 4, height = 6, dpi = 1200)\n",
    "}"
   ]
  },
  {
   "cell_type": "markdown",
   "id": "df57aa20",
   "metadata": {},
   "source": [
    "#### Epithelial variations"
   ]
  },
  {
   "cell_type": "code",
   "execution_count": 307,
   "id": "e4c6e19c",
   "metadata": {},
   "outputs": [],
   "source": [
    "epithelial_df = full_df[full_df$annotation %in% unique(annot_df$label)[epithelial_order],]"
   ]
  },
  {
   "cell_type": "code",
   "execution_count": 308,
   "id": "4e1fec0a",
   "metadata": {
    "scrolled": true
   },
   "outputs": [
    {
     "data": {
      "text/html": [
       "711"
      ],
      "text/latex": [
       "711"
      ],
      "text/markdown": [
       "711"
      ],
      "text/plain": [
       "[1] 711"
      ]
     },
     "metadata": {},
     "output_type": "display_data"
    }
   ],
   "source": [
    "sum(epithelial_df$Age == '12w' & epithelial_df$condition == 'normal')"
   ]
  },
  {
   "cell_type": "code",
   "execution_count": 309,
   "id": "25885f49",
   "metadata": {
    "scrolled": false
   },
   "outputs": [
    {
     "data": {
      "text/html": [
       "711"
      ],
      "text/latex": [
       "711"
      ],
      "text/markdown": [
       "711"
      ],
      "text/plain": [
       "[1] 711"
      ]
     },
     "metadata": {},
     "output_type": "display_data"
    }
   ],
   "source": [
    "sum(epithelial_df$Age == '12w' & epithelial_df$condition == 'normal')"
   ]
  },
  {
   "cell_type": "code",
   "execution_count": 310,
   "id": "f7fcccfb",
   "metadata": {},
   "outputs": [
    {
     "name": "stderr",
     "output_type": "stream",
     "text": [
      "\u001b[1m\u001b[22m`summarise()` has grouped output by 'annotation', 'Age', 'condition'. You can\n",
      "override using the `.groups` argument.\n",
      "Warning message:\n",
      "“\u001b[1m\u001b[22mReturning more (or less) than 1 row per `summarise()` group was deprecated in\n",
      "dplyr 1.1.0.\n",
      "\u001b[36mℹ\u001b[39m Please use `reframe()` instead.\n",
      "\u001b[36mℹ\u001b[39m When switching from `summarise()` to `reframe()`, remember that `reframe()`\n",
      "  always returns an ungrouped data frame and adjust accordingly.”\n",
      "\u001b[1m\u001b[22m`summarise()` has grouped output by 'Age', 'condition', 'Replicate'. You can\n",
      "override using the `.groups` argument.\n"
     ]
    }
   ],
   "source": [
    "# Unified\n",
    "epi_rep_df = group_by(epithelial_df, annotation, Age, condition, Replicate) %>% \n",
    "    summarise(Count=length(annotation)) %>% drop_na() %>% as.data.frame %>%\n",
    "    tidyr::complete(annotation, Age, condition, Replicate, fill=list(Count=0))\n",
    "\n",
    "epi_rep_df = epi_rep_df %>%\n",
    "    group_by(Age, condition, Replicate) %>% \n",
    "    summarise(annotation=annotation, \n",
    "              Count=Count, \n",
    "              total=sum(Count), \n",
    "              fraction = Count / sum(Count),\n",
    "              Replicate = Replicate) %>% \n",
    "    filter(total > 20)\n",
    "\n",
    "epi_rep_df$annotation = factor(epi_rep_df$annotation, levels=cell_order)\n",
    "epi_rep_df$condition = factor(epi_rep_df$condition, levels=cond_order)\n",
    "epi_rep_df$Age = factor(epi_rep_df$Age, levels=age_order)\n",
    "epi_rep_df$Replicate = factor(epi_rep_df$Replicate, levels=1:5)"
   ]
  },
  {
   "cell_type": "code",
   "execution_count": 311,
   "id": "85727655",
   "metadata": {},
   "outputs": [
    {
     "name": "stderr",
     "output_type": "stream",
     "text": [
      "\u001b[1m\u001b[22m`summarise()` has grouped output by 'annotation', 'Age'. You can override using\n",
      "the `.groups` argument.\n"
     ]
    }
   ],
   "source": [
    "epi_sum_df = epi_rep_df %>%\n",
    "    group_by(annotation, Age, condition) %>% \n",
    "    summarise(mean_fraction=mean(fraction), sum_count=sum(Count))\n",
    "\n",
    "epi_sum_df$annotation = factor(epi_sum_df$annotation, levels=cell_order)\n",
    "epi_sum_df$condition = factor(epi_sum_df$condition, levels=cond_order)\n",
    "epi_sum_df$Age = factor(epi_sum_df$Age, levels=age_order)"
   ]
  },
  {
   "cell_type": "code",
   "execution_count": 312,
   "id": "09537d5c",
   "metadata": {},
   "outputs": [],
   "source": [
    "p = ggplot(epi_sum_df, aes(y=mean_fraction, x=1, fill=annotation)) + \n",
    "        geom_bar(position=\"fill\", stat=\"identity\", orientation = \"x\") +\n",
    "        scale_fill_manual(values = group.colors[names(group.colors) %in% epi_sum_df$annotation]) +\n",
    "        facet_grid(condition ~ Age, switch = \"both\") +\n",
    "        theme(strip.text = element_text(size=12), legend.text = element_text(size=12), axis.title.y = element_blank(),\n",
    "              legend.box.margin = margin(c(0,0,0,5)),\n",
    "              legend.title = element_text(size=12),   \n",
    "              strip.background = element_rect(linetype=\"blank\"),\n",
    "              axis.text.y = element_blank(), axis.text.x = element_blank(), axis.title.x = element_blank(),\n",
    "              axis.ticks.x = element_blank(), axis.ticks.y = element_blank(),\n",
    "              axis.line.x = element_blank(), axis.line.y = element_blank())\n",
    "l = get_legend(p)\n",
    "p = plot_grid(p + theme(legend.position=\"none\"))\n",
    "\n",
    "ggsave(paste0(\"final_figs/fig2/epithelial_variations/unified/kinetic_bars_epithelial_unified.png\"), plot = p, \n",
    "       width = 4, height = 6, dpi = 1200)"
   ]
  },
  {
   "cell_type": "code",
   "execution_count": 313,
   "id": "882ab21c",
   "metadata": {},
   "outputs": [],
   "source": [
    "    plot_df = sum_df[sum_df$annotation == annot,c(\"Age\", \"condition\", \"mean_fraction\")]\n",
    "    p = ggplot(plot_df, aes(x=Age, y=mean_fraction, col=condition)) +\n",
    "        geom_boxplot(data=replicate_df[replicate_df$annotation == annot,], \n",
    "                   aes(y=fraction), size=1, show.legend = F, width=0.2,\n",
    "                   position = position_dodge(width = 0.25)) +\n",
    "        geom_line(aes(group=condition), size=1) +\n",
    "        scale_color_manual(values = brightness(group.colors[annot], c(0.5, 1.5))) +\n",
    "        labs(title=paste(annot, \"fraction\")) +\n",
    "        theme(strip.text = element_text(size=12), plot.title = element_text(size=12, hjust=0.5),\n",
    "              legend.text = element_blank(), legend.title = element_blank(), \n",
    "              legend.position = 'right',\n",
    "              axis.title.y = element_text(size=12), axis.title.x =element_text(size=12),\n",
    "              axis.text.y = element_text(size=12), axis.text.x = element_text(size=12, angle = 90, vjust = 0.5))\n",
    "\n",
    "    ggsave(paste0(\"final_figs/fig2/fraction_linegraphs/fraction_\", annot, \"_box.png\"), plot=p, units = 'mm',\n",
    "           height=150, width=150, dpi = 1200)\n"
   ]
  },
  {
   "cell_type": "code",
   "execution_count": 314,
   "id": "42d3efad",
   "metadata": {},
   "outputs": [],
   "source": [
    "for (annot in unique(annot_df$label)[epithelial_order]){\n",
    "    plot_df = epi_sum_df[epi_sum_df$annotation == annot,c(\"Age\", \"condition\", \"mean_fraction\")]\n",
    "    p = ggplot(plot_df, aes(x=Age, y=mean_fraction, col=condition)) +\n",
    "        geom_boxplot(data=epi_rep_df[epi_rep_df$annotation == annot,], \n",
    "                   aes(y=fraction), size=1, show.legend = F, width=0.2,\n",
    "                   position = position_dodge(width = 0.25)) +\n",
    "        geom_line(aes(group=condition), size=1) +\n",
    "        scale_color_manual(values = brightness(group.colors[annot], c(0.5, 1.5))) +\n",
    "        labs(title=paste(annot, \"fraction\")) +\n",
    "        theme(strip.text = element_text(size=12), plot.title = element_text(size=12, hjust=0.5),\n",
    "              legend.text = element_blank(), legend.title = element_blank(), \n",
    "              legend.position = 'right',\n",
    "              axis.title.y = element_text(size=12), axis.title.x =element_text(size=12),\n",
    "              axis.text.y = element_text(size=12), axis.text.x = element_text(size=12, angle = 90, vjust = 0.5))\n",
    "\n",
    "    ggsave(paste0(\"final_figs/fig2/epithelial_variations/unified/fraction_\", annot, \"_box.png\"), plot=p, units = 'mm',\n",
    "           height=150, width=150, dpi = 1200)\n",
    "}"
   ]
  },
  {
   "cell_type": "code",
   "execution_count": 96,
   "id": "bb65f953",
   "metadata": {},
   "outputs": [],
   "source": [
    "epithelial_df = full_df[full_df$annotation %in% unique(annot_df$label)[epithelial_order] & full_df$Cell_type == \"CD45-\",]"
   ]
  },
  {
   "cell_type": "code",
   "execution_count": 97,
   "id": "a4b5969f",
   "metadata": {},
   "outputs": [
    {
     "name": "stderr",
     "output_type": "stream",
     "text": [
      "\u001b[1m\u001b[22m`summarise()` has grouped output by 'annotation', 'Age', 'condition'. You can\n",
      "override using the `.groups` argument.\n",
      "Warning message:\n",
      "“\u001b[1m\u001b[22mReturning more (or less) than 1 row per `summarise()` group was deprecated in\n",
      "dplyr 1.1.0.\n",
      "\u001b[36mℹ\u001b[39m Please use `reframe()` instead.\n",
      "\u001b[36mℹ\u001b[39m When switching from `summarise()` to `reframe()`, remember that `reframe()`\n",
      "  always returns an ungrouped data frame and adjust accordingly.”\n",
      "\u001b[1m\u001b[22m`summarise()` has grouped output by 'Age', 'condition', 'Replicate'. You can\n",
      "override using the `.groups` argument.\n"
     ]
    }
   ],
   "source": [
    "# CD45-\n",
    "epi_rep_df = group_by(epithelial_df, annotation, Age, condition, Replicate) %>% \n",
    "    summarise(Count=length(annotation)) %>% drop_na() %>% as.data.frame %>%\n",
    "    tidyr::complete(annotation, Age, condition, Replicate, fill=list(Count=0))\n",
    "\n",
    "epi_rep_df = epi_rep_df %>%\n",
    "    group_by(Age, condition, Replicate) %>% \n",
    "    summarise(annotation=annotation, \n",
    "              Count=Count, \n",
    "              total=sum(Count), \n",
    "              fraction = Count / sum(Count),\n",
    "              Replicate = Replicate) %>% \n",
    "    filter(total > 50)\n",
    "\n",
    "epi_rep_df$annotation = factor(epi_rep_df$annotation, levels=cell_order)\n",
    "epi_rep_df$condition = factor(epi_rep_df$condition, levels=cond_order)\n",
    "epi_rep_df$Age = factor(epi_rep_df$Age, levels=age_order)\n",
    "epi_rep_df$Replicate = factor(epi_rep_df$Replicate, levels=1:5)"
   ]
  },
  {
   "cell_type": "code",
   "execution_count": 98,
   "id": "99925a3f",
   "metadata": {},
   "outputs": [
    {
     "name": "stderr",
     "output_type": "stream",
     "text": [
      "\u001b[1m\u001b[22m`summarise()` has grouped output by 'annotation', 'Age'. You can override using\n",
      "the `.groups` argument.\n"
     ]
    }
   ],
   "source": [
    "epi_sum_df = epi_rep_df %>%\n",
    "    group_by(annotation, Age, condition) %>% \n",
    "    summarise(mean_fraction=mean(fraction))\n",
    "\n",
    "epi_sum_df$annotation = factor(epi_sum_df$annotation, levels=cell_order)\n",
    "epi_sum_df$condition = factor(epi_sum_df$condition, levels=cond_order)\n",
    "epi_sum_df$Age = factor(epi_sum_df$Age, levels=age_order)"
   ]
  },
  {
   "cell_type": "code",
   "execution_count": 99,
   "id": "e0f6d0b2",
   "metadata": {},
   "outputs": [],
   "source": [
    "p = ggplot(epi_sum_df, aes(y=mean_fraction, x=1, fill=annotation)) + \n",
    "        geom_bar(position=\"fill\", stat=\"identity\", orientation = \"x\") +\n",
    "        scale_fill_manual(values = group.colors[names(group.colors) %in% epi_sum_df$annotation]) +\n",
    "        facet_grid(condition ~ Age, switch = \"both\") +\n",
    "        theme(strip.text = element_text(size=12), legend.text = element_text(size=12), axis.title.y = element_blank(),\n",
    "              legend.box.margin = margin(c(0,0,0,5)),\n",
    "              legend.title = element_text(size=12),   \n",
    "              strip.background = element_rect(linetype=\"blank\"),\n",
    "              axis.text.y = element_blank(), axis.text.x = element_blank(), axis.title.x = element_blank(),\n",
    "              axis.ticks.x = element_blank(), axis.ticks.y = element_blank(),\n",
    "              axis.line.x = element_blank(), axis.line.y = element_blank())\n",
    "l = get_legend(p)\n",
    "p = plot_grid(p + theme(legend.position=\"none\"))\n",
    "\n",
    "ggsave(paste0(\"final_figs/fig2/epithelial_variations/cd45negative/kinetic_bars_epithelial_unified.png\"), plot = p, \n",
    "       width = 4, height = 6, dpi = 1200)"
   ]
  },
  {
   "cell_type": "code",
   "execution_count": 100,
   "id": "9c1740ef",
   "metadata": {},
   "outputs": [],
   "source": [
    "for (annot in unique(annot_df$label)[epithelial_order]){\n",
    "    plot_df = epi_sum_df[epi_sum_df$annotation == annot,c(\"Age\", \"condition\", \"mean_fraction\")]\n",
    "    p = ggplot(plot_df, aes(x=Age, y=mean_fraction, col=condition)) +\n",
    "        geom_boxplot(data=epi_rep_df[epi_rep_df$annotation == annot,], \n",
    "                   aes(y=fraction), size=0.1, show.legend = F, width=0.2,\n",
    "                   position = position_dodge(width = 0.25)) +\n",
    "        geom_line(aes(group=condition), size=0.5) +\n",
    "        scale_color_manual(values = brightness(group.colors[annot], c(0.5, 1.5))) +\n",
    "        labs(title=paste(annot, \"fraction\")) +\n",
    "        theme(strip.text = element_text(size=12), plot.title = element_text(size=12, hjust=0.5),\n",
    "              legend.text = element_blank(), legend.title = element_blank(), \n",
    "              legend.position = 'right',\n",
    "              axis.title.y = element_text(size=12), axis.title.x =element_text(size=12),\n",
    "              axis.text.y = element_text(size=12), axis.text.x = element_text(size=12, angle = 90, vjust = 0.5))\n",
    "\n",
    "    ggsave(paste0(\"final_figs/fig2/epithelial_variations/cd45negative/fraction_\", annot, \"_box.png\"), plot=p, units = 'mm',\n",
    "           height=150, width=150, dpi = 1200)\n",
    "}"
   ]
  },
  {
   "cell_type": "markdown",
   "id": "53d15c60",
   "metadata": {},
   "source": [
    "#### heatmap"
   ]
  },
  {
   "cell_type": "code",
   "execution_count": 228,
   "id": "592c95f0",
   "metadata": {},
   "outputs": [],
   "source": [
    "sum_df$age_condition = factor(paste(sum_df$condition, sum_df$Age, sep=\"_\"), levels = age_condition_order)"
   ]
  },
  {
   "cell_type": "code",
   "execution_count": 229,
   "id": "1d38efb8",
   "metadata": {},
   "outputs": [],
   "source": [
    "wide_df = dcast(sum_df, annotation ~ age_condition, value.var = \"mean_fraction\") %>% \n",
    "    column_to_rownames(\"annotation\") %>% t %>% scale %>% t %>% as.data.frame"
   ]
  },
  {
   "cell_type": "code",
   "execution_count": 230,
   "id": "a6b4c761",
   "metadata": {
    "scrolled": true
   },
   "outputs": [],
   "source": [
    "wide_df$TumorLogFoldEnrichment = proportion_df[rownames(wide_df),'log_ratio']"
   ]
  },
  {
   "cell_type": "code",
   "execution_count": 231,
   "id": "37eb6fcd",
   "metadata": {},
   "outputs": [],
   "source": [
    "annotation_col = data.frame(condition=sapply(colnames(wide_df), function(x){unlist(str_split(x, \"_\"))[1]}))"
   ]
  },
  {
   "cell_type": "code",
   "execution_count": 232,
   "id": "c1c4f403",
   "metadata": {},
   "outputs": [],
   "source": [
    "dist_mat <- dist(wide_df, method = 'euclidean')"
   ]
  },
  {
   "cell_type": "code",
   "execution_count": 233,
   "id": "9a71c625",
   "metadata": {},
   "outputs": [],
   "source": [
    "hclust_avg <- hclust(dist_mat, method = 'complete')"
   ]
  },
  {
   "cell_type": "code",
   "execution_count": 234,
   "id": "1e5b8a7d",
   "metadata": {},
   "outputs": [
    {
     "data": {
      "image/png": "[encoded data removed]",
      "text/plain": [
       "Plot with title “Cluster Dendrogram”"
      ]
     },
     "metadata": {
      "image/png": {
       "height": 420,
       "width": 420
      }
     },
     "output_type": "display_data"
    }
   ],
   "source": [
    "plot(hclust_avg)"
   ]
  },
  {
   "cell_type": "code",
   "execution_count": 235,
   "id": "752546f6",
   "metadata": {
    "scrolled": true
   },
   "outputs": [
    {
     "name": "stdout",
     "output_type": "stream",
     "text": [
      "MyoLum\", \"Alveolar secretory\", \"Alveolar spp l\", \"Mcam Endothelial\", \"Alveolar spp1 h\", \"CAFs\", \"Ductal macs\", \"Pericytes\", \"gd NKT Ccl5 l\", \"Progenitor 2\", \"Alveolar\", \"HS\", \"MonMacs\", \"Endothelial\", \"cDC1\", \"pDC\", \"Mreg DCs\", \"cDC2\", \"NK cells\", \"gd NKT Ccl5 h\", \"NKT cells\", \"Cytotoxic NK\", \"IFN Dpp4 fibroblasts\", \"fibroblasts\", \"Perivasc macs\", \"Mast cells\", \"gd T cells\", \"Basophils\", \"Progenitor 1\", \"Myoepithelial\", \"Monocytes\", \"Dpp4 fibroblasts\", \"Pre-adipocytes\", \"Basal\", \"Smooth muscle\", \"Neutrophils\", \"ILC2\", \"Schwann cells\", \"T cells\", \"CD8 T cells\", \"Treg\", \"B cells"
     ]
    }
   ],
   "source": [
    "cat(rownames(wide_df)[hclust_avg$order], sep='\", \"')"
   ]
  },
  {
   "cell_type": "code",
   "execution_count": 236,
   "id": "f7b8e723",
   "metadata": {},
   "outputs": [],
   "source": [
    "manual_order = rev(rownames(wide_df)[hclust_avg$order])"
   ]
  },
  {
   "cell_type": "markdown",
   "id": "0e35baa8",
   "metadata": {},
   "source": [
    "manual_order = c(\"Basal\", \"Myoblasts\", \"Lyve1 Perivasc macs\", \"Basophils\", \"ILC2\", \"Schwann cells\", \"Treg\", \"Dpp4 fibroblasts\", \n",
    "                 \"Adipocytes\", \"Monocytes\", \"Mast cells\", \"Luminal progenitor\", \"Alveolar progenitor\", \"Fibroblasts\", \"pDC\", \n",
    "                 \"Myoepithelial\", \"Luminal HS\", \"Perivasc macs\", \"cDC2\", \"cDC1\", \"IFN Dpp4 fibroblasts\", \"MonMacs\", \"B cells\", \n",
    "                 \"T cells\", \"CD8 T cells\", \"NK cells\", \"Cytotoxic NK\", \"gd T cells\", \"NKT cells\", \"gd NKT cells\", \n",
    "                 \"Smooth muscle\", \"Endothelial\", \"Pericytes\", \"Mreg DCs\", \"Neutrophils\", \"Tumor Spp1 low\", \"Ductal macs\", \n",
    "                 \"CAFs\", \"Tumor Spp1 high\", \"Alveolar secretory\", \"Myoepithelial-luminal\")"
   ]
  },
  {
   "cell_type": "code",
   "execution_count": 237,
   "id": "e40bfd99",
   "metadata": {},
   "outputs": [
    {
     "name": "stdout",
     "output_type": "stream",
     "text": [
      "B cells\n",
      "Treg\n",
      "CD8 T cells\n",
      "T cells\n",
      "Schwann cells\n",
      "ILC2\n",
      "Neutrophils\n",
      "Smooth muscle\n",
      "Basal\n",
      "Pre-adipocytes\n",
      "Dpp4 fibroblasts\n",
      "Monocytes\n",
      "Myoepithelial\n",
      "Progenitor 1\n",
      "Basophils\n",
      "gd T cells\n",
      "Mast cells\n",
      "Perivasc macs\n",
      "fibroblasts\n",
      "IFN Dpp4 fibroblasts\n",
      "Cytotoxic NK\n",
      "NKT cells\n",
      "gd NKT Ccl5 h\n",
      "NK cells\n",
      "cDC2\n",
      "Mreg DCs\n",
      "pDC\n",
      "cDC1\n",
      "Endothelial\n",
      "MonMacs\n",
      "HS\n",
      "Alveolar\n",
      "Progenitor 2\n",
      "gd NKT Ccl5 l\n",
      "Pericytes\n",
      "Ductal macs\n",
      "CAFs\n",
      "Alveolar spp1 h\n",
      "Mcam Endothelial\n",
      "Alveolar spp l\n",
      "Alveolar secretory\n",
      "MyoLum\n"
     ]
    }
   ],
   "source": [
    "cat(manual_order, sep=\"\\n\")"
   ]
  },
  {
   "cell_type": "code",
   "execution_count": 238,
   "id": "3c8aa295",
   "metadata": {},
   "outputs": [
    {
     "data": {
      "text/html": [
       "TRUE"
      ],
      "text/latex": [
       "TRUE"
      ],
      "text/markdown": [
       "TRUE"
      ],
      "text/plain": [
       "[1] TRUE"
      ]
     },
     "metadata": {},
     "output_type": "display_data"
    }
   ],
   "source": [
    "all(rownames(wide_df) %in% manual_order)"
   ]
  },
  {
   "cell_type": "code",
   "execution_count": 239,
   "id": "b80cd8cf",
   "metadata": {},
   "outputs": [
    {
     "data": {
      "text/html": [
       "TRUE"
      ],
      "text/latex": [
       "TRUE"
      ],
      "text/markdown": [
       "TRUE"
      ],
      "text/plain": [
       "[1] TRUE"
      ]
     },
     "metadata": {},
     "output_type": "display_data"
    }
   ],
   "source": [
    "all(rownames(wide_df)[hclust_avg$order] %in% manual_order)"
   ]
  },
  {
   "cell_type": "code",
   "execution_count": 8,
   "id": "2fb4f7ad",
   "metadata": {},
   "outputs": [
    {
     "data": {
      "text/html": [
       "10"
      ],
      "text/latex": [
       "10"
      ],
      "text/markdown": [
       "10"
      ],
      "text/plain": [
       "[1] 10"
      ]
     },
     "metadata": {},
     "output_type": "display_data"
    }
   ],
   "source": [
    "c(\"MyoLum\", \"Alveolar secretory\", \"Alveolar spp l\", \"Mcam Endothelial\", \"Alveolar spp1 h\", \"CAFs\", \"Ductal macs\", \"Pericytes\", \"gd NKT Ccl5 l\", \"Progenitor 2\") %>% length"
   ]
  },
  {
   "cell_type": "code",
   "execution_count": 276,
   "id": "aba3059c",
   "metadata": {},
   "outputs": [
    {
     "data": {
      "image/png": "[encoded data removed]",
      "text/plain": [
       "plot without title"
      ]
     },
     "metadata": {
      "image/png": {
       "height": 420,
       "width": 420
      }
     },
     "output_type": "display_data"
    }
   ],
   "source": [
    "p = pheatmap(as.matrix(wide_df[manual_order,]), main=\"Scaled fractions\", scale = 'row', treeheight_row = 0,\n",
    "         fontsize = 8, #cellwidth = 40, cellheight = 20, \n",
    "         annotation_col = annotation_col, cluster_cols = F, cluster_rows = T, cutree_rows=3, gaps_col = c(6, 12),\n",
    "         labels_col = sapply(colnames(wide_df), function(x){unlist(str_split(x, \"_\"))[2]}),\n",
    "         color=colorRampPalette(c(\"navy\", \"white\", \"red\"))(50))"
   ]
  },
  {
   "cell_type": "code",
   "execution_count": null,
   "id": "45c6587a",
   "metadata": {},
   "outputs": [],
   "source": []
  },
  {
   "cell_type": "code",
   "execution_count": 40,
   "id": "19dc32f8",
   "metadata": {},
   "outputs": [
    {
     "ename": "ERROR",
     "evalue": "Error in eval(expr, envir, enclos): object 'p' not found\n",
     "output_type": "error",
     "traceback": [
      "Error in eval(expr, envir, enclos): object 'p' not found\nTraceback:\n"
     ]
    }
   ],
   "source": [
    "png(\"final_figs/fig2/fraction_heatmap.png\", width = 18, height = 12, units = 'cm', res = 1200)\n",
    "p\n",
    "dev.off()"
   ]
  },
  {
   "cell_type": "code",
   "execution_count": 92,
   "id": "723d7b26",
   "metadata": {},
   "outputs": [
    {
     "name": "stderr",
     "output_type": "stream",
     "text": [
      "\u001b[1m\u001b[22mSaving 6.67 x 6.67 in image\n",
      "\u001b[1m\u001b[22mSaving 6.67 x 6.67 in image\n",
      "\u001b[1m\u001b[22mSaving 6.67 x 6.67 in image\n",
      "\u001b[1m\u001b[22mSaving 6.67 x 6.67 in image\n",
      "\u001b[1m\u001b[22mSaving 6.67 x 6.67 in image\n"
     ]
    }
   ],
   "source": [
    "for (facs_filter in unique(facs_data$FACs.Filter)){\n",
    "    ggplot(facs_data[facs_data$FACs.Filter == facs_filter,], aes(x=Age, y=Percentage, color=Condition)) +\n",
    "        stat_summary(aes(group=Condition), fun=mean, geom=\"line\") +\n",
    "        geom_jitter(position = position_jitterdodge(jitter.width = 0.3, dodge.width = 0.5), show.legend = F) +\n",
    "        labs(title = paste0('FACs percentage - ', facs_filter))\n",
    "    ggsave(paste0(\"final_figs/supp1/facs/\", str_replace(facs_filter, \"/\", \"_\"), \".png\"))\n",
    "}"
   ]
  },
  {
   "cell_type": "code",
   "execution_count": 93,
   "id": "0493f94f",
   "metadata": {},
   "outputs": [
    {
     "name": "stderr",
     "output_type": "stream",
     "text": [
      "\u001b[1m\u001b[22mSaving 6.67 x 6.67 in image\n"
     ]
    },
    {
     "data": {
      "image/png": "[encoded data removed]",
      "text/plain": [
       "plot without title"
      ]
     },
     "metadata": {
      "image/png": {
       "height": 420,
       "width": 420
      }
     },
     "output_type": "display_data"
    }
   ],
   "source": [
    "ggplot(facs_data[facs_data$FACs.Filter == 'LY6G',], aes(x=Age, y=Percentage, color=Condition)) +\n",
    "    stat_summary(aes(group=Condition), fun=mean, geom=\"line\") +\n",
    "    geom_jitter(position = position_jitterdodge(jitter.width = 0.3, dodge.width = 0.5), show.legend = F) +\n",
    "    scale_color_manual(values = brightness(group.colors['Neutrophils'], c(0.5, 1.5))) +\n",
    "    scale_x_discrete(breaks = age_order, drop=F) +\n",
    "    labs(title = 'FACs percentage - LY6G from CD45+')\n",
    "ggsave(\"final_figs/supp1/facs/ly6g_from_cd45.png\", dpi=1200)"
   ]
  },
  {
   "cell_type": "code",
   "execution_count": 94,
   "id": "53b54705",
   "metadata": {},
   "outputs": [
    {
     "name": "stderr",
     "output_type": "stream",
     "text": [
      "\u001b[1m\u001b[22mSaving 6.67 x 6.67 in image\n"
     ]
    },
    {
     "data": {
      "image/png": "[encoded data removed]",
      "text/plain": [
       "plot without title"
      ]
     },
     "metadata": {
      "image/png": {
       "height": 420,
       "width": 420
      }
     },
     "output_type": "display_data"
    }
   ],
   "source": [
    "ggplot(facs_data[facs_data$FACs.Filter == 'LY6G/EPCAM' & facs_data$Age != '8w',], aes(x=Age, y=Percentage, color=Condition)) +\n",
    "    stat_summary(aes(group=Condition), fun=mean, geom=\"line\") +\n",
    "    geom_jitter(position = position_jitterdodge(jitter.width = 0.3, dodge.width = 0.5), show.legend = F) +\n",
    "    scale_x_discrete(breaks = age_order, drop=F) +\n",
    "    scale_color_manual(values = brightness(group.colors['Neutrophils'], c(0.5, 1.5))) +\n",
    "    labs(title = 'FACs percentage - LY6G from CD45+EPCAM+')\n",
    "ggsave(\"final_figs/supp1/facs/ly6g_from_cd45epcam.png\", dpi=1200)"
   ]
  },
  {
   "cell_type": "code",
   "execution_count": 136,
   "id": "0bad2c8b",
   "metadata": {},
   "outputs": [
    {
     "name": "stderr",
     "output_type": "stream",
     "text": [
      "\u001b[1m\u001b[22mSaving 6.67 x 6.67 in image\n"
     ]
    },
    {
     "data": {
      "image/png": "[encoded data removed]",
      "text/plain": [
       "plot without title"
      ]
     },
     "metadata": {
      "image/png": {
       "height": 420,
       "width": 420
      }
     },
     "output_type": "display_data"
    }
   ],
   "source": [
    "facs_data[facs_data$FACs.Filter %in% c('LY6G', 'LY6G/EPCAM') & facs_data$Age %in% c('10w', '12w') & \n",
    "          facs_data$Condition == 'Tumor',] %>%\n",
    "    ggplot(aes(x=FACs.Filter, y=Percentage, color=Age, group=batch_name)) +\n",
    "        geom_point(size=3) +\n",
    "        geom_line(size=1.5) +\n",
    "        labs(title = '10-12w tumor LY6G pctg') +\n",
    "        scale_color_manual(values = brightness(group.colors['Neutrophils'], c(0.5, 1.5))) +\n",
    "        scale_x_discrete(labels=c('from CD45+', 'from CD45+EPCAM+')) +\n",
    "        theme(axis.title.x=element_blank(), axis.text = element_text(size=12),\n",
    "              plot.title = element_text(hjust=0.5, size=16, face = 'bold'))\n",
    "ggsave('final_figs/fig3/ly6g_singlet_vs_pics.png', dpi=1200)"
   ]
  },
  {
   "cell_type": "code",
   "execution_count": 116,
   "id": "4aef207e",
   "metadata": {},
   "outputs": [],
   "source": [
    "test_df = facs_data[facs_data$FACs.Filter %in% c('LY6G', 'LY6G/EPCAM') & facs_data$Age %in% c('10w', '12w') & \n",
    "          facs_data$Condition == 'Tumor',] %>% \n",
    "    dcast(FACs.Filter ~ batch_name, value.var = 'Percentage') %>% \n",
    "    column_to_rownames('FACs.Filter') %>% t %>% as.data.frame"
   ]
  },
  {
   "cell_type": "code",
   "execution_count": 131,
   "id": "877aeee6",
   "metadata": {},
   "outputs": [
    {
     "data": {
      "text/plain": [
       "\n",
       "\tWilcoxon signed rank exact test\n",
       "\n",
       "data:  test_df$LY6G and test_df$`LY6G/EPCAM`\n",
       "V = 0, p-value = 0.03125\n",
       "alternative hypothesis: true location shift is not equal to 0\n"
      ]
     },
     "metadata": {},
     "output_type": "display_data"
    }
   ],
   "source": [
    "wilcox.test(test_df$LY6G, test_df$`LY6G/EPCAM`, paired = T)"
   ]
  }
 ],
 "metadata": {
  "kernelspec": {
   "display_name": "R",
   "language": "R",
   "name": "ir"
  },
  "language_info": {
   "codemirror_mode": "r",
   "file_extension": ".r",
   "mimetype": "text/x-r-source",
   "name": "R",
   "pygments_lexer": "r",
   "version": "4.1.3"
  }
 },
 "nbformat": 4,
 "nbformat_minor": 5
}
