{
 "cells": [
  {
   "cell_type": "code",
   "execution_count": 62,
   "id": "4bf476ae",
   "metadata": {},
   "outputs": [],
   "source": [
    "library(metacell)\n",
    "library(GEOquery)\n",
    "library(googlesheets4)\n",
    "library(googledrive)\n",
    "library(devtools)\n",
    "library(dplyr)\n",
    "library(tibble)\n",
    "library(ggplot2)\n",
    "library(tidyverse)\n",
    "library(tgstat)\n",
    "library(tgconfig)\n",
    "library(liana)\n",
    "library(SingleCellExperiment)\n",
    "library(Seurat)\n",
    "library(magrittr)"
   ]
  },
  {
   "cell_type": "code",
   "execution_count": 63,
   "id": "f89c0074",
   "metadata": {},
   "outputs": [
    {
     "data": {
      "text/html": [
       "<style>\n",
       ".list-inline {list-style: none; margin:0; padding: 0}\n",
       ".list-inline>li {display: inline-block}\n",
       ".list-inline>li:not(:last-child)::after {content: \"\\00b7\"; padding: 0 .5ex}\n",
       "</style>\n",
       "<ol class=list-inline><li>'Default'</li><li>'Consensus'</li><li>'Baccin2019'</li><li>'CellCall'</li><li>'CellChatDB'</li><li>'Cellinker'</li><li>'CellPhoneDB'</li><li>'CellTalkDB'</li><li>'connectomeDB2020'</li><li>'EMBRACE'</li><li>'Guide2Pharma'</li><li>'HPMR'</li><li>'ICELLNET'</li><li>'iTALK'</li><li>'Kirouac2010'</li><li>'LRdb'</li><li>'Ramilowski2015'</li><li>'OmniPath'</li></ol>\n"
      ],
      "text/latex": [
       "\\begin{enumerate*}\n",
       "\\item 'Default'\n",
       "\\item 'Consensus'\n",
       "\\item 'Baccin2019'\n",
       "\\item 'CellCall'\n",
       "\\item 'CellChatDB'\n",
       "\\item 'Cellinker'\n",
       "\\item 'CellPhoneDB'\n",
       "\\item 'CellTalkDB'\n",
       "\\item 'connectomeDB2020'\n",
       "\\item 'EMBRACE'\n",
       "\\item 'Guide2Pharma'\n",
       "\\item 'HPMR'\n",
       "\\item 'ICELLNET'\n",
       "\\item 'iTALK'\n",
       "\\item 'Kirouac2010'\n",
       "\\item 'LRdb'\n",
       "\\item 'Ramilowski2015'\n",
       "\\item 'OmniPath'\n",
       "\\end{enumerate*}\n"
      ],
      "text/markdown": [
       "1. 'Default'\n",
       "2. 'Consensus'\n",
       "3. 'Baccin2019'\n",
       "4. 'CellCall'\n",
       "5. 'CellChatDB'\n",
       "6. 'Cellinker'\n",
       "7. 'CellPhoneDB'\n",
       "8. 'CellTalkDB'\n",
       "9. 'connectomeDB2020'\n",
       "10. 'EMBRACE'\n",
       "11. 'Guide2Pharma'\n",
       "12. 'HPMR'\n",
       "13. 'ICELLNET'\n",
       "14. 'iTALK'\n",
       "15. 'Kirouac2010'\n",
       "16. 'LRdb'\n",
       "17. 'Ramilowski2015'\n",
       "18. 'OmniPath'\n",
       "\n",
       "\n"
      ],
      "text/plain": [
       " [1] \"Default\"          \"Consensus\"        \"Baccin2019\"       \"CellCall\"        \n",
       " [5] \"CellChatDB\"       \"Cellinker\"        \"CellPhoneDB\"      \"CellTalkDB\"      \n",
       " [9] \"connectomeDB2020\" \"EMBRACE\"          \"Guide2Pharma\"     \"HPMR\"            \n",
       "[13] \"ICELLNET\"         \"iTALK\"            \"Kirouac2010\"      \"LRdb\"            \n",
       "[17] \"Ramilowski2015\"   \"OmniPath\"        "
      ]
     },
     "metadata": {},
     "output_type": "display_data"
    }
   ],
   "source": [
    "show_resources()"
   ]
  },
  {
   "cell_type": "code",
   "execution_count": 64,
   "id": "ad2faccc",
   "metadata": {
    "scrolled": true
   },
   "outputs": [
    {
     "data": {
      "text/html": [
       "<style>\n",
       ".list-inline {list-style: none; margin:0; padding: 0}\n",
       ".list-inline>li {display: inline-block}\n",
       ".list-inline>li:not(:last-child)::after {content: \"\\00b7\"; padding: 0 .5ex}\n",
       "</style>\n",
       "<ol class=list-inline><li>'connectome'</li><li>'logfc'</li><li>'natmi'</li><li>'sca'</li><li>'cellphonedb'</li><li>'cytotalk'</li><li>'call_squidpy'</li><li>'call_cellchat'</li><li>'call_connectome'</li><li>'call_sca'</li><li>'call_italk'</li><li>'call_natmi'</li></ol>\n"
      ],
      "text/latex": [
       "\\begin{enumerate*}\n",
       "\\item 'connectome'\n",
       "\\item 'logfc'\n",
       "\\item 'natmi'\n",
       "\\item 'sca'\n",
       "\\item 'cellphonedb'\n",
       "\\item 'cytotalk'\n",
       "\\item 'call\\_squidpy'\n",
       "\\item 'call\\_cellchat'\n",
       "\\item 'call\\_connectome'\n",
       "\\item 'call\\_sca'\n",
       "\\item 'call\\_italk'\n",
       "\\item 'call\\_natmi'\n",
       "\\end{enumerate*}\n"
      ],
      "text/markdown": [
       "1. 'connectome'\n",
       "2. 'logfc'\n",
       "3. 'natmi'\n",
       "4. 'sca'\n",
       "5. 'cellphonedb'\n",
       "6. 'cytotalk'\n",
       "7. 'call_squidpy'\n",
       "8. 'call_cellchat'\n",
       "9. 'call_connectome'\n",
       "10. 'call_sca'\n",
       "11. 'call_italk'\n",
       "12. 'call_natmi'\n",
       "\n",
       "\n"
      ],
      "text/plain": [
       " [1] \"connectome\"      \"logfc\"           \"natmi\"           \"sca\"            \n",
       " [5] \"cellphonedb\"     \"cytotalk\"        \"call_squidpy\"    \"call_cellchat\"  \n",
       " [9] \"call_connectome\" \"call_sca\"        \"call_italk\"      \"call_natmi\"     "
      ]
     },
     "metadata": {},
     "output_type": "display_data"
    }
   ],
   "source": [
    "show_methods()"
   ]
  },
  {
   "cell_type": "code",
   "execution_count": 65,
   "id": "d9167873",
   "metadata": {},
   "outputs": [],
   "source": [
    "liana_path <- system.file(package = \"liana\")"
   ]
  },
  {
   "cell_type": "code",
   "execution_count": 66,
   "id": "7375c008",
   "metadata": {},
   "outputs": [],
   "source": [
    "op_resource <- select_resource(\"Consensus\")[[1]]"
   ]
  },
  {
   "cell_type": "code",
   "execution_count": 67,
   "id": "4bc3be2b",
   "metadata": {},
   "outputs": [
    {
     "name": "stderr",
     "output_type": "stream",
     "text": [
      "One-to-many homolog matches: C4A; C4B; CCL27; CD200R1L; CD55; CEACAM1; CLEC10A; CSF2RB; DSG1; ENO1; GSTP1; HLA-DMB; HLA-E; HLA-F; IFNL3; IL11RA; IL22; KIR3DL3; KLRB1; KNG1; LILRB4; LYZ; MRGPRX2; PILRB; PRND; PRSS3; RNASE2; SAA1; SERPINA1\n",
      "\n"
     ]
    }
   ],
   "source": [
    "ortholog_resource <- generate_homologs(op_resource = op_resource,\n",
    "                                       .missing_fun = str_to_title,\n",
    "                                       max_homologs = 5,\n",
    "                                       target_organism = 10090) # mouse"
   ]
  },
  {
   "cell_type": "code",
   "execution_count": null,
   "id": "e99650ff",
   "metadata": {},
   "outputs": [],
   "source": [
    "ortholog_resource = ortholog_resource %>% \n",
    "    rbind(c('S100a8', 'Mcam', '', '', 'cell_surface_ligand', 'manual', 'receptor', 'manual', '', \n",
    "            'https://doi.org/10.1007/s10585-016-9801-2')) %>%\n",
    "    rbind(c('S100a9', 'Mcam', '', '', 'cell_surface_ligand', 'manual', 'receptor', 'manual', '', \n",
    "            'https://doi.org/10.1007/s10585-016-9801-2')) %>%\n",
    "    rbind(c('S100a8', 'Alcam', '', '', 'cell_surface_ligand', 'manual', 'receptor', 'manual', '', \n",
    "            'https://doi.org/10.1007/s10585-016-9801-2')) %>%\n",
    "    rbind(c('S100a9', 'Alcam', '', '', 'cell_surface_ligand', 'manual', 'receptor', 'manual', '', \n",
    "            'https://doi.org/10.1007/s10585-016-9801-2'))\n"
   ]
  },
  {
   "cell_type": "code",
   "execution_count": null,
   "id": "ed8ccdf7",
   "metadata": {},
   "outputs": [],
   "source": [
    "if(!dir.exists(\"scdb\")) dir.create(\"scdb/\")\n",
    "scdb_init(\"scdb/\", force_reinit=T)\n",
    "#> initializing scdb to testdb/"
   ]
  },
  {
   "cell_type": "code",
   "execution_count": null,
   "id": "7ffdf507",
   "metadata": {},
   "outputs": [],
   "source": [
    "mat = scdb_mat(\"all_cells_liana\")\n",
    "mc_neutrophil = scdb_mc(\"neutrophil_mc\")\n",
    "mc_kinetics = scdb_mc(\"kinetics_mc\")\n",
    "pic_mc = scdb_mc(\"merged_neutrophil_epithelial_mc\")"
   ]
  },
  {
   "cell_type": "code",
   "execution_count": null,
   "id": "082b216b",
   "metadata": {},
   "outputs": [],
   "source": [
    "doublet_order = c(2, 16)\n",
    "doublet_clusters = unique(mc_kinetics@annots)[doublet_order]\n",
    "lymphoid_order = c(25, 26, 27, 21, 20, 28, 24)\n",
    "myeloid_order = c(31, 32, 29, 34, 36, 33, 35, 22, 19, 23, 30)\n",
    "epithelial_order = c(11, 13, 12, 14, 18, 15, 17, 10)\n",
    "stromal_order = c(1, 3, 8, 9, 7)\n",
    "fibroblast_order = c(5, 4, 6)\n",
    "order_index = c(lymphoid_order, myeloid_order, epithelial_order, stromal_order, fibroblast_order)\n",
    "cell_order = unique(mc_kinetics@annots)[order_index]"
   ]
  },
  {
   "cell_type": "code",
   "execution_count": null,
   "id": "6da1b2f3",
   "metadata": {},
   "outputs": [],
   "source": [
    "cell_order = cell_order[cell_order != \"Neutrophils\"]"
   ]
  },
  {
   "cell_type": "code",
   "execution_count": 10,
   "id": "73a06dda",
   "metadata": {},
   "outputs": [
    {
     "data": {
      "text/html": [
       "<style>\n",
       ".list-inline {list-style: none; margin:0; padding: 0}\n",
       ".list-inline>li {display: inline-block}\n",
       ".list-inline>li:not(:last-child)::after {content: \"\\00b7\"; padding: 0 .5ex}\n",
       "</style>\n",
       "<ol class=list-inline><li>'T cells'</li><li>'CD8 T cells'</li><li>'Treg'</li><li>'gd NKT'</li><li>'NK cells'</li><li>'ILC2'</li><li>'B cells'</li><li>'Monocytes'</li><li>'MonMacs'</li><li>'Perivasc macs'</li><li>'Ductal macs'</li><li>'cDC1'</li><li>'cDC2'</li><li>'pDC'</li><li>'Mreg DCs'</li><li>'Mast cells'</li><li>'Basophils'</li><li>'Progenitor 1'</li><li>'Progenitor 2'</li><li>'Alveolar'</li><li>'HS'</li><li>'Myoepithelial'</li><li>'Basal'</li><li>'MyoLum'</li><li>'Tumor cells'</li><li>'Endothelial'</li><li>'Mcam Endothelial'</li><li>'Smooth muscle'</li><li>'Pericytes'</li><li>'Schwann cells'</li><li>'fibroblasts'</li><li>'Dpp4 fibroblasts'</li><li>'CAFs'</li></ol>\n"
      ],
      "text/latex": [
       "\\begin{enumerate*}\n",
       "\\item 'T cells'\n",
       "\\item 'CD8 T cells'\n",
       "\\item 'Treg'\n",
       "\\item 'gd NKT'\n",
       "\\item 'NK cells'\n",
       "\\item 'ILC2'\n",
       "\\item 'B cells'\n",
       "\\item 'Monocytes'\n",
       "\\item 'MonMacs'\n",
       "\\item 'Perivasc macs'\n",
       "\\item 'Ductal macs'\n",
       "\\item 'cDC1'\n",
       "\\item 'cDC2'\n",
       "\\item 'pDC'\n",
       "\\item 'Mreg DCs'\n",
       "\\item 'Mast cells'\n",
       "\\item 'Basophils'\n",
       "\\item 'Progenitor 1'\n",
       "\\item 'Progenitor 2'\n",
       "\\item 'Alveolar'\n",
       "\\item 'HS'\n",
       "\\item 'Myoepithelial'\n",
       "\\item 'Basal'\n",
       "\\item 'MyoLum'\n",
       "\\item 'Tumor cells'\n",
       "\\item 'Endothelial'\n",
       "\\item 'Mcam Endothelial'\n",
       "\\item 'Smooth muscle'\n",
       "\\item 'Pericytes'\n",
       "\\item 'Schwann cells'\n",
       "\\item 'fibroblasts'\n",
       "\\item 'Dpp4 fibroblasts'\n",
       "\\item 'CAFs'\n",
       "\\end{enumerate*}\n"
      ],
      "text/markdown": [
       "1. 'T cells'\n",
       "2. 'CD8 T cells'\n",
       "3. 'Treg'\n",
       "4. 'gd NKT'\n",
       "5. 'NK cells'\n",
       "6. 'ILC2'\n",
       "7. 'B cells'\n",
       "8. 'Monocytes'\n",
       "9. 'MonMacs'\n",
       "10. 'Perivasc macs'\n",
       "11. 'Ductal macs'\n",
       "12. 'cDC1'\n",
       "13. 'cDC2'\n",
       "14. 'pDC'\n",
       "15. 'Mreg DCs'\n",
       "16. 'Mast cells'\n",
       "17. 'Basophils'\n",
       "18. 'Progenitor 1'\n",
       "19. 'Progenitor 2'\n",
       "20. 'Alveolar'\n",
       "21. 'HS'\n",
       "22. 'Myoepithelial'\n",
       "23. 'Basal'\n",
       "24. 'MyoLum'\n",
       "25. 'Tumor cells'\n",
       "26. 'Endothelial'\n",
       "27. 'Mcam Endothelial'\n",
       "28. 'Smooth muscle'\n",
       "29. 'Pericytes'\n",
       "30. 'Schwann cells'\n",
       "31. 'fibroblasts'\n",
       "32. 'Dpp4 fibroblasts'\n",
       "33. 'CAFs'\n",
       "\n",
       "\n"
      ],
      "text/plain": [
       " [1] \"T cells\"          \"CD8 T cells\"      \"Treg\"             \"gd NKT\"          \n",
       " [5] \"NK cells\"         \"ILC2\"             \"B cells\"          \"Monocytes\"       \n",
       " [9] \"MonMacs\"          \"Perivasc macs\"    \"Ductal macs\"      \"cDC1\"            \n",
       "[13] \"cDC2\"             \"pDC\"              \"Mreg DCs\"         \"Mast cells\"      \n",
       "[17] \"Basophils\"        \"Progenitor 1\"     \"Progenitor 2\"     \"Alveolar\"        \n",
       "[21] \"HS\"               \"Myoepithelial\"    \"Basal\"            \"MyoLum\"          \n",
       "[25] \"Tumor cells\"      \"Endothelial\"      \"Mcam Endothelial\" \"Smooth muscle\"   \n",
       "[29] \"Pericytes\"        \"Schwann cells\"    \"fibroblasts\"      \"Dpp4 fibroblasts\"\n",
       "[33] \"CAFs\"            "
      ]
     },
     "metadata": {},
     "output_type": "display_data"
    }
   ],
   "source": [
    "cell_order"
   ]
  },
  {
   "cell_type": "code",
   "execution_count": 12,
   "id": "cb418267",
   "metadata": {},
   "outputs": [
    {
     "name": "stderr",
     "output_type": "stream",
     "text": [
      "Warning message in asMethod(object):\n",
      "“sparse->dense coercion: allocating vector of size 25.7 GiB”\n"
     ]
    }
   ],
   "source": [
    "sce = scm_export_mat_to_sce(\"all_cells_liana\", add_log_counts=T)"
   ]
  },
  {
   "cell_type": "code",
   "execution_count": 13,
   "id": "723230e4",
   "metadata": {},
   "outputs": [],
   "source": [
    "good_pics = readLines('annotations/neutrophil_good_pics.txt')"
   ]
  },
  {
   "cell_type": "code",
   "execution_count": 14,
   "id": "17092873",
   "metadata": {},
   "outputs": [
    {
     "data": {
      "text/html": [
       "643"
      ],
      "text/latex": [
       "643"
      ],
      "text/markdown": [
       "643"
      ],
      "text/plain": [
       "[1] 643"
      ]
     },
     "metadata": {},
     "output_type": "display_data"
    }
   ],
   "source": [
    "sum(good_pics %in% colnames(sce))"
   ]
  },
  {
   "cell_type": "code",
   "execution_count": 15,
   "id": "e8c4bf6f",
   "metadata": {
    "scrolled": true
   },
   "outputs": [
    {
     "data": {
      "text/html": [
       "643"
      ],
      "text/latex": [
       "643"
      ],
      "text/markdown": [
       "643"
      ],
      "text/plain": [
       "[1] 643"
      ]
     },
     "metadata": {},
     "output_type": "display_data"
    }
   ],
   "source": [
    "length(good_pics)"
   ]
  },
  {
   "cell_type": "code",
   "execution_count": 16,
   "id": "0ef042fe",
   "metadata": {},
   "outputs": [],
   "source": [
    "sce = sce[,colnames(sce) %in% union(union(names(mc_neutrophil@mc), \n",
    "                                          names(mc_kinetics@mc[mc_kinetics@annots[mc_kinetics@mc] %in% cell_order])),\n",
    "                                    good_pics)]"
   ]
  },
  {
   "cell_type": "code",
   "execution_count": 17,
   "id": "acc0e217",
   "metadata": {},
   "outputs": [
    {
     "data": {
      "text/html": [
       "643"
      ],
      "text/latex": [
       "643"
      ],
      "text/markdown": [
       "643"
      ],
      "text/plain": [
       "[1] 643"
      ]
     },
     "metadata": {},
     "output_type": "display_data"
    }
   ],
   "source": [
    "sum(good_pics %in% colnames(sce))"
   ]
  },
  {
   "cell_type": "code",
   "execution_count": 429,
   "id": "6beea4ff",
   "metadata": {},
   "outputs": [],
   "source": [
    "carcinoma_sce = sce[,sce$condition == 'tumor' & sce$Age %in% c('10w', '12w')]"
   ]
  },
  {
   "cell_type": "code",
   "execution_count": 430,
   "id": "5a6ddf80",
   "metadata": {},
   "outputs": [],
   "source": [
    "logcounts(carcinoma_sce) = as(logcounts(carcinoma_sce, withDimnames = FALSE), \"dgCMatrix\")"
   ]
  },
  {
   "cell_type": "code",
   "execution_count": 431,
   "id": "3a6ebafd",
   "metadata": {},
   "outputs": [
    {
     "data": {
      "text/html": [
       "0"
      ],
      "text/latex": [
       "0"
      ],
      "text/markdown": [
       "0"
      ],
      "text/plain": [
       "[1] 0"
      ]
     },
     "metadata": {},
     "output_type": "display_data"
    }
   ],
   "source": [
    "sum(grepl(\"__\", carcinoma_sce$annots))"
   ]
  },
  {
   "cell_type": "code",
   "execution_count": 432,
   "id": "d659f949",
   "metadata": {},
   "outputs": [],
   "source": [
    "mle_res = read.delim(\"annotations/neutrophil_mle_res.txt\", stringsAsFactors = F, row.names=1)"
   ]
  },
  {
   "cell_type": "code",
   "execution_count": 433,
   "id": "a6d50259",
   "metadata": {},
   "outputs": [
    {
     "data": {
      "text/html": [
       "<style>\n",
       ".list-inline {list-style: none; margin:0; padding: 0}\n",
       ".list-inline>li {display: inline-block}\n",
       ".list-inline>li:not(:last-child)::after {content: \"\\00b7\"; padding: 0 .5ex}\n",
       "</style>\n",
       "<ol class=list-inline><li>'T cells'</li><li>'CD8 T cells'</li><li>'Treg'</li><li>'gd NKT'</li><li>'NK cells'</li><li>'ILC2'</li><li>'B cells'</li><li>'Monocytes'</li><li>'MonMacs'</li><li>'Perivasc macs'</li><li>'Ductal macs'</li><li>'cDC1'</li><li>'cDC2'</li><li>'pDC'</li><li>'Mreg DCs'</li><li>'Mast cells'</li><li>'Basophils'</li><li>'Progenitor 1'</li><li>'Progenitor 2'</li><li>'Alveolar'</li><li>'HS'</li><li>'Myoepithelial'</li><li>'Basal'</li><li>'MyoLum'</li><li>'Tumor cells'</li><li>'Endothelial'</li><li>'Mcam Endothelial'</li><li>'Smooth muscle'</li><li>'Pericytes'</li><li>'Schwann cells'</li><li>'fibroblasts'</li><li>'Dpp4 fibroblasts'</li><li>'CAFs'</li></ol>\n"
      ],
      "text/latex": [
       "\\begin{enumerate*}\n",
       "\\item 'T cells'\n",
       "\\item 'CD8 T cells'\n",
       "\\item 'Treg'\n",
       "\\item 'gd NKT'\n",
       "\\item 'NK cells'\n",
       "\\item 'ILC2'\n",
       "\\item 'B cells'\n",
       "\\item 'Monocytes'\n",
       "\\item 'MonMacs'\n",
       "\\item 'Perivasc macs'\n",
       "\\item 'Ductal macs'\n",
       "\\item 'cDC1'\n",
       "\\item 'cDC2'\n",
       "\\item 'pDC'\n",
       "\\item 'Mreg DCs'\n",
       "\\item 'Mast cells'\n",
       "\\item 'Basophils'\n",
       "\\item 'Progenitor 1'\n",
       "\\item 'Progenitor 2'\n",
       "\\item 'Alveolar'\n",
       "\\item 'HS'\n",
       "\\item 'Myoepithelial'\n",
       "\\item 'Basal'\n",
       "\\item 'MyoLum'\n",
       "\\item 'Tumor cells'\n",
       "\\item 'Endothelial'\n",
       "\\item 'Mcam Endothelial'\n",
       "\\item 'Smooth muscle'\n",
       "\\item 'Pericytes'\n",
       "\\item 'Schwann cells'\n",
       "\\item 'fibroblasts'\n",
       "\\item 'Dpp4 fibroblasts'\n",
       "\\item 'CAFs'\n",
       "\\end{enumerate*}\n"
      ],
      "text/markdown": [
       "1. 'T cells'\n",
       "2. 'CD8 T cells'\n",
       "3. 'Treg'\n",
       "4. 'gd NKT'\n",
       "5. 'NK cells'\n",
       "6. 'ILC2'\n",
       "7. 'B cells'\n",
       "8. 'Monocytes'\n",
       "9. 'MonMacs'\n",
       "10. 'Perivasc macs'\n",
       "11. 'Ductal macs'\n",
       "12. 'cDC1'\n",
       "13. 'cDC2'\n",
       "14. 'pDC'\n",
       "15. 'Mreg DCs'\n",
       "16. 'Mast cells'\n",
       "17. 'Basophils'\n",
       "18. 'Progenitor 1'\n",
       "19. 'Progenitor 2'\n",
       "20. 'Alveolar'\n",
       "21. 'HS'\n",
       "22. 'Myoepithelial'\n",
       "23. 'Basal'\n",
       "24. 'MyoLum'\n",
       "25. 'Tumor cells'\n",
       "26. 'Endothelial'\n",
       "27. 'Mcam Endothelial'\n",
       "28. 'Smooth muscle'\n",
       "29. 'Pericytes'\n",
       "30. 'Schwann cells'\n",
       "31. 'fibroblasts'\n",
       "32. 'Dpp4 fibroblasts'\n",
       "33. 'CAFs'\n",
       "\n",
       "\n"
      ],
      "text/plain": [
       " [1] \"T cells\"          \"CD8 T cells\"      \"Treg\"             \"gd NKT\"          \n",
       " [5] \"NK cells\"         \"ILC2\"             \"B cells\"          \"Monocytes\"       \n",
       " [9] \"MonMacs\"          \"Perivasc macs\"    \"Ductal macs\"      \"cDC1\"            \n",
       "[13] \"cDC2\"             \"pDC\"              \"Mreg DCs\"         \"Mast cells\"      \n",
       "[17] \"Basophils\"        \"Progenitor 1\"     \"Progenitor 2\"     \"Alveolar\"        \n",
       "[21] \"HS\"               \"Myoepithelial\"    \"Basal\"            \"MyoLum\"          \n",
       "[25] \"Tumor cells\"      \"Endothelial\"      \"Mcam Endothelial\" \"Smooth muscle\"   \n",
       "[29] \"Pericytes\"        \"Schwann cells\"    \"fibroblasts\"      \"Dpp4 fibroblasts\"\n",
       "[33] \"CAFs\"            "
      ]
     },
     "metadata": {},
     "output_type": "display_data"
    }
   ],
   "source": [
    "cell_order"
   ]
  },
  {
   "cell_type": "code",
   "execution_count": 434,
   "id": "fc9325ae",
   "metadata": {},
   "outputs": [],
   "source": [
    "cancer_cells = c(\"Tumor cells\")"
   ]
  },
  {
   "cell_type": "code",
   "execution_count": 435,
   "id": "0adc25f9",
   "metadata": {},
   "outputs": [],
   "source": [
    "tans = c(\"TAN1\", \"TAN2\")"
   ]
  },
  {
   "cell_type": "code",
   "execution_count": 436,
   "id": "de3a5f6b",
   "metadata": {},
   "outputs": [],
   "source": [
    "alpha = mle_res[good_pics, \"alpha\"]; names(alpha) = good_pics\n",
    "epithelial_mc = mle_res[good_pics, \"a_mc\"]; names(epithelial_mc) = good_pics\n",
    "immune_mc = mle_res[good_pics, \"b_mc\"]; names(immune_mc) = good_pics\n",
    "merged_names = paste(ifelse(pic_mc@annots[immune_mc] %in% tans, \"TANs\", pic_mc@annots[immune_mc]), \n",
    "                     pic_mc@annots[epithelial_mc], \n",
    "                     sep = '__')\n",
    "names(merged_names) = good_pics"
   ]
  },
  {
   "cell_type": "code",
   "execution_count": 437,
   "id": "362424a8",
   "metadata": {},
   "outputs": [],
   "source": [
    "tan_singlets = names(mc_neutrophil@mc[mc_neutrophil@annots[mc_neutrophil@mc] %in% tans])"
   ]
  },
  {
   "cell_type": "code",
   "execution_count": 438,
   "id": "af764a97",
   "metadata": {},
   "outputs": [],
   "source": [
    "cell_names = factor(ifelse(colnames(carcinoma_sce) %in% good_pics,\n",
    "                           merged_names[colnames(carcinoma_sce)],\n",
    "                           ifelse(colnames(carcinoma_sce) %in% names(mc_neutrophil@mc),\n",
    "                                  ifelse(colnames(carcinoma_sce) %in% tan_singlets,\n",
    "                                                  'TANs',\n",
    "                                                  mc_neutrophil@annots[mc_neutrophil@mc[colnames(carcinoma_sce)]]),\n",
    "                                  mc_kinetics@annots[mc_kinetics@mc[colnames(carcinoma_sce)]])))"
   ]
  },
  {
   "cell_type": "code",
   "execution_count": 439,
   "id": "f99c232c",
   "metadata": {},
   "outputs": [
    {
     "data": {
      "text/html": [
       "<style>\n",
       ".list-inline {list-style: none; margin:0; padding: 0}\n",
       ".list-inline>li {display: inline-block}\n",
       ".list-inline>li:not(:last-child)::after {content: \"\\00b7\"; padding: 0 .5ex}\n",
       "</style>\n",
       "<ol class=list-inline><li>Alveolar</li><li>B cells</li><li>Basal</li><li>Basophils</li><li>CAFs</li><li>CD8 T cells</li><li>cDC1</li><li>cDC2</li><li>Cystatin high</li><li>Cystatin high__Progenitor 2</li><li>Cystatin high__Tumor cells</li><li>Dpp4 fibroblasts</li><li>Ductal macs</li><li>Endothelial</li><li>fibroblasts</li><li>gd NKT</li><li>HS</li><li>ILC2</li><li>Mast cells</li><li>Mcam Endothelial</li><li>MHCII Neut</li><li>MHCII Neut__Alveolar</li><li>MHCII Neut__HS</li><li>MHCII Neut__Myoepithelial</li><li>MHCII Neut__MyoLum</li><li>MHCII Neut__Progenitor 1</li><li>MHCII Neut__Progenitor 2</li><li>MHCII Neut__Tumor cells</li><li>MonMacs</li><li>Monocytes</li><li>Mreg DCs</li><li>Myoepithelial</li><li>MyoLum</li><li>Neut Ptgs2</li><li>Neut Ptgs2__Alveolar</li><li>Neut Ptgs2__Myoepithelial</li><li>Neut Ptgs2__MyoLum</li><li>Neut Ptgs2__Progenitor 1</li><li>Neut Ptgs2__Progenitor 2</li><li>Neut Ptgs2__Tumor cells</li><li>Neut Socs3</li><li>Neut Socs3__Alveolar</li><li>Neut Socs3__HS</li><li>Neut Socs3__Myoepithelial</li><li>Neut Socs3__MyoLum</li><li>Neut Socs3__Progenitor 1</li><li>Neut Socs3__Progenitor 2</li><li>Neut Socs3__Tumor cells</li><li>NK cells</li><li>pDC</li><li>Pericytes</li><li>Perivasc macs</li><li>Progenitor 1</li><li>Progenitor 2</li><li>Schwann cells</li><li>Smooth muscle</li><li>T cells</li><li>TANs</li><li>TANs__Alveolar</li><li>TANs__HS</li><li>TANs__Myoepithelial</li><li>TANs__MyoLum</li><li>TANs__Progenitor 1</li><li>TANs__Progenitor 2</li><li>TANs__Tumor cells</li><li>Treg</li><li>Tumor cells</li><li>Young Cystatin high</li><li>Young Cystatin high__Progenitor 1</li><li>Young Cystatin high__Tumor cells</li></ol>\n",
       "\n",
       "<details>\n",
       "\t<summary style=display:list-item;cursor:pointer>\n",
       "\t\t<strong>Levels</strong>:\n",
       "\t</summary>\n",
       "\t<style>\n",
       "\t.list-inline {list-style: none; margin:0; padding: 0}\n",
       "\t.list-inline>li {display: inline-block}\n",
       "\t.list-inline>li:not(:last-child)::after {content: \"\\00b7\"; padding: 0 .5ex}\n",
       "\t</style>\n",
       "\t<ol class=list-inline><li>'Alveolar'</li><li>'B cells'</li><li>'Basal'</li><li>'Basophils'</li><li>'CAFs'</li><li>'CD8 T cells'</li><li>'cDC1'</li><li>'cDC2'</li><li>'Cystatin high'</li><li>'Cystatin high__Progenitor 2'</li><li>'Cystatin high__Tumor cells'</li><li>'Dpp4 fibroblasts'</li><li>'Ductal macs'</li><li>'Endothelial'</li><li>'fibroblasts'</li><li>'gd NKT'</li><li>'HS'</li><li>'ILC2'</li><li>'Mast cells'</li><li>'Mcam Endothelial'</li><li>'MHCII Neut'</li><li>'MHCII Neut__Alveolar'</li><li>'MHCII Neut__HS'</li><li>'MHCII Neut__Myoepithelial'</li><li>'MHCII Neut__MyoLum'</li><li>'MHCII Neut__Progenitor 1'</li><li>'MHCII Neut__Progenitor 2'</li><li>'MHCII Neut__Tumor cells'</li><li>'MonMacs'</li><li>'Monocytes'</li><li>'Mreg DCs'</li><li>'Myoepithelial'</li><li>'MyoLum'</li><li>'Neut Ptgs2'</li><li>'Neut Ptgs2__Alveolar'</li><li>'Neut Ptgs2__Myoepithelial'</li><li>'Neut Ptgs2__MyoLum'</li><li>'Neut Ptgs2__Progenitor 1'</li><li>'Neut Ptgs2__Progenitor 2'</li><li>'Neut Ptgs2__Tumor cells'</li><li>'Neut Socs3'</li><li>'Neut Socs3__Alveolar'</li><li>'Neut Socs3__HS'</li><li>'Neut Socs3__Myoepithelial'</li><li>'Neut Socs3__MyoLum'</li><li>'Neut Socs3__Progenitor 1'</li><li>'Neut Socs3__Progenitor 2'</li><li>'Neut Socs3__Tumor cells'</li><li>'NK cells'</li><li>'pDC'</li><li>'Pericytes'</li><li>'Perivasc macs'</li><li>'Progenitor 1'</li><li>'Progenitor 2'</li><li>'Schwann cells'</li><li>'Smooth muscle'</li><li>'T cells'</li><li>'TANs'</li><li>'TANs__Alveolar'</li><li>'TANs__HS'</li><li>'TANs__Myoepithelial'</li><li>'TANs__MyoLum'</li><li>'TANs__Progenitor 1'</li><li>'TANs__Progenitor 2'</li><li>'TANs__Tumor cells'</li><li>'Treg'</li><li>'Tumor cells'</li><li>'Young Cystatin high'</li><li>'Young Cystatin high__Progenitor 1'</li><li>'Young Cystatin high__Tumor cells'</li></ol>\n",
       "</details>"
      ],
      "text/latex": [
       "\\begin{enumerate*}\n",
       "\\item Alveolar\n",
       "\\item B cells\n",
       "\\item Basal\n",
       "\\item Basophils\n",
       "\\item CAFs\n",
       "\\item CD8 T cells\n",
       "\\item cDC1\n",
       "\\item cDC2\n",
       "\\item Cystatin high\n",
       "\\item Cystatin high\\_\\_Progenitor 2\n",
       "\\item Cystatin high\\_\\_Tumor cells\n",
       "\\item Dpp4 fibroblasts\n",
       "\\item Ductal macs\n",
       "\\item Endothelial\n",
       "\\item fibroblasts\n",
       "\\item gd NKT\n",
       "\\item HS\n",
       "\\item ILC2\n",
       "\\item Mast cells\n",
       "\\item Mcam Endothelial\n",
       "\\item MHCII Neut\n",
       "\\item MHCII Neut\\_\\_Alveolar\n",
       "\\item MHCII Neut\\_\\_HS\n",
       "\\item MHCII Neut\\_\\_Myoepithelial\n",
       "\\item MHCII Neut\\_\\_MyoLum\n",
       "\\item MHCII Neut\\_\\_Progenitor 1\n",
       "\\item MHCII Neut\\_\\_Progenitor 2\n",
       "\\item MHCII Neut\\_\\_Tumor cells\n",
       "\\item MonMacs\n",
       "\\item Monocytes\n",
       "\\item Mreg DCs\n",
       "\\item Myoepithelial\n",
       "\\item MyoLum\n",
       "\\item Neut Ptgs2\n",
       "\\item Neut Ptgs2\\_\\_Alveolar\n",
       "\\item Neut Ptgs2\\_\\_Myoepithelial\n",
       "\\item Neut Ptgs2\\_\\_MyoLum\n",
       "\\item Neut Ptgs2\\_\\_Progenitor 1\n",
       "\\item Neut Ptgs2\\_\\_Progenitor 2\n",
       "\\item Neut Ptgs2\\_\\_Tumor cells\n",
       "\\item Neut Socs3\n",
       "\\item Neut Socs3\\_\\_Alveolar\n",
       "\\item Neut Socs3\\_\\_HS\n",
       "\\item Neut Socs3\\_\\_Myoepithelial\n",
       "\\item Neut Socs3\\_\\_MyoLum\n",
       "\\item Neut Socs3\\_\\_Progenitor 1\n",
       "\\item Neut Socs3\\_\\_Progenitor 2\n",
       "\\item Neut Socs3\\_\\_Tumor cells\n",
       "\\item NK cells\n",
       "\\item pDC\n",
       "\\item Pericytes\n",
       "\\item Perivasc macs\n",
       "\\item Progenitor 1\n",
       "\\item Progenitor 2\n",
       "\\item Schwann cells\n",
       "\\item Smooth muscle\n",
       "\\item T cells\n",
       "\\item TANs\n",
       "\\item TANs\\_\\_Alveolar\n",
       "\\item TANs\\_\\_HS\n",
       "\\item TANs\\_\\_Myoepithelial\n",
       "\\item TANs\\_\\_MyoLum\n",
       "\\item TANs\\_\\_Progenitor 1\n",
       "\\item TANs\\_\\_Progenitor 2\n",
       "\\item TANs\\_\\_Tumor cells\n",
       "\\item Treg\n",
       "\\item Tumor cells\n",
       "\\item Young Cystatin high\n",
       "\\item Young Cystatin high\\_\\_Progenitor 1\n",
       "\\item Young Cystatin high\\_\\_Tumor cells\n",
       "\\end{enumerate*}\n",
       "\n",
       "\\emph{Levels}: \\begin{enumerate*}\n",
       "\\item 'Alveolar'\n",
       "\\item 'B cells'\n",
       "\\item 'Basal'\n",
       "\\item 'Basophils'\n",
       "\\item 'CAFs'\n",
       "\\item 'CD8 T cells'\n",
       "\\item 'cDC1'\n",
       "\\item 'cDC2'\n",
       "\\item 'Cystatin high'\n",
       "\\item 'Cystatin high\\_\\_Progenitor 2'\n",
       "\\item 'Cystatin high\\_\\_Tumor cells'\n",
       "\\item 'Dpp4 fibroblasts'\n",
       "\\item 'Ductal macs'\n",
       "\\item 'Endothelial'\n",
       "\\item 'fibroblasts'\n",
       "\\item 'gd NKT'\n",
       "\\item 'HS'\n",
       "\\item 'ILC2'\n",
       "\\item 'Mast cells'\n",
       "\\item 'Mcam Endothelial'\n",
       "\\item 'MHCII Neut'\n",
       "\\item 'MHCII Neut\\_\\_Alveolar'\n",
       "\\item 'MHCII Neut\\_\\_HS'\n",
       "\\item 'MHCII Neut\\_\\_Myoepithelial'\n",
       "\\item 'MHCII Neut\\_\\_MyoLum'\n",
       "\\item 'MHCII Neut\\_\\_Progenitor 1'\n",
       "\\item 'MHCII Neut\\_\\_Progenitor 2'\n",
       "\\item 'MHCII Neut\\_\\_Tumor cells'\n",
       "\\item 'MonMacs'\n",
       "\\item 'Monocytes'\n",
       "\\item 'Mreg DCs'\n",
       "\\item 'Myoepithelial'\n",
       "\\item 'MyoLum'\n",
       "\\item 'Neut Ptgs2'\n",
       "\\item 'Neut Ptgs2\\_\\_Alveolar'\n",
       "\\item 'Neut Ptgs2\\_\\_Myoepithelial'\n",
       "\\item 'Neut Ptgs2\\_\\_MyoLum'\n",
       "\\item 'Neut Ptgs2\\_\\_Progenitor 1'\n",
       "\\item 'Neut Ptgs2\\_\\_Progenitor 2'\n",
       "\\item 'Neut Ptgs2\\_\\_Tumor cells'\n",
       "\\item 'Neut Socs3'\n",
       "\\item 'Neut Socs3\\_\\_Alveolar'\n",
       "\\item 'Neut Socs3\\_\\_HS'\n",
       "\\item 'Neut Socs3\\_\\_Myoepithelial'\n",
       "\\item 'Neut Socs3\\_\\_MyoLum'\n",
       "\\item 'Neut Socs3\\_\\_Progenitor 1'\n",
       "\\item 'Neut Socs3\\_\\_Progenitor 2'\n",
       "\\item 'Neut Socs3\\_\\_Tumor cells'\n",
       "\\item 'NK cells'\n",
       "\\item 'pDC'\n",
       "\\item 'Pericytes'\n",
       "\\item 'Perivasc macs'\n",
       "\\item 'Progenitor 1'\n",
       "\\item 'Progenitor 2'\n",
       "\\item 'Schwann cells'\n",
       "\\item 'Smooth muscle'\n",
       "\\item 'T cells'\n",
       "\\item 'TANs'\n",
       "\\item 'TANs\\_\\_Alveolar'\n",
       "\\item 'TANs\\_\\_HS'\n",
       "\\item 'TANs\\_\\_Myoepithelial'\n",
       "\\item 'TANs\\_\\_MyoLum'\n",
       "\\item 'TANs\\_\\_Progenitor 1'\n",
       "\\item 'TANs\\_\\_Progenitor 2'\n",
       "\\item 'TANs\\_\\_Tumor cells'\n",
       "\\item 'Treg'\n",
       "\\item 'Tumor cells'\n",
       "\\item 'Young Cystatin high'\n",
       "\\item 'Young Cystatin high\\_\\_Progenitor 1'\n",
       "\\item 'Young Cystatin high\\_\\_Tumor cells'\n",
       "\\end{enumerate*}\n"
      ],
      "text/markdown": [
       "1. Alveolar\n",
       "2. B cells\n",
       "3. Basal\n",
       "4. Basophils\n",
       "5. CAFs\n",
       "6. CD8 T cells\n",
       "7. cDC1\n",
       "8. cDC2\n",
       "9. Cystatin high\n",
       "10. Cystatin high__Progenitor 2\n",
       "11. Cystatin high__Tumor cells\n",
       "12. Dpp4 fibroblasts\n",
       "13. Ductal macs\n",
       "14. Endothelial\n",
       "15. fibroblasts\n",
       "16. gd NKT\n",
       "17. HS\n",
       "18. ILC2\n",
       "19. Mast cells\n",
       "20. Mcam Endothelial\n",
       "21. MHCII Neut\n",
       "22. MHCII Neut__Alveolar\n",
       "23. MHCII Neut__HS\n",
       "24. MHCII Neut__Myoepithelial\n",
       "25. MHCII Neut__MyoLum\n",
       "26. MHCII Neut__Progenitor 1\n",
       "27. MHCII Neut__Progenitor 2\n",
       "28. MHCII Neut__Tumor cells\n",
       "29. MonMacs\n",
       "30. Monocytes\n",
       "31. Mreg DCs\n",
       "32. Myoepithelial\n",
       "33. MyoLum\n",
       "34. Neut Ptgs2\n",
       "35. Neut Ptgs2__Alveolar\n",
       "36. Neut Ptgs2__Myoepithelial\n",
       "37. Neut Ptgs2__MyoLum\n",
       "38. Neut Ptgs2__Progenitor 1\n",
       "39. Neut Ptgs2__Progenitor 2\n",
       "40. Neut Ptgs2__Tumor cells\n",
       "41. Neut Socs3\n",
       "42. Neut Socs3__Alveolar\n",
       "43. Neut Socs3__HS\n",
       "44. Neut Socs3__Myoepithelial\n",
       "45. Neut Socs3__MyoLum\n",
       "46. Neut Socs3__Progenitor 1\n",
       "47. Neut Socs3__Progenitor 2\n",
       "48. Neut Socs3__Tumor cells\n",
       "49. NK cells\n",
       "50. pDC\n",
       "51. Pericytes\n",
       "52. Perivasc macs\n",
       "53. Progenitor 1\n",
       "54. Progenitor 2\n",
       "55. Schwann cells\n",
       "56. Smooth muscle\n",
       "57. T cells\n",
       "58. TANs\n",
       "59. TANs__Alveolar\n",
       "60. TANs__HS\n",
       "61. TANs__Myoepithelial\n",
       "62. TANs__MyoLum\n",
       "63. TANs__Progenitor 1\n",
       "64. TANs__Progenitor 2\n",
       "65. TANs__Tumor cells\n",
       "66. Treg\n",
       "67. Tumor cells\n",
       "68. Young Cystatin high\n",
       "69. Young Cystatin high__Progenitor 1\n",
       "70. Young Cystatin high__Tumor cells\n",
       "\n",
       "\n",
       "\n",
       "**Levels**: 1. 'Alveolar'\n",
       "2. 'B cells'\n",
       "3. 'Basal'\n",
       "4. 'Basophils'\n",
       "5. 'CAFs'\n",
       "6. 'CD8 T cells'\n",
       "7. 'cDC1'\n",
       "8. 'cDC2'\n",
       "9. 'Cystatin high'\n",
       "10. 'Cystatin high__Progenitor 2'\n",
       "11. 'Cystatin high__Tumor cells'\n",
       "12. 'Dpp4 fibroblasts'\n",
       "13. 'Ductal macs'\n",
       "14. 'Endothelial'\n",
       "15. 'fibroblasts'\n",
       "16. 'gd NKT'\n",
       "17. 'HS'\n",
       "18. 'ILC2'\n",
       "19. 'Mast cells'\n",
       "20. 'Mcam Endothelial'\n",
       "21. 'MHCII Neut'\n",
       "22. 'MHCII Neut__Alveolar'\n",
       "23. 'MHCII Neut__HS'\n",
       "24. 'MHCII Neut__Myoepithelial'\n",
       "25. 'MHCII Neut__MyoLum'\n",
       "26. 'MHCII Neut__Progenitor 1'\n",
       "27. 'MHCII Neut__Progenitor 2'\n",
       "28. 'MHCII Neut__Tumor cells'\n",
       "29. 'MonMacs'\n",
       "30. 'Monocytes'\n",
       "31. 'Mreg DCs'\n",
       "32. 'Myoepithelial'\n",
       "33. 'MyoLum'\n",
       "34. 'Neut Ptgs2'\n",
       "35. 'Neut Ptgs2__Alveolar'\n",
       "36. 'Neut Ptgs2__Myoepithelial'\n",
       "37. 'Neut Ptgs2__MyoLum'\n",
       "38. 'Neut Ptgs2__Progenitor 1'\n",
       "39. 'Neut Ptgs2__Progenitor 2'\n",
       "40. 'Neut Ptgs2__Tumor cells'\n",
       "41. 'Neut Socs3'\n",
       "42. 'Neut Socs3__Alveolar'\n",
       "43. 'Neut Socs3__HS'\n",
       "44. 'Neut Socs3__Myoepithelial'\n",
       "45. 'Neut Socs3__MyoLum'\n",
       "46. 'Neut Socs3__Progenitor 1'\n",
       "47. 'Neut Socs3__Progenitor 2'\n",
       "48. 'Neut Socs3__Tumor cells'\n",
       "49. 'NK cells'\n",
       "50. 'pDC'\n",
       "51. 'Pericytes'\n",
       "52. 'Perivasc macs'\n",
       "53. 'Progenitor 1'\n",
       "54. 'Progenitor 2'\n",
       "55. 'Schwann cells'\n",
       "56. 'Smooth muscle'\n",
       "57. 'T cells'\n",
       "58. 'TANs'\n",
       "59. 'TANs__Alveolar'\n",
       "60. 'TANs__HS'\n",
       "61. 'TANs__Myoepithelial'\n",
       "62. 'TANs__MyoLum'\n",
       "63. 'TANs__Progenitor 1'\n",
       "64. 'TANs__Progenitor 2'\n",
       "65. 'TANs__Tumor cells'\n",
       "66. 'Treg'\n",
       "67. 'Tumor cells'\n",
       "68. 'Young Cystatin high'\n",
       "69. 'Young Cystatin high__Progenitor 1'\n",
       "70. 'Young Cystatin high__Tumor cells'\n",
       "\n",
       "\n"
      ],
      "text/plain": [
       " [1] Alveolar                          B cells                          \n",
       " [3] Basal                             Basophils                        \n",
       " [5] CAFs                              CD8 T cells                      \n",
       " [7] cDC1                              cDC2                             \n",
       " [9] Cystatin high                     Cystatin high__Progenitor 2      \n",
       "[11] Cystatin high__Tumor cells        Dpp4 fibroblasts                 \n",
       "[13] Ductal macs                       Endothelial                      \n",
       "[15] fibroblasts                       gd NKT                           \n",
       "[17] HS                                ILC2                             \n",
       "[19] Mast cells                        Mcam Endothelial                 \n",
       "[21] MHCII Neut                        MHCII Neut__Alveolar             \n",
       "[23] MHCII Neut__HS                    MHCII Neut__Myoepithelial        \n",
       "[25] MHCII Neut__MyoLum                MHCII Neut__Progenitor 1         \n",
       "[27] MHCII Neut__Progenitor 2          MHCII Neut__Tumor cells          \n",
       "[29] MonMacs                           Monocytes                        \n",
       "[31] Mreg DCs                          Myoepithelial                    \n",
       "[33] MyoLum                            Neut Ptgs2                       \n",
       "[35] Neut Ptgs2__Alveolar              Neut Ptgs2__Myoepithelial        \n",
       "[37] Neut Ptgs2__MyoLum                Neut Ptgs2__Progenitor 1         \n",
       "[39] Neut Ptgs2__Progenitor 2          Neut Ptgs2__Tumor cells          \n",
       "[41] Neut Socs3                        Neut Socs3__Alveolar             \n",
       "[43] Neut Socs3__HS                    Neut Socs3__Myoepithelial        \n",
       "[45] Neut Socs3__MyoLum                Neut Socs3__Progenitor 1         \n",
       "[47] Neut Socs3__Progenitor 2          Neut Socs3__Tumor cells          \n",
       "[49] NK cells                          pDC                              \n",
       "[51] Pericytes                         Perivasc macs                    \n",
       "[53] Progenitor 1                      Progenitor 2                     \n",
       "[55] Schwann cells                     Smooth muscle                    \n",
       "[57] T cells                           TANs                             \n",
       "[59] TANs__Alveolar                    TANs__HS                         \n",
       "[61] TANs__Myoepithelial               TANs__MyoLum                     \n",
       "[63] TANs__Progenitor 1                TANs__Progenitor 2               \n",
       "[65] TANs__Tumor cells                 Treg                             \n",
       "[67] Tumor cells                       Young Cystatin high              \n",
       "[69] Young Cystatin high__Progenitor 1 Young Cystatin high__Tumor cells \n",
       "70 Levels: Alveolar B cells Basal Basophils CAFs CD8 T cells cDC1 ... Young Cystatin high__Tumor cells"
      ]
     },
     "metadata": {},
     "output_type": "display_data"
    }
   ],
   "source": [
    "cell_names %>% unique %>% sort"
   ]
  },
  {
   "cell_type": "code",
   "execution_count": 28,
   "id": "c7f4081d",
   "metadata": {},
   "outputs": [],
   "source": [
    "write_csv(data.frame(cell=colnames(carcinoma_sce), name=cell_names), \"annotations/liana_cell_tanmerged_names.csv\")"
   ]
  },
  {
   "cell_type": "code",
   "execution_count": 440,
   "id": "d6084706",
   "metadata": {},
   "outputs": [],
   "source": [
    "carcinoma_sce@colData$annots = cell_names"
   ]
  },
  {
   "cell_type": "code",
   "execution_count": 441,
   "id": "4c289361",
   "metadata": {},
   "outputs": [
    {
     "data": {
      "text/html": [
       "576"
      ],
      "text/latex": [
       "576"
      ],
      "text/markdown": [
       "576"
      ],
      "text/plain": [
       "[1] 576"
      ]
     },
     "metadata": {},
     "output_type": "display_data"
    }
   ],
   "source": [
    "sum(good_pics %in% colnames(carcinoma_sce))"
   ]
  },
  {
   "cell_type": "code",
   "execution_count": 442,
   "id": "41d6425d",
   "metadata": {},
   "outputs": [
    {
     "data": {
      "text/html": [
       "576"
      ],
      "text/latex": [
       "576"
      ],
      "text/markdown": [
       "576"
      ],
      "text/plain": [
       "[1] 576"
      ]
     },
     "metadata": {},
     "output_type": "display_data"
    }
   ],
   "source": [
    "sum(grepl(\"__\", carcinoma_sce$annots))"
   ]
  },
  {
   "cell_type": "code",
   "execution_count": 32,
   "id": "a0b4ed27",
   "metadata": {},
   "outputs": [
    {
     "data": {
      "text/plain": [
       "\n",
       "                        Basophils       Cystatin high__Progenitor 2 \n",
       "                                1                                 1 \n",
       "                   MHCII Neut__HS         MHCII Neut__Myoepithelial \n",
       "                                1                                 1 \n",
       "             Neut Socs3__Alveolar         Neut Socs3__Myoepithelial \n",
       "                                1                                 1 \n",
       "               Neut Socs3__MyoLum                     Schwann cells \n",
       "                                1                                 1 \n",
       "              TANs__Myoepithelial                             Basal \n",
       "                                1                                 2 \n",
       "        Neut Ptgs2__Myoepithelial                Neut Ptgs2__MyoLum \n",
       "                                2                                 2 \n",
       "                   Neut Socs3__HS          Neut Socs3__Progenitor 1 \n",
       "                                2                                 2 \n",
       "Young Cystatin high__Progenitor 1                     Cystatin high \n",
       "                                2                                 3 \n",
       "             Neut Ptgs2__Alveolar          Neut Ptgs2__Progenitor 1 \n",
       "                                3                                 3 \n",
       "                    Smooth muscle                    TANs__Alveolar \n",
       "                                3                                 3 \n",
       "         Neut Socs3__Progenitor 2                          TANs__HS \n",
       "                                4                                 4 \n",
       "                     TANs__MyoLum              MHCII Neut__Alveolar \n",
       "                                4                                 5 \n",
       "         Neut Ptgs2__Progenitor 2                TANs__Progenitor 2 \n",
       "                                5                                 5 \n",
       "               MHCII Neut__MyoLum          MHCII Neut__Progenitor 1 \n",
       "                                7                                 7 \n",
       "               TANs__Progenitor 1                     Myoepithelial \n",
       "                                7                                 8 \n",
       "              Young Cystatin high        Cystatin high__Tumor cells \n",
       "                                9                                10 \n",
       " Young Cystatin high__Tumor cells          MHCII Neut__Progenitor 2 \n",
       "                               10                                11 \n",
       "                       Mast cells                                HS \n",
       "                               12                                18 \n",
       "                         Mreg DCs                      Progenitor 1 \n",
       "                               18                                20 \n",
       "                         Alveolar                               pDC \n",
       "                               27                                31 \n",
       "                       Neut Ptgs2                         Pericytes \n",
       "                               33                                39 \n",
       "                 Dpp4 fibroblasts                              ILC2 \n",
       "                               41                                41 \n",
       "                       Neut Socs3                       CD8 T cells \n",
       "                               46                                51 \n",
       "                             Treg                        MHCII Neut \n",
       "                               53                                62 \n",
       "                      Endothelial                       fibroblasts \n",
       "                               66                                69 \n",
       "          Neut Socs3__Tumor cells                         Monocytes \n",
       "                               74                                75 \n",
       "                             cDC2                          NK cells \n",
       "                               77                                78 \n",
       "          Neut Ptgs2__Tumor cells                      Progenitor 2 \n",
       "                               98                               100 \n",
       "                             cDC1                  Mcam Endothelial \n",
       "                              111                               122 \n",
       "                             CAFs           MHCII Neut__Tumor cells \n",
       "                              124                               127 \n",
       "                           MyoLum                 TANs__Tumor cells \n",
       "                              158                               172 \n",
       "                             TANs                     Perivasc macs \n",
       "                              174                               190 \n",
       "                          MonMacs                            gd NKT \n",
       "                              199                               302 \n",
       "                          B cells                           T cells \n",
       "                              414                               596 \n",
       "                      Ductal macs                       Tumor cells \n",
       "                             1319                              2954 "
      ]
     },
     "metadata": {},
     "output_type": "display_data"
    }
   ],
   "source": [
    "table(carcinoma_sce@colData$annots) %>% sort"
   ]
  },
  {
   "cell_type": "code",
   "execution_count": null,
   "id": "3d07a586",
   "metadata": {},
   "outputs": [],
   "source": [
    "carcinoma_sce = carcinoma_sce[,table(carcinoma_sce@colData$annots)[carcinoma_sce@colData$annots] >= 30]"
   ]
  },
  {
   "cell_type": "code",
   "execution_count": 46,
   "id": "b30d99ae",
   "metadata": {},
   "outputs": [],
   "source": [
    "tumor_niche = c('CAFs', 'Progenitor 2', 'Tumor cells', 'Pericytes', 'Mcam Endothelial', 'Ductal macs', 'Mreg DCs', 'TANs')"
   ]
  },
  {
   "cell_type": "code",
   "execution_count": 47,
   "id": "5b93c65f",
   "metadata": {},
   "outputs": [],
   "source": [
    "niche_sce = carcinoma_sce[,carcinoma_sce$annots %in% c(tumor_niche, 'TANs__Tumor cells')]"
   ]
  },
  {
   "cell_type": "code",
   "execution_count": 48,
   "id": "4b6f64be",
   "metadata": {},
   "outputs": [],
   "source": [
    "niche_sce$annots = droplevels(niche_sce$annots)"
   ]
  },
  {
   "cell_type": "code",
   "execution_count": 49,
   "id": "282c9fda",
   "metadata": {},
   "outputs": [
    {
     "data": {
      "text/html": [
       "<style>\n",
       ".list-inline {list-style: none; margin:0; padding: 0}\n",
       ".list-inline>li {display: inline-block}\n",
       ".list-inline>li:not(:last-child)::after {content: \"\\00b7\"; padding: 0 .5ex}\n",
       "</style>\n",
       "<ol class=list-inline><li>Ductal macs</li><li>CAFs</li><li>Tumor cells</li><li>Progenitor 2</li><li>Mcam Endothelial</li><li>Pericytes</li><li>Mreg DCs</li><li>TANs__Tumor cells</li><li>TANs</li></ol>\n",
       "\n",
       "<details>\n",
       "\t<summary style=display:list-item;cursor:pointer>\n",
       "\t\t<strong>Levels</strong>:\n",
       "\t</summary>\n",
       "\t<style>\n",
       "\t.list-inline {list-style: none; margin:0; padding: 0}\n",
       "\t.list-inline>li {display: inline-block}\n",
       "\t.list-inline>li:not(:last-child)::after {content: \"\\00b7\"; padding: 0 .5ex}\n",
       "\t</style>\n",
       "\t<ol class=list-inline><li>'CAFs'</li><li>'Ductal macs'</li><li>'Mcam Endothelial'</li><li>'Mreg DCs'</li><li>'Pericytes'</li><li>'Progenitor 2'</li><li>'TANs'</li><li>'TANs__Tumor cells'</li><li>'Tumor cells'</li></ol>\n",
       "</details>"
      ],
      "text/latex": [
       "\\begin{enumerate*}\n",
       "\\item Ductal macs\n",
       "\\item CAFs\n",
       "\\item Tumor cells\n",
       "\\item Progenitor 2\n",
       "\\item Mcam Endothelial\n",
       "\\item Pericytes\n",
       "\\item Mreg DCs\n",
       "\\item TANs\\_\\_Tumor cells\n",
       "\\item TANs\n",
       "\\end{enumerate*}\n",
       "\n",
       "\\emph{Levels}: \\begin{enumerate*}\n",
       "\\item 'CAFs'\n",
       "\\item 'Ductal macs'\n",
       "\\item 'Mcam Endothelial'\n",
       "\\item 'Mreg DCs'\n",
       "\\item 'Pericytes'\n",
       "\\item 'Progenitor 2'\n",
       "\\item 'TANs'\n",
       "\\item 'TANs\\_\\_Tumor cells'\n",
       "\\item 'Tumor cells'\n",
       "\\end{enumerate*}\n"
      ],
      "text/markdown": [
       "1. Ductal macs\n",
       "2. CAFs\n",
       "3. Tumor cells\n",
       "4. Progenitor 2\n",
       "5. Mcam Endothelial\n",
       "6. Pericytes\n",
       "7. Mreg DCs\n",
       "8. TANs__Tumor cells\n",
       "9. TANs\n",
       "\n",
       "\n",
       "\n",
       "**Levels**: 1. 'CAFs'\n",
       "2. 'Ductal macs'\n",
       "3. 'Mcam Endothelial'\n",
       "4. 'Mreg DCs'\n",
       "5. 'Pericytes'\n",
       "6. 'Progenitor 2'\n",
       "7. 'TANs'\n",
       "8. 'TANs__Tumor cells'\n",
       "9. 'Tumor cells'\n",
       "\n",
       "\n"
      ],
      "text/plain": [
       "[1] Ductal macs       CAFs              Tumor cells       Progenitor 2     \n",
       "[5] Mcam Endothelial  Pericytes         Mreg DCs          TANs__Tumor cells\n",
       "[9] TANs             \n",
       "9 Levels: CAFs Ductal macs Mcam Endothelial Mreg DCs ... Tumor cells"
      ]
     },
     "metadata": {},
     "output_type": "display_data"
    }
   ],
   "source": [
    "niche_sce$annots %>% unique"
   ]
  },
  {
   "cell_type": "code",
   "execution_count": 58,
   "id": "df2a671e",
   "metadata": {
    "scrolled": true
   },
   "outputs": [
    {
     "name": "stderr",
     "output_type": "stream",
     "text": [
      "Running LIANA with `annots` as labels!\n",
      "\n",
      "Warning message in exec(output, ...):\n",
      "“12526 genes and/or 0 cells were removed as they had no counts!”\n",
      "LIANA: LR summary stats calculated!\n",
      "\n",
      "Now Running: Natmi\n",
      "\n",
      "Now Running: Connectome\n",
      "\n",
      "Now Running: Logfc\n",
      "\n",
      "Now Running: Sca\n",
      "\n",
      "Now Running: Cellphonedb\n",
      "\n"
     ]
    }
   ],
   "source": [
    "liana_res <- liana_wrap(niche_sce, idents_col = \"annots\", expr_prop=0.05,\n",
    "                        resource = 'custom', # resource has to be set to 'custom' to work with external resources\n",
    "                        external_resource = ortholog_resource , # provide orthologous resource\n",
    "#                        method=c('sca', 'natmi') # run only with sca and natmi for comp. time\n",
    "                        )\n"
   ]
  },
  {
   "cell_type": "code",
   "execution_count": 59,
   "id": "20f77ca7",
   "metadata": {},
   "outputs": [
    {
     "name": "stderr",
     "output_type": "stream",
     "text": [
      "Now aggregating natmi\n",
      "\n",
      "Now aggregating connectome\n",
      "\n",
      "Now aggregating logfc\n",
      "\n",
      "Now aggregating sca\n",
      "\n",
      "Now aggregating cellphonedb\n",
      "\n",
      "Aggregating Ranks\n",
      "\n"
     ]
    }
   ],
   "source": [
    "liana_res = liana_aggregate(liana_res)"
   ]
  },
  {
   "cell_type": "code",
   "execution_count": 60,
   "id": "3e7be947",
   "metadata": {},
   "outputs": [],
   "source": [
    "write_csv(liana_res, \"annotations/liana_results_tanmerged_tumor_pics_niche.csv\")"
   ]
  }
 ],
 "metadata": {
  "kernelspec": {
   "display_name": "R",
   "language": "R",
   "name": "ir"
  },
  "language_info": {
   "codemirror_mode": "r",
   "file_extension": ".r",
   "mimetype": "text/x-r-source",
   "name": "R",
   "pygments_lexer": "r",
   "version": "4.1.3"
  }
 },
 "nbformat": 4,
 "nbformat_minor": 5
}
