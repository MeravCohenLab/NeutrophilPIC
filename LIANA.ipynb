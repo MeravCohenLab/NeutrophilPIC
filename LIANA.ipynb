{
 "cells": [
  {
   "cell_type": "code",
   "execution_count": 4,
   "id": "4bf476ae",
   "metadata": {
    "collapsed": true
   },
   "outputs": [],
   "source": [
    "library(metacell)\n",
    "library(GEOquery)\n",
    "library(googlesheets4)\n",
    "library(googledrive)\n",
    "library(devtools)\n",
    "library(dplyr)\n",
    "library(tibble)\n",
    "library(ggplot2)\n",
    "library(tidyverse)\n",
    "library(tgstat)\n",
    "library(tgconfig)\n",
    "library(liana)\n",
    "library(SingleCellExperiment)\n",
    "library(Seurat)\n",
    "library(magrittr)"
   ]
  },
  {
   "cell_type": "code",
   "execution_count": 5,
   "id": "f89c0074",
   "metadata": {},
   "outputs": [
    {
     "data": {
      "text/html": [
       "<style>\n",
       ".list-inline {list-style: none; margin:0; padding: 0}\n",
       ".list-inline>li {display: inline-block}\n",
       ".list-inline>li:not(:last-child)::after {content: \"\\00b7\"; padding: 0 .5ex}\n",
       "</style>\n",
       "<ol class=list-inline><li>'Default'</li><li>'Consensus'</li><li>'Baccin2019'</li><li>'CellCall'</li><li>'CellChatDB'</li><li>'Cellinker'</li><li>'CellPhoneDB'</li><li>'CellTalkDB'</li><li>'connectomeDB2020'</li><li>'EMBRACE'</li><li>'Guide2Pharma'</li><li>'HPMR'</li><li>'ICELLNET'</li><li>'iTALK'</li><li>'Kirouac2010'</li><li>'LRdb'</li><li>'Ramilowski2015'</li><li>'OmniPath'</li></ol>\n"
      ],
      "text/latex": [
       "\\begin{enumerate*}\n",
       "\\item 'Default'\n",
       "\\item 'Consensus'\n",
       "\\item 'Baccin2019'\n",
       "\\item 'CellCall'\n",
       "\\item 'CellChatDB'\n",
       "\\item 'Cellinker'\n",
       "\\item 'CellPhoneDB'\n",
       "\\item 'CellTalkDB'\n",
       "\\item 'connectomeDB2020'\n",
       "\\item 'EMBRACE'\n",
       "\\item 'Guide2Pharma'\n",
       "\\item 'HPMR'\n",
       "\\item 'ICELLNET'\n",
       "\\item 'iTALK'\n",
       "\\item 'Kirouac2010'\n",
       "\\item 'LRdb'\n",
       "\\item 'Ramilowski2015'\n",
       "\\item 'OmniPath'\n",
       "\\end{enumerate*}\n"
      ],
      "text/markdown": [
       "1. 'Default'\n",
       "2. 'Consensus'\n",
       "3. 'Baccin2019'\n",
       "4. 'CellCall'\n",
       "5. 'CellChatDB'\n",
       "6. 'Cellinker'\n",
       "7. 'CellPhoneDB'\n",
       "8. 'CellTalkDB'\n",
       "9. 'connectomeDB2020'\n",
       "10. 'EMBRACE'\n",
       "11. 'Guide2Pharma'\n",
       "12. 'HPMR'\n",
       "13. 'ICELLNET'\n",
       "14. 'iTALK'\n",
       "15. 'Kirouac2010'\n",
       "16. 'LRdb'\n",
       "17. 'Ramilowski2015'\n",
       "18. 'OmniPath'\n",
       "\n",
       "\n"
      ],
      "text/plain": [
       " [1] \"Default\"          \"Consensus\"        \"Baccin2019\"       \"CellCall\"        \n",
       " [5] \"CellChatDB\"       \"Cellinker\"        \"CellPhoneDB\"      \"CellTalkDB\"      \n",
       " [9] \"connectomeDB2020\" \"EMBRACE\"          \"Guide2Pharma\"     \"HPMR\"            \n",
       "[13] \"ICELLNET\"         \"iTALK\"            \"Kirouac2010\"      \"LRdb\"            \n",
       "[17] \"Ramilowski2015\"   \"OmniPath\"        "
      ]
     },
     "metadata": {},
     "output_type": "display_data"
    }
   ],
   "source": [
    "show_resources()"
   ]
  },
  {
   "cell_type": "code",
   "execution_count": 6,
   "id": "ad2faccc",
   "metadata": {
    "scrolled": true
   },
   "outputs": [
    {
     "data": {
      "text/html": [
       "<style>\n",
       ".list-inline {list-style: none; margin:0; padding: 0}\n",
       ".list-inline>li {display: inline-block}\n",
       ".list-inline>li:not(:last-child)::after {content: \"\\00b7\"; padding: 0 .5ex}\n",
       "</style>\n",
       "<ol class=list-inline><li>'connectome'</li><li>'logfc'</li><li>'natmi'</li><li>'sca'</li><li>'cellphonedb'</li><li>'cytotalk'</li><li>'call_squidpy'</li><li>'call_cellchat'</li><li>'call_connectome'</li><li>'call_sca'</li><li>'call_italk'</li><li>'call_natmi'</li></ol>\n"
      ],
      "text/latex": [
       "\\begin{enumerate*}\n",
       "\\item 'connectome'\n",
       "\\item 'logfc'\n",
       "\\item 'natmi'\n",
       "\\item 'sca'\n",
       "\\item 'cellphonedb'\n",
       "\\item 'cytotalk'\n",
       "\\item 'call\\_squidpy'\n",
       "\\item 'call\\_cellchat'\n",
       "\\item 'call\\_connectome'\n",
       "\\item 'call\\_sca'\n",
       "\\item 'call\\_italk'\n",
       "\\item 'call\\_natmi'\n",
       "\\end{enumerate*}\n"
      ],
      "text/markdown": [
       "1. 'connectome'\n",
       "2. 'logfc'\n",
       "3. 'natmi'\n",
       "4. 'sca'\n",
       "5. 'cellphonedb'\n",
       "6. 'cytotalk'\n",
       "7. 'call_squidpy'\n",
       "8. 'call_cellchat'\n",
       "9. 'call_connectome'\n",
       "10. 'call_sca'\n",
       "11. 'call_italk'\n",
       "12. 'call_natmi'\n",
       "\n",
       "\n"
      ],
      "text/plain": [
       " [1] \"connectome\"      \"logfc\"           \"natmi\"           \"sca\"            \n",
       " [5] \"cellphonedb\"     \"cytotalk\"        \"call_squidpy\"    \"call_cellchat\"  \n",
       " [9] \"call_connectome\" \"call_sca\"        \"call_italk\"      \"call_natmi\"     "
      ]
     },
     "metadata": {},
     "output_type": "display_data"
    }
   ],
   "source": [
    "show_methods()"
   ]
  },
  {
   "cell_type": "code",
   "execution_count": 7,
   "id": "d9167873",
   "metadata": {},
   "outputs": [],
   "source": [
    "liana_path <- system.file(package = \"liana\")"
   ]
  },
  {
   "cell_type": "code",
   "execution_count": 8,
   "id": "7375c008",
   "metadata": {},
   "outputs": [],
   "source": [
    "op_resource <- select_resource(\"Consensus\")[[1]]"
   ]
  },
  {
   "cell_type": "code",
   "execution_count": 9,
   "id": "4bc3be2b",
   "metadata": {},
   "outputs": [
    {
     "name": "stderr",
     "output_type": "stream",
     "text": [
      "Warning message:\n",
      "“\u001b[1m\u001b[22mAutomatic coercion from integer to character was deprecated in purrr 1.0.0.\n",
      "\u001b[36mℹ\u001b[39m Please use an explicit call to `as.character()` within `map_chr()` instead.\n",
      "\u001b[36mℹ\u001b[39m The deprecated feature was likely used in the \u001b[34mOmnipathR\u001b[39m package.\n",
      "  Please report the issue at \u001b[3m\u001b[34m<https://github.com/saezlab/OmnipathR/issues>\u001b[39m\u001b[23m.”\n",
      "One-to-many homolog matches: C4A; C4B; CCL27; CD200R1L; CD55; CEACAM1; CLEC10A; CSF2RB; DSG1; ENO1; GSTP1; HLA-DMB; HLA-E; HLA-F; IFNL3; IL11RA; IL22; KIR3DL3; KLRB1; KNG1; LILRB4; LYZ; MRGPRX2; PILRB; PRND; PRSS3; RNASE2; SAA1; SERPINA1\n",
      "\n"
     ]
    }
   ],
   "source": [
    "ortholog_resource <- generate_homologs(op_resource = op_resource,\n",
    "                                       .missing_fun = str_to_title,\n",
    "                                       max_homologs = 5,\n",
    "                                       target_organism = 10090) # mouse"
   ]
  },
  {
   "cell_type": "code",
   "execution_count": 10,
   "id": "e99650ff",
   "metadata": {},
   "outputs": [],
   "source": [
    "ortholog_resource = ortholog_resource %>% \n",
    "    rbind(c('S100a8', 'Mcam', '', '', 'cell_surface_ligand', 'manual', 'receptor', 'manual', '', \n",
    "            'https://doi.org/10.1007/s10585-016-9801-2')) %>%\n",
    "    rbind(c('S100a9', 'Mcam', '', '', 'cell_surface_ligand', 'manual', 'receptor', 'manual', '', \n",
    "            'https://doi.org/10.1007/s10585-016-9801-2')) %>%\n",
    "    rbind(c('S100a8', 'Alcam', '', '', 'cell_surface_ligand', 'manual', 'receptor', 'manual', '', \n",
    "            'https://doi.org/10.1007/s10585-016-9801-2')) %>%\n",
    "    rbind(c('S100a9', 'Alcam', '', '', 'cell_surface_ligand', 'manual', 'receptor', 'manual', '', \n",
    "            'https://doi.org/10.1007/s10585-016-9801-2'))\n"
   ]
  },
  {
   "cell_type": "code",
   "execution_count": 11,
   "id": "ed8ccdf7",
   "metadata": {},
   "outputs": [
    {
     "name": "stderr",
     "output_type": "stream",
     "text": [
      "initializing scdb to scdb/\n",
      "\n"
     ]
    }
   ],
   "source": [
    "if(!dir.exists(\"scdb\")) dir.create(\"scdb/\")\n",
    "scdb_init(\"scdb/\", force_reinit=T)\n",
    "#> initializing scdb to testdb/"
   ]
  },
  {
   "cell_type": "code",
   "execution_count": 12,
   "id": "7ffdf507",
   "metadata": {},
   "outputs": [],
   "source": [
    "mat = scdb_mat(\"all_cells_liana\")\n",
    "mc_neutrophil = scdb_mc(\"neutrophil_mc\")\n",
    "mc_kinetics = scdb_mc(\"kinetics_mc\")\n",
    "pic_mc = scdb_mc(\"merged_neutrophil_epithelial_mc\")"
   ]
  },
  {
   "cell_type": "code",
   "execution_count": 13,
   "id": "ba71f390",
   "metadata": {},
   "outputs": [],
   "source": [
    "# RAN ALREADY\n",
    "\n",
    "#fixed_pic_annots = c(mc_neutrophil@annots,\n",
    "#                     ifelse(pic_mc@annots[9:length(pic_mc@annots)] %in% c('Alveolar spp l', \n",
    "#                                                                          'Alveolar spp1 h', \n",
    "#                                                                          'Alveolar secretory'),\n",
    "#                            'Tumor cells',\n",
    "#                            pic_mc@annots[9:length(pic_mc@annots)]))\n",
    "\n",
    "#fixed_pic_colors = c(mc_neutrophil@colors[match(fixed_pic_annots, mc_neutrophil@annots)] %>% na.omit,\n",
    "#                     mc_kinetics@colors[match(fixed_pic_annots, mc_kinetics@annots)] %>% na.omit)\n",
    "\n",
    "#mcell_mc_add_annot(\"merged_neutrophil_epithelial_mc\", fixed_pic_annots)\n",
    "#mcell_mc_add_color(\"merged_neutrophil_epithelial_mc\", fixed_pic_colors)"
   ]
  },
  {
   "cell_type": "code",
   "execution_count": 14,
   "id": "082b216b",
   "metadata": {},
   "outputs": [],
   "source": [
    "doublet_order = c(2, 16)\n",
    "doublet_clusters = unique(mc_kinetics@annots)[doublet_order]\n",
    "lymphoid_order = c(25, 26, 27, 21, 20, 28, 24)\n",
    "myeloid_order = c(31, 32, 29, 34, 36, 33, 35, 22, 19, 23, 30)\n",
    "epithelial_order = c(11, 13, 12, 14, 18, 15, 17, 10)\n",
    "stromal_order = c(1, 3, 8, 9, 7)\n",
    "fibroblast_order = c(5, 4, 6)\n",
    "order_index = c(lymphoid_order, myeloid_order, epithelial_order, stromal_order, fibroblast_order)\n",
    "cell_order = unique(mc_kinetics@annots)[order_index]"
   ]
  },
  {
   "cell_type": "code",
   "execution_count": 15,
   "id": "6da1b2f3",
   "metadata": {},
   "outputs": [],
   "source": [
    "cell_order = cell_order[cell_order != \"Neutrophils\"]"
   ]
  },
  {
   "cell_type": "code",
   "execution_count": 16,
   "id": "73a06dda",
   "metadata": {},
   "outputs": [
    {
     "data": {
      "text/html": [
       "<style>\n",
       ".list-inline {list-style: none; margin:0; padding: 0}\n",
       ".list-inline>li {display: inline-block}\n",
       ".list-inline>li:not(:last-child)::after {content: \"\\00b7\"; padding: 0 .5ex}\n",
       "</style>\n",
       "<ol class=list-inline><li>'T cells'</li><li>'CD8 T cells'</li><li>'Treg'</li><li>'gd NKT'</li><li>'NK cells'</li><li>'ILC2'</li><li>'B cells'</li><li>'Monocytes'</li><li>'MonMacs'</li><li>'Perivasc macs'</li><li>'Ductal macs'</li><li>'cDC1'</li><li>'cDC2'</li><li>'pDC'</li><li>'Mreg DCs'</li><li>'Mast cells'</li><li>'Basophils'</li><li>'Progenitor 1'</li><li>'Progenitor 2'</li><li>'Alveolar'</li><li>'HS'</li><li>'Myoepithelial'</li><li>'Basal'</li><li>'MyoLum'</li><li>'Tumor cells'</li><li>'Endothelial'</li><li>'Mcam Endothelial'</li><li>'Smooth muscle'</li><li>'Pericytes'</li><li>'Schwann cells'</li><li>'fibroblasts'</li><li>'Dpp4 fibroblasts'</li><li>'CAFs'</li></ol>\n"
      ],
      "text/latex": [
       "\\begin{enumerate*}\n",
       "\\item 'T cells'\n",
       "\\item 'CD8 T cells'\n",
       "\\item 'Treg'\n",
       "\\item 'gd NKT'\n",
       "\\item 'NK cells'\n",
       "\\item 'ILC2'\n",
       "\\item 'B cells'\n",
       "\\item 'Monocytes'\n",
       "\\item 'MonMacs'\n",
       "\\item 'Perivasc macs'\n",
       "\\item 'Ductal macs'\n",
       "\\item 'cDC1'\n",
       "\\item 'cDC2'\n",
       "\\item 'pDC'\n",
       "\\item 'Mreg DCs'\n",
       "\\item 'Mast cells'\n",
       "\\item 'Basophils'\n",
       "\\item 'Progenitor 1'\n",
       "\\item 'Progenitor 2'\n",
       "\\item 'Alveolar'\n",
       "\\item 'HS'\n",
       "\\item 'Myoepithelial'\n",
       "\\item 'Basal'\n",
       "\\item 'MyoLum'\n",
       "\\item 'Tumor cells'\n",
       "\\item 'Endothelial'\n",
       "\\item 'Mcam Endothelial'\n",
       "\\item 'Smooth muscle'\n",
       "\\item 'Pericytes'\n",
       "\\item 'Schwann cells'\n",
       "\\item 'fibroblasts'\n",
       "\\item 'Dpp4 fibroblasts'\n",
       "\\item 'CAFs'\n",
       "\\end{enumerate*}\n"
      ],
      "text/markdown": [
       "1. 'T cells'\n",
       "2. 'CD8 T cells'\n",
       "3. 'Treg'\n",
       "4. 'gd NKT'\n",
       "5. 'NK cells'\n",
       "6. 'ILC2'\n",
       "7. 'B cells'\n",
       "8. 'Monocytes'\n",
       "9. 'MonMacs'\n",
       "10. 'Perivasc macs'\n",
       "11. 'Ductal macs'\n",
       "12. 'cDC1'\n",
       "13. 'cDC2'\n",
       "14. 'pDC'\n",
       "15. 'Mreg DCs'\n",
       "16. 'Mast cells'\n",
       "17. 'Basophils'\n",
       "18. 'Progenitor 1'\n",
       "19. 'Progenitor 2'\n",
       "20. 'Alveolar'\n",
       "21. 'HS'\n",
       "22. 'Myoepithelial'\n",
       "23. 'Basal'\n",
       "24. 'MyoLum'\n",
       "25. 'Tumor cells'\n",
       "26. 'Endothelial'\n",
       "27. 'Mcam Endothelial'\n",
       "28. 'Smooth muscle'\n",
       "29. 'Pericytes'\n",
       "30. 'Schwann cells'\n",
       "31. 'fibroblasts'\n",
       "32. 'Dpp4 fibroblasts'\n",
       "33. 'CAFs'\n",
       "\n",
       "\n"
      ],
      "text/plain": [
       " [1] \"T cells\"          \"CD8 T cells\"      \"Treg\"             \"gd NKT\"          \n",
       " [5] \"NK cells\"         \"ILC2\"             \"B cells\"          \"Monocytes\"       \n",
       " [9] \"MonMacs\"          \"Perivasc macs\"    \"Ductal macs\"      \"cDC1\"            \n",
       "[13] \"cDC2\"             \"pDC\"              \"Mreg DCs\"         \"Mast cells\"      \n",
       "[17] \"Basophils\"        \"Progenitor 1\"     \"Progenitor 2\"     \"Alveolar\"        \n",
       "[21] \"HS\"               \"Myoepithelial\"    \"Basal\"            \"MyoLum\"          \n",
       "[25] \"Tumor cells\"      \"Endothelial\"      \"Mcam Endothelial\" \"Smooth muscle\"   \n",
       "[29] \"Pericytes\"        \"Schwann cells\"    \"fibroblasts\"      \"Dpp4 fibroblasts\"\n",
       "[33] \"CAFs\"            "
      ]
     },
     "metadata": {},
     "output_type": "display_data"
    }
   ],
   "source": [
    "cell_order"
   ]
  },
  {
   "cell_type": "code",
   "execution_count": 17,
   "id": "cb418267",
   "metadata": {},
   "outputs": [
    {
     "name": "stderr",
     "output_type": "stream",
     "text": [
      "Warning message in asMethod(object):\n",
      "“sparse->dense coercion: allocating vector of size 12.4 GiB”\n"
     ]
    }
   ],
   "source": [
    "sce = scm_export_mat_to_sce(\"all_cells_liana\", add_log_counts=T)"
   ]
  },
  {
   "cell_type": "code",
   "execution_count": 2075,
   "id": "723230e4",
   "metadata": {},
   "outputs": [],
   "source": [
    "good_pics = readLines('annotations/neutrophil_good_pics.txt')"
   ]
  },
  {
   "cell_type": "code",
   "execution_count": 2076,
   "id": "17092873",
   "metadata": {},
   "outputs": [
    {
     "data": {
      "text/html": [
       "1190"
      ],
      "text/latex": [
       "1190"
      ],
      "text/markdown": [
       "1190"
      ],
      "text/plain": [
       "[1] 1190"
      ]
     },
     "metadata": {},
     "output_type": "display_data"
    }
   ],
   "source": [
    "sum(good_pics %in% colnames(sce))"
   ]
  },
  {
   "cell_type": "code",
   "execution_count": 20,
   "id": "e8c4bf6f",
   "metadata": {},
   "outputs": [
    {
     "data": {
      "text/html": [
       "1190"
      ],
      "text/latex": [
       "1190"
      ],
      "text/markdown": [
       "1190"
      ],
      "text/plain": [
       "[1] 1190"
      ]
     },
     "metadata": {},
     "output_type": "display_data"
    }
   ],
   "source": [
    "length(good_pics)"
   ]
  },
  {
   "cell_type": "code",
   "execution_count": 21,
   "id": "0ef042fe",
   "metadata": {},
   "outputs": [],
   "source": [
    "sce = sce[,colnames(sce) %in% union(union(names(mc_neutrophil@mc), \n",
    "                                          names(mc_kinetics@mc[mc_kinetics@annots[mc_kinetics@mc] %in% cell_order])),\n",
    "                                    good_pics)]"
   ]
  },
  {
   "cell_type": "code",
   "execution_count": 22,
   "id": "acc0e217",
   "metadata": {},
   "outputs": [
    {
     "data": {
      "text/html": [
       "1190"
      ],
      "text/latex": [
       "1190"
      ],
      "text/markdown": [
       "1190"
      ],
      "text/plain": [
       "[1] 1190"
      ]
     },
     "metadata": {},
     "output_type": "display_data"
    }
   ],
   "source": [
    "sum(good_pics %in% colnames(sce))"
   ]
  },
  {
   "cell_type": "code",
   "execution_count": 23,
   "id": "6beea4ff",
   "metadata": {},
   "outputs": [],
   "source": [
    "carcinoma_sce = sce[,sce$condition == 'tumor' & sce$Age %in% c('10w', '12w')] "
   ]
  },
  {
   "cell_type": "code",
   "execution_count": 451,
   "id": "5a6ddf80",
   "metadata": {},
   "outputs": [],
   "source": [
    "logcounts(carcinoma_sce) = as(logcounts(carcinoma_sce, withDimnames = FALSE), \"dgCMatrix\")"
   ]
  },
  {
   "cell_type": "code",
   "execution_count": 452,
   "id": "3a6ebafd",
   "metadata": {},
   "outputs": [
    {
     "data": {
      "text/html": [
       "0"
      ],
      "text/latex": [
       "0"
      ],
      "text/markdown": [
       "0"
      ],
      "text/plain": [
       "[1] 0"
      ]
     },
     "metadata": {},
     "output_type": "display_data"
    }
   ],
   "source": [
    "sum(grepl(\"__\", carcinoma_sce$annots))"
   ]
  },
  {
   "cell_type": "code",
   "execution_count": 453,
   "id": "d659f949",
   "metadata": {},
   "outputs": [],
   "source": [
    "mle_res = read.delim(\"annotations/neutrophil_mle_res.txt\", stringsAsFactors = F, row.names=1)"
   ]
  },
  {
   "cell_type": "code",
   "execution_count": 454,
   "id": "a6d50259",
   "metadata": {},
   "outputs": [
    {
     "data": {
      "text/html": [
       "<style>\n",
       ".list-inline {list-style: none; margin:0; padding: 0}\n",
       ".list-inline>li {display: inline-block}\n",
       ".list-inline>li:not(:last-child)::after {content: \"\\00b7\"; padding: 0 .5ex}\n",
       "</style>\n",
       "<ol class=list-inline><li>'T cells'</li><li>'CD8 T cells'</li><li>'Treg'</li><li>'gd NKT'</li><li>'NK cells'</li><li>'ILC2'</li><li>'B cells'</li><li>'Monocytes'</li><li>'MonMacs'</li><li>'Perivasc macs'</li><li>'Ductal macs'</li><li>'cDC1'</li><li>'cDC2'</li><li>'pDC'</li><li>'Mreg DCs'</li><li>'Mast cells'</li><li>'Basophils'</li><li>'Progenitor 1'</li><li>'Progenitor 2'</li><li>'Alveolar'</li><li>'HS'</li><li>'Myoepithelial'</li><li>'Basal'</li><li>'MyoLum'</li><li>'Tumor cells'</li><li>'Endothelial'</li><li>'Mcam Endothelial'</li><li>'Smooth muscle'</li><li>'Pericytes'</li><li>'Schwann cells'</li><li>'fibroblasts'</li><li>'Dpp4 fibroblasts'</li><li>'CAFs'</li></ol>\n"
      ],
      "text/latex": [
       "\\begin{enumerate*}\n",
       "\\item 'T cells'\n",
       "\\item 'CD8 T cells'\n",
       "\\item 'Treg'\n",
       "\\item 'gd NKT'\n",
       "\\item 'NK cells'\n",
       "\\item 'ILC2'\n",
       "\\item 'B cells'\n",
       "\\item 'Monocytes'\n",
       "\\item 'MonMacs'\n",
       "\\item 'Perivasc macs'\n",
       "\\item 'Ductal macs'\n",
       "\\item 'cDC1'\n",
       "\\item 'cDC2'\n",
       "\\item 'pDC'\n",
       "\\item 'Mreg DCs'\n",
       "\\item 'Mast cells'\n",
       "\\item 'Basophils'\n",
       "\\item 'Progenitor 1'\n",
       "\\item 'Progenitor 2'\n",
       "\\item 'Alveolar'\n",
       "\\item 'HS'\n",
       "\\item 'Myoepithelial'\n",
       "\\item 'Basal'\n",
       "\\item 'MyoLum'\n",
       "\\item 'Tumor cells'\n",
       "\\item 'Endothelial'\n",
       "\\item 'Mcam Endothelial'\n",
       "\\item 'Smooth muscle'\n",
       "\\item 'Pericytes'\n",
       "\\item 'Schwann cells'\n",
       "\\item 'fibroblasts'\n",
       "\\item 'Dpp4 fibroblasts'\n",
       "\\item 'CAFs'\n",
       "\\end{enumerate*}\n"
      ],
      "text/markdown": [
       "1. 'T cells'\n",
       "2. 'CD8 T cells'\n",
       "3. 'Treg'\n",
       "4. 'gd NKT'\n",
       "5. 'NK cells'\n",
       "6. 'ILC2'\n",
       "7. 'B cells'\n",
       "8. 'Monocytes'\n",
       "9. 'MonMacs'\n",
       "10. 'Perivasc macs'\n",
       "11. 'Ductal macs'\n",
       "12. 'cDC1'\n",
       "13. 'cDC2'\n",
       "14. 'pDC'\n",
       "15. 'Mreg DCs'\n",
       "16. 'Mast cells'\n",
       "17. 'Basophils'\n",
       "18. 'Progenitor 1'\n",
       "19. 'Progenitor 2'\n",
       "20. 'Alveolar'\n",
       "21. 'HS'\n",
       "22. 'Myoepithelial'\n",
       "23. 'Basal'\n",
       "24. 'MyoLum'\n",
       "25. 'Tumor cells'\n",
       "26. 'Endothelial'\n",
       "27. 'Mcam Endothelial'\n",
       "28. 'Smooth muscle'\n",
       "29. 'Pericytes'\n",
       "30. 'Schwann cells'\n",
       "31. 'fibroblasts'\n",
       "32. 'Dpp4 fibroblasts'\n",
       "33. 'CAFs'\n",
       "\n",
       "\n"
      ],
      "text/plain": [
       " [1] \"T cells\"          \"CD8 T cells\"      \"Treg\"             \"gd NKT\"          \n",
       " [5] \"NK cells\"         \"ILC2\"             \"B cells\"          \"Monocytes\"       \n",
       " [9] \"MonMacs\"          \"Perivasc macs\"    \"Ductal macs\"      \"cDC1\"            \n",
       "[13] \"cDC2\"             \"pDC\"              \"Mreg DCs\"         \"Mast cells\"      \n",
       "[17] \"Basophils\"        \"Progenitor 1\"     \"Progenitor 2\"     \"Alveolar\"        \n",
       "[21] \"HS\"               \"Myoepithelial\"    \"Basal\"            \"MyoLum\"          \n",
       "[25] \"Tumor cells\"      \"Endothelial\"      \"Mcam Endothelial\" \"Smooth muscle\"   \n",
       "[29] \"Pericytes\"        \"Schwann cells\"    \"fibroblasts\"      \"Dpp4 fibroblasts\"\n",
       "[33] \"CAFs\"            "
      ]
     },
     "metadata": {},
     "output_type": "display_data"
    }
   ],
   "source": [
    "cell_order"
   ]
  },
  {
   "cell_type": "code",
   "execution_count": 455,
   "id": "fc9325ae",
   "metadata": {},
   "outputs": [],
   "source": [
    "cancer_cells = c(\"Tumor cells\")"
   ]
  },
  {
   "cell_type": "code",
   "execution_count": 456,
   "id": "0adc25f9",
   "metadata": {},
   "outputs": [],
   "source": [
    "tans = c('MHCII neut', 'Neut Ptgs2+', \"Young TAN\", \"TAN1\", \"TAN2\")"
   ]
  },
  {
   "cell_type": "code",
   "execution_count": 457,
   "id": "de3a5f6b",
   "metadata": {},
   "outputs": [],
   "source": [
    "alpha = mle_res[good_pics, \"alpha\"]; names(alpha) = good_pics\n",
    "epithelial_mc = mle_res[good_pics, \"a_mc\"]; names(epithelial_mc) = good_pics\n",
    "immune_mc = mle_res[good_pics, \"b_mc\"]; names(immune_mc) = good_pics\n",
    "merged_names = paste(ifelse(pic_mc@annots[immune_mc] %in% tans, \"TANs\", pic_mc@annots[immune_mc]), \n",
    "                     pic_mc@annots[epithelial_mc], \n",
    "                     sep = '__')\n",
    "names(merged_names) = good_pics"
   ]
  },
  {
   "cell_type": "code",
   "execution_count": 458,
   "id": "362424a8",
   "metadata": {},
   "outputs": [],
   "source": [
    "tan_singlets = names(mc_neutrophil@mc[mc_neutrophil@annots[mc_neutrophil@mc] %in% tans])"
   ]
  },
  {
   "cell_type": "code",
   "execution_count": 459,
   "id": "af764a97",
   "metadata": {},
   "outputs": [],
   "source": [
    "cell_names = factor(ifelse(colnames(carcinoma_sce) %in% good_pics,\n",
    "                           merged_names[colnames(carcinoma_sce)],\n",
    "                           ifelse(colnames(carcinoma_sce) %in% names(mc_neutrophil@mc),\n",
    "                                  ifelse(colnames(carcinoma_sce) %in% tan_singlets,\n",
    "                                                  'TANs',\n",
    "                                                  mc_neutrophil@annots[mc_neutrophil@mc[colnames(carcinoma_sce)]]),\n",
    "                                  mc_kinetics@annots[mc_kinetics@mc[colnames(carcinoma_sce)]])))"
   ]
  },
  {
   "cell_type": "code",
   "execution_count": 460,
   "id": "f99c232c",
   "metadata": {},
   "outputs": [
    {
     "data": {
      "text/html": [
       "<style>\n",
       ".list-inline {list-style: none; margin:0; padding: 0}\n",
       ".list-inline>li {display: inline-block}\n",
       ".list-inline>li:not(:last-child)::after {content: \"\\00b7\"; padding: 0 .5ex}\n",
       "</style>\n",
       "<ol class=list-inline><li>Alveolar</li><li>B cells</li><li>Basal</li><li>Basophils</li><li>CAFs</li><li>CD8 T cells</li><li>cDC1</li><li>cDC2</li><li>Cystatin neut</li><li>Cystatin neut__Progenitor 1</li><li>Cystatin neut__Tumor cells</li><li>Dpp4 fibroblasts</li><li>Ductal macs</li><li>Endothelial</li><li>fibroblasts</li><li>gd NKT</li><li>HS</li><li>ILC2</li><li>Mast cells</li><li>Mcam Endothelial</li><li>MonMacs</li><li>Monocytes</li><li>Mreg DCs</li><li>Myoepithelial</li><li>MyoLum</li><li>NK cells</li><li>pDC</li><li>Pericytes</li><li>Perivasc macs</li><li>Progenitor 1</li><li>Progenitor 2</li><li>Schwann cells</li><li>Smooth muscle</li><li>T cells</li><li>TANs</li><li>TANs__Alveolar</li><li>TANs__Basal</li><li>TANs__HS</li><li>TANs__Myoepithelial</li><li>TANs__MyoLum</li><li>TANs__Progenitor 1</li><li>TANs__Progenitor 2</li><li>TANs__Tumor cells</li><li>Treg</li><li>Tumor cells</li><li>Young neut</li><li>Young neut__Progenitor 2</li><li>Young neut__Tumor cells</li></ol>\n",
       "\n",
       "<details>\n",
       "\t<summary style=display:list-item;cursor:pointer>\n",
       "\t\t<strong>Levels</strong>:\n",
       "\t</summary>\n",
       "\t<style>\n",
       "\t.list-inline {list-style: none; margin:0; padding: 0}\n",
       "\t.list-inline>li {display: inline-block}\n",
       "\t.list-inline>li:not(:last-child)::after {content: \"\\00b7\"; padding: 0 .5ex}\n",
       "\t</style>\n",
       "\t<ol class=list-inline><li>'Alveolar'</li><li>'B cells'</li><li>'Basal'</li><li>'Basophils'</li><li>'CAFs'</li><li>'CD8 T cells'</li><li>'cDC1'</li><li>'cDC2'</li><li>'Cystatin neut'</li><li>'Cystatin neut__Progenitor 1'</li><li>'Cystatin neut__Tumor cells'</li><li>'Dpp4 fibroblasts'</li><li>'Ductal macs'</li><li>'Endothelial'</li><li>'fibroblasts'</li><li>'gd NKT'</li><li>'HS'</li><li>'ILC2'</li><li>'Mast cells'</li><li>'Mcam Endothelial'</li><li>'MonMacs'</li><li>'Monocytes'</li><li>'Mreg DCs'</li><li>'Myoepithelial'</li><li>'MyoLum'</li><li>'NK cells'</li><li>'pDC'</li><li>'Pericytes'</li><li>'Perivasc macs'</li><li>'Progenitor 1'</li><li>'Progenitor 2'</li><li>'Schwann cells'</li><li>'Smooth muscle'</li><li>'T cells'</li><li>'TANs'</li><li>'TANs__Alveolar'</li><li>'TANs__Basal'</li><li>'TANs__HS'</li><li>'TANs__Myoepithelial'</li><li>'TANs__MyoLum'</li><li>'TANs__Progenitor 1'</li><li>'TANs__Progenitor 2'</li><li>'TANs__Tumor cells'</li><li>'Treg'</li><li>'Tumor cells'</li><li>'Young neut'</li><li>'Young neut__Progenitor 2'</li><li>'Young neut__Tumor cells'</li></ol>\n",
       "</details>"
      ],
      "text/latex": [
       "\\begin{enumerate*}\n",
       "\\item Alveolar\n",
       "\\item B cells\n",
       "\\item Basal\n",
       "\\item Basophils\n",
       "\\item CAFs\n",
       "\\item CD8 T cells\n",
       "\\item cDC1\n",
       "\\item cDC2\n",
       "\\item Cystatin neut\n",
       "\\item Cystatin neut\\_\\_Progenitor 1\n",
       "\\item Cystatin neut\\_\\_Tumor cells\n",
       "\\item Dpp4 fibroblasts\n",
       "\\item Ductal macs\n",
       "\\item Endothelial\n",
       "\\item fibroblasts\n",
       "\\item gd NKT\n",
       "\\item HS\n",
       "\\item ILC2\n",
       "\\item Mast cells\n",
       "\\item Mcam Endothelial\n",
       "\\item MonMacs\n",
       "\\item Monocytes\n",
       "\\item Mreg DCs\n",
       "\\item Myoepithelial\n",
       "\\item MyoLum\n",
       "\\item NK cells\n",
       "\\item pDC\n",
       "\\item Pericytes\n",
       "\\item Perivasc macs\n",
       "\\item Progenitor 1\n",
       "\\item Progenitor 2\n",
       "\\item Schwann cells\n",
       "\\item Smooth muscle\n",
       "\\item T cells\n",
       "\\item TANs\n",
       "\\item TANs\\_\\_Alveolar\n",
       "\\item TANs\\_\\_Basal\n",
       "\\item TANs\\_\\_HS\n",
       "\\item TANs\\_\\_Myoepithelial\n",
       "\\item TANs\\_\\_MyoLum\n",
       "\\item TANs\\_\\_Progenitor 1\n",
       "\\item TANs\\_\\_Progenitor 2\n",
       "\\item TANs\\_\\_Tumor cells\n",
       "\\item Treg\n",
       "\\item Tumor cells\n",
       "\\item Young neut\n",
       "\\item Young neut\\_\\_Progenitor 2\n",
       "\\item Young neut\\_\\_Tumor cells\n",
       "\\end{enumerate*}\n",
       "\n",
       "\\emph{Levels}: \\begin{enumerate*}\n",
       "\\item 'Alveolar'\n",
       "\\item 'B cells'\n",
       "\\item 'Basal'\n",
       "\\item 'Basophils'\n",
       "\\item 'CAFs'\n",
       "\\item 'CD8 T cells'\n",
       "\\item 'cDC1'\n",
       "\\item 'cDC2'\n",
       "\\item 'Cystatin neut'\n",
       "\\item 'Cystatin neut\\_\\_Progenitor 1'\n",
       "\\item 'Cystatin neut\\_\\_Tumor cells'\n",
       "\\item 'Dpp4 fibroblasts'\n",
       "\\item 'Ductal macs'\n",
       "\\item 'Endothelial'\n",
       "\\item 'fibroblasts'\n",
       "\\item 'gd NKT'\n",
       "\\item 'HS'\n",
       "\\item 'ILC2'\n",
       "\\item 'Mast cells'\n",
       "\\item 'Mcam Endothelial'\n",
       "\\item 'MonMacs'\n",
       "\\item 'Monocytes'\n",
       "\\item 'Mreg DCs'\n",
       "\\item 'Myoepithelial'\n",
       "\\item 'MyoLum'\n",
       "\\item 'NK cells'\n",
       "\\item 'pDC'\n",
       "\\item 'Pericytes'\n",
       "\\item 'Perivasc macs'\n",
       "\\item 'Progenitor 1'\n",
       "\\item 'Progenitor 2'\n",
       "\\item 'Schwann cells'\n",
       "\\item 'Smooth muscle'\n",
       "\\item 'T cells'\n",
       "\\item 'TANs'\n",
       "\\item 'TANs\\_\\_Alveolar'\n",
       "\\item 'TANs\\_\\_Basal'\n",
       "\\item 'TANs\\_\\_HS'\n",
       "\\item 'TANs\\_\\_Myoepithelial'\n",
       "\\item 'TANs\\_\\_MyoLum'\n",
       "\\item 'TANs\\_\\_Progenitor 1'\n",
       "\\item 'TANs\\_\\_Progenitor 2'\n",
       "\\item 'TANs\\_\\_Tumor cells'\n",
       "\\item 'Treg'\n",
       "\\item 'Tumor cells'\n",
       "\\item 'Young neut'\n",
       "\\item 'Young neut\\_\\_Progenitor 2'\n",
       "\\item 'Young neut\\_\\_Tumor cells'\n",
       "\\end{enumerate*}\n"
      ],
      "text/markdown": [
       "1. Alveolar\n",
       "2. B cells\n",
       "3. Basal\n",
       "4. Basophils\n",
       "5. CAFs\n",
       "6. CD8 T cells\n",
       "7. cDC1\n",
       "8. cDC2\n",
       "9. Cystatin neut\n",
       "10. Cystatin neut__Progenitor 1\n",
       "11. Cystatin neut__Tumor cells\n",
       "12. Dpp4 fibroblasts\n",
       "13. Ductal macs\n",
       "14. Endothelial\n",
       "15. fibroblasts\n",
       "16. gd NKT\n",
       "17. HS\n",
       "18. ILC2\n",
       "19. Mast cells\n",
       "20. Mcam Endothelial\n",
       "21. MonMacs\n",
       "22. Monocytes\n",
       "23. Mreg DCs\n",
       "24. Myoepithelial\n",
       "25. MyoLum\n",
       "26. NK cells\n",
       "27. pDC\n",
       "28. Pericytes\n",
       "29. Perivasc macs\n",
       "30. Progenitor 1\n",
       "31. Progenitor 2\n",
       "32. Schwann cells\n",
       "33. Smooth muscle\n",
       "34. T cells\n",
       "35. TANs\n",
       "36. TANs__Alveolar\n",
       "37. TANs__Basal\n",
       "38. TANs__HS\n",
       "39. TANs__Myoepithelial\n",
       "40. TANs__MyoLum\n",
       "41. TANs__Progenitor 1\n",
       "42. TANs__Progenitor 2\n",
       "43. TANs__Tumor cells\n",
       "44. Treg\n",
       "45. Tumor cells\n",
       "46. Young neut\n",
       "47. Young neut__Progenitor 2\n",
       "48. Young neut__Tumor cells\n",
       "\n",
       "\n",
       "\n",
       "**Levels**: 1. 'Alveolar'\n",
       "2. 'B cells'\n",
       "3. 'Basal'\n",
       "4. 'Basophils'\n",
       "5. 'CAFs'\n",
       "6. 'CD8 T cells'\n",
       "7. 'cDC1'\n",
       "8. 'cDC2'\n",
       "9. 'Cystatin neut'\n",
       "10. 'Cystatin neut__Progenitor 1'\n",
       "11. 'Cystatin neut__Tumor cells'\n",
       "12. 'Dpp4 fibroblasts'\n",
       "13. 'Ductal macs'\n",
       "14. 'Endothelial'\n",
       "15. 'fibroblasts'\n",
       "16. 'gd NKT'\n",
       "17. 'HS'\n",
       "18. 'ILC2'\n",
       "19. 'Mast cells'\n",
       "20. 'Mcam Endothelial'\n",
       "21. 'MonMacs'\n",
       "22. 'Monocytes'\n",
       "23. 'Mreg DCs'\n",
       "24. 'Myoepithelial'\n",
       "25. 'MyoLum'\n",
       "26. 'NK cells'\n",
       "27. 'pDC'\n",
       "28. 'Pericytes'\n",
       "29. 'Perivasc macs'\n",
       "30. 'Progenitor 1'\n",
       "31. 'Progenitor 2'\n",
       "32. 'Schwann cells'\n",
       "33. 'Smooth muscle'\n",
       "34. 'T cells'\n",
       "35. 'TANs'\n",
       "36. 'TANs__Alveolar'\n",
       "37. 'TANs__Basal'\n",
       "38. 'TANs__HS'\n",
       "39. 'TANs__Myoepithelial'\n",
       "40. 'TANs__MyoLum'\n",
       "41. 'TANs__Progenitor 1'\n",
       "42. 'TANs__Progenitor 2'\n",
       "43. 'TANs__Tumor cells'\n",
       "44. 'Treg'\n",
       "45. 'Tumor cells'\n",
       "46. 'Young neut'\n",
       "47. 'Young neut__Progenitor 2'\n",
       "48. 'Young neut__Tumor cells'\n",
       "\n",
       "\n"
      ],
      "text/plain": [
       " [1] Alveolar                    B cells                    \n",
       " [3] Basal                       Basophils                  \n",
       " [5] CAFs                        CD8 T cells                \n",
       " [7] cDC1                        cDC2                       \n",
       " [9] Cystatin neut               Cystatin neut__Progenitor 1\n",
       "[11] Cystatin neut__Tumor cells  Dpp4 fibroblasts           \n",
       "[13] Ductal macs                 Endothelial                \n",
       "[15] fibroblasts                 gd NKT                     \n",
       "[17] HS                          ILC2                       \n",
       "[19] Mast cells                  Mcam Endothelial           \n",
       "[21] MonMacs                     Monocytes                  \n",
       "[23] Mreg DCs                    Myoepithelial              \n",
       "[25] MyoLum                      NK cells                   \n",
       "[27] pDC                         Pericytes                  \n",
       "[29] Perivasc macs               Progenitor 1               \n",
       "[31] Progenitor 2                Schwann cells              \n",
       "[33] Smooth muscle               T cells                    \n",
       "[35] TANs                        TANs__Alveolar             \n",
       "[37] TANs__Basal                 TANs__HS                   \n",
       "[39] TANs__Myoepithelial         TANs__MyoLum               \n",
       "[41] TANs__Progenitor 1          TANs__Progenitor 2         \n",
       "[43] TANs__Tumor cells           Treg                       \n",
       "[45] Tumor cells                 Young neut                 \n",
       "[47] Young neut__Progenitor 2    Young neut__Tumor cells    \n",
       "48 Levels: Alveolar B cells Basal Basophils CAFs CD8 T cells cDC1 ... Young neut__Tumor cells"
      ]
     },
     "metadata": {},
     "output_type": "display_data"
    }
   ],
   "source": [
    "cell_names %>% unique %>% sort"
   ]
  },
  {
   "cell_type": "code",
   "execution_count": 461,
   "id": "c7f4081d",
   "metadata": {},
   "outputs": [],
   "source": [
    "write_csv(data.frame(cell=colnames(carcinoma_sce), name=cell_names), \"annotations/liana_cell_tanmerged_names.csv\")"
   ]
  },
  {
   "cell_type": "code",
   "execution_count": 462,
   "id": "d6084706",
   "metadata": {},
   "outputs": [],
   "source": [
    "carcinoma_sce@colData$annots = cell_names"
   ]
  },
  {
   "cell_type": "code",
   "execution_count": 463,
   "id": "4c289361",
   "metadata": {},
   "outputs": [
    {
     "data": {
      "text/html": [
       "1118"
      ],
      "text/latex": [
       "1118"
      ],
      "text/markdown": [
       "1118"
      ],
      "text/plain": [
       "[1] 1118"
      ]
     },
     "metadata": {},
     "output_type": "display_data"
    }
   ],
   "source": [
    "sum(good_pics %in% colnames(carcinoma_sce))"
   ]
  },
  {
   "cell_type": "code",
   "execution_count": 464,
   "id": "41d6425d",
   "metadata": {},
   "outputs": [
    {
     "data": {
      "text/html": [
       "1118"
      ],
      "text/latex": [
       "1118"
      ],
      "text/markdown": [
       "1118"
      ],
      "text/plain": [
       "[1] 1118"
      ]
     },
     "metadata": {},
     "output_type": "display_data"
    }
   ],
   "source": [
    "sum(grepl(\"__\", carcinoma_sce$annots))"
   ]
  },
  {
   "cell_type": "code",
   "execution_count": 465,
   "id": "a0b4ed27",
   "metadata": {},
   "outputs": [
    {
     "data": {
      "text/plain": [
       "\n",
       "                  Basophils Cystatin neut__Progenitor 1 \n",
       "                          1                           1 \n",
       "              Schwann cells                 TANs__Basal \n",
       "                          1                           1 \n",
       "   Young neut__Progenitor 2                       Basal \n",
       "                          1                           2 \n",
       "              Smooth muscle               Cystatin neut \n",
       "                          3                           4 \n",
       "    Young neut__Tumor cells                  Young neut \n",
       "                          4                           5 \n",
       "              Myoepithelial                    TANs__HS \n",
       "                          8                           8 \n",
       "        TANs__Myoepithelial  Cystatin neut__Tumor cells \n",
       "                          9                          12 \n",
       "                 Mast cells                          HS \n",
       "                         12                          18 \n",
       "                   Mreg DCs                TANs__MyoLum \n",
       "                         18                          18 \n",
       "               Progenitor 1          TANs__Progenitor 1 \n",
       "                         20                          21 \n",
       "                   Alveolar              TANs__Alveolar \n",
       "                         27                          29 \n",
       "                        pDC                   Pericytes \n",
       "                         31                          39 \n",
       "           Dpp4 fibroblasts                        ILC2 \n",
       "                         41                          41 \n",
       "                CD8 T cells                        Treg \n",
       "                         51                          53 \n",
       "                Endothelial                 fibroblasts \n",
       "                         66                          69 \n",
       "         TANs__Progenitor 2                   Monocytes \n",
       "                         72                          75 \n",
       "                       cDC2                    NK cells \n",
       "                         77                          78 \n",
       "               Progenitor 2                        cDC1 \n",
       "                        100                         111 \n",
       "           Mcam Endothelial                        CAFs \n",
       "                        122                         124 \n",
       "                     MyoLum               Perivasc macs \n",
       "                        158                         190 \n",
       "                    MonMacs                      gd NKT \n",
       "                        199                         302 \n",
       "                    B cells                     T cells \n",
       "                        414                         596 \n",
       "                       TANs           TANs__Tumor cells \n",
       "                        932                         942 \n",
       "                Ductal macs                 Tumor cells \n",
       "                       1319                        2954 "
      ]
     },
     "metadata": {},
     "output_type": "display_data"
    }
   ],
   "source": [
    "table(carcinoma_sce@colData$annots) %>% sort"
   ]
  },
  {
   "cell_type": "code",
   "execution_count": 466,
   "id": "3d07a586",
   "metadata": {},
   "outputs": [
    {
     "name": "stderr",
     "output_type": "stream",
     "text": [
      "Warning message in NSBS(i, x, exact = exact, strict.upper.bound = !allow.append, :\n",
      "“subscript is an array, passing it thru as.vector() first”\n"
     ]
    }
   ],
   "source": [
    "carcinoma_sce = carcinoma_sce[,table(carcinoma_sce@colData$annots)[carcinoma_sce@colData$annots] >= 10] # CHANGE was 30"
   ]
  },
  {
   "cell_type": "code",
   "execution_count": 467,
   "id": "4a5a429a",
   "metadata": {},
   "outputs": [],
   "source": [
    "carcinoma_sce$annots = droplevels(carcinoma_sce$annots)"
   ]
  },
  {
   "cell_type": "code",
   "execution_count": 438,
   "id": "e1ab995e",
   "metadata": {
    "scrolled": true
   },
   "outputs": [
    {
     "name": "stderr",
     "output_type": "stream",
     "text": [
      "Running LIANA with `annots` as labels!\n",
      "\n",
      "Warning message in exec(output, ...):\n",
      "“10410 genes and/or 0 cells were removed as they had no counts!”\n",
      "LIANA: LR summary stats calculated!\n",
      "\n",
      "Now Running: Natmi\n",
      "\n",
      "Now Running: Connectome\n",
      "\n",
      "Now Running: Logfc\n",
      "\n",
      "Now Running: Sca\n",
      "\n",
      "Now Running: Cellphonedb\n",
      "\n"
     ]
    }
   ],
   "source": [
    "liana_res <- liana_wrap(carcinoma_sce, idents_col = \"annots\", expr_prop=0.05,\n",
    "                        resource = 'custom', # resource has to be set to 'custom' to work with external resources\n",
    "                        external_resource = ortholog_resource , # provide orthologous resource\n",
    "#                        method=c('sca', 'natmi') # run only with sca and natmi for comp. time\n",
    "                        )\n"
   ]
  },
  {
   "cell_type": "code",
   "execution_count": 439,
   "id": "4a435ac5",
   "metadata": {},
   "outputs": [
    {
     "name": "stderr",
     "output_type": "stream",
     "text": [
      "Now aggregating natmi\n",
      "\n",
      "Now aggregating connectome\n",
      "\n",
      "Now aggregating logfc\n",
      "\n",
      "Now aggregating sca\n",
      "\n",
      "Now aggregating cellphonedb\n",
      "\n",
      "Aggregating Ranks\n",
      "\n"
     ]
    }
   ],
   "source": [
    "liana_res = liana_aggregate(liana_res)"
   ]
  },
  {
   "cell_type": "code",
   "execution_count": 440,
   "id": "cec82711",
   "metadata": {},
   "outputs": [],
   "source": [
    "write_csv(liana_res, \"annotations/liana_results_tanmerged_tumor_pics_all_10min.csv\")"
   ]
  },
  {
   "cell_type": "code",
   "execution_count": 474,
   "id": "8e55c9b4",
   "metadata": {},
   "outputs": [],
   "source": [
    "saveRDS(carcinoma_sce, \"h5ads/liana_carcinoma_tanmerged.RDS\")"
   ]
  }
 ],
 "metadata": {
  "kernelspec": {
   "display_name": "R",
   "language": "R",
   "name": "ir"
  },
  "language_info": {
   "codemirror_mode": "r",
   "file_extension": ".r",
   "mimetype": "text/x-r-source",
   "name": "R",
   "pygments_lexer": "r",
   "version": "4.1.3"
  }
 },
 "nbformat": 4,
 "nbformat_minor": 5
}
