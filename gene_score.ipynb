{
 "cells": [
  {
   "cell_type": "code",
   "execution_count": 4,
   "id": "93474108",
   "metadata": {
    "scrolled": true
   },
   "outputs": [
    {
     "name": "stderr",
     "output_type": "stream",
     "text": [
      "Loading required package: ggplot2\n",
      "\n",
      "Loading required package: ggpubr\n",
      "\n",
      "\n",
      "Attaching package: ‘survival’\n",
      "\n",
      "\n",
      "The following object is masked from ‘package:survminer’:\n",
      "\n",
      "    myeloma\n",
      "\n",
      "\n",
      "Loading required package: MatrixGenerics\n",
      "\n",
      "Loading required package: matrixStats\n",
      "\n",
      "\n",
      "Attaching package: ‘MatrixGenerics’\n",
      "\n",
      "\n",
      "The following objects are masked from ‘package:matrixStats’:\n",
      "\n",
      "    colAlls, colAnyNAs, colAnys, colAvgsPerRowSet, colCollapse,\n",
      "    colCounts, colCummaxs, colCummins, colCumprods, colCumsums,\n",
      "    colDiffs, colIQRDiffs, colIQRs, colLogSumExps, colMadDiffs,\n",
      "    colMads, colMaxs, colMeans2, colMedians, colMins, colOrderStats,\n",
      "    colProds, colQuantiles, colRanges, colRanks, colSdDiffs, colSds,\n",
      "    colSums2, colTabulates, colVarDiffs, colVars, colWeightedMads,\n",
      "    colWeightedMeans, colWeightedMedians, colWeightedSds,\n",
      "    colWeightedVars, rowAlls, rowAnyNAs, rowAnys, rowAvgsPerColSet,\n",
      "    rowCollapse, rowCounts, rowCummaxs, rowCummins, rowCumprods,\n",
      "    rowCumsums, rowDiffs, rowIQRDiffs, rowIQRs, rowLogSumExps,\n",
      "    rowMadDiffs, rowMads, rowMaxs, rowMeans2, rowMedians, rowMins,\n",
      "    rowOrderStats, rowProds, rowQuantiles, rowRanges, rowRanks,\n",
      "    rowSdDiffs, rowSds, rowSums2, rowTabulates, rowVarDiffs, rowVars,\n",
      "    rowWeightedMads, rowWeightedMeans, rowWeightedMedians,\n",
      "    rowWeightedSds, rowWeightedVars\n",
      "\n",
      "\n",
      "Loading required package: GenomicRanges\n",
      "\n",
      "Loading required package: stats4\n",
      "\n",
      "Loading required package: BiocGenerics\n",
      "\n",
      "\n",
      "Attaching package: ‘BiocGenerics’\n",
      "\n",
      "\n",
      "The following objects are masked from ‘package:stats’:\n",
      "\n",
      "    IQR, mad, sd, var, xtabs\n",
      "\n",
      "\n",
      "The following objects are masked from ‘package:base’:\n",
      "\n",
      "    anyDuplicated, append, as.data.frame, basename, cbind, colnames,\n",
      "    dirname, do.call, duplicated, eval, evalq, Filter, Find, get, grep,\n",
      "    grepl, intersect, is.unsorted, lapply, Map, mapply, match, mget,\n",
      "    order, paste, pmax, pmax.int, pmin, pmin.int, Position, rank,\n",
      "    rbind, Reduce, rownames, sapply, setdiff, sort, table, tapply,\n",
      "    union, unique, unsplit, which.max, which.min\n",
      "\n",
      "\n",
      "Loading required package: S4Vectors\n",
      "\n",
      "\n",
      "Attaching package: ‘S4Vectors’\n",
      "\n",
      "\n",
      "The following objects are masked from ‘package:base’:\n",
      "\n",
      "    expand.grid, I, unname\n",
      "\n",
      "\n",
      "Loading required package: IRanges\n",
      "\n",
      "Loading required package: GenomeInfoDb\n",
      "\n",
      "Loading required package: Biobase\n",
      "\n",
      "Welcome to Bioconductor\n",
      "\n",
      "    Vignettes contain introductory material; view with\n",
      "    'browseVignettes()'. To cite Bioconductor, see\n",
      "    'citation(\"Biobase\")', and for packages 'citation(\"pkgname\")'.\n",
      "\n",
      "\n",
      "\n",
      "Attaching package: ‘Biobase’\n",
      "\n",
      "\n",
      "The following object is masked from ‘package:MatrixGenerics’:\n",
      "\n",
      "    rowMedians\n",
      "\n",
      "\n",
      "The following objects are masked from ‘package:matrixStats’:\n",
      "\n",
      "    anyMissing, rowMedians\n",
      "\n",
      "\n",
      "── \u001b[1mAttaching packages\u001b[22m ─────────────────────────────────────── tidyverse 1.3.2 ──\n",
      "\u001b[32m✔\u001b[39m \u001b[34mtibble \u001b[39m 3.2.1     \u001b[32m✔\u001b[39m \u001b[34mdplyr  \u001b[39m 1.1.3\n",
      "\u001b[32m✔\u001b[39m \u001b[34mtidyr  \u001b[39m 1.3.0     \u001b[32m✔\u001b[39m \u001b[34mstringr\u001b[39m 1.5.0\n",
      "\u001b[32m✔\u001b[39m \u001b[34mreadr  \u001b[39m 2.1.4     \u001b[32m✔\u001b[39m \u001b[34mforcats\u001b[39m 0.5.2\n",
      "\u001b[32m✔\u001b[39m \u001b[34mpurrr  \u001b[39m 1.0.2     \n",
      "── \u001b[1mConflicts\u001b[22m ────────────────────────────────────────── tidyverse_conflicts() ──\n",
      "\u001b[31m✖\u001b[39m \u001b[34mdplyr\u001b[39m::\u001b[32mcollapse()\u001b[39m        masks \u001b[34mIRanges\u001b[39m::collapse()\n",
      "\u001b[31m✖\u001b[39m \u001b[34mdplyr\u001b[39m::\u001b[32mcombine()\u001b[39m         masks \u001b[34mBiobase\u001b[39m::combine(), \u001b[34mBiocGenerics\u001b[39m::combine()\n",
      "\u001b[31m✖\u001b[39m \u001b[34mdplyr\u001b[39m::\u001b[32mcount()\u001b[39m           masks \u001b[34mmatrixStats\u001b[39m::count()\n",
      "\u001b[31m✖\u001b[39m \u001b[34mdplyr\u001b[39m::\u001b[32mdesc()\u001b[39m            masks \u001b[34mIRanges\u001b[39m::desc()\n",
      "\u001b[31m✖\u001b[39m \u001b[34mtidyr\u001b[39m::\u001b[32mexpand()\u001b[39m          masks \u001b[34mS4Vectors\u001b[39m::expand()\n",
      "\u001b[31m✖\u001b[39m \u001b[34mdplyr\u001b[39m::\u001b[32mfilter()\u001b[39m          masks \u001b[34mstats\u001b[39m::filter()\n",
      "\u001b[31m✖\u001b[39m \u001b[34mdplyr\u001b[39m::\u001b[32mfirst()\u001b[39m           masks \u001b[34mS4Vectors\u001b[39m::first()\n",
      "\u001b[31m✖\u001b[39m \u001b[34mdplyr\u001b[39m::\u001b[32mlag()\u001b[39m             masks \u001b[34mstats\u001b[39m::lag()\n",
      "\u001b[31m✖\u001b[39m \u001b[34mBiocGenerics\u001b[39m::\u001b[32mPosition()\u001b[39m masks \u001b[34mggplot2\u001b[39m::Position(), \u001b[34mbase\u001b[39m::Position()\n",
      "\u001b[31m✖\u001b[39m \u001b[34mpurrr\u001b[39m::\u001b[32mreduce()\u001b[39m          masks \u001b[34mGenomicRanges\u001b[39m::reduce(), \u001b[34mIRanges\u001b[39m::reduce()\n",
      "\u001b[31m✖\u001b[39m \u001b[34mdplyr\u001b[39m::\u001b[32mrename()\u001b[39m          masks \u001b[34mS4Vectors\u001b[39m::rename()\n",
      "\u001b[31m✖\u001b[39m \u001b[34mdplyr\u001b[39m::\u001b[32mslice()\u001b[39m           masks \u001b[34mIRanges\u001b[39m::slice()\n",
      "Loading required package: limma\n",
      "\n",
      "\n",
      "Attaching package: ‘limma’\n",
      "\n",
      "\n",
      "The following object is masked from ‘package:BiocGenerics’:\n",
      "\n",
      "    plotMA\n",
      "\n",
      "\n"
     ]
    }
   ],
   "source": [
    "library(TCGAbiolinks)\n",
    "library(survminer)\n",
    "library(survival)\n",
    "library(SummarizedExperiment)\n",
    "library(tidyverse)\n",
    "library(edgeR)\n",
    "library(GSVA)"
   ]
  },
  {
   "cell_type": "code",
   "execution_count": 5,
   "id": "1da5d196",
   "metadata": {},
   "outputs": [],
   "source": [
    "#producing the data matrix\n",
    "#getting the clinical information for each case \n",
    "clinical_info = GDCquery_clinic('TCGA-BRCA')\n",
    "clinical_info$deceased = ifelse(clinical_info$vital_status == 'Alive', F, T)\n",
    "clinical_info$survival = ifelse(clinical_info$vital_status == 'Alive', \n",
    "                                clinical_info$days_to_last_follow_up,\n",
    "                                clinical_info$days_to_death)"
   ]
  },
  {
   "cell_type": "markdown",
   "id": "0241ad36",
   "metadata": {},
   "source": [
    "# download cases from TCGA (dont run again if the kernel has been restarted)  "
   ]
  },
  {
   "cell_type": "code",
   "execution_count": 58,
   "id": "1a132fb8",
   "metadata": {},
   "outputs": [
    {
     "name": "stderr",
     "output_type": "stream",
     "text": [
      "--------------------------------------\n",
      "\n",
      "o GDCquery: Searching in GDC database\n",
      "\n",
      "--------------------------------------\n",
      "\n",
      "Genome of reference: hg38\n",
      "\n",
      "--------------------------------------------\n",
      "\n",
      "oo Accessing GDC. This might take a while...\n",
      "\n",
      "--------------------------------------------\n",
      "\n",
      "ooo Project: TCGA-BRCA\n",
      "\n",
      "--------------------\n",
      "\n",
      "oo Filtering results\n",
      "\n",
      "--------------------\n",
      "\n",
      "ooo By access\n",
      "\n",
      "ooo By experimental.strategy\n",
      "\n",
      "ooo By data.type\n",
      "\n",
      "ooo By workflow.type\n",
      "\n",
      "ooo By sample.type\n",
      "\n",
      "----------------\n",
      "\n",
      "oo Checking data\n",
      "\n",
      "----------------\n",
      "\n",
      "ooo Checking if there are duplicated cases\n",
      "\n",
      "ooo Checking if there are results for the query\n",
      "\n",
      "-------------------\n",
      "\n",
      "o Preparing output\n",
      "\n",
      "-------------------\n",
      "\n",
      "--------------------------------------\n",
      "\n",
      "o GDCquery: Searching in GDC database\n",
      "\n",
      "--------------------------------------\n",
      "\n",
      "Genome of reference: hg38\n",
      "\n",
      "--------------------------------------------\n",
      "\n",
      "oo Accessing GDC. This might take a while...\n",
      "\n",
      "--------------------------------------------\n",
      "\n",
      "ooo Project: TCGA-BRCA\n",
      "\n",
      "--------------------\n",
      "\n",
      "oo Filtering results\n",
      "\n",
      "--------------------\n",
      "\n",
      "ooo By access\n",
      "\n",
      "ooo By experimental.strategy\n",
      "\n",
      "ooo By data.type\n",
      "\n",
      "ooo By workflow.type\n",
      "\n",
      "ooo By barcode\n",
      "\n",
      "ooo By sample.type\n",
      "\n",
      "----------------\n",
      "\n",
      "oo Checking data\n",
      "\n",
      "----------------\n",
      "\n",
      "ooo Checking if there are duplicated cases\n",
      "\n",
      "ooo Checking if there are results for the query\n",
      "\n",
      "-------------------\n",
      "\n",
      "o Preparing output\n",
      "\n",
      "-------------------\n",
      "\n",
      "Downloading data for project TCGA-BRCA\n",
      "\n",
      "Of the 1111 files for download 1111 already exist.\n",
      "\n",
      "All samples have been already downloaded\n",
      "\n"
     ]
    }
   ],
   "source": [
    "#written twice to allow downloading only some of the files\n",
    "query = GDCquery(project = 'TCGA-BRCA',\n",
    "                  data.category = 'Transcriptome Profiling',\n",
    "                  experimental.strategy = 'RNA-Seq',\n",
    "                  workflow.type = 'STAR - Counts',\n",
    "                  data.type = 'Gene Expression Quantification',\n",
    "                  sample.type = 'Primary Tumor',\n",
    "                  access = 'open')\n",
    "\n",
    "query_files = getResults(query) #contains metadata on samples and genes\n",
    "query_files = query_files$cases\n",
    "\n",
    "query = GDCquery(project = 'TCGA-BRCA',\n",
    "                 data.category = 'Transcriptome Profiling',\n",
    "                 experimental.strategy = 'RNA-Seq',\n",
    "                 workflow.type = 'STAR - Counts',\n",
    "                 data.type = 'Gene Expression Quantification',\n",
    "                 sample.type = 'Primary Tumor',\n",
    "                 access = 'open',\n",
    "                 barcode = query_files)\n",
    "\n",
    "#Download the files\n",
    "GDCdownload(query)\n",
    "\n"
   ]
  },
  {
   "cell_type": "code",
   "execution_count": 93,
   "id": "6dd416f4",
   "metadata": {},
   "outputs": [
    {
     "name": "stdout",
     "output_type": "stream",
     "text": [
      "|====================================================|100%                      Completed after 49 s \n"
     ]
    },
    {
     "name": "stderr",
     "output_type": "stream",
     "text": [
      "Starting to add information to samples\n",
      "\n",
      " => Add clinical information to samples\n",
      "\n",
      " => Adding TCGA molecular information from marker papers\n",
      "\n",
      " => Information will have prefix 'paper_' \n",
      "\n",
      "brca subtype information from:doi.org/10.1016/j.ccell.2018.03.014\n",
      "\n",
      "Available assays in SummarizedExperiment : \n",
      "  => unstranded\n",
      "  => stranded_first\n",
      "  => stranded_second\n",
      "  => tpm_unstrand\n",
      "  => fpkm_unstrand\n",
      "  => fpkm_uq_unstrand\n",
      "\n"
     ]
    }
   ],
   "source": [
    "#assigning summarizedExperiment to TRUE provides the gene expression counts (and other experiment related info)\n",
    "files_data = GDCprepare(query, summarizedExperiment = T) "
   ]
  },
  {
   "cell_type": "code",
   "execution_count": 94,
   "id": "42164058",
   "metadata": {},
   "outputs": [],
   "source": [
    "gene_exp_matrix = assay(files_data, \"unstranded\")  #rows are gene ids, columns are cases\n",
    "gene_info = as.data.frame(rowData(files_data)) #contains the mapping of gene id to gene symbol"
   ]
  },
  {
   "cell_type": "code",
   "execution_count": 74,
   "id": "cbbdba48",
   "metadata": {},
   "outputs": [],
   "source": [
    "clinical_info = clinical_info[!clinical_info$submitter_id %in% c('TCGA-C8-A9FZ','TCGA-AC-A5EI','TCGA-AR-A0U1','TCGA-E9-A245', 'TCGA-BH-A0B2', m), ]\n",
    "#patients with missing information"
   ]
  },
  {
   "cell_type": "code",
   "execution_count": 75,
   "id": "288347a2",
   "metadata": {},
   "outputs": [],
   "source": [
    "m = c('TCGA-EW-A1PD', 'TCGA-AR-A1AV', 'TCGA-AC-A62V', 'TCGA-AO-A1KQ', 'TCGA-BH-A0DD',\n",
    "     'TCGA-BH-A0B4', 'TCGA-A1-A0SM', 'TCGA-D8-A1XS', 'TCGA-E2-A14W', 'TCGA-AQ-A54O',\n",
    "    'TCGA-A8-A085', 'TCGA-EW-A6SA') #male patients"
   ]
  },
  {
   "cell_type": "markdown",
   "id": "965384cf",
   "metadata": {},
   "source": [
    "# to consider only some of the samples"
   ]
  },
  {
   "cell_type": "code",
   "execution_count": 1236,
   "id": "1894950a",
   "metadata": {},
   "outputs": [],
   "source": [
    "stage1_2 = na.omit(clinical_info[clinical_info$ajcc_pathologic_stage %in% c('Stage I', 'Stage IA', 'Stage IB', 'Stage IC',\n",
    "                                                                                     'Stage II', 'Stage IIA', 'Stage IIB', 'Stage IIC'),]$submitter_id)\n"
   ]
  },
  {
   "cell_type": "code",
   "execution_count": 76,
   "id": "971ff5fc",
   "metadata": {},
   "outputs": [],
   "source": [
    "stage3_4 = na.omit(clinical_info[clinical_info$ajcc_pathologic_stage %in% c('Stage III', 'Stage IIIA', 'Stage IIIB', 'Stage IIIC',\n",
    "                                                                         'Stage IV', 'Stage IVA', 'Stage IVB', 'Stage IVC'),]$submitter_id)"
   ]
  },
  {
   "cell_type": "code",
   "execution_count": 77,
   "id": "23c9f3e3",
   "metadata": {},
   "outputs": [],
   "source": [
    "colnames(gene_exp_matrix) = strtrim(colnames(gene_exp_matrix), 12)"
   ]
  },
  {
   "cell_type": "code",
   "execution_count": 78,
   "id": "6d2ba568",
   "metadata": {},
   "outputs": [],
   "source": [
    "gene_exp_matrix = gene_exp_matrix[,! duplicated(colnames(gene_exp_matrix))]"
   ]
  },
  {
   "cell_type": "code",
   "execution_count": 79,
   "id": "959f7b38",
   "metadata": {},
   "outputs": [],
   "source": [
    "gene_exp_matrix = gene_exp_matrix[,stage3_4]"
   ]
  },
  {
   "cell_type": "markdown",
   "id": "aab5065e",
   "metadata": {},
   "source": [
    "# gene expression matrix analysis"
   ]
  },
  {
   "cell_type": "code",
   "execution_count": 71,
   "id": "969ec387",
   "metadata": {},
   "outputs": [],
   "source": [
    "merged_TANs = c('RETNLB', 'WFDC21P', 'S100A8', 'IFITM1',  'CSTA','LCN2','TF', 'S100A9','S100A6', 'ANXA1',\n",
    "                 'PROK2', 'MMP8', 'IGFBP5', 'EIF4EBP1', 'B2M')\n",
    "TANs = c('RETNLB',  'CXCL2', 'IFITM1', 'WFDC21P', 'S100A8', 'TF', 'LCN2', 'CSTA', 'RHOG', 'LRG1', 'S100A9',  'ANXA1', \n",
    "           'IGFBP5','EIF4EBP1')\n",
    "top12_genes_by_lfc = c('SLFN12', 'CCDC9', 'ACOD1', 'HLA-DQB1', 'FCGBP', 'NDRG1', 'ITGB2', 'VEGFA',\n",
    "                 'WFDC12', 'VEGFB', 'GLYCAM1', 'RNF44')\n",
    "TANS23_obs_exp_low = c('ANXA1', 'BTG2', 'RETNLB')"
   ]
  },
  {
   "cell_type": "code",
   "execution_count": 80,
   "id": "1999432d",
   "metadata": {},
   "outputs": [],
   "source": [
    "gene_exp_matrix = edgeR::cpm(gene_exp_matrix) #preforming cpm normalization on the gene count matrix\n",
    "gene_exp_matrix = as.data.frame(gene_exp_matrix)\n",
    "gene_exp_matrix = rownames_to_column(gene_exp_matrix, var = 'gene_id')  #gene ids is now a column in the data frame instead of a row name\n",
    "combined_matrix = left_join(gene_exp_matrix, gene_info, by = 'gene_id') #mapping gene id to gene symbol\n",
    "combined_matrix = combined_matrix[!duplicated(combined_matrix$gene_name),] #removing genes with duplicated names (we can't use them anyway)\n",
    "rownames(combined_matrix) = combined_matrix$gene_name #gene names are now also row names\n",
    "combined_matrix = subset(combined_matrix, select = -c(gene_id, source, type, score,\n",
    "                                                      phase, gene_type, gene_name, level, hgnc_id, havana_gene)) #removing all non-sample id columns"
   ]
  },
  {
   "cell_type": "markdown",
   "id": "28dfc1eb",
   "metadata": {},
   "source": [
    "#rerun if the gene list has changed"
   ]
  },
  {
   "cell_type": "code",
   "execution_count": 1368,
   "id": "0a09ac6a",
   "metadata": {},
   "outputs": [
    {
     "name": "stderr",
     "output_type": "stream",
     "text": [
      "Warning message:\n",
      "“useNames = NA is deprecated. Instead, specify either useNames = TRUE or useNames = TRUE.”\n",
      "Warning message in .filterFeatures(expr, method):\n",
      "“3840 genes with constant expression values throuhgout the samples.”\n",
      "Warning message in .filterFeatures(expr, method):\n",
      "“Since argument method!=\"ssgsea\", genes with constant expression values are discarded.”\n"
     ]
    },
    {
     "name": "stdout",
     "output_type": "stream",
     "text": [
      "Estimating GSVA scores for 1 gene sets.\n",
      "Estimating ECDFs with Gaussian kernels\n",
      "  |======================================================================| 100%\n",
      "\n"
     ]
    }
   ],
   "source": [
    "#Gene set variation analysis\n",
    "gene_set_exp_matrix = gsva(data.matrix(combined_matrix), list(merged_TANs)) #converting to R matrix to fit GSVA format"
   ]
  },
  {
   "cell_type": "markdown",
   "id": "30d28772",
   "metadata": {},
   "source": [
    "# one gene set"
   ]
  },
  {
   "cell_type": "code",
   "execution_count": 1369,
   "id": "79948685",
   "metadata": {},
   "outputs": [],
   "source": [
    "sample_by_score = gather(as.data.frame(gene_set_exp_matrix), key = 'case_id', value = 'score') #all cases are now in the same column (the data frame is of dimension (num_of_genes*num_of_cases)*3 instead of num_of_genes*(num_of_cases+1)"
   ]
  },
  {
   "cell_type": "markdown",
   "id": "067cb33f",
   "metadata": {},
   "source": [
    "# multiple gene sets"
   ]
  },
  {
   "cell_type": "code",
   "execution_count": 1080,
   "id": "ea5c9bb0",
   "metadata": {},
   "outputs": [],
   "source": [
    "backup_gene_set_exp_matrix = gene_set_exp_matrix"
   ]
  },
  {
   "cell_type": "code",
   "execution_count": 1081,
   "id": "d305cc4b",
   "metadata": {},
   "outputs": [],
   "source": [
    "rownames(gene_set_exp_matrix) = c('under_expressed', 'over_expressed')"
   ]
  },
  {
   "cell_type": "code",
   "execution_count": 1082,
   "id": "6aac1ba5",
   "metadata": {},
   "outputs": [],
   "source": [
    "x = as.data.frame(t(gene_set_exp_matrix))"
   ]
  },
  {
   "cell_type": "code",
   "execution_count": 1083,
   "id": "f9cefbc0",
   "metadata": {},
   "outputs": [],
   "source": [
    "min.col = function(dataframe){\n",
    "    return(max.col(-dataframe))\n",
    "}\n",
    "top_quantiles = c(quantile(x$under_expressed, 0.5), quantile(x$over_expressed, 0.5))\n",
    "bottom_quantiles = c(quantile(x$under_expressed, 0.5), quantile(x$over_expressed, 0.5))\n",
    "mid = c(quantile(x$under_expressed, 0.5), quantile(x$over_expressed, 0.5))"
   ]
  },
  {
   "cell_type": "markdown",
   "id": "7df62d0a",
   "metadata": {},
   "source": [
    "median based desicion"
   ]
  },
  {
   "cell_type": "code",
   "execution_count": 1084,
   "id": "be4263d1",
   "metadata": {},
   "outputs": [],
   "source": [
    "decide_top = function(df){\n",
    "    type_max = c()\n",
    "    for(i in 1:nrow(df)){\n",
    "        if(df$is_under_expressed_top[i] + df$is_over_expressed_top[i] == 1){\n",
    "                type_max = append(type_max, max.col(df[i, c('is_under_expressed_top', 'is_over_expressed_top')]))\n",
    "        } \n",
    "        else if(df$is_under_expressed_top[i] + df$is_over_expressed_top[i] == 2){\n",
    "             type_max = append(type_max, max.col(df[i, c('under_expressed_mid_dist', 'over_expressed_mid_dist')]))\n",
    "        }\n",
    "        else{\n",
    "            type_max = append(type_max, 0)\n",
    "        }\n",
    "    }\n",
    "    return (type_max)\n",
    "}\n",
    "    "
   ]
  },
  {
   "cell_type": "code",
   "execution_count": 1085,
   "id": "ffaf2326",
   "metadata": {},
   "outputs": [],
   "source": [
    "x$is_under_expressed_top = ifelse(x$under_expressed >= top_quantiles[1], 1, 0)\n",
    "x$is_over_expressed_top = ifelse(x$over_expressed >= top_quantiles[2], 1, 0)\n",
    "x$under_expressed_mid_dist = abs(x$under_expressed - mid[1])\n",
    "x$over_expressed_mid_dist = abs(x$over_expressed - mid[2])\n",
    "x$zero = 0\n",
    "x$max_type = decide_top(x)\n",
    "x$case_id = rownames(x)\n",
    "rownames(x) = c()"
   ]
  },
  {
   "cell_type": "code",
   "execution_count": 1086,
   "id": "87631001",
   "metadata": {},
   "outputs": [],
   "source": [
    "columns_to_keep = c('case_id', 'max_type')\n",
    "sample_by_score = subset(x, select = columns_to_keep)"
   ]
  },
  {
   "cell_type": "markdown",
   "id": "3bf74f07",
   "metadata": {},
   "source": [
    "# one gene set"
   ]
  },
  {
   "cell_type": "code",
   "execution_count": 102,
   "id": "8a25bdb5",
   "metadata": {
    "scrolled": true
   },
   "outputs": [
    {
     "data": {
      "image/png": "iVBORw0KGgoAAAANSUhEUgAAA0gAAANICAIAAAByhViMAAAACXBIWXMAABJ0AAASdAHeZh94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\nOwAAAIn4PwU9r5Txo29NAAAAAElFTkSuQmCC",
      "text/plain": [
       "plot without title"
      ]
     },
     "metadata": {
      "image/png": {
       "height": 420,
       "width": 420
      }
     },
     "output_type": "display_data"
    }
   ],
   "source": [
    "#density plot\n",
    "ggplot(sample_by_score, aes(x=score))+\n",
    "  geom_density(color=\"darkblue\", fill=\"lightblue\")+\n",
    "  geom_vline(xintercept=quantile(sample_by_score$score), linetype = \"longdash\")"
   ]
  },
  {
   "cell_type": "markdown",
   "id": "0ea5be48",
   "metadata": {},
   "source": [
    " based on the density plot, choose a cut-off and insert as '>=' value "
   ]
  },
  {
   "cell_type": "code",
   "execution_count": 1370,
   "id": "98b7a46d",
   "metadata": {},
   "outputs": [],
   "source": [
    "quantiles = quantile(sample_by_score$score, c(0.5,0.5))"
   ]
  },
  {
   "cell_type": "code",
   "execution_count": 1371,
   "id": "a800bc0d",
   "metadata": {},
   "outputs": [],
   "source": [
    "#if the score is in the 1st or 4th quantile then extreme = 1\n",
    "sample_by_score$extreme = ifelse(sample_by_score$score <= quantiles[1] | sample_by_score$score >= quantiles[2] , 1, 0)"
   ]
  },
  {
   "cell_type": "code",
   "execution_count": 1372,
   "id": "860f9e96",
   "metadata": {},
   "outputs": [],
   "source": [
    "merged_sample_by_score = merge(sample_by_score, clinical_info, by.x = 'case_id', by.y = 'submitter_id') #gene list scores and survival are now in the same table"
   ]
  },
  {
   "cell_type": "code",
   "execution_count": 1373,
   "id": "8fa31eb1",
   "metadata": {},
   "outputs": [],
   "source": [
    "#keeping only the extreme results\n",
    "sub_merged_sample_by_score = merged_sample_by_score[merged_sample_by_score$extreme == 1, ]"
   ]
  },
  {
   "cell_type": "code",
   "execution_count": 1374,
   "id": "1b2e1d12",
   "metadata": {},
   "outputs": [],
   "source": [
    "#if the score is on the high end then cut_off = 1\n",
    "sub_merged_sample_by_score$high = ifelse(sub_merged_sample_by_score$score >= quantiles[2], 1, 0)"
   ]
  },
  {
   "cell_type": "code",
   "execution_count": 1375,
   "id": "af6ffa6e",
   "metadata": {},
   "outputs": [
    {
     "data": {
      "image/png": "iVBORw0KGgoAAAANSUhEUgAAA0gAAANICAIAAAByhViMAAAACXBIWXMAABJ0AAASdAHeZh94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\nnTXLuQAAAABJRU5ErkJggg==",
      "text/plain": [
       "plot without title"
      ]
     },
     "metadata": {
      "image/png": {
       "height": 420,
       "width": 420
      }
     },
     "output_type": "display_data"
    }
   ],
   "source": [
    "#survival analysis\n",
    "fit = survfit(Surv(survival, deceased) ~high, data =\n",
    "              sub_merged_sample_by_score) \n",
    "plot = ggsurvplot(fit, data = sub_merged_sample_by_score, pval = T, risk = T, \n",
    "                  legend.labs = c('Low', 'High'), \n",
    "                legend.title = 'Gene Expression',\n",
    "                 palette = c('green1', 'green4')) #creating the Kaplan-Meier survival plot. pvalue is calculated from the log-rank test\n",
    "plot"
   ]
  },
  {
   "cell_type": "code",
   "execution_count": 1069,
   "id": "c4efc9d7",
   "metadata": {},
   "outputs": [
    {
     "name": "stderr",
     "output_type": "stream",
     "text": [
      "\u001b[1m\u001b[22mSaving 16.9 x 16.9 cm image\n"
     ]
    }
   ],
   "source": [
    "ggsave_workaround <- function(g){survminer:::.build_ggsurvplot(x = g,\n",
    "                                                               surv.plot.height = NULL,\n",
    "                                                               risk.table.height = NULL,\n",
    "                                                               ncensor.plot.height = NULL)}\n",
    "g_to_save <- ggsave_workaround(plot)\n",
    "ggsave(filename = \"TANs12_up_vs_down_regulated_no_info.png\", plot = g_to_save,\n",
    "       dpi = 1200, units = \"cm\")"
   ]
  },
  {
   "cell_type": "markdown",
   "id": "1dfa2f5a",
   "metadata": {},
   "source": [
    "# multiple gene sets"
   ]
  },
  {
   "cell_type": "code",
   "execution_count": 1087,
   "id": "528beb9a",
   "metadata": {},
   "outputs": [],
   "source": [
    "merged_sample_by_score = merge(sample_by_score, clinical_info, by.x = 'case_id', by.y = 'submitter_id') #gene list scores and survival are now in the same table"
   ]
  },
  {
   "cell_type": "code",
   "execution_count": 1088,
   "id": "dc6f9907",
   "metadata": {},
   "outputs": [],
   "source": [
    "sub_merged_sample_by_score = merged_sample_by_score[!merged_sample_by_score$max_type == 0, ]"
   ]
  },
  {
   "cell_type": "code",
   "execution_count": 1089,
   "id": "e8da1390",
   "metadata": {},
   "outputs": [],
   "source": [
    "func = function(max){\n",
    "    if(max == 1){\n",
    "        return ('Downregulated')\n",
    "    }\n",
    "    else if(max == 2){\n",
    "        return('Upregulated')\n",
    "    } \n",
    "}"
   ]
  },
  {
   "cell_type": "code",
   "execution_count": 1090,
   "id": "0df8935f",
   "metadata": {},
   "outputs": [],
   "source": [
    "sub_merged_sample_by_score$max_type = lapply(sub_merged_sample_by_score$max_type, func)"
   ]
  },
  {
   "cell_type": "code",
   "execution_count": 1093,
   "id": "622598cc",
   "metadata": {},
   "outputs": [
    {
     "data": {
      "image/png": "iVBORw0KGgoAAAANSUhEUgAAA0gAAANICAIAAAByhViMAAAACXBIWXMAABJ0AAASdAHeZh94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\nkMT/BweLNWmRZOSuAAAAAElFTkSuQmCC",
      "text/plain": [
       "plot without title"
      ]
     },
     "metadata": {
      "image/png": {
       "height": 420,
       "width": 420
      }
     },
     "output_type": "display_data"
    }
   ],
   "source": [
    "#survival analysis\n",
    "fit = survfit(Surv(survival, deceased) ~unlist(max_type), data = sub_merged_sample_by_score) \n",
    "plot = ggsurvplot(fit, data = sub_merged_sample_by_score, pval = F, risk = F, \n",
    "                  legend.labs = c('Downregulated', 'Upregulated'), \n",
    "                legend.title = 'Gene Set Type',\n",
    "                 palette = c('green1', 'green4')) #creating the Kaplan-Meier survival plot. pvalue is calculated from the log-rank test\n",
    "plot\n"
   ]
  },
  {
   "cell_type": "code",
   "execution_count": 1094,
   "id": "e16ce324",
   "metadata": {},
   "outputs": [
    {
     "name": "stderr",
     "output_type": "stream",
     "text": [
      "\u001b[1m\u001b[22mSaving 16.9 x 16.9 cm image\n"
     ]
    }
   ],
   "source": [
    "ggsave_workaround <- function(g){survminer:::.build_ggsurvplot(x = g,\n",
    "                                                               surv.plot.height = NULL,\n",
    "                                                               risk.table.height = NULL,\n",
    "                                                               ncensor.plot.height = NULL)}\n",
    "g_to_save <- ggsave_workaround(plot)\n",
    "ggsave(filename = \"TANs12_up_v_down_regulated_no_info.png\", plot = g_to_save,\n",
    "       dpi = 1200, units = \"cm\")"
   ]
  },
  {
   "cell_type": "markdown",
   "id": "12b948e1",
   "metadata": {},
   "source": [
   
