{
 "cells": [
  {
   "cell_type": "code",
   "execution_count": 1,
   "id": "309719cb",
   "metadata": {
    "scrolled": true
   },
   "outputs": [
    {
     "name": "stderr",
     "output_type": "stream",
     "text": [
      "Loading required package: Biobase\n",
      "\n",
      "Loading required package: BiocGenerics\n",
      "\n",
      "\n",
      "Attaching package: ‘BiocGenerics’\n",
      "\n",
      "\n",
      "The following objects are masked from ‘package:stats’:\n",
      "\n",
      "    IQR, mad, sd, var, xtabs\n",
      "\n",
      "\n",
      "The following objects are masked from ‘package:base’:\n",
      "\n",
      "    anyDuplicated, append, as.data.frame, basename, cbind, colnames,\n",
      "    dirname, do.call, duplicated, eval, evalq, Filter, Find, get, grep,\n",
      "    grepl, intersect, is.unsorted, lapply, Map, mapply, match, mget,\n",
      "    order, paste, pmax, pmax.int, pmin, pmin.int, Position, rank,\n",
      "    rbind, Reduce, rownames, sapply, setdiff, sort, table, tapply,\n",
      "    union, unique, unsplit, which.max, which.min\n",
      "\n",
      "\n",
      "Welcome to Bioconductor\n",
      "\n",
      "    Vignettes contain introductory material; view with\n",
      "    'browseVignettes()'. To cite Bioconductor, see\n",
      "    'citation(\"Biobase\")', and for packages 'citation(\"pkgname\")'.\n",
      "\n",
      "\n",
      "Setting options('download.file.method.GEOquery'='auto')\n",
      "\n",
      "Setting options('GEOquery.inmemory.gpl'=FALSE)\n",
      "\n",
      "\n",
      "Attaching package: ‘googledrive’\n",
      "\n",
      "\n",
      "The following objects are masked from ‘package:googlesheets4’:\n",
      "\n",
      "    request_generate, request_make\n",
      "\n",
      "\n",
      "Loading required package: usethis\n",
      "\n",
      "\n",
      "Attaching package: ‘dplyr’\n",
      "\n",
      "\n",
      "The following objects are masked from ‘package:plyr’:\n",
      "\n",
      "    arrange, count, desc, failwith, id, mutate, rename, summarise,\n",
      "    summarize\n",
      "\n",
      "\n",
      "The following object is masked from ‘package:Biobase’:\n",
      "\n",
      "    combine\n",
      "\n",
      "\n",
      "The following objects are masked from ‘package:BiocGenerics’:\n",
      "\n",
      "    combine, intersect, setdiff, union\n",
      "\n",
      "\n",
      "The following objects are masked from ‘package:stats’:\n",
      "\n",
      "    filter, lag\n",
      "\n",
      "\n",
      "The following objects are masked from ‘package:base’:\n",
      "\n",
      "    intersect, setdiff, setequal, union\n",
      "\n",
      "\n",
      "── \u001b[1mAttaching packages\u001b[22m ─────────────────────────────────────── tidyverse 1.3.2 ──\n",
      "\u001b[32m✔\u001b[39m \u001b[34mtidyr  \u001b[39m 1.3.1     \u001b[32m✔\u001b[39m \u001b[34mstringr\u001b[39m 1.5.1\n",
      "\u001b[32m✔\u001b[39m \u001b[34mreadr  \u001b[39m 2.1.4     \u001b[32m✔\u001b[39m \u001b[34mforcats\u001b[39m 1.0.0\n",
      "\u001b[32m✔\u001b[39m \u001b[34mpurrr  \u001b[39m 1.0.2     \n",
      "── \u001b[1mConflicts\u001b[22m ────────────────────────────────────────── tidyverse_conflicts() ──\n",
      "\u001b[31m✖\u001b[39m \u001b[34mdplyr\u001b[39m::\u001b[32marrange()\u001b[39m                masks \u001b[34mplyr\u001b[39m::arrange()\n",
      "\u001b[31m✖\u001b[39m \u001b[34mdplyr\u001b[39m::\u001b[32mcombine()\u001b[39m                masks \u001b[34mBiobase\u001b[39m::combine(), \u001b[34mBiocGenerics\u001b[39m::combine()\n",
      "\u001b[31m✖\u001b[39m \u001b[34mpurrr\u001b[39m::\u001b[32mcompact()\u001b[39m                masks \u001b[34mplyr\u001b[39m::compact()\n",
      "\u001b[31m✖\u001b[39m \u001b[34mdplyr\u001b[39m::\u001b[32mcount()\u001b[39m                  masks \u001b[34mplyr\u001b[39m::count()\n",
      "\u001b[31m✖\u001b[39m \u001b[34mdplyr\u001b[39m::\u001b[32mdesc()\u001b[39m                   masks \u001b[34mplyr\u001b[39m::desc()\n",
      "\u001b[31m✖\u001b[39m \u001b[34mdplyr\u001b[39m::\u001b[32mfailwith()\u001b[39m               masks \u001b[34mplyr\u001b[39m::failwith()\n",
      "\u001b[31m✖\u001b[39m \u001b[34mdplyr\u001b[39m::\u001b[32mfilter()\u001b[39m                 masks \u001b[34mstats\u001b[39m::filter()\n",
      "\u001b[31m✖\u001b[39m \u001b[34mdplyr\u001b[39m::\u001b[32mid()\u001b[39m                     masks \u001b[34mplyr\u001b[39m::id()\n",
      "\u001b[31m✖\u001b[39m \u001b[34mdplyr\u001b[39m::\u001b[32mlag()\u001b[39m                    masks \u001b[34mstats\u001b[39m::lag()\n",
      "\u001b[31m✖\u001b[39m \u001b[34mdplyr\u001b[39m::\u001b[32mmutate()\u001b[39m                 masks \u001b[34mplyr\u001b[39m::mutate()\n",
      "\u001b[31m✖\u001b[39m \u001b[34mggplot2\u001b[39m::\u001b[32mPosition()\u001b[39m             masks \u001b[34mBiocGenerics\u001b[39m::Position(), \u001b[34mbase\u001b[39m::Position()\n",
      "\u001b[31m✖\u001b[39m \u001b[34mdplyr\u001b[39m::\u001b[32mrename()\u001b[39m                 masks \u001b[34mplyr\u001b[39m::rename()\n",
      "\u001b[31m✖\u001b[39m \u001b[34mgoogledrive\u001b[39m::\u001b[32mrequest_generate()\u001b[39m masks \u001b[34mgooglesheets4\u001b[39m::request_generate()\n",
      "\u001b[31m✖\u001b[39m \u001b[34mgoogledrive\u001b[39m::\u001b[32mrequest_make()\u001b[39m     masks \u001b[34mgooglesheets4\u001b[39m::request_make()\n",
      "\u001b[31m✖\u001b[39m \u001b[34mdplyr\u001b[39m::\u001b[32msummarise()\u001b[39m              masks \u001b[34mplyr\u001b[39m::summarise()\n",
      "\u001b[31m✖\u001b[39m \u001b[34mdplyr\u001b[39m::\u001b[32msummarize()\u001b[39m              masks \u001b[34mplyr\u001b[39m::summarize()\n",
      "\n",
      "Attaching package: ‘gridExtra’\n",
      "\n",
      "\n",
      "The following object is masked from ‘package:dplyr’:\n",
      "\n",
      "    combine\n",
      "\n",
      "\n",
      "The following object is masked from ‘package:Biobase’:\n",
      "\n",
      "    combine\n",
      "\n",
      "\n",
      "The following object is masked from ‘package:BiocGenerics’:\n",
      "\n",
      "    combine\n",
      "\n",
      "\n",
      "Loading required package: SummarizedExperiment\n",
      "\n",
      "Loading required package: MatrixGenerics\n",
      "\n",
      "Loading required package: matrixStats\n",
      "\n",
      "\n",
      "Attaching package: ‘matrixStats’\n",
      "\n",
      "\n",
      "The following object is masked from ‘package:dplyr’:\n",
      "\n",
      "    count\n",
      "\n",
      "\n",
      "The following object is masked from ‘package:plyr’:\n",
      "\n",
      "    count\n",
      "\n",
      "\n",
      "The following objects are masked from ‘package:Biobase’:\n",
      "\n",
      "    anyMissing, rowMedians\n",
      "\n",
      "\n",
      "\n",
      "Attaching package: ‘MatrixGenerics’\n",
      "\n",
      "\n",
      "The following objects are masked from ‘package:matrixStats’:\n",
      "\n",
      "    colAlls, colAnyNAs, colAnys, colAvgsPerRowSet, colCollapse,\n",
      "    colCounts, colCummaxs, colCummins, colCumprods, colCumsums,\n",
      "    colDiffs, colIQRDiffs, colIQRs, colLogSumExps, colMadDiffs,\n",
      "    colMads, colMaxs, colMeans2, colMedians, colMins, colOrderStats,\n",
      "    colProds, colQuantiles, colRanges, colRanks, colSdDiffs, colSds,\n",
      "    colSums2, colTabulates, colVarDiffs, colVars, colWeightedMads,\n",
      "    colWeightedMeans, colWeightedMedians, colWeightedSds,\n",
      "    colWeightedVars, rowAlls, rowAnyNAs, rowAnys, rowAvgsPerColSet,\n",
      "    rowCollapse, rowCounts, rowCummaxs, rowCummins, rowCumprods,\n",
      "    rowCumsums, rowDiffs, rowIQRDiffs, rowIQRs, rowLogSumExps,\n",
      "    rowMadDiffs, rowMads, rowMaxs, rowMeans2, rowMedians, rowMins,\n",
      "    rowOrderStats, rowProds, rowQuantiles, rowRanges, rowRanks,\n",
      "    rowSdDiffs, rowSds, rowSums2, rowTabulates, rowVarDiffs, rowVars,\n",
      "    rowWeightedMads, rowWeightedMeans, rowWeightedMedians,\n",
      "    rowWeightedSds, rowWeightedVars\n",
      "\n",
      "\n",
      "The following object is masked from ‘package:Biobase’:\n",
      "\n",
      "    rowMedians\n",
      "\n",
      "\n",
      "Loading required package: GenomicRanges\n",
      "\n",
      "Loading required package: stats4\n",
      "\n",
      "Loading required package: S4Vectors\n",
      "\n",
      "\n",
      "Attaching package: ‘S4Vectors’\n",
      "\n",
      "\n",
      "The following object is masked from ‘package:tidyr’:\n",
      "\n",
      "    expand\n",
      "\n",
      "\n",
      "The following objects are masked from ‘package:dplyr’:\n",
      "\n",
      "    first, rename\n",
      "\n",
      "\n",
      "The following object is masked from ‘package:plyr’:\n",
      "\n",
      "    rename\n",
      "\n",
      "\n",
      "The following objects are masked from ‘package:base’:\n",
      "\n",
      "    expand.grid, I, unname\n",
      "\n",
      "\n",
      "Loading required package: IRanges\n",
      "\n",
      "\n",
      "Attaching package: ‘IRanges’\n",
      "\n",
      "\n",
      "The following object is masked from ‘package:purrr’:\n",
      "\n",
      "    reduce\n",
      "\n",
      "\n",
      "The following objects are masked from ‘package:dplyr’:\n",
      "\n",
      "    collapse, desc, slice\n",
      "\n",
      "\n",
      "The following object is masked from ‘package:plyr’:\n",
      "\n",
      "    desc\n",
      "\n",
      "\n",
      "Loading required package: GenomeInfoDb\n",
      "\n",
      "\n",
      "Attaching package: ‘babelgene’\n",
      "\n",
      "\n",
      "The following object is masked from ‘package:GenomeInfoDb’:\n",
      "\n",
      "    species\n",
      "\n",
      "\n",
      "The following object is masked from ‘package:BiocGenerics’:\n",
      "\n",
      "    species\n",
      "\n",
      "\n",
      "Loading required package: grid\n",
      "\n",
      "========================================\n",
      "ComplexHeatmap version 2.13.2\n",
      "Bioconductor page: http://bioconductor.org/packages/ComplexHeatmap/\n",
      "Github page: https://github.com/jokergoo/ComplexHeatmap\n",
      "Documentation: http://jokergoo.github.io/ComplexHeatmap-reference\n",
      "\n",
      "If you use it in published research, please cite either one:\n",
      "- Gu, Z. Complex heatmaps reveal patterns and correlations in multidimensional \n",
      "    genomic data. Bioinformatics 2016.\n",
      "- Gu, Z. Complex Heatmap Visualization. iMeta 2022.\n",
      "\n",
      "\n",
      "The new InteractiveComplexHeatmap package can directly export static \n",
      "complex heatmaps into an interactive Shiny app with zero effort. Have a try!\n",
      "\n",
      "This message can be suppressed by:\n",
      "  suppressPackageStartupMessages(library(ComplexHeatmap))\n",
      "========================================\n",
      "\n",
      "\n",
      "Loading required package: vioplot\n",
      "\n",
      "Loading required package: sm\n",
      "\n",
      "Package 'sm', version 2.2-5.7: type help(sm) for summary information\n",
      "\n",
      "Loading required package: zoo\n",
      "\n",
      "\n",
      "Attaching package: ‘zoo’\n",
      "\n",
      "\n",
      "The following objects are masked from ‘package:base’:\n",
      "\n",
      "    as.Date, as.Date.numeric\n",
      "\n",
      "\n"
     ]
    }
   ],
   "source": [
    "library(metacell)\n",
    "library(GEOquery)\n",
    "library(googlesheets4)\n",
    "library(googledrive)\n",
    "library(devtools)\n",
    "library(reshape2)\n",
    "library(plyr)\n",
    "library(dplyr)\n",
    "library(tibble)\n",
    "library(ggplot2)\n",
    "library(tidyverse)\n",
    "library(tgstat)\n",
    "library(tgconfig)\n",
    "library(gridExtra)\n",
    "library(SingleCellExperiment)\n",
    "library(babelgene)\n",
    "library(zellkonverter)\n",
    "library(liana)\n",
    "library(ComplexHeatmap)\n",
    "library(grid)\n",
    "library(GOfuncR)\n",
    "library(cowplot)\n",
    "library(tidyr)"
   ]
  },
  {
   "cell_type": "markdown",
   "id": "5765b6a5",
   "metadata": {},
   "source": [
    "# Initializing DBs"
   ]
  },
  {
   "cell_type": "code",
   "execution_count": 2,
   "id": "ee1e17c6",
   "metadata": {},
   "outputs": [
    {
     "name": "stderr",
     "output_type": "stream",
     "text": [
      "initializing scdb to scdb/\n",
      "\n"
     ]
    }
   ],
   "source": [
    "if(!dir.exists(\"scdb\")) dir.create(\"scdb/\")\n",
    "scdb_init(\"scdb/\", force_reinit=T)\n",
    "#> initializing scdb to testdb/"
   ]
  },
  {
   "cell_type": "code",
   "execution_count": 3,
   "id": "8a157461",
   "metadata": {},
   "outputs": [],
   "source": [
    "if(!dir.exists(\"neutrophil_singlet_figs\")) dir.create(\"neutrophil_singlet_figs/\")\n",
    "scfigs_init(\"neutrophil_singlet_figs/\")"
   ]
  },
  {
   "cell_type": "code",
   "execution_count": 4,
   "id": "bb20cf7b",
   "metadata": {},
   "outputs": [],
   "source": [
    "mc = scdb_mc(\"neutrophil_mc\")\n",
    "mat = scdb_mat(\"neutrophil_singlets\")"
   ]
  },
  {
   "cell_type": "code",
   "execution_count": 5,
   "id": "ae1d8a2c",
   "metadata": {},
   "outputs": [],
   "source": [
    "bad_genes = readr::read_lines('annotations/neutrophil_filtered_genes.txt')"
   ]
  },
  {
   "cell_type": "code",
   "execution_count": 6,
   "id": "1c3f8a61",
   "metadata": {},
   "outputs": [
    {
     "data": {
      "text/plain": [
       "\n",
       "CD45+  LY6G \n",
       "  258   508 "
      ]
     },
     "metadata": {},
     "output_type": "display_data"
    }
   ],
   "source": [
    "table(mat@cell_metadata[mc@cell_names,'Cell_type'])"
   ]
  },
  {
   "cell_type": "code",
   "execution_count": 7,
   "id": "53e6763a",
   "metadata": {},
   "outputs": [
    {
     "data": {
      "text/plain": [
       "\n",
       " 3w  6w  8w 10d 10w 12w \n",
       " 61  31  81 229  99 265 "
      ]
     },
     "metadata": {},
     "output_type": "display_data"
    }
   ],
   "source": [
    "table(mat@cell_metadata[mc@cell_names,'Age'])"
   ]
  },
  {
   "cell_type": "code",
   "execution_count": 8,
   "id": "b055bc23",
   "metadata": {},
   "outputs": [
    {
     "data": {
      "text/plain": [
       "\n",
       "normal  tumor \n",
       "   207    559 "
      ]
     },
     "metadata": {},
     "output_type": "display_data"
    }
   ],
   "source": [
    "table(mat@cell_metadata[mc@cell_names,'condition'])"
   ]
  },
  {
   "cell_type": "code",
   "execution_count": 9,
   "id": "873a5288",
   "metadata": {},
   "outputs": [
    {
     "data": {
      "text/html": [
       "766"
      ],
      "text/latex": [
       "766"
      ],
      "text/markdown": [
       "766"
      ],
      "text/plain": [
       "[1] 766"
      ]
     },
     "metadata": {},
     "output_type": "display_data"
    }
   ],
   "source": [
    "length(mc@cell_names)"
   ]
  },
  {
   "cell_type": "code",
   "execution_count": 10,
   "id": "dcc7f1e5",
   "metadata": {
    "scrolled": true
   },
   "outputs": [
    {
     "name": "stderr",
     "output_type": "stream",
     "text": [
      "\u001b[1m\u001b[22m\u001b[36mℹ\u001b[39m SHA-1 hash of file is \"bda7f06ee7b168c0be4c723ee15644ab99e6421e\"\n",
      "Loading required package: KernSmooth\n",
      "\n",
      "KernSmooth 2.23 loaded\n",
      "Copyright M. P. Wand 1997-2009\n",
      "\n",
      "Loading required package: RANN\n",
      "\n",
      "Loading required package: plotrix\n",
      "\n",
      "Loading required package: gplots\n",
      "\n",
      "\n",
      "Attaching package: ‘gplots’\n",
      "\n",
      "\n",
      "The following object is masked from ‘package:plotrix’:\n",
      "\n",
      "    plotCI\n",
      "\n",
      "\n",
      "The following object is masked from ‘package:IRanges’:\n",
      "\n",
      "    space\n",
      "\n",
      "\n",
      "The following object is masked from ‘package:S4Vectors’:\n",
      "\n",
      "    space\n",
      "\n",
      "\n",
      "The following object is masked from ‘package:stats’:\n",
      "\n",
      "    lowess\n",
      "\n",
      "\n",
      "Loading required package: parallel\n",
      "\n",
      "Loading required package: compositions\n",
      "\n",
      "Welcome to compositions, a package for compositional data analysis.\n",
      "Find an intro with \"? compositions\"\n",
      "\n",
      "\n",
      "\n",
      "Attaching package: ‘compositions’\n",
      "\n",
      "\n",
      "The following objects are masked from ‘package:IRanges’:\n",
      "\n",
      "    cor, cov, var\n",
      "\n",
      "\n",
      "The following objects are masked from ‘package:S4Vectors’:\n",
      "\n",
      "    cor, cov, var\n",
      "\n",
      "\n",
      "The following objects are masked from ‘package:BiocGenerics’:\n",
      "\n",
      "    normalize, var\n",
      "\n",
      "\n",
      "The following objects are masked from ‘package:stats’:\n",
      "\n",
      "    anova, cor, cov, dist, var\n",
      "\n",
      "\n",
      "The following objects are masked from ‘package:base’:\n",
      "\n",
      "    %*%, norm, scale, scale.default\n",
      "\n",
      "\n",
      "Loading required package: RCurl\n",
      "\n",
      "\n",
      "Attaching package: ‘RCurl’\n",
      "\n",
      "\n",
      "The following object is masked from ‘package:tidyr’:\n",
      "\n",
      "    complete\n",
      "\n",
      "\n",
      "\u001b[1m\u001b[22m\u001b[36mℹ\u001b[39m SHA-1 hash of file is \"9adfcccbce4f308dad9fb0d084241583dbbeb5b8\"\n",
      "Loading required package: glmnet\n",
      "\n",
      "Loading required package: Matrix\n",
      "\n",
      "\n",
      "Attaching package: ‘Matrix’\n",
      "\n",
      "\n",
      "The following object is masked from ‘package:S4Vectors’:\n",
      "\n",
      "    expand\n",
      "\n",
      "\n",
      "The following objects are masked from ‘package:tidyr’:\n",
      "\n",
      "    expand, pack, unpack\n",
      "\n",
      "\n",
      "Loaded glmnet 4.1-4\n",
      "\n",
      "\n",
      "Attaching package: ‘glmnet’\n",
      "\n",
      "\n",
      "The following object is masked from ‘package:compositions’:\n",
      "\n",
      "    rmult\n",
      "\n",
      "\n"
     ]
    }
   ],
   "source": [
    "source_url(\"https://raw.githubusercontent.com/aygoldberg/PIC-seq/master/scripts/metacell_functions.r\")\n",
    "source_url(\"https://raw.githubusercontent.com/aygoldberg/PIC-seq/master/scripts/pic_parser.r\")"
   ]
  },
  {
   "cell_type": "code",
   "execution_count": 11,
   "id": "94fbd7db",
   "metadata": {},
   "outputs": [],
   "source": [
    "type_colors = c(\"chartreuse\", \"magenta\")\n",
    "names(type_colors) = c('LY6G', 'CD45+')"
   ]
  },
  {
   "cell_type": "code",
   "execution_count": 12,
   "id": "ea150a71",
   "metadata": {},
   "outputs": [],
   "source": [
    "age_colors = RColorBrewer::brewer.pal(9, \"BuPu\")[3:8]\n",
    "names(age_colors) = c('10d', '3w', '6w', '8w', '10w', '12w')"
   ]
  },
  {
   "cell_type": "code",
   "execution_count": 13,
   "id": "0f6f3e8f",
   "metadata": {},
   "outputs": [
    {
     "data": {
      "image/png": "[encoded data removed]",
      "text/plain": [
       "plot without title"
      ]
     },
     "metadata": {
      "image/png": {
       "height": 420,
       "width": 420
      }
     },
     "output_type": "display_data"
    }
   ],
   "source": [
    "ggplot(data.frame(age=factor(names(age_colors), levels=names(age_colors)), color=age_colors),\n",
    "                                                                       aes(x=age, y=1, fill=age_colors)) +\n",
    "    geom_tile() +\n",
    "    scale_fill_identity()"
   ]
  },
  {
   "cell_type": "markdown",
   "id": "6ffb04ea",
   "metadata": {},
   "source": [
    "stage_colors = c(\"orchid1\", \"magenta3\", \"maroon4\", \"darkorchid4\")\n",
    "names(stage_colors) = c('Prepuberty', 'Neoplasia', 'Early carcinoma', 'Late carcinoma')"
   ]
  },
  {
   "cell_type": "code",
   "execution_count": 14,
   "id": "074f85ee",
   "metadata": {},
   "outputs": [],
   "source": [
    "cond_colors= c('#f57451', '#2996a0')\n",
    "names(cond_colors) = c('tumor', 'normal')"
   ]
  },
  {
   "cell_type": "markdown",
   "id": "0f0546c6",
   "metadata": {},
   "source": [
    "# Visulations etc"
   ]
  },
  {
   "cell_type": "code",
   "execution_count": 15,
   "id": "249e6622",
   "metadata": {},
   "outputs": [],
   "source": [
    "annot_df <- read.csv(\"annotations/neutrophil_annots.csv\", sep=\",\")"
   ]
  },
  {
   "cell_type": "code",
   "execution_count": 16,
   "id": "17f421dd",
   "metadata": {},
   "outputs": [],
   "source": [
    "mcell_mc_add_annot(\"neutrophil_mc\", annot_df$label)\n",
    "mcell_mc_add_color(\"neutrophil_mc\", annot_df$color)"
   ]
  },
  {
   "cell_type": "code",
   "execution_count": 17,
   "id": "7e5d8453",
   "metadata": {},
   "outputs": [],
   "source": [
    "mat = scdb_mat(\"neutrophil_singlets\")\n",
    "mc = scdb_mc(\"neutrophil_mc\")"
   ]
  },
  {
   "cell_type": "code",
   "execution_count": 18,
   "id": "82e1b648",
   "metadata": {},
   "outputs": [
    {
     "name": "stderr",
     "output_type": "stream",
     "text": [
      "1: Neut Ptgs2\n",
      "\n",
      "2: MHCII Neut\n",
      "\n",
      "3: Neut Socs3\n",
      "\n",
      "4: TAN1\n",
      "\n",
      "5: TAN2\n",
      "\n",
      "6: Cystatin high\n",
      "\n",
      "7: Young Cystatin high\n",
      "\n"
     ]
    }
   ],
   "source": [
    "for (i in 1:length(unique(annot_df$label))){\n",
    "    message(paste(i, unique(annot_df$label)[i], sep=\": \"))\n",
    "}"
   ]
  },
  {
   "cell_type": "code",
   "execution_count": 19,
   "id": "238ddefd",
   "metadata": {},
   "outputs": [],
   "source": [
    "order_index = c(7, 6, 2, 1, 3:5)\n",
    "cell_order = unique(annot_df$label)[order_index]"
   ]
  },
  {
   "cell_type": "code",
   "execution_count": 20,
   "id": "b762dfd5",
   "metadata": {},
   "outputs": [],
   "source": [
    "good_cellnames = names(mc@mc[mc@annots[mc@mc] %in% cell_order])"
   ]
  },
  {
   "cell_type": "code",
   "execution_count": 21,
   "id": "e3a0681d",
   "metadata": {},
   "outputs": [
    {
     "data": {
      "text/html": [],
      "text/latex": [],
      "text/markdown": [],
      "text/plain": [
       "character(0)"
      ]
     },
     "metadata": {},
     "output_type": "display_data"
    }
   ],
   "source": [
    "unique(annot_df$label)[which(!1:length(unique(annot_df$label)) %in% order_index)]"
   ]
  },
  {
   "cell_type": "code",
   "execution_count": 22,
   "id": "7994a3b7",
   "metadata": {},
   "outputs": [
    {
     "name": "stdout",
     "output_type": "stream",
     "text": [
      "Young Cystatin high\", \"Cystatin high\", \"MHCII Neut\", \"Neut Ptgs2\", \"Neut Socs3\", \"TAN1\", \"TAN2"
     ]
    }
   ],
   "source": [
    "cat(cell_order, sep = '\", \"')"
   ]
  },
  {
   "cell_type": "code",
   "execution_count": 23,
   "id": "eddae6b7",
   "metadata": {},
   "outputs": [
    {
     "data": {
      "text/html": [
       "<strong>png:</strong> 2"
      ],
      "text/latex": [
       "\\textbf{png:} 2"
      ],
      "text/markdown": [
       "**png:** 2"
      ],
      "text/plain": [
       "png \n",
       "  2 "
      ]
     },
     "metadata": {},
     "output_type": "display_data"
    }
   ],
   "source": [
    "png(\"neutrophil_singlet_figs/legend.png\", width = 3600, height = 1800, units = \"px\", res = 400)\n",
    "par(family = \"Times New Roman\")\n",
    "plot(NULL ,xaxt='n',yaxt='n',bty='n',ylab='',xlab='', xlim=0:1, ylim=0:1)\n",
    "legend(x=\"left\", ncol = 2,\n",
    "       legend=unique(annot_df$label)[order_index],\n",
    "       fill=unique(annot_df$color)[order_index],\n",
    "       xpd = TRUE)\n",
    "dev.off()"
   ]
  },
  {
   "cell_type": "code",
   "execution_count": 24,
   "id": "3bed2e6e",
   "metadata": {},
   "outputs": [],
   "source": [
    "bad_genes = as.character(read_lines('annotations/neutrophil_filtered_genes.txt'))"
   ]
  },
  {
   "cell_type": "code",
   "execution_count": 25,
   "id": "30008645",
   "metadata": {},
   "outputs": [],
   "source": [
    "rp_markers = grep(\"Rpl|Rps|Snor|Gm|Ig[h,k,l]v|^mt-|Hist|Hsp|Jun|Rik\", colnames(mat@mat), v=T)"
   ]
  },
  {
   "cell_type": "code",
   "execution_count": 26,
   "id": "1c36754c",
   "metadata": {},
   "outputs": [],
   "source": [
    "m2d = scdb_mc2d(\"neutrophil_2dproj\")"
   ]
  },
  {
   "cell_type": "code",
   "execution_count": 27,
   "id": "96aaf179",
   "metadata": {},
   "outputs": [],
   "source": [
    "mc_2d = data.frame(x=m2d@sc_x[good_cellnames], \n",
    "                   y=m2d@sc_y[good_cellnames], \n",
    "                   annotation=mc@annots[mc@mc[good_cellnames]])"
   ]
  },
  {
   "cell_type": "code",
   "execution_count": 28,
   "id": "8884f2c4",
   "metadata": {},
   "outputs": [],
   "source": [
    "group.colors = annot_df$color[match(cell_order, annot_df$label)]\n",
    "names(group.colors) = cell_order"
   ]
  },
  {
   "cell_type": "code",
   "execution_count": 29,
   "id": "a87561b7",
   "metadata": {},
   "outputs": [
    {
     "data": {
      "image/png": "[encoded data removed]",
      "text/plain": [
       "plot without title"
      ]
     },
     "metadata": {
      "image/png": {
       "height": 420,
       "width": 420
      }
     },
     "output_type": "display_data"
    }
   ],
   "source": [
    "ggplot(mc_2d, aes(x=x, y=y, col=annotation)) +\n",
    "    geom_point(size=3, show.legend = F) +\n",
    "    geom_bar(aes(y=0, fill=annotation), stat=\"identity\", color=\"white\") +\n",
    "    scale_color_manual(values = group.colors[names(group.colors) %in% mc_2d$annotation]) +\n",
    "    scale_fill_manual(values = group.colors[names(group.colors) %in% mc_2d$annotation]) +\n",
    "    theme(axis.title.x = element_blank(), axis.title.y = element_blank(), #legend.text=element_blank(), \n",
    "    axis.text.x = element_blank(), axis.text.y = element_blank(),\n",
    "    axis.ticks.x = element_blank(), axis.ticks.y = element_blank(),\n",
    "    axis.line.x = element_blank(), axis.line.y = element_blank(), )"
   ]
  },
  {
   "cell_type": "code",
   "execution_count": 30,
   "id": "3b26eeab",
   "metadata": {},
   "outputs": [
    {
     "name": "stderr",
     "output_type": "stream",
     "text": [
      "\u001b[1m\u001b[22mSaving 6.67 x 6.67 in image\n",
      "\u001b[1m\u001b[22mSaving 6.67 x 6.67 in image\n"
     ]
    }
   ],
   "source": [
    "p = ggplot(mc_2d, aes(x=x, y=y, col=annotation)) +\n",
    "    geom_point(size=3, show.legend = F) +\n",
    "    geom_bar(aes(y=0, fill=annotation), stat=\"identity\", color=\"white\") +\n",
    "    scale_color_manual(values = group.colors[names(group.colors) %in% mc_2d$annotation]) +\n",
    "    scale_fill_manual(values = group.colors[names(group.colors) %in% mc_2d$annotation]) +\n",
    "    theme(axis.title.x = element_blank(), axis.title.y = element_blank(), #legend.text=element_blank(), \n",
    "    axis.text.x = element_blank(), axis.text.y = element_blank(),\n",
    "    axis.ticks.x = element_blank(), axis.ticks.y = element_blank(),\n",
    "    axis.line.x = element_blank(), axis.line.y = element_blank(), )\n",
    "\n",
    "l = get_legend(p)\n",
    "p = plot_grid(p + theme(legend.position=\"none\"))\n",
    "\n",
    "ggsave(\"neutrophil_singlet_figs/2d_visualization2.png\", plot = p, dpi = 1200)\n",
    "ggsave(\"neutrophil_singlet_figs/legend2.png\", plot=l, dpi = 1200)\n"
   ]
  },
  {
   "cell_type": "code",
   "execution_count": 31,
   "id": "da6d6f15",
   "metadata": {},
   "outputs": [],
   "source": [
    "df_2d = data.frame(x=m2d@sc_x[good_cellnames], \n",
    "                   y=m2d@sc_y[good_cellnames], \n",
    "                   Age=factor(mat@cell_metadata[good_cellnames, \"Age\"], levels=names(age_colors)))"
   ]
  },
  {
   "cell_type": "code",
   "execution_count": 32,
   "id": "075f8c2d",
   "metadata": {},
   "outputs": [
    {
     "name": "stderr",
     "output_type": "stream",
     "text": [
      "\u001b[1m\u001b[22mSaving 6.67 x 6.67 in image\n",
      "\u001b[1m\u001b[22mSaving 6.67 x 6.67 in image\n"
     ]
    }
   ],
   "source": [
    "p = ggplot(df_2d, aes(x=x, y=y, col=Age)) +\n",
    "    geom_point(size=3, show.legend = F) +\n",
    "    geom_bar(aes(y=0, fill=Age), stat=\"identity\", color=\"white\") +\n",
    "    scale_color_manual(values = age_colors) +\n",
    "    scale_fill_manual(values = age_colors) +\n",
    "    theme(axis.title.x = element_blank(), axis.title.y = element_blank(), #legend.text=element_blank(), \n",
    "    axis.text.x = element_blank(), axis.text.y = element_blank(),\n",
    "    axis.ticks.x = element_blank(), axis.ticks.y = element_blank(),\n",
    "    axis.line.x = element_blank(), axis.line.y = element_blank(), )\n",
    "\n",
    "l = get_legend(p)\n",
    "p = plot_grid(p + theme(legend.position=\"none\"))\n",
    "\n",
    "ggsave(\"neutrophil_singlet_figs/2d_ages.png\", plot = p, dpi = 1200)\n",
    "ggsave(\"neutrophil_singlet_figs/legend_ages.png\", plot=l, dpi = 1200)\n"
   ]
  },
  {
   "cell_type": "code",
   "execution_count": 33,
   "id": "49cfebf5",
   "metadata": {},
   "outputs": [],
   "source": [
    "all_mat = t(mat@mat[,good_cellnames])\n",
    "lognorm_mat = log1p(10000 * all_mat / rowSums(all_mat))"
   ]
  },
  {
   "cell_type": "code",
   "execution_count": 34,
   "id": "d009fca3",
   "metadata": {},
   "outputs": [
    {
     "name": "stderr",
     "output_type": "stream",
     "text": [
      "Warning message:\n",
      "“\u001b[1m\u001b[22m`aes_string()` was deprecated in ggplot2 3.0.0.\n",
      "\u001b[36mℹ\u001b[39m Please use tidy evaluation idioms with `aes()`.\n",
      "\u001b[36mℹ\u001b[39m See also `vignette(\"ggplot2-in-packages\")` for more information.”\n",
      "\u001b[1m\u001b[22mSaving 6.67 x 6.67 in image\n"
     ]
    }
   ],
   "source": [
    "#gene_names = c(\"Ngp\", \"Camp\", \"Stfa1\", \n",
    "#               \"Stfa3\", \"Cstdc5\", \"Retnlg\",\n",
    "#               \"Rps24\", \"Mpo\", \"Ly6c2\",\n",
    "#               \"Ccrl2\", \"Sell\", \"Ier2\",\n",
    "#               \"Ccl3\", \"Csf1\", \"Ier3\",\n",
    "#               \"G0s2\", \"Cd74\", \"Btg2\",\n",
    "#               \"Wfdc17\", \"Ifitm1\", \"Cd14\")\n",
    "\n",
    "gene_names = c(\"Retnlg\", \"Csf3r\",  \"Cxcl2\", \"Ngp\", \"Cstdc5\", \"Wfdc17\", \"Lrg1\", \"Trf\")\n",
    "\n",
    "df_2d = data.frame(x=m2d@sc_x[good_cellnames], \n",
    "                   y=m2d@sc_y[good_cellnames]) %>% \n",
    "    cbind(as.data.frame(as.matrix(lognorm_mat[good_cellnames, gene_names])))\n",
    "\n",
    "gbs = lapply(gene_names, function(gene_name){\n",
    "\n",
    "    ggplot(df_2d[order(df_2d[,gene_name], decreasing = F),], aes_string(x='x', y='y', col=gene_name)) +\n",
    "        geom_point(size=0.5, show.legend = F) +\n",
    "        scale_color_gradientn(colors=c(\"ivory2\", \"orange\", \"tomato\", \"mediumorchid4\", \"midnightblue\"), na.value = \"midnightblue\", \n",
    "                              limits=c(0,7)) +\n",
    "        labs(title = gene_name) +\n",
    "        theme(plot.title = element_text(size = 12, hjust = 0.5, face = \"bold\"), \n",
    "              axis.title.x = element_blank(), axis.title.y = element_blank(),\n",
    "              axis.text.x = element_blank(), axis.text.y = element_blank(),\n",
    "              axis.ticks.x = element_blank(), axis.ticks.y = element_blank(),\n",
    "              axis.line.x = element_blank(), axis.line.y = element_blank(),\n",
    "              legend.key.size = unit(0.25, 'cm'), legend.text =  element_text(size = 10))\n",
    "\n",
    "})\n",
    "\n",
    "g <- arrangeGrob(grobs=gbs, nrow=2, respect = T) #generates g\n",
    "ggsave(file=\"neutrophil_singlet_figs/gene_projections_few.png\", g, dpi = 1200) #saves g"
   ]
  },
  {
   "cell_type": "code",
   "execution_count": 35,
   "id": "d012e525",
   "metadata": {},
   "outputs": [],
   "source": [
    "ages = age_order = c(\"10d\", \"3w\", \"6w\", \"8w\", \"10w\", \"12w\")\n",
    "conditions = cond_order = c(\"tumor\", \"normal\")"
   ]
  },
  {
   "cell_type": "code",
   "execution_count": 36,
   "id": "69dbea62",
   "metadata": {},
   "outputs": [],
   "source": [
    "full_df = cbind(mat@cell_metadata[names(mc@mc),], annotation=mc@annots[mc@mc])"
   ]
  },
  {
   "cell_type": "code",
   "execution_count": 37,
   "id": "1373be28",
   "metadata": {},
   "outputs": [
    {
     "name": "stderr",
     "output_type": "stream",
     "text": [
      "\u001b[1m\u001b[22m`summarise()` has grouped output by 'annotation', 'Age'. You can override using\n",
      "the `.groups` argument.\n",
      "Warning message:\n",
      "“\u001b[1m\u001b[22mReturning more (or less) than 1 row per `summarise()` group was deprecated in\n",
      "dplyr 1.1.0.\n",
      "\u001b[36mℹ\u001b[39m Please use `reframe()` instead.\n",
      "\u001b[36mℹ\u001b[39m When switching from `summarise()` to `reframe()`, remember that `reframe()`\n",
      "  always returns an ungrouped data frame and adjust accordingly.”\n",
      "\u001b[1m\u001b[22m`summarise()` has grouped output by 'Age', 'Replicate'. You can override using\n",
      "the `.groups` argument.\n",
      "Warning message:\n",
      "“\u001b[1m\u001b[22mReturning more (or less) than 1 row per `summarise()` group was deprecated in\n",
      "dplyr 1.1.0.\n",
      "\u001b[36mℹ\u001b[39m Please use `reframe()` instead.\n",
      "\u001b[36mℹ\u001b[39m When switching from `summarise()` to `reframe()`, remember that `reframe()`\n",
      "  always returns an ungrouped data frame and adjust accordingly.”\n",
      "\u001b[1m\u001b[22m`summarise()` has grouped output by 'annotation', 'Age'. You can override using\n",
      "the `.groups` argument.\n"
     ]
    }
   ],
   "source": [
    "sum_df = full_df %>%\n",
    "    filter(Cell_type == \"LY6G\", condition == \"tumor\") %>%\n",
    "    group_by(annotation, Age, Replicate) %>% \n",
    "    summarise(Count=n()) %>%\n",
    "    group_by(Age, Replicate) %>% \n",
    "    summarise(Replicate=Replicate, \n",
    "              Age=Age,\n",
    "              annotation=annotation, \n",
    "              Count=Count, \n",
    "              total=sum(Count), \n",
    "              fraction = Count / sum(Count)) %>%\n",
    "    group_by(annotation, Age) %>%\n",
    "    summarise(Age=Age, \n",
    "              annotation=annotation,\n",
    "              mean_fraction = mean(fraction)) %>%\n",
    "    as.data.frame\n",
    "\n",
    "sum_df$annotation = factor(sum_df$annotation, levels=cell_order)\n",
    "sum_df$Age = as.character(sum_df$Age)\n",
    "sum_df = sum_df %>% tidyr::complete(annotation, Age, fill=list(mean_fraction=0))\n",
    "sum_df$Age = factor(sum_df$Age, levels=age_order)\n",
    "group.colors = annot_df$color[match(cell_order, annot_df$label)]\n",
    "names(group.colors) = cell_order\n",
    "#sum_df = remove_missing(sum_df)"
   ]
  },
  {
   "cell_type": "code",
   "execution_count": 38,
   "id": "6f379876",
   "metadata": {},
   "outputs": [
    {
     "data": {
      "text/plain": [
       "     annotation\n",
       "Age   Young Cystatin high Cystatin high MHCII Neut Neut Ptgs2 Neut Socs3 TAN1\n",
       "  10d                  57            75          6          1          1    1\n",
       "  3w                    2             1         12          2          4    0\n",
       "  6w                    1             0          8          2          2    0\n",
       "  8w                    0             0          1          0          1    0\n",
       "  10w                   0             0          6          2          0    0\n",
       "  12w                   0             0          9          2          2    0\n",
       "     annotation\n",
       "Age   TAN2\n",
       "  10d    0\n",
       "  3w     0\n",
       "  6w     1\n",
       "  8w     0\n",
       "  10w    0\n",
       "  12w    0"
      ]
     },
     "metadata": {},
     "output_type": "display_data"
    }
   ],
   "source": [
    "table(full_df[full_df$condition == \"normal\",c('Age', 'annotation')])[age_order,cell_order]"
   ]
  },
  {
   "cell_type": "code",
   "execution_count": 39,
   "id": "3fc3ab0a",
   "metadata": {},
   "outputs": [
    {
     "data": {
      "text/plain": [
       "     annotation\n",
       "Age   Young Cystatin high Cystatin high MHCII Neut Neut Ptgs2 Neut Socs3 TAN1\n",
       "  10d                  25            38          8          4          1    0\n",
       "  3w                    0             0         25          6          5    1\n",
       "  6w                    0             0          5          7          2    1\n",
       "  8w                    1             0         25         18         20    8\n",
       "  10w                   1             0         23         18         26    7\n",
       "  12w                   8             3         39         15         20   81\n",
       "     annotation\n",
       "Age   TAN2\n",
       "  10d    1\n",
       "  3w     2\n",
       "  6w     2\n",
       "  8w     6\n",
       "  10w   11\n",
       "  12w   75"
      ]
     },
     "metadata": {},
     "output_type": "display_data"
    }
   ],
   "source": [
    "table(full_df[full_df$condition == \"tumor\",c('Age', 'annotation')])[age_order,cell_order]"
   ]
  },
  {
   "cell_type": "code",
   "execution_count": 40,
   "id": "ae679ade",
   "metadata": {
    "scrolled": true
   },
   "outputs": [
    {
     "name": "stderr",
     "output_type": "stream",
     "text": [
      "\u001b[1m\u001b[22m`geom_smooth()` using method = 'loess' and formula = 'y ~ x'\n",
      "Warning message in simpleLoess(y, x, w, span, degree = degree, parametric = parametric, :\n",
      "“span too small.   fewer data values than degrees of freedom.”\n",
      "Warning message in simpleLoess(y, x, w, span, degree = degree, parametric = parametric, :\n",
      "“pseudoinverse used at 0.985”\n",
      "Warning message in simpleLoess(y, x, w, span, degree = degree, parametric = parametric, :\n",
      "“neighborhood radius 2.015”\n",
      "Warning message in simpleLoess(y, x, w, span, degree = degree, parametric = parametric, :\n",
      "“reciprocal condition number  0”\n",
      "Warning message in simpleLoess(y, x, w, span, degree = degree, parametric = parametric, :\n",
      "“There are other near singularities as well. 1.0302”\n",
      "Warning message in simpleLoess(y, x, w, span, degree = degree, parametric = parametric, :\n",
      "“span too small.   fewer data values than degrees of freedom.”\n",
      "Warning message in simpleLoess(y, x, w, span, degree = degree, parametric = parametric, :\n",
      "“pseudoinverse used at 0.985”\n",
      "Warning message in simpleLoess(y, x, w, span, degree = degree, parametric = parametric, :\n",
      "“neighborhood radius 2.015”\n",
      "Warning message in simpleLoess(y, x, w, span, degree = degree, parametric = parametric, :\n",
      "“reciprocal condition number  0”\n",
      "Warning message in simpleLoess(y, x, w, span, degree = degree, parametric = parametric, :\n",
      "“There are other near singularities as well. 4.0602”\n",
      "Warning message in simpleLoess(y, x, w, span, degree = degree, parametric = parametric, :\n",
      "“span too small.   fewer data values than degrees of freedom.”\n",
      "Warning message in simpleLoess(y, x, w, span, degree = degree, parametric = parametric, :\n",
      "“pseudoinverse used at 0.985”\n",
      "Warning message in simpleLoess(y, x, w, span, degree = degree, parametric = parametric, :\n",
      "“neighborhood radius 2.015”\n",
      "Warning message in simpleLoess(y, x, w, span, degree = degree, parametric = parametric, :\n",
      "“reciprocal condition number  0”\n",
      "Warning message in simpleLoess(y, x, w, span, degree = degree, parametric = parametric, :\n",
      "“There are other near singularities as well. 1.0302”\n",
      "Warning message in simpleLoess(y, x, w, span, degree = degree, parametric = parametric, :\n",
      "“span too small.   fewer data values than degrees of freedom.”\n",
      "Warning message in simpleLoess(y, x, w, span, degree = degree, parametric = parametric, :\n",
      "“pseudoinverse used at 0.985”\n",
      "Warning message in simpleLoess(y, x, w, span, degree = degree, parametric = parametric, :\n",
      "“neighborhood radius 2.015”\n",
      "Warning message in simpleLoess(y, x, w, span, degree = degree, parametric = parametric, :\n",
      "“reciprocal condition number  0”\n",
      "Warning message in simpleLoess(y, x, w, span, degree = degree, parametric = parametric, :\n",
      "“There are other near singularities as well. 1.0302”\n",
      "Warning message in simpleLoess(y, x, w, span, degree = degree, parametric = parametric, :\n",
      "“span too small.   fewer data values than degrees of freedom.”\n",
      "Warning message in simpleLoess(y, x, w, span, degree = degree, parametric = parametric, :\n",
      "“pseudoinverse used at 0.985”\n",
      "Warning message in simpleLoess(y, x, w, span, degree = degree, parametric = parametric, :\n",
      "“neighborhood radius 2.015”\n",
      "Warning message in simpleLoess(y, x, w, span, degree = degree, parametric = parametric, :\n",
      "“reciprocal condition number  0”\n",
      "Warning message in simpleLoess(y, x, w, span, degree = degree, parametric = parametric, :\n",
      "“There are other near singularities as well. 1.0302”\n",
      "Warning message in simpleLoess(y, x, w, span, degree = degree, parametric = parametric, :\n",
      "“span too small.   fewer data values than degrees of freedom.”\n",
      "Warning message in simpleLoess(y, x, w, span, degree = degree, parametric = parametric, :\n",
      "“pseudoinverse used at 0.985”\n",
      "Warning message in simpleLoess(y, x, w, span, degree = degree, parametric = parametric, :\n",
      "“neighborhood radius 2.015”\n",
      "Warning message in simpleLoess(y, x, w, span, degree = degree, parametric = parametric, :\n",
      "“reciprocal condition number  0”\n",
      "Warning message in simpleLoess(y, x, w, span, degree = degree, parametric = parametric, :\n",
      "“There are other near singularities as well. 1.0302”\n",
      "Warning message in simpleLoess(y, x, w, span, degree = degree, parametric = parametric, :\n",
      "“span too small.   fewer data values than degrees of freedom.”\n",
      "Warning message in simpleLoess(y, x, w, span, degree = degree, parametric = parametric, :\n",
      "“pseudoinverse used at 0.985”\n",
      "Warning message in simpleLoess(y, x, w, span, degree = degree, parametric = parametric, :\n",
      "“neighborhood radius 2.015”\n",
      "Warning message in simpleLoess(y, x, w, span, degree = degree, parametric = parametric, :\n",
      "“reciprocal condition number  0”\n",
      "Warning message in simpleLoess(y, x, w, span, degree = degree, parametric = parametric, :\n",
      "“There are other near singularities as well. 1.0302”\n",
      "Warning message:\n",
      "“\u001b[1m\u001b[22mRemoved 1 rows containing missing values (`geom_smooth()`).”\n",
      "\u001b[1m\u001b[22m`geom_smooth()` using method = 'loess' and formula = 'y ~ x'\n",
      "Warning message in simpleLoess(y, x, w, span, degree = degree, parametric = parametric, :\n",
      "“span too small.   fewer data values than degrees of freedom.”\n",
      "Warning message in simpleLoess(y, x, w, span, degree = degree, parametric = parametric, :\n",
      "“pseudoinverse used at 0.985”\n",
      "Warning message in simpleLoess(y, x, w, span, degree = degree, parametric = parametric, :\n",
      "“neighborhood radius 2.015”\n",
      "Warning message in simpleLoess(y, x, w, span, degree = degree, parametric = parametric, :\n",
      "“reciprocal condition number  0”\n",
      "Warning message in simpleLoess(y, x, w, span, degree = degree, parametric = parametric, :\n",
      "“There are other near singularities as well. 1.0302”\n",
      "Warning message in simpleLoess(y, x, w, span, degree = degree, parametric = parametric, :\n",
      "“span too small.   fewer data values than degrees of freedom.”\n",
      "Warning message in simpleLoess(y, x, w, span, degree = degree, parametric = parametric, :\n",
      "“pseudoinverse used at 0.985”\n",
      "Warning message in simpleLoess(y, x, w, span, degree = degree, parametric = parametric, :\n",
      "“neighborhood radius 2.015”\n",
      "Warning message in simpleLoess(y, x, w, span, degree = degree, parametric = parametric, :\n",
      "“reciprocal condition number  0”\n",
      "Warning message in simpleLoess(y, x, w, span, degree = degree, parametric = parametric, :\n",
      "“There are other near singularities as well. 4.0602”\n",
      "Warning message in simpleLoess(y, x, w, span, degree = degree, parametric = parametric, :\n",
      "“span too small.   fewer data values than degrees of freedom.”\n",
      "Warning message in simpleLoess(y, x, w, span, degree = degree, parametric = parametric, :\n",
      "“pseudoinverse used at 0.985”\n",
      "Warning message in simpleLoess(y, x, w, span, degree = degree, parametric = parametric, :\n",
      "“neighborhood radius 2.015”\n",
      "Warning message in simpleLoess(y, x, w, span, degree = degree, parametric = parametric, :\n",
      "“reciprocal condition number  0”\n",
      "Warning message in simpleLoess(y, x, w, span, degree = degree, parametric = parametric, :\n",
      "“There are other near singularities as well. 1.0302”\n",
      "Warning message in simpleLoess(y, x, w, span, degree = degree, parametric = parametric, :\n",
      "“span too small.   fewer data values than degrees of freedom.”\n",
      "Warning message in simpleLoess(y, x, w, span, degree = degree, parametric = parametric, :\n",
      "“pseudoinverse used at 0.985”\n",
      "Warning message in simpleLoess(y, x, w, span, degree = degree, parametric = parametric, :\n",
      "“neighborhood radius 2.015”\n",
      "Warning message in simpleLoess(y, x, w, span, degree = degree, parametric = parametric, :\n",
      "“reciprocal condition number  0”\n",
      "Warning message in simpleLoess(y, x, w, span, degree = degree, parametric = parametric, :\n",
      "“There are other near singularities as well. 1.0302”\n",
      "Warning message in simpleLoess(y, x, w, span, degree = degree, parametric = parametric, :\n",
      "“span too small.   fewer data values than degrees of freedom.”\n",
      "Warning message in simpleLoess(y, x, w, span, degree = degree, parametric = parametric, :\n",
      "“pseudoinverse used at 0.985”\n",
      "Warning message in simpleLoess(y, x, w, span, degree = degree, parametric = parametric, :\n",
      "“neighborhood radius 2.015”\n",
      "Warning message in simpleLoess(y, x, w, span, degree = degree, parametric = parametric, :\n",
      "“reciprocal condition number  0”\n",
      "Warning message in simpleLoess(y, x, w, span, degree = degree, parametric = parametric, :\n",
      "“There are other near singularities as well. 1.0302”\n",
      "Warning message in simpleLoess(y, x, w, span, degree = degree, parametric = parametric, :\n",
      "“span too small.   fewer data values than degrees of freedom.”\n"
     ]
    },
    {
     "name": "stderr",
     "output_type": "stream",
     "text": [
      "Warning message in simpleLoess(y, x, w, span, degree = degree, parametric = parametric, :\n",
      "“pseudoinverse used at 0.985”\n",
      "Warning message in simpleLoess(y, x, w, span, degree = degree, parametric = parametric, :\n",
      "“neighborhood radius 2.015”\n",
      "Warning message in simpleLoess(y, x, w, span, degree = degree, parametric = parametric, :\n",
      "“reciprocal condition number  0”\n",
      "Warning message in simpleLoess(y, x, w, span, degree = degree, parametric = parametric, :\n",
      "“There are other near singularities as well. 1.0302”\n",
      "Warning message in simpleLoess(y, x, w, span, degree = degree, parametric = parametric, :\n",
      "“span too small.   fewer data values than degrees of freedom.”\n",
      "Warning message in simpleLoess(y, x, w, span, degree = degree, parametric = parametric, :\n",
      "“pseudoinverse used at 0.985”\n",
      "Warning message in simpleLoess(y, x, w, span, degree = degree, parametric = parametric, :\n",
      "“neighborhood radius 2.015”\n",
      "Warning message in simpleLoess(y, x, w, span, degree = degree, parametric = parametric, :\n",
      "“reciprocal condition number  0”\n",
      "Warning message in simpleLoess(y, x, w, span, degree = degree, parametric = parametric, :\n",
      "“There are other near singularities as well. 1.0302”\n",
      "Warning message:\n",
      "“\u001b[1m\u001b[22mRemoved 1 rows containing missing values (`geom_smooth()`).”\n"
     ]
    },
    {
     "data": {
      "image/png": "[encoded data removed]",
      "text/plain": [
       "plot without title"
      ]
     },
     "metadata": {
      "image/png": {
       "height": 420,
       "width": 420
      }
     },
     "output_type": "display_data"
    }
   ],
   "source": [
    "sum_df %>%\n",
    "    mutate(grouped_cell = ifelse(annotation %in% cell_order[1:2], \"Cystatin high\", \n",
    "                                 ifelse(annotation %in% cell_order[3:5], \"Mature\", \"TAN\"))) %>%\n",
    "ggplot(aes(x=Age, y=mean_fraction, color=annotation, group=annotation)) +\n",
    "    geom_point(size=3) +\n",
    "    geom_smooth(show.legend = F, se = F) +\n",
    "    scale_color_manual(values = group.colors) +\n",
    "    scale_y_continuous(limits = c(0,0.75)) +\n",
    "    facet_grid(rows='grouped_cell') +\n",
    "    theme(legend.text = element_blank(), legend.title=element_blank())\n",
    "\n",
    "ggsave(\"neutrophil_singlet_figs/tumor_composition_smoothed.png\", dpi=1200, width=5, height=7)"
   ]
  },
  {
   "cell_type": "code",
   "execution_count": 41,
   "id": "6360bbe6",
   "metadata": {},
   "outputs": [],
   "source": [
    "nms = choose_genes_from_clust('neutrophil_mc', \n",
    "                              'neutrophil_singlets', \n",
    "                              good_clusts = c(8,7,2,1,4:6),\n",
    "                              nms_per_clust=100,\n",
    "                              nms_thresh=1,\n",
    "                              ord = \"max.col\", \n",
    "                              bad_genes = bad_genes,\n",
    "                              must_haves = c())"
   ]
  },
  {
   "cell_type": "code",
   "execution_count": 42,
   "id": "b4e6f624",
   "metadata": {},
   "outputs": [
    {
     "name": "stdout",
     "output_type": "stream",
     "text": [
      "Wfdc17\", \"Ifitm1\", \"Lrg1\", \"Trf\", \"Csn3\", \"Rhog\", \"Cxcl2\", \"Ccrl2\", \"Nfkbia\", \"Tnfaip3\", \"Marcksl1\", \"Ier3\", \"Ppp1r15a\", \"Ptgs2\", \"Nfkbid\", \"Gadd45b\", \"Ccl3\", \"Nfkbie\", \"Egr1\", \"Cd74\", \"H2-Aa\", \"Ccl6\", \"Csta3\", \"Retnla\", \"S100a9\", \"S100a8\", \"Cstdc5\", \"Retnlg\", \"Cstdc4\", \"Stfa2\", \"Stfa2l1\", \"Lyz2\", \"Camp\", \"Ngp\", \"Stfa3\", \"Anxa1\", \"Lcn2\", \"Pglyrp1\", \"Wfdc21\", \"Cstdc6\", \"Ltf\", \"Arhgdib\", \"Ifitm6\", \"Prdx5\", \"Chil3\", \"Mmp8\", \"Thbs1\", \"Olfm4\", \"Cd177\", \"Ly6a2\", \"Stfa1\", \"Adpgk"
     ]
    }
   ],
   "source": [
    "cat(rev(nms), sep='\", \"')"
   ]
  },
  {
   "cell_type": "code",
   "execution_count": 43,
   "id": "eada14fd",
   "metadata": {},
   "outputs": [],
   "source": [
    "manual_order_nms = c(\"S100a9\", \"S100a8\", \"Wfdc17\", \"Ifitm2\", \"Ifitm1\", \"Lrg1\", \"Rhog\", \"Socs3\", \n",
    "                     \"Cxcl2\", \"Ccrl2\", \"Nfkbia\", \"Tnfaip3\", \"Marcksl1\", \"Ier3\", \"Ppp1r15a\", \"Ptgs2\", \"Nfkbid\", \"Gadd45b\", \"Ccl3\", \n",
    "                     \"Egr1\", \"H2-Ab1\", \"Cd74\", \"H2-Aa\", \"Ccl6\", \n",
    "                     \"Retnla\", \"Cstdc6\", \"Cstdc5\", \"Cstdc4\", \"Csta3\", \"Stfa3\", \"Stfa2\", \"Stfa2l1\", \"Stfa1\", \"Prdx5\", \n",
    "                     \"Retnlg\", \"Lyz2\", \"Anxa1\", \"Lcn2\", \"Pglyrp1\", \"Wfdc21\", \n",
    "                     \"Camp\", \"Ngp\", \"Ltf\", \"Arhgdib\", \"Ifitm6\", \"Mmp8\", \"Thbs1\", \"Cd177\", \"Ly6a2\", \"Adpgk\") %>% rev"
   ]
  },
  {
   "cell_type": "code",
   "execution_count": 44,
   "id": "661f4740",
   "metadata": {},
   "outputs": [
    {
     "data": {
      "text/html": [
       "<strong>png:</strong> 2"
      ],
      "text/latex": [
       "\\textbf{png:} 2"
      ],
      "text/markdown": [
       "**png:** 2"
      ],
      "text/plain": [
       "png \n",
       "  2 "
      ]
     },
     "metadata": {},
     "output_type": "display_data"
    }
   ],
   "source": [
    "focus_mc_nums = 1:8\n",
    "focus_mcs = match(mc@annots[mc@mc[mc@mc %in% focus_mc_nums]], cell_order) * 1000 + mc@mc[mc@mc %in% focus_mc_nums]\n",
    "focus_mat = t(mat@mat[rowSums(mat@mat) > 0,names(focus_mcs[order(focus_mcs, decreasing = F)])])\n",
    "focus_mat_norm = log1p(10000 * focus_mat / rowSums(focus_mat))    \n",
    "#focus_mat_norm = scale(focus_mat_norm)\n",
    "\n",
    "heatmap_df = as.matrix(t(focus_mat_norm[,manual_order_nms]))\n",
    "annot_df = data.frame(Type=factor(mc@annots[mc@mc[colnames(heatmap_df)]], \n",
    "                                  levels = cell_order[cell_order %in% mc@annots[mc@mc[colnames(heatmap_df)]]]), \n",
    "                       Age=factor(mat@cell_metadata[colnames(heatmap_df),'Age'], levels=age_order),\n",
    "                       Condition=factor(mat@cell_metadata[colnames(heatmap_df),'condition'], levels=rev(cond_order)))\n",
    "df_order = annot_df %>% cbind(o=1:nrow(.)) %>% arrange(Age, Condition) %>% select(o) %>% unlist\n",
    "\n",
    "ha = HeatmapAnnotation(Type=annot_df$Type, Age=annot_df$Age, Condition=annot_df$Condition,\n",
    "                       col = list(Type=group.colors, Age=age_colors, Condition=cond_colors))\n",
    "ha = re_size(ha, height=unit(0.8, \"cm\"), simple_anno_size_adjust=TRUE)\n",
    "\n",
    "png(file=paste0(\"neutrophil_singlet_figs/complexheatmap_manual_lfc_over1.png\"), \n",
    "    width     = 6,\n",
    "    height    = 5,\n",
    "    units     = \"in\",\n",
    "    res       = 1200,\n",
    "    pointsize = 1\n",
    ")\n",
    "\n",
    "h = Heatmap(heatmap_df, row_names_gp = gpar(fontsize=6),\n",
    "            column_split =  factor(mc@annots[mc@mc[colnames(heatmap_df)]], \n",
    "                                   levels = cell_order),\n",
    "            heatmap_legend_param = list(labels_gp = gpar(fontsize = 10)),\n",
    "            cluster_rows = F, cluster_columns =  F, top_annotation = ha, # show_column_dend = F,\n",
    "            bottom_annotation = ha, show_column_names = F, name=\"Log normalized UMIs\",\n",
    "            column_order = df_order,\n",
    "            #col = circlize::colorRamp2(c(-2, 0, 2), c(\"navy\", \"white\", \"red\")))\n",
    "            col = colorRampPalette(c(\"white\", \"orange\", \"tomato\", \"mediumorchid4\", \"midnightblue\"))(1000), use_raster = F)\n",
    "plot(h)\n",
    "dev.off()"
   ]
  },
  {
   "cell_type": "code",
   "execution_count": 46,
   "id": "89bd6506",
   "metadata": {},
   "outputs": [],
   "source": [
    "recap_genes = c('Wfdc21', 'Lcn2', 'Anxa1', 'Lyz2', 'Retnlg', 'Mmp8', 'Ifitm6')"
   ]
  },
  {
   "cell_type": "code",
   "execution_count": 47,
   "id": "1e51733b",
   "metadata": {},
   "outputs": [
    {
     "name": "stderr",
     "output_type": "stream",
     "text": [
      "Using cell_name, annots as id variables\n",
      "\n"
     ]
    }
   ],
   "source": [
    "barplot_df = cbind(as.data.frame(lognorm_mat[,recap_genes] %>% as.matrix), \n",
    "                   annots=mc@annots[mc@mc[rownames(lognorm_mat)]]) %>%\n",
    "    rownames_to_column('cell_name') %>%\n",
    "    melt(variable.name = 'Gene', value.name = 'LogNormExpression') %>%\n",
    "    mutate(annots=factor(annots, levels=cell_order))"
   ]
  },
  {
   "cell_type": "code",
   "execution_count": 48,
   "id": "93044fa5",
   "metadata": {
    "scrolled": true
   },
   "outputs": [
    {
     "name": "stderr",
     "output_type": "stream",
     "text": [
      "Warning message:\n",
      "“\u001b[1m\u001b[22mThe `fun.y` argument of `stat_summary()` is deprecated as of ggplot2 3.3.0.\n",
      "\u001b[36mℹ\u001b[39m Please use the `fun` argument instead.”\n"
     ]
    }
   ],
   "source": [
    "for (gene in recap_genes){\n",
    "    plot_df = barplot_df %>% filter(Gene == gene)\n",
    "    ggplot(plot_df, aes(x=annots, fill=annots, y=LogNormExpression)) +\n",
    "        stat_summary(fun.y=mean, geom=\"bar\", show.legend = F) +\n",
    "        scale_fill_manual(values = group.colors) +\n",
    "        geom_hline(yintercept = 0) +\n",
    "        labs(title = gene) +\n",
    "        theme(axis.title.x = element_blank(), axis.text.x = element_blank(), axis.line.x = element_blank(), \n",
    "              axis.ticks.x = element_blank())\n",
    "    ggsave(paste0(\"final_figs/fig4/barplots/\", gene, \".pdf\"), width = 2, height = 2)  \n",
    "}"
   ]
  }
 ],
 "metadata": {
  "kernelspec": {
   "display_name": "R",
   "language": "R",
   "name": "ir"
  },
  "language_info": {
   "codemirror_mode": "r",
   "file_extension": ".r",
   "mimetype": "text/x-r-source",
   "name": "R",
   "pygments_lexer": "r",
   "version": "4.1.3"
  }
 },
 "nbformat": 4,
 "nbformat_minor": 5
}
