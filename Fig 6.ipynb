{
 "cells": [
  {
   "cell_type": "code",
   "execution_count": 1,
   "id": "6a5ba046",
   "metadata": {
    "scrolled": true
   },
   "outputs": [
    {
     "name": "stderr",
     "output_type": "stream",
     "text": [
      "Loading required package: Biobase\n",
      "\n",
      "Loading required package: BiocGenerics\n",
      "\n",
      "\n",
      "Attaching package: ‘BiocGenerics’\n",
      "\n",
      "\n",
      "The following objects are masked from ‘package:stats’:\n",
      "\n",
      "    IQR, mad, sd, var, xtabs\n",
      "\n",
      "\n",
      "The following objects are masked from ‘package:base’:\n",
      "\n",
      "    anyDuplicated, append, as.data.frame, basename, cbind, colnames,\n",
      "    dirname, do.call, duplicated, eval, evalq, Filter, Find, get, grep,\n",
      "    grepl, intersect, is.unsorted, lapply, Map, mapply, match, mget,\n",
      "    order, paste, pmax, pmax.int, pmin, pmin.int, Position, rank,\n",
      "    rbind, Reduce, rownames, sapply, setdiff, sort, table, tapply,\n",
      "    union, unique, unsplit, which.max, which.min\n",
      "\n",
      "\n",
      "Welcome to Bioconductor\n",
      "\n",
      "    Vignettes contain introductory material; view with\n",
      "    'browseVignettes()'. To cite Bioconductor, see\n",
      "    'citation(\"Biobase\")', and for packages 'citation(\"pkgname\")'.\n",
      "\n",
      "\n",
      "Setting options('download.file.method.GEOquery'='auto')\n",
      "\n",
      "Setting options('GEOquery.inmemory.gpl'=FALSE)\n",
      "\n",
      "\n",
      "Attaching package: ‘googledrive’\n",
      "\n",
      "\n",
      "The following objects are masked from ‘package:googlesheets4’:\n",
      "\n",
      "    request_generate, request_make\n",
      "\n",
      "\n",
      "Loading required package: usethis\n",
      "\n",
      "\n",
      "Attaching package: ‘dplyr’\n",
      "\n",
      "\n",
      "The following objects are masked from ‘package:plyr’:\n",
      "\n",
      "    arrange, count, desc, failwith, id, mutate, rename, summarise,\n",
      "    summarize\n",
      "\n",
      "\n",
      "The following object is masked from ‘package:Biobase’:\n",
      "\n",
      "    combine\n",
      "\n",
      "\n",
      "The following objects are masked from ‘package:BiocGenerics’:\n",
      "\n",
      "    combine, intersect, setdiff, union\n",
      "\n",
      "\n",
      "The following objects are masked from ‘package:stats’:\n",
      "\n",
      "    filter, lag\n",
      "\n",
      "\n",
      "The following objects are masked from ‘package:base’:\n",
      "\n",
      "    intersect, setdiff, setequal, union\n",
      "\n",
      "\n",
      "── \u001b[1mAttaching packages\u001b[22m ─────────────────────────────────────── tidyverse 1.3.2 ──\n",
      "\u001b[32m✔\u001b[39m \u001b[34mtidyr  \u001b[39m 1.3.0     \u001b[32m✔\u001b[39m \u001b[34mstringr\u001b[39m 1.5.0\n",
      "\u001b[32m✔\u001b[39m \u001b[34mreadr  \u001b[39m 2.1.4     \u001b[32m✔\u001b[39m \u001b[34mforcats\u001b[39m 0.5.2\n",
      "\u001b[32m✔\u001b[39m \u001b[34mpurrr  \u001b[39m 1.0.2     \n",
      "── \u001b[1mConflicts\u001b[22m ────────────────────────────────────────── tidyverse_conflicts() ──\n",
      "\u001b[31m✖\u001b[39m \u001b[34mdplyr\u001b[39m::\u001b[32marrange()\u001b[39m                masks \u001b[34mplyr\u001b[39m::arrange()\n",
      "\u001b[31m✖\u001b[39m \u001b[34mdplyr\u001b[39m::\u001b[32mcombine()\u001b[39m                masks \u001b[34mBiobase\u001b[39m::combine(), \u001b[34mBiocGenerics\u001b[39m::combine()\n",
      "\u001b[31m✖\u001b[39m \u001b[34mpurrr\u001b[39m::\u001b[32mcompact()\u001b[39m                masks \u001b[34mplyr\u001b[39m::compact()\n",
      "\u001b[31m✖\u001b[39m \u001b[34mdplyr\u001b[39m::\u001b[32mcount()\u001b[39m                  masks \u001b[34mplyr\u001b[39m::count()\n",
      "\u001b[31m✖\u001b[39m \u001b[34mdplyr\u001b[39m::\u001b[32mdesc()\u001b[39m                   masks \u001b[34mplyr\u001b[39m::desc()\n",
      "\u001b[31m✖\u001b[39m \u001b[34mdplyr\u001b[39m::\u001b[32mfailwith()\u001b[39m               masks \u001b[34mplyr\u001b[39m::failwith()\n",
      "\u001b[31m✖\u001b[39m \u001b[34mdplyr\u001b[39m::\u001b[32mfilter()\u001b[39m                 masks \u001b[34mstats\u001b[39m::filter()\n",
      "\u001b[31m✖\u001b[39m \u001b[34mdplyr\u001b[39m::\u001b[32mid()\u001b[39m                     masks \u001b[34mplyr\u001b[39m::id()\n",
      "\u001b[31m✖\u001b[39m \u001b[34mdplyr\u001b[39m::\u001b[32mlag()\u001b[39m                    masks \u001b[34mstats\u001b[39m::lag()\n",
      "\u001b[31m✖\u001b[39m \u001b[34mdplyr\u001b[39m::\u001b[32mmutate()\u001b[39m                 masks \u001b[34mplyr\u001b[39m::mutate()\n",
      "\u001b[31m✖\u001b[39m \u001b[34mggplot2\u001b[39m::\u001b[32mPosition()\u001b[39m             masks \u001b[34mBiocGenerics\u001b[39m::Position(), \u001b[34mbase\u001b[39m::Position()\n",
      "\u001b[31m✖\u001b[39m \u001b[34mdplyr\u001b[39m::\u001b[32mrename()\u001b[39m                 masks \u001b[34mplyr\u001b[39m::rename()\n",
      "\u001b[31m✖\u001b[39m \u001b[34mgoogledrive\u001b[39m::\u001b[32mrequest_generate()\u001b[39m masks \u001b[34mgooglesheets4\u001b[39m::request_generate()\n",
      "\u001b[31m✖\u001b[39m \u001b[34mgoogledrive\u001b[39m::\u001b[32mrequest_make()\u001b[39m     masks \u001b[34mgooglesheets4\u001b[39m::request_make()\n",
      "\u001b[31m✖\u001b[39m \u001b[34mdplyr\u001b[39m::\u001b[32msummarise()\u001b[39m              masks \u001b[34mplyr\u001b[39m::summarise()\n",
      "\u001b[31m✖\u001b[39m \u001b[34mdplyr\u001b[39m::\u001b[32msummarize()\u001b[39m              masks \u001b[34mplyr\u001b[39m::summarize()\n",
      "\n",
      "Attaching package: ‘gridExtra’\n",
      "\n",
      "\n",
      "The following object is masked from ‘package:dplyr’:\n",
      "\n",
      "    combine\n",
      "\n",
      "\n",
      "The following object is masked from ‘package:Biobase’:\n",
      "\n",
      "    combine\n",
      "\n",
      "\n",
      "The following object is masked from ‘package:BiocGenerics’:\n",
      "\n",
      "    combine\n",
      "\n",
      "\n",
      "Loading required package: SummarizedExperiment\n",
      "\n",
      "Loading required package: MatrixGenerics\n",
      "\n",
      "Loading required package: matrixStats\n",
      "\n",
      "\n",
      "Attaching package: ‘matrixStats’\n",
      "\n",
      "\n",
      "The following object is masked from ‘package:dplyr’:\n",
      "\n",
      "    count\n",
      "\n",
      "\n",
      "The following object is masked from ‘package:plyr’:\n",
      "\n",
      "    count\n",
      "\n",
      "\n",
      "The following objects are masked from ‘package:Biobase’:\n",
      "\n",
      "    anyMissing, rowMedians\n",
      "\n",
      "\n",
      "\n",
      "Attaching package: ‘MatrixGenerics’\n",
      "\n",
      "\n",
      "The following objects are masked from ‘package:matrixStats’:\n",
      "\n",
      "    colAlls, colAnyNAs, colAnys, colAvgsPerRowSet, colCollapse,\n",
      "    colCounts, colCummaxs, colCummins, colCumprods, colCumsums,\n",
      "    colDiffs, colIQRDiffs, colIQRs, colLogSumExps, colMadDiffs,\n",
      "    colMads, colMaxs, colMeans2, colMedians, colMins, colOrderStats,\n",
      "    colProds, colQuantiles, colRanges, colRanks, colSdDiffs, colSds,\n",
      "    colSums2, colTabulates, colVarDiffs, colVars, colWeightedMads,\n",
      "    colWeightedMeans, colWeightedMedians, colWeightedSds,\n",
      "    colWeightedVars, rowAlls, rowAnyNAs, rowAnys, rowAvgsPerColSet,\n",
      "    rowCollapse, rowCounts, rowCummaxs, rowCummins, rowCumprods,\n",
      "    rowCumsums, rowDiffs, rowIQRDiffs, rowIQRs, rowLogSumExps,\n",
      "    rowMadDiffs, rowMads, rowMaxs, rowMeans2, rowMedians, rowMins,\n",
      "    rowOrderStats, rowProds, rowQuantiles, rowRanges, rowRanks,\n",
      "    rowSdDiffs, rowSds, rowSums2, rowTabulates, rowVarDiffs, rowVars,\n",
      "    rowWeightedMads, rowWeightedMeans, rowWeightedMedians,\n",
      "    rowWeightedSds, rowWeightedVars\n",
      "\n",
      "\n",
      "The following object is masked from ‘package:Biobase’:\n",
      "\n",
      "    rowMedians\n",
      "\n",
      "\n",
      "Loading required package: GenomicRanges\n",
      "\n",
      "Loading required package: stats4\n",
      "\n",
      "Loading required package: S4Vectors\n",
      "\n",
      "\n",
      "Attaching package: ‘S4Vectors’\n",
      "\n",
      "\n",
      "The following object is masked from ‘package:tidyr’:\n",
      "\n",
      "    expand\n",
      "\n",
      "\n",
      "The following objects are masked from ‘package:dplyr’:\n",
      "\n",
      "    first, rename\n",
      "\n",
      "\n",
      "The following object is masked from ‘package:plyr’:\n",
      "\n",
      "    rename\n",
      "\n",
      "\n",
      "The following objects are masked from ‘package:base’:\n",
      "\n",
      "    expand.grid, I, unname\n",
      "\n",
      "\n",
      "Loading required package: IRanges\n",
      "\n",
      "\n",
      "Attaching package: ‘IRanges’\n",
      "\n",
      "\n",
      "The following object is masked from ‘package:purrr’:\n",
      "\n",
      "    reduce\n",
      "\n",
      "\n",
      "The following objects are masked from ‘package:dplyr’:\n",
      "\n",
      "    collapse, desc, slice\n",
      "\n",
      "\n",
      "The following object is masked from ‘package:plyr’:\n",
      "\n",
      "    desc\n",
      "\n",
      "\n",
      "Loading required package: GenomeInfoDb\n",
      "\n",
      "Attaching SeuratObject\n",
      "\n",
      "\n",
      "Attaching package: ‘Seurat’\n",
      "\n",
      "\n",
      "The following object is masked from ‘package:SummarizedExperiment’:\n",
      "\n",
      "    Assays\n",
      "\n",
      "\n",
      "\n",
      "Attaching package: ‘babelgene’\n",
      "\n",
      "\n",
      "The following object is masked from ‘package:GenomeInfoDb’:\n",
      "\n",
      "    species\n",
      "\n",
      "\n",
      "The following object is masked from ‘package:BiocGenerics’:\n",
      "\n",
      "    species\n",
      "\n",
      "\n",
      "Loading required package: grid\n",
      "\n",
      "========================================\n",
      "ComplexHeatmap version 2.13.2\n",
      "Bioconductor page: http://bioconductor.org/packages/ComplexHeatmap/\n",
      "Github page: https://github.com/jokergoo/ComplexHeatmap\n",
      "Documentation: http://jokergoo.github.io/ComplexHeatmap-reference\n",
      "\n",
      "If you use it in published research, please cite either one:\n",
      "- Gu, Z. Complex heatmaps reveal patterns and correlations in multidimensional \n",
      "    genomic data. Bioinformatics 2016.\n",
      "- Gu, Z. Complex Heatmap Visualization. iMeta 2022.\n",
      "\n",
      "\n",
      "The new InteractiveComplexHeatmap package can directly export static \n",
      "complex heatmaps into an interactive Shiny app with zero effort. Have a try!\n",
      "\n",
      "This message can be suppressed by:\n",
      "  suppressPackageStartupMessages(library(ComplexHeatmap))\n",
      "========================================\n",
      "\n",
      "\n",
      "Loading required package: vioplot\n",
      "\n",
      "Loading required package: sm\n",
      "\n",
      "Package 'sm', version 2.2-5.7: type help(sm) for summary information\n",
      "\n",
      "Loading required package: zoo\n",
      "\n",
      "\n",
      "Attaching package: ‘zoo’\n",
      "\n",
      "\n",
      "The following objects are masked from ‘package:base’:\n",
      "\n",
      "    as.Date, as.Date.numeric\n",
      "\n",
      "\n",
      "Loading required package: R.oo\n",
      "\n",
      "Loading required package: R.methodsS3\n",
      "\n",
      "R.methodsS3 v1.8.2 (2022-06-13 22:00:14 UTC) successfully loaded. See ?R.methodsS3 for help.\n",
      "\n",
      "R.oo v1.25.0 (2022-06-12 02:20:02 UTC) successfully loaded. See ?R.oo for help.\n",
      "\n",
      "\n",
      "Attaching package: ‘R.oo’\n",
      "\n",
      "\n",
      "The following object is masked from ‘package:R.methodsS3’:\n",
      "\n",
      "    throw\n",
      "\n",
      "\n",
      "The following object is masked from ‘package:SummarizedExperiment’:\n",
      "\n",
      "    trim\n",
      "\n",
      "\n",
      "The following object is masked from ‘package:GenomicRanges’:\n",
      "\n",
      "    trim\n",
      "\n",
      "\n",
      "The following object is masked from ‘package:IRanges’:\n",
      "\n",
      "    trim\n",
      "\n",
      "\n",
      "The following objects are masked from ‘package:devtools’:\n",
      "\n",
      "    check, unload\n",
      "\n",
      "\n"
     ]
    },
    {
     "name": "stderr",
     "output_type": "stream",
     "text": [
      "The following objects are masked from ‘package:methods’:\n",
      "\n",
      "    getClasses, getMethods\n",
      "\n",
      "\n",
      "The following objects are masked from ‘package:base’:\n",
      "\n",
      "    attach, detach, load, save\n",
      "\n",
      "\n",
      "R.utils v2.12.2 (2022-11-11 22:00:03 UTC) successfully loaded. See ?R.utils for help.\n",
      "\n",
      "\n",
      "Attaching package: ‘R.utils’\n",
      "\n",
      "\n",
      "The following object is masked from ‘package:ComplexHeatmap’:\n",
      "\n",
      "    draw\n",
      "\n",
      "\n",
      "The following object is masked from ‘package:tidyr’:\n",
      "\n",
      "    extract\n",
      "\n",
      "\n",
      "The following object is masked from ‘package:GEOquery’:\n",
      "\n",
      "    gunzip\n",
      "\n",
      "\n",
      "The following object is masked from ‘package:utils’:\n",
      "\n",
      "    timestamp\n",
      "\n",
      "\n",
      "The following objects are masked from ‘package:base’:\n",
      "\n",
      "    cat, commandArgs, getOption, isOpen, nullfile, parse, warnings\n",
      "\n",
      "\n",
      "Loading required package: lattice\n",
      "\n",
      "Loading required package: survival\n",
      "\n",
      "Loading required package: Formula\n",
      "\n",
      "\n",
      "Attaching package: ‘Hmisc’\n",
      "\n",
      "\n",
      "The following object is masked from ‘package:R.utils’:\n",
      "\n",
      "    capitalize\n",
      "\n",
      "\n",
      "The following object is masked from ‘package:SeuratObject’:\n",
      "\n",
      "    Key\n",
      "\n",
      "\n",
      "The following object is masked from ‘package:Seurat’:\n",
      "\n",
      "    Key\n",
      "\n",
      "\n",
      "The following objects are masked from ‘package:dplyr’:\n",
      "\n",
      "    src, summarize\n",
      "\n",
      "\n",
      "The following objects are masked from ‘package:plyr’:\n",
      "\n",
      "    is.discrete, summarize\n",
      "\n",
      "\n",
      "The following object is masked from ‘package:Biobase’:\n",
      "\n",
      "    contents\n",
      "\n",
      "\n",
      "The following objects are masked from ‘package:base’:\n",
      "\n",
      "    format.pval, units\n",
      "\n",
      "\n",
      "corrplot 0.92 loaded\n",
      "\n",
      "\n",
      "Attaching package: ‘pheatmap’\n",
      "\n",
      "\n",
      "The following object is masked from ‘package:ComplexHeatmap’:\n",
      "\n",
      "    pheatmap\n",
      "\n",
      "\n",
      "\n",
      "Attaching package: ‘shades’\n",
      "\n",
      "\n",
      "The following object is masked from ‘package:SummarizedExperiment’:\n",
      "\n",
      "    distance\n",
      "\n",
      "\n",
      "The following object is masked from ‘package:GenomicRanges’:\n",
      "\n",
      "    distance\n",
      "\n",
      "\n",
      "The following objects are masked from ‘package:IRanges’:\n",
      "\n",
      "    distance, space\n",
      "\n",
      "\n",
      "The following object is masked from ‘package:S4Vectors’:\n",
      "\n",
      "    space\n",
      "\n",
      "\n",
      "\n",
      "Attaching package: ‘rstatix’\n",
      "\n",
      "\n",
      "The following object is masked from ‘package:IRanges’:\n",
      "\n",
      "    desc\n",
      "\n",
      "\n",
      "The following objects are masked from ‘package:plyr’:\n",
      "\n",
      "    desc, mutate\n",
      "\n",
      "\n",
      "The following object is masked from ‘package:stats’:\n",
      "\n",
      "    filter\n",
      "\n",
      "\n",
      "*** Package RVAideMemoire v 0.9-81-2 ***\n",
      "\n",
      "Welcome! Want to learn more? See two factoextra-related books at https://goo.gl/ve3WBa\n",
      "\n",
      "Loading required package: ggpp\n",
      "\n",
      "\n",
      "Attaching package: ‘ggpp’\n",
      "\n",
      "\n",
      "The following object is masked from ‘package:ggplot2’:\n",
      "\n",
      "    annotate\n",
      "\n",
      "\n",
      "\n",
      "Attaching package: ‘MASS’\n",
      "\n",
      "\n",
      "The following object is masked from ‘package:rstatix’:\n",
      "\n",
      "    select\n",
      "\n",
      "\n",
      "The following object is masked from ‘package:sm’:\n",
      "\n",
      "    muscle\n",
      "\n",
      "\n",
      "The following object is masked from ‘package:dplyr’:\n",
      "\n",
      "    select\n",
      "\n",
      "\n",
      "\n",
      "\n",
      "clusterProfiler v4.2.2  For help: https://yulab-smu.top/biomedical-knowledge-mining-book/\n",
      "\n",
      "If you use clusterProfiler in published research, please cite:\n",
      "T Wu, E Hu, S Xu, M Chen, P Guo, Z Dai, T Feng, L Zhou, W Tang, L Zhan, X Fu, S Liu, X Bo, and G Yu. clusterProfiler 4.0: A universal enrichment tool for interpreting omics data. The Innovation. 2021, 2(3):100141\n",
      "\n",
      "\n",
      "Attaching package: ‘clusterProfiler’\n",
      "\n",
      "\n",
      "The following object is masked from ‘package:MASS’:\n",
      "\n",
      "    select\n",
      "\n",
      "\n",
      "The following object is masked from ‘package:lattice’:\n",
      "\n",
      "    dotplot\n",
      "\n",
      "\n",
      "The following object is masked from ‘package:IRanges’:\n",
      "\n",
      "    slice\n",
      "\n",
      "\n",
      "The following object is masked from ‘package:S4Vectors’:\n",
      "\n",
      "    rename\n",
      "\n",
      "\n",
      "The following object is masked from ‘package:purrr’:\n",
      "\n",
      "    simplify\n",
      "\n",
      "\n",
      "The following objects are masked from ‘package:plyr’:\n",
      "\n",
      "    arrange, mutate, rename, summarise\n",
      "\n",
      "\n",
      "The following object is masked from ‘package:stats’:\n",
      "\n",
      "    filter\n",
      "\n",
      "\n"
     ]
    }
   ],
   "source": [
    "library(metacell)\n",
    "library(GEOquery)\n",
    "library(googlesheets4)\n",
    "library(googledrive)\n",
    "library(devtools)\n",
    "library(reshape2)\n",
    "library(plyr)\n",
    "library(dplyr)\n",
    "library(tibble)\n",
    "library(ggplot2)\n",
    "library(tidyverse)\n",
    "library(tgstat)\n",
    "library(tgconfig)\n",
    "library(gridExtra)\n",
    "library(SingleCellExperiment)\n",
    "library(Seurat)\n",
    "library(babelgene)\n",
    "library(zellkonverter)\n",
    "library(liana)\n",
    "library(ComplexHeatmap)\n",
    "library(grid)\n",
    "library(GOfuncR)\n",
    "library(cowplot)\n",
    "library(R.utils)\n",
    "library(Hmisc)\n",
    "library(corrplot)\n",
    "library(pheatmap)\n",
    "library(shades)\n",
    "library(ggrepel)\n",
    "library(ggarchery)\n",
    "library(rstatix) \n",
    "library(RVAideMemoire)\n",
    "library(cluster)   \n",
    "library(factoextra) \n",
    "library(ggpmisc)\n",
    "library(glmGamPoi)\n",
    "library(MASS)\n",
    "library(clusterProfiler)\n",
    "library(msigdbr)"
   ]
  },
  {
   "cell_type": "code",
   "execution_count": 2,
   "id": "e42bd008",
   "metadata": {},
   "outputs": [
    {
     "name": "stderr",
     "output_type": "stream",
     "text": [
      "\u001b[1m\u001b[22m\u001b[36mℹ\u001b[39m SHA-1 hash of file is \"bda7f06ee7b168c0be4c723ee15644ab99e6421e\"\n",
      "Loading required package: KernSmooth\n",
      "\n",
      "KernSmooth 2.23 loaded\n",
      "Copyright M. P. Wand 1997-2009\n",
      "\n",
      "Loading required package: RANN\n",
      "\n",
      "Loading required package: plotrix\n",
      "\n",
      "Loading required package: gplots\n",
      "\n",
      "\n",
      "Attaching package: ‘gplots’\n",
      "\n",
      "\n",
      "The following object is masked from ‘package:plotrix’:\n",
      "\n",
      "    plotCI\n",
      "\n",
      "\n",
      "The following object is masked from ‘package:shades’:\n",
      "\n",
      "    space\n",
      "\n",
      "\n",
      "The following object is masked from ‘package:IRanges’:\n",
      "\n",
      "    space\n",
      "\n",
      "\n",
      "The following object is masked from ‘package:S4Vectors’:\n",
      "\n",
      "    space\n",
      "\n",
      "\n",
      "The following object is masked from ‘package:stats’:\n",
      "\n",
      "    lowess\n",
      "\n",
      "\n",
      "Loading required package: parallel\n",
      "\n",
      "Loading required package: compositions\n",
      "\n",
      "Welcome to compositions, a package for compositional data analysis.\n",
      "Find an intro with \"? compositions\"\n",
      "\n",
      "\n",
      "\n",
      "Attaching package: ‘compositions’\n",
      "\n",
      "\n",
      "The following objects are masked from ‘package:IRanges’:\n",
      "\n",
      "    cor, cov, var\n",
      "\n",
      "\n",
      "The following objects are masked from ‘package:S4Vectors’:\n",
      "\n",
      "    cor, cov, var\n",
      "\n",
      "\n",
      "The following objects are masked from ‘package:BiocGenerics’:\n",
      "\n",
      "    normalize, var\n",
      "\n",
      "\n",
      "The following objects are masked from ‘package:stats’:\n",
      "\n",
      "    anova, cor, cov, dist, var\n",
      "\n",
      "\n",
      "The following objects are masked from ‘package:base’:\n",
      "\n",
      "    %*%, norm, scale, scale.default\n",
      "\n",
      "\n",
      "Loading required package: RCurl\n",
      "\n",
      "\n",
      "Attaching package: ‘RCurl’\n",
      "\n",
      "\n",
      "The following object is masked from ‘package:R.utils’:\n",
      "\n",
      "    reset\n",
      "\n",
      "\n",
      "The following object is masked from ‘package:R.oo’:\n",
      "\n",
      "    clone\n",
      "\n",
      "\n",
      "The following object is masked from ‘package:tidyr’:\n",
      "\n",
      "    complete\n",
      "\n",
      "\n",
      "\u001b[1m\u001b[22m\u001b[36mℹ\u001b[39m SHA-1 hash of file is \"9adfcccbce4f308dad9fb0d084241583dbbeb5b8\"\n",
      "Loading required package: glmnet\n",
      "\n",
      "Loading required package: Matrix\n",
      "\n",
      "\n",
      "Attaching package: ‘Matrix’\n",
      "\n",
      "\n",
      "The following object is masked from ‘package:S4Vectors’:\n",
      "\n",
      "    expand\n",
      "\n",
      "\n",
      "The following objects are masked from ‘package:tidyr’:\n",
      "\n",
      "    expand, pack, unpack\n",
      "\n",
      "\n",
      "Loaded glmnet 4.1-4\n",
      "\n",
      "\n",
      "Attaching package: ‘glmnet’\n",
      "\n",
      "\n",
      "The following object is masked from ‘package:compositions’:\n",
      "\n",
      "    rmult\n",
      "\n",
      "\n"
     ]
    }
   ],
   "source": [
    "source_url(\"https://raw.githubusercontent.com/aygoldberg/PIC-seq/master/scripts/metacell_functions.r\")\n",
    "source_url(\"https://raw.githubusercontent.com/aygoldberg/PIC-seq/master/scripts/pic_parser.r\")"
   ]
  },
  {
   "cell_type": "code",
   "execution_count": 3,
   "id": "8149b037",
   "metadata": {},
   "outputs": [],
   "source": [
    "modify_facet_appearance <- function(plot = NULL,\n",
    "                                    strip.background.x.fill = NULL, \n",
    "                                    strip.background.y.fill = NULL,\n",
    "                                    strip.background.x.col = NULL,\n",
    "                                    strip.background.y.col = NULL,\n",
    "                                    strip.text.x.col = NULL,\n",
    "                                    strip.text.y.col = NULL){\n",
    "  \n",
    "  if(is.null(plot)){stop(\"A ggplot (gg class) needs to be provided!\")}\n",
    "  \n",
    "  # Generate gtable object to modify the facet strips:\n",
    "  g <- ggplot_gtable(ggplot_build(plot))\n",
    "  \n",
    "  # Get the locations of the right and top facets in g:\n",
    "  stripy <- which(grepl('strip-r|strip-l', g$layout$name)) # account for when strip positions are switched r-l and/or t-b in facet_grid(switch = )\n",
    "  stripx <- which(grepl('strip-t|strip-b', g$layout$name))\n",
    "  \n",
    "  # Check that the provided value arrays have the same length as strips the plot has:\n",
    "  lx <- c(length(strip.background.x.fill), length(strip.background.x.col), length(strip.text.x.col))\n",
    "  if(!all(lx==length(stripx) | lx==0)){stop(\"The provided vectors with values need to have the same length and the number of facets in the plot!\")}\n",
    "  ly <- c(length(strip.background.y.fill), length(strip.background.y.col), length(strip.text.y.col))\n",
    "  if(!all(ly==length(stripy) | ly==0)){stop(\"The provided vectors with values need to have the same length and the number of facets in the plot!\")}\n",
    "  \n",
    "  # Change the strips on the y axis:\n",
    "  for (i in seq_along(stripy)){ # if no strips in the right, the loop will not be executed as seq_along(stripy) will be integer(0)\n",
    "    \n",
    "    # Change strip fill and (border) colour :\n",
    "    j1 <- which(grepl('strip.background.y', g$grobs[[stripy[i]]]$grobs[[1]]$childrenOrder))\n",
    "    if(!is.null(strip.background.y.fill[i])){g$grobs[[stripy[i]]]$grobs[[1]]$children[[j1]]$gp$fill <- strip.background.y.fill[i]} # fill\n",
    "    if(!is.null(strip.background.y.col[i])){g$grobs[[stripy[i]]]$grobs[[1]]$children[[j1]]$gp$col <- strip.background.y.col[i]} # border colour\n",
    "    \n",
    "    # Change color of text:\n",
    "    j2 <- which(grepl('strip.text.y', g$grobs[[stripy[i]]]$grobs[[1]]$childrenOrder))\n",
    "    if(!is.null(strip.text.y.col[i])){g$grobs[[stripy[i]]]$grobs[[1]]$children[[j2]]$children[[1]]$gp$col <- strip.text.y.col[i]}\n",
    "\n",
    "  }\n",
    "  \n",
    "  # Same but for the x axis:\n",
    "  for (i in seq_along(stripx)){\n",
    "    \n",
    "    # Change strip fill and (border) colour :\n",
    "    j1 <- which(grepl('strip.background.x', g$grobs[[stripx[i]]]$grobs[[1]]$childrenOrder))\n",
    "    if(!is.null(strip.background.x.fill[i])){g$grobs[[stripx[i]]]$grobs[[1]]$children[[j1]]$gp$fill <- strip.background.x.fill[i]} # fill\n",
    "    if(!is.null(strip.background.x.col[i])){g$grobs[[stripx[i]]]$grobs[[1]]$children[[j1]]$gp$col <- strip.background.x.col[i]} # border colour\n",
    "    \n",
    "    # Change color of text:\n",
    "    j2 <- which(grepl('strip.text.x', g$grobs[[stripx[i]]]$grobs[[1]]$childrenOrder))\n",
    "    if(!is.null(strip.text.x.col[i])){g$grobs[[stripx[i]]]$grobs[[1]]$children[[j2]]$children[[1]]$gp$col <- strip.text.x.col[i]}\n",
    "\n",
    "  }\n",
    "  \n",
    "  return(g) \n",
    "  \n",
    "  # Note that it returns a gtable object. This can be ploted with plot() or grid::draw.grid(). \n",
    "  # patchwork can handle the addition of such gtable to a layout with other ggplot objects, \n",
    "  # but be sure to use patchwork::wrap_ggplot_grob(g) for proper alignment of plots!\n",
    "  # See: https://patchwork.data-imaginist.com/reference/wrap_ggplot_grob.html\n",
    "  \n",
    "}\n"
   ]
  },
  {
   "cell_type": "code",
   "execution_count": 233,
   "id": "df05191d",
   "metadata": {},
   "outputs": [],
   "source": [
    "type_colors = c(\"slategray\", \"brown3\", \"royalblue3\", \"darkorchid3\")\n",
    "names(type_colors) = c(\"Normal\", \"De novo\", \"Upregulated\", \"Both\")"
   ]
  },
  {
   "cell_type": "code",
   "execution_count": 4,
   "id": "8613bb17",
   "metadata": {
    "scrolled": true
   },
   "outputs": [
    {
     "name": "stderr",
     "output_type": "stream",
     "text": [
      "initializing scdb to scdb/\n",
      "\n"
     ]
    }
   ],
   "source": [
    "if(!dir.exists(\"scdb\")) dir.create(\"scdb/\")\n",
    "scdb_init(\"scdb/\", force_reinit=T)\n",
    "#> initializing scdb to testdb/"
   ]
  },
  {
   "cell_type": "code",
   "execution_count": 5,
   "id": "69ea5533",
   "metadata": {},
   "outputs": [],
   "source": [
    "annot_df <- read.csv(\"annotations/kinetics_annots.csv\", sep=\",\")\n",
    "annot_df$label = trimws(annot_df$label)"
   ]
  },
  {
   "cell_type": "code",
   "execution_count": 6,
   "id": "3e495aa1",
   "metadata": {},
   "outputs": [],
   "source": [
    "mat = scdb_mat('all_cells_liana')"
   ]
  },
  {
   "cell_type": "code",
   "execution_count": 7,
   "id": "fd6452cf",
   "metadata": {},
   "outputs": [],
   "source": [
    "bad_genes = union(read_lines('annotations/kinetics_filtered_genes.txt'), \n",
    "                  read_lines('annotations/neutrophil_filtered_genes.txt'))\n",
    "rp_markers = grep(\"Rpl|Rps|Snor|Gm|Ig[h,k,l]v|^mt-|Hist|Hsp|Jun|Rik\", colnames(mat@mat), v=T)\n",
    "anchor_genes = c('Pcna', 'Top2a', 'Txn', 'Hsp90ab1', 'Fos', 'Jun', 'Mki67', 'Hist1h1d', 'Hspa1a', 'Isg15', 'Wars',\n",
    "                 '5_8S_rRNA', 'Rn18s-rs5', 'Malat1', 'Mir6236', 'Tuba1a', 'Hspa5')\n",
    "bad_genes = union(bad_genes, rp_markers) %>% union(anchor_genes)"
   ]
  },
  {
   "cell_type": "code",
   "execution_count": 8,
   "id": "c6429d3a",
   "metadata": {},
   "outputs": [],
   "source": [
    "sce = readRDS(\"h5ads/liana_carcinoma_tanmerged.RDS\")"
   ]
  },
  {
   "cell_type": "code",
   "execution_count": 9,
   "id": "412586b4",
   "metadata": {},
   "outputs": [
    {
     "name": "stderr",
     "output_type": "stream",
     "text": [
      "Warning message:\n",
      "“Feature names cannot have underscores ('_'), replacing with dashes ('-')”\n"
     ]
    }
   ],
   "source": [
    "seur = CreateSeuratObject(sce@assays@data$counts)"
   ]
  },
  {
   "cell_type": "code",
   "execution_count": 10,
   "id": "185b828a",
   "metadata": {},
   "outputs": [],
   "source": [
    "seur = NormalizeData(seur, normalization.method = \"LogNormalize\", scale.factor = 10000)"
   ]
  },
  {
   "cell_type": "code",
   "execution_count": 11,
   "id": "eebb0b9e",
   "metadata": {},
   "outputs": [],
   "source": [
    "seur@meta.data$Age = sce@colData[rownames(seur@meta.data),'Age']"
   ]
  },
  {
   "cell_type": "code",
   "execution_count": 12,
   "id": "4788886e",
   "metadata": {},
   "outputs": [],
   "source": [
    "seur = SetIdent(seur, \n",
    "                cells = rownames(sce@colData), \n",
    "                value = sce@colData$annots)"
   ]
  },
  {
   "cell_type": "code",
   "execution_count": 13,
   "id": "bd3d18df",
   "metadata": {},
   "outputs": [],
   "source": [
    "ages = age_order = c(\"10d\", \"3w\", \"6w\", \"8w\", \"10w\", \"12w\")\n",
    "conditions = cond_order = c(\"tumor\", \"normal\")\n",
    "age_condition_order = paste(rep(rev(cond_order), each=6), rep(age_order, 2), sep=\"_\")"
   ]
  },
  {
   "cell_type": "code",
   "execution_count": 14,
   "id": "c76efcbf",
   "metadata": {},
   "outputs": [
    {
     "name": "stderr",
     "output_type": "stream",
     "text": [
      "1: Endothelial\n",
      "\n",
      "2: doublets\n",
      "\n",
      "3: Mcam Endothelial\n",
      "\n",
      "4: Dpp4 fibroblasts\n",
      "\n",
      "5: IFN Dpp4 fibroblasts\n",
      "\n",
      "6: fibroblasts\n",
      "\n",
      "7: CAFs\n",
      "\n",
      "8: Pre-adipocytes\n",
      "\n",
      "9: Schwann cells\n",
      "\n",
      "10: Smooth muscle\n",
      "\n",
      "11: Pericytes\n",
      "\n",
      "12: Alveolar spp l\n",
      "\n",
      "13: Progenitor 1\n",
      "\n",
      "14: Alveolar\n",
      "\n",
      "15: Alveolar secretory\n",
      "\n",
      "16: Alveolar spp1 h\n",
      "\n",
      "17: Progenitor 2\n",
      "\n",
      "18: HS\n",
      "\n",
      "19: Basal\n",
      "\n",
      "20: Hair-like\n",
      "\n",
      "21: MyoLum\n",
      "\n",
      "22: Myoepithelial\n",
      "\n",
      "23: Mast cells\n",
      "\n",
      "24: Cytotoxic NK\n",
      "\n",
      "25: NK cells\n",
      "\n",
      "26: gd NKT Ccl5 l\n",
      "\n",
      "27: NKT cells\n",
      "\n",
      "28: gd NKT Ccl5 h\n",
      "\n",
      "29: Mreg DCs\n",
      "\n",
      "30: Basophils\n",
      "\n",
      "31: B cells\n",
      "\n",
      "32: T cells\n",
      "\n",
      "33: CD8 T cells\n",
      "\n",
      "34: Treg\n",
      "\n",
      "35: gd T cells\n",
      "\n",
      "36: ILC2\n",
      "\n",
      "37: Perivasc macs\n",
      "\n",
      "38: Neutrophils\n",
      "\n",
      "39: Monocytes\n",
      "\n",
      "40: MonMacs\n",
      "\n",
      "41: cDC2\n",
      "\n",
      "42: Ductal macs\n",
      "\n",
      "43: pDC\n",
      "\n",
      "44: cDC1\n",
      "\n"
     ]
    }
   ],
   "source": [
    "for (i in 1:length(unique(annot_df$label))){\n",
    "    message(paste(i, unique(annot_df$label)[i], sep=\": \"))\n",
    "}"
   ]
  },
  {
   "cell_type": "code",
   "execution_count": 15,
   "id": "605150f6",
   "metadata": {},
   "outputs": [],
   "source": [
    "doublet_order = c(2, 20)\n",
    "doublet_clusters = unique(annot_df$label)[doublet_order]\n",
    "lymphoid_order = c(32, 33, 34, 35, 26, 28, 27, 25, 24, 36, 31)\n",
    "myeloid_order = c(39, 40, 37, 42, 44, 41, 43, 23, 29, 30)\n",
    "epithelial_order = c(13, 17, 14, 18, 22, 19, 21)\n",
    "stromal_order = c(1, 3, 10, 11, 9)\n",
    "fibroblast_order = c(6, 4, 5, 7, 8)"
   ]
  },
  {
   "cell_type": "code",
   "execution_count": 16,
   "id": "2c7708a4",
   "metadata": {},
   "outputs": [],
   "source": [
    "pop_orders = list(lymphoid=unique(annot_df$label)[lymphoid_order],\n",
    "                  myeloid=unique(annot_df$label)[myeloid_order],\n",
    "                  epithelial=unique(annot_df$label)[epithelial_order],\n",
    "                  stromal=unique(annot_df$label)[stromal_order],\n",
    "                  fibroblast=unique(annot_df$label)[fibroblast_order])"
   ]
  },
  {
   "cell_type": "code",
   "execution_count": 17,
   "id": "a21dbe0c",
   "metadata": {},
   "outputs": [],
   "source": [
    "order_index1 = c(lymphoid_order, myeloid_order)\n",
    "order_index2 = c(epithelial_order, stromal_order, fibroblast_order)\n",
    "cell_order = c(unique(annot_df$label)[order_index1], \n",
    "               \"Young Cystatin high\", \"Cystatin high\", \"AP high\", \"Ptgs2 high\", \"TAN1\", \"TANs\", \"AlvTumor\", \n",
    "               unique(annot_df$label)[order_index2])"
   ]
  },
  {
   "cell_type": "code",
   "execution_count": 18,
   "id": "5baf0d7c",
   "metadata": {},
   "outputs": [],
   "source": [
    "neutrophils = c(\"AP high\", \"Ptgs2 high\", \"TAN1\", \"TANs\")"
   ]
  },
  {
   "cell_type": "code",
   "execution_count": 19,
   "id": "633c7cdc",
   "metadata": {},
   "outputs": [
    {
     "data": {
      "text/html": [
       "<style>\n",
       ".list-inline {list-style: none; margin:0; padding: 0}\n",
       ".list-inline>li {display: inline-block}\n",
       ".list-inline>li:not(:last-child)::after {content: \"\\00b7\"; padding: 0 .5ex}\n",
       "</style>\n",
       "<ol class=list-inline><li>'doublets'</li><li>'Alveolar spp l'</li><li>'Alveolar secretory'</li><li>'Alveolar spp1 h'</li><li>'Hair-like'</li><li>'Neutrophils'</li></ol>\n"
      ],
      "text/latex": [
       "\\begin{enumerate*}\n",
       "\\item 'doublets'\n",
       "\\item 'Alveolar spp l'\n",
       "\\item 'Alveolar secretory'\n",
       "\\item 'Alveolar spp1 h'\n",
       "\\item 'Hair-like'\n",
       "\\item 'Neutrophils'\n",
       "\\end{enumerate*}\n"
      ],
      "text/markdown": [
       "1. 'doublets'\n",
       "2. 'Alveolar spp l'\n",
       "3. 'Alveolar secretory'\n",
       "4. 'Alveolar spp1 h'\n",
       "5. 'Hair-like'\n",
       "6. 'Neutrophils'\n",
       "\n",
       "\n"
      ],
      "text/plain": [
       "[1] \"doublets\"           \"Alveolar spp l\"     \"Alveolar secretory\"\n",
       "[4] \"Alveolar spp1 h\"    \"Hair-like\"          \"Neutrophils\"       "
      ]
     },
     "metadata": {},
     "output_type": "display_data"
    }
   ],
   "source": [
    "unique(annot_df$label)[!unique(annot_df$label) %in% cell_order]"
   ]
  },
  {
   "cell_type": "code",
   "execution_count": 20,
   "id": "43c9b320",
   "metadata": {},
   "outputs": [],
   "source": [
    "group.colors = annot_df$color[match(cell_order, annot_df$label)]\n",
    "names(group.colors) = cell_order"
   ]
  },
  {
   "cell_type": "code",
   "execution_count": 21,
   "id": "eb043300",
   "metadata": {},
   "outputs": [
    {
     "data": {
      "text/html": [
       "<style>\n",
       ".dl-inline {width: auto; margin:0; padding: 0}\n",
       ".dl-inline>dt, .dl-inline>dd {float: none; width: auto; display: inline-block}\n",
       ".dl-inline>dt::after {content: \":\\0020\"; padding-right: .5ex}\n",
       ".dl-inline>dt:not(:first-of-type) {padding-left: .5ex}\n",
       "</style><dl class=dl-inline><dt>T cells</dt><dd>'cyan1'</dd><dt>CD8 T cells</dt><dd>'aquamarine4'</dd><dt>Treg</dt><dd>'darkolivegreen4'</dd><dt>gd T cells</dt><dd>'darkseagreen'</dd><dt>gd NKT Ccl5 l</dt><dd>'lightseagreen'</dd><dt>gd NKT Ccl5 h</dt><dd>'darkslateblue'</dd><dt>NKT cells</dt><dd>'lightskyblue'</dd><dt>NK cells</dt><dd>'darkblue'</dd><dt>Cytotoxic NK</dt><dd>'steelblue'</dd><dt>ILC2</dt><dd>'olivedrab1'</dd><dt>B cells</dt><dd>'dodgerblue'</dd><dt>Monocytes</dt><dd>'plum1'</dd><dt>MonMacs</dt><dd>'hotpink'</dd><dt>Perivasc macs</dt><dd>'plum3'</dd><dt>Ductal macs</dt><dd>'magenta'</dd><dt>cDC1</dt><dd>'darkorchid3'</dd><dt>cDC2</dt><dd>'darkorchid4'</dd><dt>pDC</dt><dd>'darkorchid1'</dd><dt>Mast cells</dt><dd>'aquamarine1'</dd><dt>Mreg DCs</dt><dd>'mediumpurple1'</dd><dt>Basophils</dt><dd>'darkgreen'</dd><dt>Young Cystatin high</dt><dd>NA</dd><dt>Cystatin high</dt><dd>NA</dd><dt>AP high</dt><dd>NA</dd><dt>Ptgs2 high</dt><dd>NA</dd><dt>TAN1</dt><dd>NA</dd><dt>TANs</dt><dd>NA</dd><dt>AlvTumor</dt><dd>NA</dd><dt>Progenitor 1</dt><dd>'lightgoldenrod'</dd><dt>Progenitor 2</dt><dd>'khaki3'</dd><dt>Alveolar</dt><dd>'darksalmon'</dd><dt>HS</dt><dd>'darkorange'</dd><dt>Myoepithelial</dt><dd>'goldenrod3'</dd><dt>Basal</dt><dd>'gold1'</dd><dt>MyoLum</dt><dd>'peachpuff4'</dd><dt>Endothelial</dt><dd>'rosybrown1'</dd><dt>Mcam Endothelial</dt><dd>'hotpink3'</dd><dt>Smooth muscle</dt><dd>'peru'</dd><dt>Pericytes</dt><dd>'plum4'</dd><dt>Schwann cells</dt><dd>'burlywood3'</dd><dt>fibroblasts</dt><dd>'firebrick1'</dd><dt>Dpp4 fibroblasts</dt><dd>'firebrick4'</dd><dt>IFN Dpp4 fibroblasts</dt><dd>'red3'</dd><dt>CAFs</dt><dd>'indianred'</dd><dt>Pre-adipocytes</dt><dd>'yellow4'</dd></dl>\n"
      ],
      "text/latex": [
       "\\begin{description*}\n",
       "\\item[T cells] 'cyan1'\n",
       "\\item[CD8 T cells] 'aquamarine4'\n",
       "\\item[Treg] 'darkolivegreen4'\n",
       "\\item[gd T cells] 'darkseagreen'\n",
       "\\item[gd NKT Ccl5 l] 'lightseagreen'\n",
       "\\item[gd NKT Ccl5 h] 'darkslateblue'\n",
       "\\item[NKT cells] 'lightskyblue'\n",
       "\\item[NK cells] 'darkblue'\n",
       "\\item[Cytotoxic NK] 'steelblue'\n",
       "\\item[ILC2] 'olivedrab1'\n",
       "\\item[B cells] 'dodgerblue'\n",
       "\\item[Monocytes] 'plum1'\n",
       "\\item[MonMacs] 'hotpink'\n",
       "\\item[Perivasc macs] 'plum3'\n",
       "\\item[Ductal macs] 'magenta'\n",
       "\\item[cDC1] 'darkorchid3'\n",
       "\\item[cDC2] 'darkorchid4'\n",
       "\\item[pDC] 'darkorchid1'\n",
       "\\item[Mast cells] 'aquamarine1'\n",
       "\\item[Mreg DCs] 'mediumpurple1'\n",
       "\\item[Basophils] 'darkgreen'\n",
       "\\item[Young Cystatin high] NA\n",
       "\\item[Cystatin high] NA\n",
       "\\item[AP high] NA\n",
       "\\item[Ptgs2 high] NA\n",
       "\\item[TAN1] NA\n",
       "\\item[TANs] NA\n",
       "\\item[AlvTumor] NA\n",
       "\\item[Progenitor 1] 'lightgoldenrod'\n",
       "\\item[Progenitor 2] 'khaki3'\n",
       "\\item[Alveolar] 'darksalmon'\n",
       "\\item[HS] 'darkorange'\n",
       "\\item[Myoepithelial] 'goldenrod3'\n",
       "\\item[Basal] 'gold1'\n",
       "\\item[MyoLum] 'peachpuff4'\n",
       "\\item[Endothelial] 'rosybrown1'\n",
       "\\item[Mcam Endothelial] 'hotpink3'\n",
       "\\item[Smooth muscle] 'peru'\n",
       "\\item[Pericytes] 'plum4'\n",
       "\\item[Schwann cells] 'burlywood3'\n",
       "\\item[fibroblasts] 'firebrick1'\n",
       "\\item[Dpp4 fibroblasts] 'firebrick4'\n",
       "\\item[IFN Dpp4 fibroblasts] 'red3'\n",
       "\\item[CAFs] 'indianred'\n",
       "\\item[Pre-adipocytes] 'yellow4'\n",
       "\\end{description*}\n"
      ],
      "text/markdown": [
       "T cells\n",
       ":   'cyan1'CD8 T cells\n",
       ":   'aquamarine4'Treg\n",
       ":   'darkolivegreen4'gd T cells\n",
       ":   'darkseagreen'gd NKT Ccl5 l\n",
       ":   'lightseagreen'gd NKT Ccl5 h\n",
       ":   'darkslateblue'NKT cells\n",
       ":   'lightskyblue'NK cells\n",
       ":   'darkblue'Cytotoxic NK\n",
       ":   'steelblue'ILC2\n",
       ":   'olivedrab1'B cells\n",
       ":   'dodgerblue'Monocytes\n",
       ":   'plum1'MonMacs\n",
       ":   'hotpink'Perivasc macs\n",
       ":   'plum3'Ductal macs\n",
       ":   'magenta'cDC1\n",
       ":   'darkorchid3'cDC2\n",
       ":   'darkorchid4'pDC\n",
       ":   'darkorchid1'Mast cells\n",
       ":   'aquamarine1'Mreg DCs\n",
       ":   'mediumpurple1'Basophils\n",
       ":   'darkgreen'Young Cystatin high\n",
       ":   NACystatin high\n",
       ":   NAAP high\n",
       ":   NAPtgs2 high\n",
       ":   NATAN1\n",
       ":   NATANs\n",
       ":   NAAlvTumor\n",
       ":   NAProgenitor 1\n",
       ":   'lightgoldenrod'Progenitor 2\n",
       ":   'khaki3'Alveolar\n",
       ":   'darksalmon'HS\n",
       ":   'darkorange'Myoepithelial\n",
       ":   'goldenrod3'Basal\n",
       ":   'gold1'MyoLum\n",
       ":   'peachpuff4'Endothelial\n",
       ":   'rosybrown1'Mcam Endothelial\n",
       ":   'hotpink3'Smooth muscle\n",
       ":   'peru'Pericytes\n",
       ":   'plum4'Schwann cells\n",
       ":   'burlywood3'fibroblasts\n",
       ":   'firebrick1'Dpp4 fibroblasts\n",
       ":   'firebrick4'IFN Dpp4 fibroblasts\n",
       ":   'red3'CAFs\n",
       ":   'indianred'Pre-adipocytes\n",
       ":   'yellow4'\n",
       "\n"
      ],
      "text/plain": [
       "             T cells          CD8 T cells                 Treg \n",
       "             \"cyan1\"        \"aquamarine4\"    \"darkolivegreen4\" \n",
       "          gd T cells        gd NKT Ccl5 l        gd NKT Ccl5 h \n",
       "      \"darkseagreen\"      \"lightseagreen\"      \"darkslateblue\" \n",
       "           NKT cells             NK cells         Cytotoxic NK \n",
       "      \"lightskyblue\"           \"darkblue\"          \"steelblue\" \n",
       "                ILC2              B cells            Monocytes \n",
       "        \"olivedrab1\"         \"dodgerblue\"              \"plum1\" \n",
       "             MonMacs        Perivasc macs          Ductal macs \n",
       "           \"hotpink\"              \"plum3\"            \"magenta\" \n",
       "                cDC1                 cDC2                  pDC \n",
       "       \"darkorchid3\"        \"darkorchid4\"        \"darkorchid1\" \n",
       "          Mast cells             Mreg DCs            Basophils \n",
       "       \"aquamarine1\"      \"mediumpurple1\"          \"darkgreen\" \n",
       " Young Cystatin high        Cystatin high              AP high \n",
       "                  NA                   NA                   NA \n",
       "          Ptgs2 high                 TAN1                 TANs \n",
       "                  NA                   NA                   NA \n",
       "            AlvTumor         Progenitor 1         Progenitor 2 \n",
       "                  NA     \"lightgoldenrod\"             \"khaki3\" \n",
       "            Alveolar                   HS        Myoepithelial \n",
       "        \"darksalmon\"         \"darkorange\"         \"goldenrod3\" \n",
       "               Basal               MyoLum          Endothelial \n",
       "             \"gold1\"         \"peachpuff4\"         \"rosybrown1\" \n",
       "    Mcam Endothelial        Smooth muscle            Pericytes \n",
       "          \"hotpink3\"               \"peru\"              \"plum4\" \n",
       "       Schwann cells          fibroblasts     Dpp4 fibroblasts \n",
       "        \"burlywood3\"         \"firebrick1\"         \"firebrick4\" \n",
       "IFN Dpp4 fibroblasts                 CAFs       Pre-adipocytes \n",
       "              \"red3\"          \"indianred\"            \"yellow4\" "
      ]
     },
     "metadata": {},
     "output_type": "display_data"
    }
   ],
   "source": [
    "group.colors"
   ]
  },
  {
   "cell_type": "code",
   "execution_count": 22,
   "id": "96cf95b8",
   "metadata": {},
   "outputs": [],
   "source": [
    "annot_df2 <- read.csv(\"annotations/neutrophil_annots.csv\", sep=\",\")"
   ]
  },
  {
   "cell_type": "code",
   "execution_count": 23,
   "id": "240fe0e0",
   "metadata": {},
   "outputs": [
    {
     "data": {
      "text/html": [
       "<table class=\"dataframe\">\n",
       "<caption>A data.frame: 8 × 8</caption>\n",
       "<thead>\n",
       "\t<tr><th scope=col>metacell</th><th scope=col>label</th><th scope=col>color</th><th scope=col>signature</th><th scope=col>X</th><th scope=col>X.1</th><th scope=col>X.2</th><th scope=col>X.3</th></tr>\n",
       "\t<tr><th scope=col>&lt;int&gt;</th><th scope=col>&lt;chr&gt;</th><th scope=col>&lt;chr&gt;</th><th scope=col>&lt;lgl&gt;</th><th scope=col>&lt;lgl&gt;</th><th scope=col>&lt;lgl&gt;</th><th scope=col>&lt;chr&gt;</th><th scope=col>&lt;chr&gt;</th></tr>\n",
       "</thead>\n",
       "<tbody>\n",
       "\t<tr><td>1</td><td>Ptgs2 high         </td><td>darkseagreen3</td><td>NA</td><td>NA</td><td>NA</td><td>Recruiters         </td><td>darkseagreen3</td></tr>\n",
       "\t<tr><td>2</td><td>AP high            </td><td>chartreuse4  </td><td>NA</td><td>NA</td><td>NA</td><td>Mature             </td><td>chartreuse4  </td></tr>\n",
       "\t<tr><td>3</td><td>AP high            </td><td>chartreuse4  </td><td>NA</td><td>NA</td><td>NA</td><td>Mature             </td><td>chartreuse4  </td></tr>\n",
       "\t<tr><td>4</td><td>TAN1               </td><td>seagreen2    </td><td>NA</td><td>NA</td><td>NA</td><td>Mature             </td><td>chartreuse4  </td></tr>\n",
       "\t<tr><td>5</td><td>TAN2               </td><td>seagreen3    </td><td>NA</td><td>NA</td><td>NA</td><td>TAN1               </td><td>seagreen3    </td></tr>\n",
       "\t<tr><td>6</td><td>TAN3               </td><td>seagreen4    </td><td>NA</td><td>NA</td><td>NA</td><td>TAN2               </td><td>seagreen4    </td></tr>\n",
       "\t<tr><td>7</td><td>Cystatin high      </td><td>deepskyblue  </td><td>NA</td><td>NA</td><td>NA</td><td>Cystatin high      </td><td>deepskyblue  </td></tr>\n",
       "\t<tr><td>8</td><td>Young Cystatin high</td><td>steelblue4   </td><td>NA</td><td>NA</td><td>NA</td><td>Young Cystatin high</td><td>steelblue4   </td></tr>\n",
       "</tbody>\n",
       "</table>\n"
      ],
      "text/latex": [
       "A data.frame: 8 × 8\n",
       "\\begin{tabular}{llllllll}\n",
       " metacell & label & color & signature & X & X.1 & X.2 & X.3\\\\\n",
       " <int> & <chr> & <chr> & <lgl> & <lgl> & <lgl> & <chr> & <chr>\\\\\n",
       "\\hline\n",
       "\t 1 & Ptgs2 high          & darkseagreen3 & NA & NA & NA & Recruiters          & darkseagreen3\\\\\n",
       "\t 2 & AP high             & chartreuse4   & NA & NA & NA & Mature              & chartreuse4  \\\\\n",
       "\t 3 & AP high             & chartreuse4   & NA & NA & NA & Mature              & chartreuse4  \\\\\n",
       "\t 4 & TAN1                & seagreen2     & NA & NA & NA & Mature              & chartreuse4  \\\\\n",
       "\t 5 & TAN2                & seagreen3     & NA & NA & NA & TAN1                & seagreen3    \\\\\n",
       "\t 6 & TAN3                & seagreen4     & NA & NA & NA & TAN2                & seagreen4    \\\\\n",
       "\t 7 & Cystatin high       & deepskyblue   & NA & NA & NA & Cystatin high       & deepskyblue  \\\\\n",
       "\t 8 & Young Cystatin high & steelblue4    & NA & NA & NA & Young Cystatin high & steelblue4   \\\\\n",
       "\\end{tabular}\n"
      ],
      "text/markdown": [
       "\n",
       "A data.frame: 8 × 8\n",
       "\n",
       "| metacell &lt;int&gt; | label &lt;chr&gt; | color &lt;chr&gt; | signature &lt;lgl&gt; | X &lt;lgl&gt; | X.1 &lt;lgl&gt; | X.2 &lt;chr&gt; | X.3 &lt;chr&gt; |\n",
       "|---|---|---|---|---|---|---|---|\n",
       "| 1 | Ptgs2 high          | darkseagreen3 | NA | NA | NA | Recruiters          | darkseagreen3 |\n",
       "| 2 | AP high             | chartreuse4   | NA | NA | NA | Mature              | chartreuse4   |\n",
       "| 3 | AP high             | chartreuse4   | NA | NA | NA | Mature              | chartreuse4   |\n",
       "| 4 | TAN1                | seagreen2     | NA | NA | NA | Mature              | chartreuse4   |\n",
       "| 5 | TAN2                | seagreen3     | NA | NA | NA | TAN1                | seagreen3     |\n",
       "| 6 | TAN3                | seagreen4     | NA | NA | NA | TAN2                | seagreen4     |\n",
       "| 7 | Cystatin high       | deepskyblue   | NA | NA | NA | Cystatin high       | deepskyblue   |\n",
       "| 8 | Young Cystatin high | steelblue4    | NA | NA | NA | Young Cystatin high | steelblue4    |\n",
       "\n"
      ],
      "text/plain": [
       "  metacell label               color         signature X  X.1\n",
       "1 1        Ptgs2 high          darkseagreen3 NA        NA NA \n",
       "2 2        AP high             chartreuse4   NA        NA NA \n",
       "3 3        AP high             chartreuse4   NA        NA NA \n",
       "4 4        TAN1                seagreen2     NA        NA NA \n",
       "5 5        TAN2                seagreen3     NA        NA NA \n",
       "6 6        TAN3                seagreen4     NA        NA NA \n",
       "7 7        Cystatin high       deepskyblue   NA        NA NA \n",
       "8 8        Young Cystatin high steelblue4    NA        NA NA \n",
       "  X.2                 X.3          \n",
       "1 Recruiters          darkseagreen3\n",
       "2 Mature              chartreuse4  \n",
       "3 Mature              chartreuse4  \n",
       "4 Mature              chartreuse4  \n",
       "5 TAN1                seagreen3    \n",
       "6 TAN2                seagreen4    \n",
       "7 Cystatin high       deepskyblue  \n",
       "8 Young Cystatin high steelblue4   "
      ]
     },
     "metadata": {},
     "output_type": "display_data"
    }
   ],
   "source": [
    "annot_df2"
   ]
  },
  {
   "cell_type": "code",
   "execution_count": 24,
   "id": "cb6abaac",
   "metadata": {},
   "outputs": [],
   "source": [
    "for (row in c(1,2,4,7,8)){\n",
    "    group.colors[annot_df2[row,'label']] = annot_df2[[row,'color']]\n",
    "}"
   ]
  },
  {
   "cell_type": "code",
   "execution_count": 25,
   "id": "1d954964",
   "metadata": {},
   "outputs": [],
   "source": [
    "group.colors[\"AlvTumor\"] = 'orangered3'"
   ]
  },
  {
   "cell_type": "code",
   "execution_count": 27,
   "id": "d38ca6a0",
   "metadata": {},
   "outputs": [],
   "source": [
    "group.colors[\"TANs\"] = 'seagreen4'"
   ]
  },
  {
   "cell_type": "code",
   "execution_count": 28,
   "id": "48c25a45",
   "metadata": {},
   "outputs": [],
   "source": [
    "library(RSQLite)\n",
    "con <- dbConnect(SQLite(), \"~/.cpdb/releases/v4.0.0/cellphone.db\")\n",
    "\n",
    "gene_table = as.data.frame(tbl(con, 'gene_table'))\n",
    "multidata_table = as.data.frame(tbl(con, 'multidata_table'))\n",
    "\n",
    "\n",
    "transmembrane_multi_ids = multidata_table[multidata_table$transmembrane == 1 & multidata_table$is_complex == 0,\n",
    "                                          'id_multidata']\n",
    "\n",
    "transmembrane_genes = unique(gene_table[gene_table$protein_id %in% transmembrane_multi_ids,]$gene_name)\n",
    "\n",
    "transmembrane_genes_mouse = orthologs(genes = transmembrane_genes, species = \"mouse\")$symbol\n",
    "\n",
    "secreted_multi_ids = multidata_table[multidata_table$secreted == 1 & multidata_table$is_complex == 0,\n",
    "                                          'id_multidata']\n",
    "\n",
    "secreted_genes = unique(gene_table[gene_table$protein_id %in% secreted_multi_ids,]$gene_name)\n",
    "\n",
    "secreted_genes_mouse = orthologs(genes = secreted_genes, species = \"mouse\")$symbol"
   ]
  },
  {
   "cell_type": "code",
   "execution_count": 29,
   "id": "ab81b9f0",
   "metadata": {},
   "outputs": [],
   "source": [
    "liana_carcinoma = read.csv(\"annotations/liana_results_tanmerged_tumor_pics.csv\")"
   ]
  },
  {
   "cell_type": "code",
   "execution_count": 30,
   "id": "70063d93",
   "metadata": {},
   "outputs": [
    {
     "data": {
      "text/html": [
       "<style>\n",
       ".list-inline {list-style: none; margin:0; padding: 0}\n",
       ".list-inline>li {display: inline-block}\n",
       ".list-inline>li:not(:last-child)::after {content: \"\\00b7\"; padding: 0 .5ex}\n",
       "</style>\n",
       "<ol class=list-inline><li>'AlvTumor'</li><li>'AP high'</li><li>'AP high__AlvTumor'</li><li>'B cells'</li><li>'CAFs'</li><li>'CD8 T cells'</li><li>'cDC1'</li><li>'cDC2'</li><li>'Cytotoxic NK'</li><li>'Ductal macs'</li><li>'Endothelial'</li><li>'fibroblasts'</li><li>'gd NKT Ccl5 h'</li><li>'gd NKT Ccl5 l'</li><li>'IFN Dpp4 fibroblasts'</li><li>'ILC2'</li><li>'Mcam Endothelial'</li><li>'MonMacs'</li><li>'Monocytes'</li><li>'MyoLum'</li><li>'NK cells'</li><li>'NKT cells'</li><li>'pDC'</li><li>'Pericytes'</li><li>'Perivasc macs'</li><li>'Progenitor 2'</li><li>'Ptgs2 high'</li><li>'Ptgs2 high__AlvTumor'</li><li>'T cells'</li><li>'TAN1'</li><li>'TAN1__AlvTumor'</li><li>'TANs'</li><li>'TANs__AlvTumor'</li><li>'Treg'</li></ol>\n"
      ],
      "text/latex": [
       "\\begin{enumerate*}\n",
       "\\item 'AlvTumor'\n",
       "\\item 'AP high'\n",
       "\\item 'AP high\\_\\_AlvTumor'\n",
       "\\item 'B cells'\n",
       "\\item 'CAFs'\n",
       "\\item 'CD8 T cells'\n",
       "\\item 'cDC1'\n",
       "\\item 'cDC2'\n",
       "\\item 'Cytotoxic NK'\n",
       "\\item 'Ductal macs'\n",
       "\\item 'Endothelial'\n",
       "\\item 'fibroblasts'\n",
       "\\item 'gd NKT Ccl5 h'\n",
       "\\item 'gd NKT Ccl5 l'\n",
       "\\item 'IFN Dpp4 fibroblasts'\n",
       "\\item 'ILC2'\n",
       "\\item 'Mcam Endothelial'\n",
       "\\item 'MonMacs'\n",
       "\\item 'Monocytes'\n",
       "\\item 'MyoLum'\n",
       "\\item 'NK cells'\n",
       "\\item 'NKT cells'\n",
       "\\item 'pDC'\n",
       "\\item 'Pericytes'\n",
       "\\item 'Perivasc macs'\n",
       "\\item 'Progenitor 2'\n",
       "\\item 'Ptgs2 high'\n",
       "\\item 'Ptgs2 high\\_\\_AlvTumor'\n",
       "\\item 'T cells'\n",
       "\\item 'TAN1'\n",
       "\\item 'TAN1\\_\\_AlvTumor'\n",
       "\\item 'TANs'\n",
       "\\item 'TANs\\_\\_AlvTumor'\n",
       "\\item 'Treg'\n",
       "\\end{enumerate*}\n"
      ],
      "text/markdown": [
       "1. 'AlvTumor'\n",
       "2. 'AP high'\n",
       "3. 'AP high__AlvTumor'\n",
       "4. 'B cells'\n",
       "5. 'CAFs'\n",
       "6. 'CD8 T cells'\n",
       "7. 'cDC1'\n",
       "8. 'cDC2'\n",
       "9. 'Cytotoxic NK'\n",
       "10. 'Ductal macs'\n",
       "11. 'Endothelial'\n",
       "12. 'fibroblasts'\n",
       "13. 'gd NKT Ccl5 h'\n",
       "14. 'gd NKT Ccl5 l'\n",
       "15. 'IFN Dpp4 fibroblasts'\n",
       "16. 'ILC2'\n",
       "17. 'Mcam Endothelial'\n",
       "18. 'MonMacs'\n",
       "19. 'Monocytes'\n",
       "20. 'MyoLum'\n",
       "21. 'NK cells'\n",
       "22. 'NKT cells'\n",
       "23. 'pDC'\n",
       "24. 'Pericytes'\n",
       "25. 'Perivasc macs'\n",
       "26. 'Progenitor 2'\n",
       "27. 'Ptgs2 high'\n",
       "28. 'Ptgs2 high__AlvTumor'\n",
       "29. 'T cells'\n",
       "30. 'TAN1'\n",
       "31. 'TAN1__AlvTumor'\n",
       "32. 'TANs'\n",
       "33. 'TANs__AlvTumor'\n",
       "34. 'Treg'\n",
       "\n",
       "\n"
      ],
      "text/plain": [
       " [1] \"AlvTumor\"             \"AP high\"              \"AP high__AlvTumor\"   \n",
       " [4] \"B cells\"              \"CAFs\"                 \"CD8 T cells\"         \n",
       " [7] \"cDC1\"                 \"cDC2\"                 \"Cytotoxic NK\"        \n",
       "[10] \"Ductal macs\"          \"Endothelial\"          \"fibroblasts\"         \n",
       "[13] \"gd NKT Ccl5 h\"        \"gd NKT Ccl5 l\"        \"IFN Dpp4 fibroblasts\"\n",
       "[16] \"ILC2\"                 \"Mcam Endothelial\"     \"MonMacs\"             \n",
       "[19] \"Monocytes\"            \"MyoLum\"               \"NK cells\"            \n",
       "[22] \"NKT cells\"            \"pDC\"                  \"Pericytes\"           \n",
       "[25] \"Perivasc macs\"        \"Progenitor 2\"         \"Ptgs2 high\"          \n",
       "[28] \"Ptgs2 high__AlvTumor\" \"T cells\"              \"TAN1\"                \n",
       "[31] \"TAN1__AlvTumor\"       \"TANs\"                 \"TANs__AlvTumor\"      \n",
       "[34] \"Treg\"                "
      ]
     },
     "metadata": {},
     "output_type": "display_data"
    }
   ],
   "source": [
    "unique(union(unique(liana_carcinoma$source), unique(liana_carcinoma$target))) %>% sort"
   ]
  },
  {
   "cell_type": "code",
   "execution_count": 31,
   "id": "a2ae9acf",
   "metadata": {},
   "outputs": [],
   "source": [
    "pics = c(#'Antigen presenting__AlvTumor', \n",
    "         'TANs__AlvTumor')"
   ]
  },
  {
   "cell_type": "code",
   "execution_count": 155,
   "id": "8e9394e1",
   "metadata": {},
   "outputs": [],
   "source": [
    "group.colors[pics[1]] = 'slategray'"
   ]
  },
  {
   "cell_type": "code",
   "execution_count": 156,
   "id": "624d1fe8",
   "metadata": {},
   "outputs": [
    {
     "data": {
      "text/html": [
       "<style>\n",
       ".dl-inline {width: auto; margin:0; padding: 0}\n",
       ".dl-inline>dt, .dl-inline>dd {float: none; width: auto; display: inline-block}\n",
       ".dl-inline>dt::after {content: \":\\0020\"; padding-right: .5ex}\n",
       ".dl-inline>dt:not(:first-of-type) {padding-left: .5ex}\n",
       "</style><dl class=dl-inline><dt>T cells</dt><dd>'cyan1'</dd><dt>CD8 T cells</dt><dd>'aquamarine4'</dd><dt>Treg</dt><dd>'darkolivegreen4'</dd><dt>gd T cells</dt><dd>'darkseagreen'</dd><dt>gd NKT Ccl5 l</dt><dd>'lightseagreen'</dd><dt>gd NKT Ccl5 h</dt><dd>'darkslateblue'</dd><dt>NKT cells</dt><dd>'lightskyblue'</dd><dt>NK cells</dt><dd>'darkblue'</dd><dt>Cytotoxic NK</dt><dd>'steelblue'</dd><dt>ILC2</dt><dd>'olivedrab1'</dd><dt>B cells</dt><dd>'dodgerblue'</dd><dt>Monocytes</dt><dd>'plum1'</dd><dt>MonMacs</dt><dd>'hotpink'</dd><dt>Perivasc macs</dt><dd>'plum3'</dd><dt>Ductal macs</dt><dd>'magenta'</dd><dt>cDC1</dt><dd>'darkorchid3'</dd><dt>cDC2</dt><dd>'darkorchid4'</dd><dt>pDC</dt><dd>'darkorchid1'</dd><dt>Mast cells</dt><dd>'aquamarine1'</dd><dt>Mreg DCs</dt><dd>'mediumpurple1'</dd><dt>Basophils</dt><dd>'darkgreen'</dd><dt>Young Cystatin high</dt><dd>'steelblue4'</dd><dt>Cystatin high</dt><dd>'deepskyblue'</dd><dt>AP high</dt><dd>'chartreuse4'</dd><dt>Ptgs2 high</dt><dd>'darkseagreen3'</dd><dt>TAN1</dt><dd>'seagreen2'</dd><dt>TANs</dt><dd>'seagreen4'</dd><dt>AlvTumor</dt><dd>'orangered3'</dd><dt>Progenitor 1</dt><dd>'lightgoldenrod'</dd><dt>Progenitor 2</dt><dd>'khaki3'</dd><dt>Alveolar</dt><dd>'darksalmon'</dd><dt>HS</dt><dd>'darkorange'</dd><dt>Myoepithelial</dt><dd>'goldenrod3'</dd><dt>Basal</dt><dd>'gold1'</dd><dt>MyoLum</dt><dd>'peachpuff4'</dd><dt>Endothelial</dt><dd>'rosybrown1'</dd><dt>Mcam Endothelial</dt><dd>'hotpink3'</dd><dt>Smooth muscle</dt><dd>'peru'</dd><dt>Pericytes</dt><dd>'plum4'</dd><dt>Schwann cells</dt><dd>'burlywood3'</dd><dt>fibroblasts</dt><dd>'firebrick1'</dd><dt>Dpp4 fibroblasts</dt><dd>'firebrick4'</dd><dt>IFN Dpp4 fibroblasts</dt><dd>'red3'</dd><dt>CAFs</dt><dd>'indianred'</dd><dt>Pre-adipocytes</dt><dd>'yellow4'</dd><dt>TANs__AlvTumor</dt><dd>'slategray'</dd></dl>\n"
      ],
      "text/latex": [
       "\\begin{description*}\n",
       "\\item[T cells] 'cyan1'\n",
       "\\item[CD8 T cells] 'aquamarine4'\n",
       "\\item[Treg] 'darkolivegreen4'\n",
       "\\item[gd T cells] 'darkseagreen'\n",
       "\\item[gd NKT Ccl5 l] 'lightseagreen'\n",
       "\\item[gd NKT Ccl5 h] 'darkslateblue'\n",
       "\\item[NKT cells] 'lightskyblue'\n",
       "\\item[NK cells] 'darkblue'\n",
       "\\item[Cytotoxic NK] 'steelblue'\n",
       "\\item[ILC2] 'olivedrab1'\n",
       "\\item[B cells] 'dodgerblue'\n",
       "\\item[Monocytes] 'plum1'\n",
       "\\item[MonMacs] 'hotpink'\n",
       "\\item[Perivasc macs] 'plum3'\n",
       "\\item[Ductal macs] 'magenta'\n",
       "\\item[cDC1] 'darkorchid3'\n",
       "\\item[cDC2] 'darkorchid4'\n",
       "\\item[pDC] 'darkorchid1'\n",
       "\\item[Mast cells] 'aquamarine1'\n",
       "\\item[Mreg DCs] 'mediumpurple1'\n",
       "\\item[Basophils] 'darkgreen'\n",
       "\\item[Young Cystatin high] 'steelblue4'\n",
       "\\item[Cystatin high] 'deepskyblue'\n",
       "\\item[AP high] 'chartreuse4'\n",
       "\\item[Ptgs2 high] 'darkseagreen3'\n",
       "\\item[TAN1] 'seagreen2'\n",
       "\\item[TANs] 'seagreen4'\n",
       "\\item[AlvTumor] 'orangered3'\n",
       "\\item[Progenitor 1] 'lightgoldenrod'\n",
       "\\item[Progenitor 2] 'khaki3'\n",
       "\\item[Alveolar] 'darksalmon'\n",
       "\\item[HS] 'darkorange'\n",
       "\\item[Myoepithelial] 'goldenrod3'\n",
       "\\item[Basal] 'gold1'\n",
       "\\item[MyoLum] 'peachpuff4'\n",
       "\\item[Endothelial] 'rosybrown1'\n",
       "\\item[Mcam Endothelial] 'hotpink3'\n",
       "\\item[Smooth muscle] 'peru'\n",
       "\\item[Pericytes] 'plum4'\n",
       "\\item[Schwann cells] 'burlywood3'\n",
       "\\item[fibroblasts] 'firebrick1'\n",
       "\\item[Dpp4 fibroblasts] 'firebrick4'\n",
       "\\item[IFN Dpp4 fibroblasts] 'red3'\n",
       "\\item[CAFs] 'indianred'\n",
       "\\item[Pre-adipocytes] 'yellow4'\n",
       "\\item[TANs\\textbackslash{}\\_\\textbackslash{}\\_AlvTumor] 'slategray'\n",
       "\\end{description*}\n"
      ],
      "text/markdown": [
       "T cells\n",
       ":   'cyan1'CD8 T cells\n",
       ":   'aquamarine4'Treg\n",
       ":   'darkolivegreen4'gd T cells\n",
       ":   'darkseagreen'gd NKT Ccl5 l\n",
       ":   'lightseagreen'gd NKT Ccl5 h\n",
       ":   'darkslateblue'NKT cells\n",
       ":   'lightskyblue'NK cells\n",
       ":   'darkblue'Cytotoxic NK\n",
       ":   'steelblue'ILC2\n",
       ":   'olivedrab1'B cells\n",
       ":   'dodgerblue'Monocytes\n",
       ":   'plum1'MonMacs\n",
       ":   'hotpink'Perivasc macs\n",
       ":   'plum3'Ductal macs\n",
       ":   'magenta'cDC1\n",
       ":   'darkorchid3'cDC2\n",
       ":   'darkorchid4'pDC\n",
       ":   'darkorchid1'Mast cells\n",
       ":   'aquamarine1'Mreg DCs\n",
       ":   'mediumpurple1'Basophils\n",
       ":   'darkgreen'Young Cystatin high\n",
       ":   'steelblue4'Cystatin high\n",
       ":   'deepskyblue'AP high\n",
       ":   'chartreuse4'Ptgs2 high\n",
       ":   'darkseagreen3'TAN1\n",
       ":   'seagreen2'TANs\n",
       ":   'seagreen4'AlvTumor\n",
       ":   'orangered3'Progenitor 1\n",
       ":   'lightgoldenrod'Progenitor 2\n",
       ":   'khaki3'Alveolar\n",
       ":   'darksalmon'HS\n",
       ":   'darkorange'Myoepithelial\n",
       ":   'goldenrod3'Basal\n",
       ":   'gold1'MyoLum\n",
       ":   'peachpuff4'Endothelial\n",
       ":   'rosybrown1'Mcam Endothelial\n",
       ":   'hotpink3'Smooth muscle\n",
       ":   'peru'Pericytes\n",
       ":   'plum4'Schwann cells\n",
       ":   'burlywood3'fibroblasts\n",
       ":   'firebrick1'Dpp4 fibroblasts\n",
       ":   'firebrick4'IFN Dpp4 fibroblasts\n",
       ":   'red3'CAFs\n",
       ":   'indianred'Pre-adipocytes\n",
       ":   'yellow4'TANs__AlvTumor\n",
       ":   'slategray'\n",
       "\n"
      ],
      "text/plain": [
       "             T cells          CD8 T cells                 Treg \n",
       "             \"cyan1\"        \"aquamarine4\"    \"darkolivegreen4\" \n",
       "          gd T cells        gd NKT Ccl5 l        gd NKT Ccl5 h \n",
       "      \"darkseagreen\"      \"lightseagreen\"      \"darkslateblue\" \n",
       "           NKT cells             NK cells         Cytotoxic NK \n",
       "      \"lightskyblue\"           \"darkblue\"          \"steelblue\" \n",
       "                ILC2              B cells            Monocytes \n",
       "        \"olivedrab1\"         \"dodgerblue\"              \"plum1\" \n",
       "             MonMacs        Perivasc macs          Ductal macs \n",
       "           \"hotpink\"              \"plum3\"            \"magenta\" \n",
       "                cDC1                 cDC2                  pDC \n",
       "       \"darkorchid3\"        \"darkorchid4\"        \"darkorchid1\" \n",
       "          Mast cells             Mreg DCs            Basophils \n",
       "       \"aquamarine1\"      \"mediumpurple1\"          \"darkgreen\" \n",
       " Young Cystatin high        Cystatin high              AP high \n",
       "        \"steelblue4\"        \"deepskyblue\"        \"chartreuse4\" \n",
       "          Ptgs2 high                 TAN1                 TANs \n",
       "     \"darkseagreen3\"          \"seagreen2\"          \"seagreen4\" \n",
       "            AlvTumor         Progenitor 1         Progenitor 2 \n",
       "        \"orangered3\"     \"lightgoldenrod\"             \"khaki3\" \n",
       "            Alveolar                   HS        Myoepithelial \n",
       "        \"darksalmon\"         \"darkorange\"         \"goldenrod3\" \n",
       "               Basal               MyoLum          Endothelial \n",
       "             \"gold1\"         \"peachpuff4\"         \"rosybrown1\" \n",
       "    Mcam Endothelial        Smooth muscle            Pericytes \n",
       "          \"hotpink3\"               \"peru\"              \"plum4\" \n",
       "       Schwann cells          fibroblasts     Dpp4 fibroblasts \n",
       "        \"burlywood3\"         \"firebrick1\"         \"firebrick4\" \n",
       "IFN Dpp4 fibroblasts                 CAFs       Pre-adipocytes \n",
       "              \"red3\"          \"indianred\"            \"yellow4\" \n",
       "      TANs__AlvTumor \n",
       "         \"slategray\" "
      ]
     },
     "metadata": {},
     "output_type": "display_data"
    }
   ],
   "source": [
    "group.colors"
   ]
  },
  {
   "cell_type": "code",
   "execution_count": 157,
   "id": "a82a823d",
   "metadata": {},
   "outputs": [],
   "source": [
    "uninteresting_pics = c(\"AP high__AlvTumor\", \"Ptgs2 high__AlvTumor\", \"TAN1__AlvTumor\")"
   ]
  },
  {
   "cell_type": "code",
   "execution_count": 158,
   "id": "8a731ddf",
   "metadata": {},
   "outputs": [],
   "source": [
    "liana_carcinoma$transmembrane = liana_carcinoma$ligand.complex %in% transmembrane_genes_mouse\n",
    "liana_carcinoma$secreted = liana_carcinoma$ligand.complex %in% secreted_genes_mouse\n",
    "liana_carcinoma$source = factor(liana_carcinoma$source, levels = c(cell_order, pics, uninteresting_pics))\n",
    "liana_carcinoma$target = factor(liana_carcinoma$target, levels = c(cell_order, pics, uninteresting_pics))"
   ]
  },
  {
   "cell_type": "code",
   "execution_count": 159,
   "id": "587b957a",
   "metadata": {
    "scrolled": true
   },
   "outputs": [
    {
     "data": {
      "text/html": [
       "FALSE"
      ],
      "text/latex": [
       "FALSE"
      ],
      "text/markdown": [
       "FALSE"
      ],
      "text/plain": [
       "[1] FALSE"
      ]
     },
     "metadata": {},
     "output_type": "display_data"
    }
   ],
   "source": [
    "any(is.na(liana_carcinoma$source))"
   ]
  },
  {
   "cell_type": "code",
   "execution_count": 160,
   "id": "b9ff3dfa",
   "metadata": {
    "scrolled": false
   },
   "outputs": [
    {
     "data": {
      "text/html": [
       "FALSE"
      ],
      "text/latex": [
       "FALSE"
      ],
      "text/markdown": [
       "FALSE"
      ],
      "text/plain": [
       "[1] FALSE"
      ]
     },
     "metadata": {},
     "output_type": "display_data"
    }
   ],
   "source": [
    "any(is.na(liana_carcinoma$target))"
   ]
  },
  {
   "cell_type": "code",
   "execution_count": 161,
   "id": "fe4fc45a",
   "metadata": {},
   "outputs": [],
   "source": [
    "neutrophil_singlets = c(\"TANs\")"
   ]
  },
  {
   "cell_type": "code",
   "execution_count": 162,
   "id": "140e9da0",
   "metadata": {},
   "outputs": [],
   "source": [
    "tumor_cells = c(\"Alveolar spp l\", \"Alveolar spp1 h\", \"Alveolar secretory\")"
   ]
  },
  {
   "cell_type": "code",
   "execution_count": 163,
   "id": "c99b8549",
   "metadata": {},
   "outputs": [],
   "source": [
    "cells_cluster = c(\"gd NKT Ccl5 l\", \"Pericytes\", \"Mcam Endothelial\", \"Mreg DCs\",  \n",
    "                  \"AP high\", \"Ptgs2 high\", \"TAN1\", \"TANs\",\n",
    "                  \"Ductal macs\", \"CAFs\", \"AlvTumor\", \"MyoLum\", \"Progenitor 2\")"
   ]
  },
  {
   "cell_type": "code",
   "execution_count": 164,
   "id": "ead5b160",
   "metadata": {},
   "outputs": [],
   "source": [
    "cells_cluster = cells_cluster[order(match(cells_cluster,cell_order))]"
   ]
  },
  {
   "cell_type": "code",
   "execution_count": 165,
   "id": "d31789a0",
   "metadata": {},
   "outputs": [],
   "source": [
    "cells_cluster = cells_cluster[cells_cluster %in% unique(liana_carcinoma$source)]"
   ]
  },
  {
   "cell_type": "code",
   "execution_count": 166,
   "id": "3010c7b0",
   "metadata": {},
   "outputs": [
    {
     "name": "stdout",
     "output_type": "stream",
     "text": [
      "TAN1__AlvTumor', 'TANs__AlvTumor', 'Ptgs2 high__AlvTumor', 'AP high__AlvTumor"
     ]
    }
   ],
   "source": [
    "cat(unique(as.character(liana_carcinoma$target[grepl('__', liana_carcinoma$target)])), sep=\"', '\")"
   ]
  },
  {
   "cell_type": "code",
   "execution_count": 167,
   "id": "bdabff10",
   "metadata": {},
   "outputs": [
    {
     "data": {
      "image/png": "[encoded data removed]",
      "text/plain": [
       "plot without title"
      ]
     },
     "metadata": {
      "image/png": {
       "height": 420,
       "width": 420
      }
     },
     "output_type": "display_data"
    }
   ],
   "source": [
    "data.frame(x=factor(c(neutrophil_singlets, 'AlvTumor', pics), levels=names(group.colors)), y=1) %>%\n",
    "    ggplot(aes(x=x, y=y, fill=x)) +\n",
    "    geom_bar(stat='identity') +\n",
    "    scale_fill_manual(values = group.colors)"
   ]
  },
  {
   "cell_type": "code",
   "execution_count": 168,
   "id": "c7446658",
   "metadata": {},
   "outputs": [],
   "source": [
    "cell_names = as.character(sce@colData$annots)\n",
    "names(cell_names) = rownames(sce@colData)"
   ]
  },
  {
   "cell_type": "code",
   "execution_count": 169,
   "id": "afd8ab1a",
   "metadata": {},
   "outputs": [],
   "source": [
    "good_pics = names(cell_names[cell_names %in% pics])"
   ]
  },
  {
   "cell_type": "code",
   "execution_count": 170,
   "id": "6ebd4311",
   "metadata": {},
   "outputs": [],
   "source": [
    "sin_cl = scdb_mc(\"merged_neutrophil_epithelial_mc\")"
   ]
  },
  {
   "cell_type": "code",
   "execution_count": 171,
   "id": "cd51ccc1",
   "metadata": {
    "scrolled": true
   },
   "outputs": [
    {
     "name": "stderr",
     "output_type": "stream",
     "text": [
      "Retained 172 PIC with >500 UMI\n",
      "\n"
     ]
    }
   ],
   "source": [
    "numis=500\n",
    "pic_umis = read_large_umis(\"neutrophil_clean_pics\", cells = good_pics)\n",
    "ds = .downsamp(pic_umis, numis)\n",
    "message(\"Retained \", ncol(ds), \" PIC with >\", numis, \" UMI\")"
   ]
  },
  {
   "cell_type": "code",
   "execution_count": 172,
   "id": "2f4e563e",
   "metadata": {},
   "outputs": [],
   "source": [
    "genes = setdiff(rownames(pic_umis), bad_genes)"
   ]
  },
  {
   "cell_type": "code",
   "execution_count": 173,
   "id": "d99d9558",
   "metadata": {},
   "outputs": [
    {
     "data": {
      "text/html": [
       "19824"
      ],
      "text/latex": [
       "19824"
      ],
      "text/markdown": [
       "19824"
      ],
      "text/plain": [
       "[1] 19824"
      ]
     },
     "metadata": {},
     "output_type": "display_data"
    }
   ],
   "source": [
    "length(genes)"
   ]
  },
  {
   "cell_type": "code",
   "execution_count": 174,
   "id": "245bc150",
   "metadata": {},
   "outputs": [],
   "source": [
    "db_mat = scdb_mat('neutrophil_clean_pics')"
   ]
  },
  {
   "cell_type": "code",
   "execution_count": 175,
   "id": "41b7588b",
   "metadata": {},
   "outputs": [],
   "source": [
    "genes = intersect(db_mat@genes, rownames(sin_cl@e_gc))\n",
    "#genes = setdiff(genes, bad_genes)"
   ]
  },
  {
   "cell_type": "code",
   "execution_count": 176,
   "id": "3b07abd0",
   "metadata": {},
   "outputs": [
    {
     "data": {
      "text/html": [
       "16971"
      ],
      "text/latex": [
       "16971"
      ],
      "text/markdown": [
       "16971"
      ],
      "text/plain": [
       "[1] 16971"
      ]
     },
     "metadata": {},
     "output_type": "display_data"
    }
   ],
   "source": [
    "length(genes)"
   ]
  },
  {
   "cell_type": "code",
   "execution_count": 177,
   "id": "0824bf06",
   "metadata": {},
   "outputs": [],
   "source": [
    "mle_res = read.delim(\"annotations/neutrophil_mle_res.txt\", stringsAsFactors = F, row.names=1)"
   ]
  },
  {
   "cell_type": "code",
   "execution_count": 178,
   "id": "7ec5e0a2",
   "metadata": {},
   "outputs": [
    {
     "data": {
      "text/html": [
       "172"
      ],
      "text/latex": [
       "172"
      ],
      "text/markdown": [
       "172"
      ],
      "text/plain": [
       "[1] 172"
      ]
     },
     "metadata": {},
     "output_type": "display_data"
    }
   ],
   "source": [
    "length(good_pics)"
   ]
  },
  {
   "cell_type": "code",
   "execution_count": 179,
   "id": "d5a32189",
   "metadata": {},
   "outputs": [],
   "source": [
    "alpha = mle_res[good_pics, \"alpha\"]; names(alpha) = good_pics\n",
    "epithelial_mc = mle_res[good_pics, \"a_mc\"]; names(epithelial_mc) = good_pics\n",
    "immune_mc = mle_res[good_pics, \"b_mc\"]; names(immune_mc) = good_pics\n",
    "parser_epithelial = sin_cl@annots[epithelial_mc]; names(parser_epithelial) = good_pics\n",
    "parser_immune = sin_cl@annots[immune_mc]; names(parser_immune) = good_pics\n",
    "pic_comb = paste(parser_immune, \n",
    "                 ifelse(parser_epithelial %in% tumor_cells, 'AlvTumor', parser_epithelial), \n",
    "                 sep = \"__\") ; names(pic_comb) = good_pics"
   ]
  },
  {
   "cell_type": "code",
   "execution_count": 180,
   "id": "f701a0ed",
   "metadata": {},
   "outputs": [
    {
     "data": {
      "text/html": [],
      "text/latex": [],
      "text/markdown": [],
      "text/plain": [
       "character(0)"
      ]
     },
     "metadata": {},
     "output_type": "display_data"
    }
   ],
   "source": [
    "good_pics[!good_pics %in% rownames(mle_res)]"
   ]
  },
  {
   "cell_type": "code",
   "execution_count": 181,
   "id": "00fd519f",
   "metadata": {
    "scrolled": true
   },
   "outputs": [
    {
     "data": {
      "text/plain": [
       ".\n",
       "TAN2 Alveolar secretory     TAN2 Alveolar spp l    TAN2 Alveolar spp1 h \n",
       "                      7                      42                      22 \n",
       "TAN3 Alveolar secretory     TAN3 Alveolar spp l    TAN3 Alveolar spp1 h \n",
       "                     11                      62                      28 "
      ]
     },
     "metadata": {},
     "output_type": "display_data"
    }
   ],
   "source": [
    "paste(parser_immune[good_pics], parser_epithelial[good_pics]) %>% table"
   ]
  },
  {
   "cell_type": "markdown",
   "id": "976e2c1b",
   "metadata": {},
   "source": [
    "# Flower plots"
   ]
  },
  {
   "cell_type": "code",
   "execution_count": null,
   "id": "641ee117",
   "metadata": {},
   "outputs": [],
   "source": []
  },
  {
   "cell_type": "code",
   "execution_count": 506,
   "id": "cfae1852",
   "metadata": {},
   "outputs": [],
   "source": [
    "genedata = read.csv(\"final_figs/fig4/new_gene_sd/TANs_merged_1012w_genedata.csv\", row.names=1)"
   ]
  },
  {
   "cell_type": "code",
   "execution_count": 507,
   "id": "6b3a960c",
   "metadata": {
    "scrolled": false
   },
   "outputs": [
    {
     "data": {
      "text/html": [
       "<table class=\"dataframe\">\n",
       "<caption>A data.frame: 1 × 8</caption>\n",
       "<thead>\n",
       "\t<tr><th></th><th scope=col>Observed_mean</th><th scope=col>Simulated_mean</th><th scope=col>Sim_SD</th><th scope=col>z_scores</th><th scope=col>full_adj_pval</th><th scope=col>lfc</th><th scope=col>epi_imm_ratio</th><th scope=col>adj_pval</th></tr>\n",
       "\t<tr><th></th><th scope=col>&lt;dbl&gt;</th><th scope=col>&lt;dbl&gt;</th><th scope=col>&lt;dbl&gt;</th><th scope=col>&lt;dbl&gt;</th><th scope=col>&lt;dbl&gt;</th><th scope=col>&lt;dbl&gt;</th><th scope=col>&lt;dbl&gt;</th><th scope=col>&lt;dbl&gt;</th></tr>\n",
       "</thead>\n",
       "<tbody>\n",
       "\t<tr><th scope=row>Itgb2</th><td>0.3689873</td><td>0.1719343</td><td>0.04366703</td><td>4.512625</td><td>0.001893692</td><td>0.7862905</td><td>0.003578435</td><td>0.001893692</td></tr>\n",
       "</tbody>\n",
       "</table>\n"
      ],
      "text/latex": [
       "A data.frame: 1 × 8\n",
       "\\begin{tabular}{r|llllllll}\n",
       "  & Observed\\_mean & Simulated\\_mean & Sim\\_SD & z\\_scores & full\\_adj\\_pval & lfc & epi\\_imm\\_ratio & adj\\_pval\\\\\n",
       "  & <dbl> & <dbl> & <dbl> & <dbl> & <dbl> & <dbl> & <dbl> & <dbl>\\\\\n",
       "\\hline\n",
       "\tItgb2 & 0.3689873 & 0.1719343 & 0.04366703 & 4.512625 & 0.001893692 & 0.7862905 & 0.003578435 & 0.001893692\\\\\n",
       "\\end{tabular}\n"
      ],
      "text/markdown": [
       "\n",
       "A data.frame: 1 × 8\n",
       "\n",
       "| <!--/--> | Observed_mean &lt;dbl&gt; | Simulated_mean &lt;dbl&gt; | Sim_SD &lt;dbl&gt; | z_scores &lt;dbl&gt; | full_adj_pval &lt;dbl&gt; | lfc &lt;dbl&gt; | epi_imm_ratio &lt;dbl&gt; | adj_pval &lt;dbl&gt; |\n",
       "|---|---|---|---|---|---|---|---|---|\n",
       "| Itgb2 | 0.3689873 | 0.1719343 | 0.04366703 | 4.512625 | 0.001893692 | 0.7862905 | 0.003578435 | 0.001893692 |\n",
       "\n"
      ],
      "text/plain": [
       "      Observed_mean Simulated_mean Sim_SD     z_scores full_adj_pval lfc      \n",
       "Itgb2 0.3689873     0.1719343      0.04366703 4.512625 0.001893692   0.7862905\n",
       "      epi_imm_ratio adj_pval   \n",
       "Itgb2 0.003578435   0.001893692"
      ]
     },
     "metadata": {},
     "output_type": "display_data"
    }
   ],
   "source": [
    "genedata['Itgb2',]"
   ]
  },
  {
   "cell_type": "code",
   "execution_count": 508,
   "id": "ad747423",
   "metadata": {},
   "outputs": [],
   "source": [
    "genedata = read.csv(\"final_figs/fig4/new_gene_sd/All_genedata.csv\", row.names=1)"
   ]
  },
  {
   "cell_type": "code",
   "execution_count": 509,
   "id": "d89a0f57",
   "metadata": {
    "scrolled": true
   },
   "outputs": [
    {
     "data": {
      "text/html": [
       "<table class=\"dataframe\">\n",
       "<caption>A data.frame: 1 × 8</caption>\n",
       "<thead>\n",
       "\t<tr><th></th><th scope=col>Observed_mean</th><th scope=col>Simulated_mean</th><th scope=col>Sim_SD</th><th scope=col>z_scores</th><th scope=col>full_adj_pval</th><th scope=col>lfc</th><th scope=col>epi_imm_ratio</th><th scope=col>adj_pval</th></tr>\n",
       "\t<tr><th></th><th scope=col>&lt;dbl&gt;</th><th scope=col>&lt;dbl&gt;</th><th scope=col>&lt;dbl&gt;</th><th scope=col>&lt;dbl&gt;</th><th scope=col>&lt;dbl&gt;</th><th scope=col>&lt;dbl&gt;</th><th scope=col>&lt;dbl&gt;</th><th scope=col>&lt;dbl&gt;</th></tr>\n",
       "</thead>\n",
       "<tbody>\n",
       "\t<tr><th scope=row>Itgb2</th><td>0.2281005</td><td>0.1624559</td><td>0.02557637</td><td>2.56661</td><td>0.2370353</td><td>0.3220625</td><td>0</td><td>0.2370353</td></tr>\n",
       "</tbody>\n",
       "</table>\n"
      ],
      "text/latex": [
       "A data.frame: 1 × 8\n",
       "\\begin{tabular}{r|llllllll}\n",
       "  & Observed\\_mean & Simulated\\_mean & Sim\\_SD & z\\_scores & full\\_adj\\_pval & lfc & epi\\_imm\\_ratio & adj\\_pval\\\\\n",
       "  & <dbl> & <dbl> & <dbl> & <dbl> & <dbl> & <dbl> & <dbl> & <dbl>\\\\\n",
       "\\hline\n",
       "\tItgb2 & 0.2281005 & 0.1624559 & 0.02557637 & 2.56661 & 0.2370353 & 0.3220625 & 0 & 0.2370353\\\\\n",
       "\\end{tabular}\n"
      ],
      "text/markdown": [
       "\n",
       "A data.frame: 1 × 8\n",
       "\n",
       "| <!--/--> | Observed_mean &lt;dbl&gt; | Simulated_mean &lt;dbl&gt; | Sim_SD &lt;dbl&gt; | z_scores &lt;dbl&gt; | full_adj_pval &lt;dbl&gt; | lfc &lt;dbl&gt; | epi_imm_ratio &lt;dbl&gt; | adj_pval &lt;dbl&gt; |\n",
       "|---|---|---|---|---|---|---|---|---|\n",
       "| Itgb2 | 0.2281005 | 0.1624559 | 0.02557637 | 2.56661 | 0.2370353 | 0.3220625 | 0 | 0.2370353 |\n",
       "\n"
      ],
      "text/plain": [
       "      Observed_mean Simulated_mean Sim_SD     z_scores full_adj_pval lfc      \n",
       "Itgb2 0.2281005     0.1624559      0.02557637 2.56661  0.2370353     0.3220625\n",
       "      epi_imm_ratio adj_pval \n",
       "Itgb2 0             0.2370353"
      ]
     },
     "metadata": {},
     "output_type": "display_data"
    }
   ],
   "source": [
    "genedata['Itgb2',]"
   ]
  },
  {
   "cell_type": "code",
   "execution_count": 510,
   "id": "8e2008a6",
   "metadata": {},
   "outputs": [],
   "source": [
    "genedata = read.csv(\"final_figs/fig4/new_gene_sd/TAN1_genedata.csv\", row.names=1)"
   ]
  },
  {
   "cell_type": "code",
   "execution_count": 511,
   "id": "017151ff",
   "metadata": {
    "scrolled": true
   },
   "outputs": [
    {
     "data": {
      "text/html": [
       "<table class=\"dataframe\">\n",
       "<caption>A data.frame: 1 × 8</caption>\n",
       "<thead>\n",
       "\t<tr><th></th><th scope=col>Observed_mean</th><th scope=col>Simulated_mean</th><th scope=col>Sim_SD</th><th scope=col>z_scores</th><th scope=col>full_adj_pval</th><th scope=col>lfc</th><th scope=col>epi_imm_ratio</th><th scope=col>adj_pval</th></tr>\n",
       "\t<tr><th></th><th scope=col>&lt;dbl&gt;</th><th scope=col>&lt;dbl&gt;</th><th scope=col>&lt;dbl&gt;</th><th scope=col>&lt;dbl&gt;</th><th scope=col>&lt;dbl&gt;</th><th scope=col>&lt;dbl&gt;</th><th scope=col>&lt;dbl&gt;</th><th scope=col>&lt;dbl&gt;</th></tr>\n",
       "</thead>\n",
       "<tbody>\n",
       "\t<tr><th scope=row>NA</th><td>NA</td><td>NA</td><td>NA</td><td>NA</td><td>NA</td><td>NA</td><td>NA</td><td>NA</td></tr>\n",
       "</tbody>\n",
       "</table>\n"
      ],
      "text/latex": [
       "A data.frame: 1 × 8\n",
       "\\begin{tabular}{r|llllllll}\n",
       "  & Observed\\_mean & Simulated\\_mean & Sim\\_SD & z\\_scores & full\\_adj\\_pval & lfc & epi\\_imm\\_ratio & adj\\_pval\\\\\n",
       "  & <dbl> & <dbl> & <dbl> & <dbl> & <dbl> & <dbl> & <dbl> & <dbl>\\\\\n",
       "\\hline\n",
       "\tNA & NA & NA & NA & NA & NA & NA & NA & NA\\\\\n",
       "\\end{tabular}\n"
      ],
      "text/markdown": [
       "\n",
       "A data.frame: 1 × 8\n",
       "\n",
       "| <!--/--> | Observed_mean &lt;dbl&gt; | Simulated_mean &lt;dbl&gt; | Sim_SD &lt;dbl&gt; | z_scores &lt;dbl&gt; | full_adj_pval &lt;dbl&gt; | lfc &lt;dbl&gt; | epi_imm_ratio &lt;dbl&gt; | adj_pval &lt;dbl&gt; |\n",
       "|---|---|---|---|---|---|---|---|---|\n",
       "| NA | NA | NA | NA | NA | NA | NA | NA | NA |\n",
       "\n"
      ],
      "text/plain": [
       "   Observed_mean Simulated_mean Sim_SD z_scores full_adj_pval lfc epi_imm_ratio\n",
       "NA NA            NA             NA     NA       NA            NA  NA           \n",
       "   adj_pval\n",
       "NA NA      "
      ]
     },
     "metadata": {},
     "output_type": "display_data"
    }
   ],
   "source": [
    "genedata['Itgb2',]"
   ]
  },
  {
   "cell_type": "code",
   "execution_count": 512,
   "id": "f64345e6",
   "metadata": {},
   "outputs": [],
   "source": [
    "genedata = read.csv(\"final_figs/fig4/new_gene_sd/TAN2_genedata.csv\", row.names=1)"
   ]
  },
  {
   "cell_type": "code",
   "execution_count": 513,
   "id": "117d75c7",
   "metadata": {
    "scrolled": false
   },
   "outputs": [
    {
     "data": {
      "text/html": [
       "<table class=\"dataframe\">\n",
       "<caption>A data.frame: 1 × 8</caption>\n",
       "<thead>\n",
       "\t<tr><th></th><th scope=col>Observed_mean</th><th scope=col>Simulated_mean</th><th scope=col>Sim_SD</th><th scope=col>z_scores</th><th scope=col>full_adj_pval</th><th scope=col>lfc</th><th scope=col>epi_imm_ratio</th><th scope=col>adj_pval</th></tr>\n",
       "\t<tr><th></th><th scope=col>&lt;dbl&gt;</th><th scope=col>&lt;dbl&gt;</th><th scope=col>&lt;dbl&gt;</th><th scope=col>&lt;dbl&gt;</th><th scope=col>&lt;dbl&gt;</th><th scope=col>&lt;dbl&gt;</th><th scope=col>&lt;dbl&gt;</th><th scope=col>&lt;dbl&gt;</th></tr>\n",
       "</thead>\n",
       "<tbody>\n",
       "\t<tr><th scope=row>Itgb2</th><td>0.3357763</td><td>0.1148212</td><td>0.0632757</td><td>3.491943</td><td>0.05097083</td><td>1.020452</td><td>0.003438087</td><td>0.05097083</td></tr>\n",
       "</tbody>\n",
       "</table>\n"
      ],
      "text/latex": [
       "A data.frame: 1 × 8\n",
       "\\begin{tabular}{r|llllllll}\n",
       "  & Observed\\_mean & Simulated\\_mean & Sim\\_SD & z\\_scores & full\\_adj\\_pval & lfc & epi\\_imm\\_ratio & adj\\_pval\\\\\n",
       "  & <dbl> & <dbl> & <dbl> & <dbl> & <dbl> & <dbl> & <dbl> & <dbl>\\\\\n",
       "\\hline\n",
       "\tItgb2 & 0.3357763 & 0.1148212 & 0.0632757 & 3.491943 & 0.05097083 & 1.020452 & 0.003438087 & 0.05097083\\\\\n",
       "\\end{tabular}\n"
      ],
      "text/markdown": [
       "\n",
       "A data.frame: 1 × 8\n",
       "\n",
       "| <!--/--> | Observed_mean &lt;dbl&gt; | Simulated_mean &lt;dbl&gt; | Sim_SD &lt;dbl&gt; | z_scores &lt;dbl&gt; | full_adj_pval &lt;dbl&gt; | lfc &lt;dbl&gt; | epi_imm_ratio &lt;dbl&gt; | adj_pval &lt;dbl&gt; |\n",
       "|---|---|---|---|---|---|---|---|---|\n",
       "| Itgb2 | 0.3357763 | 0.1148212 | 0.0632757 | 3.491943 | 0.05097083 | 1.020452 | 0.003438087 | 0.05097083 |\n",
       "\n"
      ],
      "text/plain": [
       "      Observed_mean Simulated_mean Sim_SD    z_scores full_adj_pval lfc     \n",
       "Itgb2 0.3357763     0.1148212      0.0632757 3.491943 0.05097083    1.020452\n",
       "      epi_imm_ratio adj_pval  \n",
       "Itgb2 0.003438087   0.05097083"
      ]
     },
     "metadata": {},
     "output_type": "display_data"
    }
   ],
   "source": [
    "genedata['Itgb2',]"
   ]
  },
  {
   "cell_type": "code",
   "execution_count": 514,
   "id": "8d31345b",
   "metadata": {},
   "outputs": [],
   "source": [
    "genedata = read.csv(\"final_figs/fig4/new_gene_sd/TAN3_genedata.csv\", row.names=1)"
   ]
  },
  {
   "cell_type": "code",
   "execution_count": 515,
   "id": "1d9d5bf6",
   "metadata": {
    "scrolled": false
   },
   "outputs": [
    {
     "data": {
      "text/html": [
       "<table class=\"dataframe\">\n",
       "<caption>A data.frame: 1 × 8</caption>\n",
       "<thead>\n",
       "\t<tr><th></th><th scope=col>Observed_mean</th><th scope=col>Simulated_mean</th><th scope=col>Sim_SD</th><th scope=col>z_scores</th><th scope=col>full_adj_pval</th><th scope=col>lfc</th><th scope=col>epi_imm_ratio</th><th scope=col>adj_pval</th></tr>\n",
       "\t<tr><th></th><th scope=col>&lt;dbl&gt;</th><th scope=col>&lt;dbl&gt;</th><th scope=col>&lt;dbl&gt;</th><th scope=col>&lt;dbl&gt;</th><th scope=col>&lt;dbl&gt;</th><th scope=col>&lt;dbl&gt;</th><th scope=col>&lt;dbl&gt;</th><th scope=col>&lt;dbl&gt;</th></tr>\n",
       "</thead>\n",
       "<tbody>\n",
       "\t<tr><th scope=row>Itgb2</th><td>0.3959064</td><td>0.2112316</td><td>0.05931148</td><td>3.113645</td><td>0.1022224</td><td>0.6720796</td><td>0.003541332</td><td>0.1022224</td></tr>\n",
       "</tbody>\n",
       "</table>\n"
      ],
      "text/latex": [
       "A data.frame: 1 × 8\n",
       "\\begin{tabular}{r|llllllll}\n",
       "  & Observed\\_mean & Simulated\\_mean & Sim\\_SD & z\\_scores & full\\_adj\\_pval & lfc & epi\\_imm\\_ratio & adj\\_pval\\\\\n",
       "  & <dbl> & <dbl> & <dbl> & <dbl> & <dbl> & <dbl> & <dbl> & <dbl>\\\\\n",
       "\\hline\n",
       "\tItgb2 & 0.3959064 & 0.2112316 & 0.05931148 & 3.113645 & 0.1022224 & 0.6720796 & 0.003541332 & 0.1022224\\\\\n",
       "\\end{tabular}\n"
      ],
      "text/markdown": [
       "\n",
       "A data.frame: 1 × 8\n",
       "\n",
       "| <!--/--> | Observed_mean &lt;dbl&gt; | Simulated_mean &lt;dbl&gt; | Sim_SD &lt;dbl&gt; | z_scores &lt;dbl&gt; | full_adj_pval &lt;dbl&gt; | lfc &lt;dbl&gt; | epi_imm_ratio &lt;dbl&gt; | adj_pval &lt;dbl&gt; |\n",
       "|---|---|---|---|---|---|---|---|---|\n",
       "| Itgb2 | 0.3959064 | 0.2112316 | 0.05931148 | 3.113645 | 0.1022224 | 0.6720796 | 0.003541332 | 0.1022224 |\n",
       "\n"
      ],
      "text/plain": [
       "      Observed_mean Simulated_mean Sim_SD     z_scores full_adj_pval lfc      \n",
       "Itgb2 0.3959064     0.2112316      0.05931148 3.113645 0.1022224     0.6720796\n",
       "      epi_imm_ratio adj_pval \n",
       "Itgb2 0.003541332   0.1022224"
      ]
     },
     "metadata": {},
     "output_type": "display_data"
    }
   ],
   "source": [
    "genedata['Itgb2',]"
   ]
  },
  {
   "cell_type": "code",
   "execution_count": null,
   "id": "56e3872c",
   "metadata": {},
   "outputs": [],
   "source": []
  },
  {
   "cell_type": "code",
   "execution_count": null,
   "id": "881c572c",
   "metadata": {},
   "outputs": [],
   "source": []
  },
  {
   "cell_type": "code",
   "execution_count": null,
   "id": "07bba114",
   "metadata": {},
   "outputs": [],
   "source": []
  },
  {
   "cell_type": "code",
   "execution_count": null,
   "id": "7b3fefd8",
   "metadata": {},
   "outputs": [],
   "source": []
  },
  {
   "cell_type": "code",
   "execution_count": 553,
   "id": "5445d349",
   "metadata": {},
   "outputs": [],
   "source": [
    "genedata = read.csv(\"final_figs/fig4/new_gene_sd/TANs_merged_1012w_genedata.csv\", row.names=1)"
   ]
  },
  {
   "cell_type": "code",
   "execution_count": 388,
   "id": "f5c63da9",
   "metadata": {},
   "outputs": [],
   "source": [
    "upgenes = rownames(genedata %>% filter(full_adj_pval < 0.05 & lfc > 0))"
   ]
  },
  {
   "cell_type": "code",
   "execution_count": 389,
   "id": "922fc3c6",
   "metadata": {},
   "outputs": [],
   "source": [
    "create_circle <- function(center = c(0, 0),\n",
    "                          npoints = 1000,\n",
    "                          r = 1,\n",
    "                          start = 0,\n",
    "                          end = 2) {\n",
    "  pts <- seq(start * pi, end * pi, length.out = npoints)\n",
    "  circle_coords <- data.frame(\n",
    "    x = center[1] + (r * cos(pts)),\n",
    "    y = center[2] + (r * sin(pts))\n",
    "  )\n",
    "\n",
    "  return(circle_coords)\n",
    "}"
   ]
  },
  {
   "cell_type": "code",
   "execution_count": 390,
   "id": "eb0e509e",
   "metadata": {},
   "outputs": [],
   "source": [
    "x_ys = create_circle(center = c(0, 0), npoints = length(cells_cluster) - 1, r = 10, start = 0, end = 2) %>% head(-1)"
   ]
  },
  {
   "cell_type": "code",
   "execution_count": 391,
   "id": "7951dacd",
   "metadata": {},
   "outputs": [],
   "source": [
    "cells_cluster_factor = factor(cell_order, levels=cell_order)"
   ]
  },
  {
   "cell_type": "code",
   "execution_count": 392,
   "id": "2fec8060",
   "metadata": {},
   "outputs": [
    {
     "name": "stderr",
     "output_type": "stream",
     "text": [
      "\u001b[1m\u001b[22mSaving 6.67 x 6.67 in image\n"
     ]
    }
   ],
   "source": [
    "p = ggplot(data.frame(x=0, annot=factor(cell_order, levels=cell_order))) +\n",
    "    geom_point(aes(x=x, y=annot, fill=annot), pch=21, size=10) +\n",
    "    scale_fill_manual(values = group.colors)\n",
    "\n",
    "l = get_legend(p)\n",
    "\n",
    "ggsave(plot=l, filename = \"final_figs/fig6/dot_legend.png\", dpi=1200)"
   ]
  },
  {
   "cell_type": "code",
   "execution_count": 393,
   "id": "155de4b3",
   "metadata": {},
   "outputs": [
    {
     "name": "stderr",
     "output_type": "stream",
     "text": [
      "\u001b[1m\u001b[22mSaving 6.67 x 6.67 in image\n"
     ]
    }
   ],
   "source": [
    "p = ggplot(data.frame(x=0, annot=factor(cells_cluster, levels=cell_order))) +\n",
    "    geom_point(aes(x=x, y=annot, fill=annot), pch=21, size=10) +\n",
    "    scale_fill_manual(values = group.colors)\n",
    "\n",
    "l = get_legend(p)\n",
    "\n",
    "ggsave(plot=l, filename = \"final_figs/fig6/dot_legend_tme.png\", dpi=1200)"
   ]
  },
  {
   "cell_type": "code",
   "execution_count": 394,
   "id": "f8c4217f",
   "metadata": {},
   "outputs": [],
   "source": [
    ".get_freq <- function(liana_res){\n",
    "    liana_res %>%\n",
    "        group_by(source, target) %>%\n",
    "        summarise(freq = n(), .groups = 'keep') %>%\n",
    "        pivot_wider(id_cols = source,\n",
    "                    names_from = target,\n",
    "                    values_from = freq,\n",
    "                    values_fill = 0) %>%\n",
    "        arrange(source) %>%\n",
    "        ungroup() %>%\n",
    "        as.data.frame() %>%\n",
    "        column_to_rownames('source') %>%\n",
    "        as.matrix()\n",
    "}"
   ]
  },
  {
   "cell_type": "code",
   "execution_count": 561,
   "id": "783b8325",
   "metadata": {},
   "outputs": [],
   "source": [
    "create_arrow_plot = function(partners, df_name, arrow_df, dot_df, dot_dict, plot_type, basedir=\"final_figs/fig6/arrows/\", \n",
    "                             to_save=F){\n",
    "    \n",
    "    arrow_df$x1 = dot_dict[as.character(arrow_df$source), 'x']\n",
    "    arrow_df$y1 = dot_dict[as.character(arrow_df$source), 'y']\n",
    "    arrow_df$x2 = dot_dict[as.character(arrow_df$target), 'x']\n",
    "    arrow_df$y2 = dot_dict[as.character(arrow_df$target), 'y']\n",
    "    arrow_df$distance = sqrt((arrow_df$x2 - arrow_df$x1) ** 2 + (arrow_df$y2 - arrow_df$y1) ** 2)\n",
    "    arrow_df$x1_fixed = arrow_df$x1 + (arrow_df$x2 - arrow_df$x1) * 1.25 / arrow_df$distance\n",
    "    arrow_df$x2_fixed = arrow_df$x2 + (arrow_df$x1 - arrow_df$x2) * 1.25 / arrow_df$distance \n",
    "    arrow_df$y1_fixed = arrow_df$y1 + (arrow_df$y2 - arrow_df$y1) * 1.25 / arrow_df$distance \n",
    "    arrow_df$y2_fixed = arrow_df$y2 + (arrow_df$y1 - arrow_df$y2) * 1.25 / arrow_df$distance \n",
    "\n",
    "    if (plot_type == \"singlet\"){\n",
    "        arrow_df$color = ifelse(arrow_df$source %in% partners,\n",
    "                                group.colors[arrow_df$source],\n",
    "                                group.colors[arrow_df$target])\n",
    "    }else if (plot_type == \"pic\"){\n",
    "        arrow_df$color = 'slategray'\n",
    "    } else if (plot_type == \"upnew\"){\n",
    "        arrow_df$color = type_colors[arrow_df$interaction_type]\n",
    "    }\n",
    "\n",
    "    p = ggplot(dot_df, aes(x=x, y=y, fill=cell)) +\n",
    "            scale_size_identity() +\n",
    "            scale_color_identity() +\n",
    "            #scale_color_gradient(low='brown1', high='brown4', limits=c(1,500)) +\n",
    "            geom_point(pch=21, size=10, show.legend = F) +\n",
    "            scale_fill_manual(values = group.colors) +\n",
    "            #labs(title = df_name) +\n",
    "            theme(plot.title = element_text(size=16, face='bold', hjust=0.5),\n",
    "                  axis.ticks = element_blank(), \n",
    "                  axis.line = element_blank(), \n",
    "                  axis.title = element_blank(), \n",
    "                  axis.text = element_blank())\n",
    "    \n",
    "    if (plot_type == \"upnew\"){\n",
    "        p = p + \n",
    "            geom_curve(curvature = 0.2,\n",
    "                       aes(x = x1_fixed, y = y1_fixed, xend = x2_fixed, yend = y2_fixed, \n",
    "                       #size=log1p(count), \n",
    "                       color=type_colors[\"De novo\"], fill=NA),\n",
    "                       data = arrow_df %>% filter(interaction_type == 'De novo'), \n",
    "                       arrow = arrow(length = unit(0.1, \"in\"))) + \n",
    "            geom_curve(curvature = 0,\n",
    "                       aes(x = x1_fixed, y = y1_fixed, xend = x2_fixed, yend = y2_fixed, \n",
    "                       #size=log1p(count), \n",
    "                       color=type_colors[\"Both\"], fill=NA),\n",
    "                       data = arrow_df %>% filter(interaction_type == 'Both'), \n",
    "                       arrow = arrow(length = unit(0.1, \"in\"))) + \n",
    "            geom_curve(curvature = -0.2,\n",
    "                       aes(x = x1_fixed, y = y1_fixed, xend = x2_fixed, yend = y2_fixed, \n",
    "                       #size=log1p(count), \n",
    "                       color=type_colors[\"Upregulated\"], fill=NA),\n",
    "                       data = arrow_df %>% filter(interaction_type == 'Upregulated'), \n",
    "                       arrow = arrow(length = unit(0.1, \"in\"))) +\n",
    "            geom_label(aes(x=(x1 + x2) / 2, y = (y1 + y2) / 2, label=count), inherit.aes=F,\n",
    "                      data = arrow_df %>% group_by(x1, x2, y1, y2) %>% summarise(count=sum(count)))\n",
    "    } else {\n",
    "        p = p + \n",
    "            geom_curve(curvature = 0.2,\n",
    "                       aes(x = x1_fixed, y = y1_fixed, xend = x2_fixed, yend = y2_fixed, \n",
    "                       size=log1p(count), color=color, fill=NA),\n",
    "                       data = arrow_df, \n",
    "                       arrow = arrow(length = unit(0.3, \"in\")))\n",
    "    }\n",
    "    \n",
    "    if (to_save){\n",
    "        ggsave(plot = p, filename = paste0(basedir, df_name, \".png\"), dpi=1200)\n",
    "        ggsave(plot = p, filename = paste0(basedir, df_name, \".emf\"), width=30, height=30, unit=\"mm\", \n",
    "               device = {function(filename, ...) devEMF::emf(file = filename, family = 'Arial')})\n",
    "    }\n",
    "    return(p)\n",
    "}"
   ]
  },
  {
   "cell_type": "code",
   "execution_count": 562,
   "id": "dc8097c4",
   "metadata": {},
   "outputs": [],
   "source": [
    "arrow_plots = function(pic, liana_carcinoma, other_pops=cells_cluster, to_save=T, basedir=\"final_figs/fig6/arrows/\", \n",
    "                       max_rank=0.05){\n",
    "    \n",
    "    # General preperations\n",
    "    if(!dir.exists(basedir)){dir.create(basedir)}\n",
    "    partners = str_split(pic, \"__\") %>% unlist\n",
    "    other_pops = setdiff(other_pops, partners)\n",
    "    \n",
    "    x_ys = create_circle(center = c(0, 0),\n",
    "                         npoints = length(other_pops) + 1, \n",
    "                         r = 10, \n",
    "                         start = 0, \n",
    "                         end = 2) %>%\n",
    "        head(-1)\n",
    "    base_dot_df = cbind(x_ys, cell=rev(other_pops))\n",
    "    \n",
    "    # Build PIC dotplot    \n",
    "    pic_dot_df = base_dot_df %>% \n",
    "        rbind(data.frame(x=c(-0.5, 0.5), y=c(0, 0), cell=partners))\n",
    "    pic_dot_dict = pic_dot_df %>% \n",
    "        head(-2) %>% \n",
    "        rbind(data.frame(x=0, y=0, cell=pic)) %>% \n",
    "        column_to_rownames('cell')\n",
    "    \n",
    "    # Build singlets dotplot\n",
    "    singlet_dot_df = base_dot_df %>%\n",
    "        rbind(data.frame(x=c(-3, 3), y=c(0, 0), cell=partners))\n",
    "    singlet_dot_dict = singlet_dot_df %>%\n",
    "        column_to_rownames('cell')\n",
    "    \n",
    "    # Outgoing DFs    \n",
    "    out_counts_df = liana_carcinoma %>% \n",
    "        filter(source %in% c(pic, partners) & target %in% other_pops & cellphonedb.pvalue < max_rank) %>%\n",
    "        group_by(target, ligand.complex, receptor.complex) %>%\n",
    "        mutate(is_up = ifelse(source == pic & any(ligand.complex %in% upgenes), 1, 0),\n",
    "               is_denovo = ifelse(source == pic & n() == 1, 2, 0)) %>%\n",
    "        mutate(interaction_type = c('Normal', 'Upregulated', 'De novo', 'Both')[1 + is_up + is_denovo])\n",
    "    if (to_save){write.csv(out_counts_df, paste0(basedir, \"out_interactions.csv\"), row.names=F)}\n",
    "\n",
    "    out_singlet_arrow_df = out_counts_df %>%\n",
    "        filter(source %in% partners) %>%\n",
    "        group_by(source, target) %>%\n",
    "        summarise(count=n())\n",
    "    out_pic_arrow_df = out_counts_df %>%\n",
    "        filter(source == pic) %>%\n",
    "        group_by(source, target) %>%\n",
    "        summarise(count=n())\n",
    "    out_upnew_arrow_df = out_counts_df %>%\n",
    "        filter(source == pic & interaction_type != \"Normal\") %>%\n",
    "        group_by(source, target, interaction_type) %>%\n",
    "        summarise(count=n())\n",
    "\n",
    "        # Incoming DFs    \n",
    "    in_counts_df = liana_carcinoma %>% \n",
    "        filter(target %in% c(pic, partners) & source %in% other_pops & cellphonedb.pvalue < max_rank) %>%\n",
    "        group_by(source, ligand.complex, receptor.complex) %>%\n",
    "        mutate(is_up = ifelse(target == pic & any(unlist(str_split(receptor.complex, \"_\")) %in% upgenes), 1, 0),\n",
    "               is_denovo = ifelse(target == pic & n() == 1, 2, 0)) %>%\n",
    "        mutate(interaction_type = c('Normal', 'Upregulated', 'De novo', 'Both')[1 + is_up + is_denovo])\n",
    "    if (to_save){write.csv(in_counts_df, paste0(basedir, \"in_interactions.csv\"), row.names=F)}\n",
    "    in_singlet_arrow_df = in_counts_df %>%\n",
    "        filter(target %in% partners) %>%\n",
    "        group_by(source, target) %>%\n",
    "        summarise(count=n())\n",
    "    in_pic_arrow_df = in_counts_df %>%\n",
    "        filter(target == pic) %>%\n",
    "        group_by(source, target) %>%\n",
    "        summarise(count=n())\n",
    "    in_upnew_arrow_df = in_counts_df %>%\n",
    "        filter(target == pic & interaction_type != \"Normal\") %>%\n",
    "        group_by(source, target, interaction_type) %>%\n",
    "        summarise(count=n())\n",
    "    \n",
    "    arrow_dfs = list(out_singlet=out_singlet_arrow_df,\n",
    "                     out_pic=out_pic_arrow_df,\n",
    "                     out_upnew=out_upnew_arrow_df,\n",
    "                     in_singlet=in_singlet_arrow_df,\n",
    "                     in_pic=in_pic_arrow_df,\n",
    "                     in_upnew=in_upnew_arrow_df)\n",
    "        \n",
    "    arrow_plots = lapply(names(arrow_dfs), function(df_name){\n",
    "        arrow_df = arrow_dfs[[df_name]]\n",
    "        plot_type = unlist(str_split(df_name, \"_\"))[2]\n",
    "        if (plot_type == \"singlet\"){\n",
    "            dot_df = singlet_dot_df\n",
    "            dot_dict = singlet_dot_dict\n",
    "        } else {\n",
    "            dot_df = pic_dot_df\n",
    "            dot_dict = pic_dot_dict\n",
    "        }\n",
    "        p = create_arrow_plot(partners, df_name, arrow_df, dot_df, dot_dict, plot_type, basedir=basedir, to_save=to_save)\n",
    "        return(p)\n",
    "    })\n",
    "    \n",
    "    return(arrow_plots)\n",
    "}"
   ]
  },
  {
   "cell_type": "code",
   "execution_count": 563,
   "id": "946643b8",
   "metadata": {
    "scrolled": true
   },
   "outputs": [
    {
     "name": "stderr",
     "output_type": "stream",
     "text": [
      "\u001b[1m\u001b[22m`summarise()` has grouped output by 'source'. You can override using the\n",
      "`.groups` argument.\n",
      "\u001b[1m\u001b[22m`summarise()` has grouped output by 'source'. You can override using the\n",
      "`.groups` argument.\n",
      "\u001b[1m\u001b[22m`summarise()` has grouped output by 'source', 'target'. You can override using\n",
      "the `.groups` argument.\n",
      "\u001b[1m\u001b[22m`summarise()` has grouped output by 'source'. You can override using the\n",
      "`.groups` argument.\n",
      "\u001b[1m\u001b[22m`summarise()` has grouped output by 'source'. You can override using the\n",
      "`.groups` argument.\n",
      "\u001b[1m\u001b[22m`summarise()` has grouped output by 'source', 'target'. You can override using\n",
      "the `.groups` argument.\n",
      "Warning message in geom_curve(curvature = 0.2, aes(x = x1_fixed, y = y1_fixed, xend = x2_fixed, :\n",
      "“\u001b[1m\u001b[22mIgnoring unknown aesthetics: \u001b[32mfill\u001b[39m”\n",
      "\u001b[1m\u001b[22mSaving 6.67 x 6.67 in image\n",
      "Warning message in geom_curve(curvature = 0.2, aes(x = x1_fixed, y = y1_fixed, xend = x2_fixed, :\n",
      "“\u001b[1m\u001b[22mIgnoring unknown aesthetics: \u001b[32mfill\u001b[39m”\n",
      "\u001b[1m\u001b[22mSaving 6.67 x 6.67 in image\n",
      "Warning message in geom_curve(curvature = 0.2, aes(x = x1_fixed, y = y1_fixed, xend = x2_fixed, :\n",
      "“\u001b[1m\u001b[22mIgnoring unknown aesthetics: \u001b[32mfill\u001b[39m”\n",
      "Warning message in geom_curve(curvature = 0, aes(x = x1_fixed, y = y1_fixed, xend = x2_fixed, :\n",
      "“\u001b[1m\u001b[22mIgnoring unknown aesthetics: \u001b[32mfill\u001b[39m”\n",
      "Warning message in geom_curve(curvature = -0.2, aes(x = x1_fixed, y = y1_fixed, :\n",
      "“\u001b[1m\u001b[22mIgnoring unknown aesthetics: \u001b[32mfill\u001b[39m”\n",
      "\u001b[1m\u001b[22m`summarise()` has grouped output by 'x1', 'x2', 'y1'. You can override using\n",
      "the `.groups` argument.\n",
      "\u001b[1m\u001b[22mSaving 6.67 x 6.67 in image\n",
      "Warning message in grid.Call(C_textBounds, as.graphicsAnnot(x$label), x$x, x$y, :\n",
      "“devEMF: your system substituted font family 'DejaVu Sans' when you requested 'Arial'”\n",
      "Warning message in geom_curve(curvature = 0.2, aes(x = x1_fixed, y = y1_fixed, xend = x2_fixed, :\n",
      "“\u001b[1m\u001b[22mIgnoring unknown aesthetics: \u001b[32mfill\u001b[39m”\n",
      "\u001b[1m\u001b[22mSaving 6.67 x 6.67 in image\n",
      "Warning message in geom_curve(curvature = 0.2, aes(x = x1_fixed, y = y1_fixed, xend = x2_fixed, :\n",
      "“\u001b[1m\u001b[22mIgnoring unknown aesthetics: \u001b[32mfill\u001b[39m”\n",
      "\u001b[1m\u001b[22mSaving 6.67 x 6.67 in image\n",
      "Warning message in geom_curve(curvature = 0.2, aes(x = x1_fixed, y = y1_fixed, xend = x2_fixed, :\n",
      "“\u001b[1m\u001b[22mIgnoring unknown aesthetics: \u001b[32mfill\u001b[39m”\n",
      "Warning message in geom_curve(curvature = 0, aes(x = x1_fixed, y = y1_fixed, xend = x2_fixed, :\n",
      "“\u001b[1m\u001b[22mIgnoring unknown aesthetics: \u001b[32mfill\u001b[39m”\n",
      "Warning message in geom_curve(curvature = -0.2, aes(x = x1_fixed, y = y1_fixed, :\n",
      "“\u001b[1m\u001b[22mIgnoring unknown aesthetics: \u001b[32mfill\u001b[39m”\n",
      "\u001b[1m\u001b[22m`summarise()` has grouped output by 'x1', 'x2', 'y1'. You can override using\n",
      "the `.groups` argument.\n",
      "\u001b[1m\u001b[22mSaving 6.67 x 6.67 in image\n",
      "Warning message in grid.Call(C_textBounds, as.graphicsAnnot(x$label), x$x, x$y, :\n",
      "“devEMF: your system substituted font family 'DejaVu Sans' when you requested 'Arial'”\n"
     ]
    }
   ],
   "source": [
    "ap_plots = arrow_plots(\"TANs__AlvTumor\", liana_carcinoma, other_pops = cells_cluster, max_rank = 0.05)"
   ]
  },
  {
   "cell_type": "code",
   "execution_count": 280,
   "id": "1553d277",
   "metadata": {},
   "outputs": [],
   "source": [
    "pic = \"TANs__AlvTumor\"\n",
    "other_pops = cells_cluster\n",
    "max_rank = 0.05\n",
    "partners = str_split(pic, \"__\") %>% unlist\n",
    "\n",
    "other_pops = setdiff(other_pops, partners)\n",
    "out_counts_df = liana_carcinoma %>% \n",
    "    filter(source %in% c(pic, partners) & target %in% other_pops & cellphonedb.pvalue < max_rank) %>%\n",
    "    group_by(target, ligand.complex, receptor.complex) %>%\n",
    "    mutate(is_up = ifelse(source == pic & any(ligand.complex %in% upgenes), 1, 0),\n",
    "           is_denovo = ifelse(source == pic & n() == 1, 2, 0)) %>%\n",
    "    mutate(interaction_type = c('Normal', 'Upregulated', 'De novo', 'Both')[1 + is_up + is_denovo])\n"
   ]
  },
  {
   "cell_type": "code",
   "execution_count": 294,
   "id": "5acba8a0",
   "metadata": {},
   "outputs": [
    {
     "data": {
      "image/png": "[encoded data removed]",
      "text/plain": [
       "plot without title"
      ]
     },
     "metadata": {
      "image/png": {
       "height": 420,
       "width": 420
      }
     },
     "output_type": "display_data"
    }
   ],
   "source": [
    "out_counts_df %>%\n",
    "    filter(source == pic) %>%\n",
    "    group_by(target) %>%\n",
    "    summarise(total_count = n(), induced = sum(interaction_type != \"Normal\"), pct=induced / total_count) %>%\n",
    "    ggplot(aes(x=target, y=total_count, fill=target)) +\n",
    "    geom_bar(stat='identity') +\n",
    "    geom_bar(stat='identity', aes(y=induced), color='black') +\n",
    "    geom_text(aes(y = total_count / 2, label=total_count)) +\n",
    "    geom_text(aes(y = induced / 2, label=induced)) +\n",
    "    scale_fill_manual(values = group.colors)"
   ]
  },
  {
   "cell_type": "code",
   "execution_count": 246,
   "id": "33bb00c7",
   "metadata": {},
   "outputs": [
    {
     "data": {
      "image/png": "[encoded data removed]",
      "text/plain": [
       "plot without title"
      ]
     },
     "metadata": {
      "image/png": {
       "height": 420,
       "width": 420
      }
     },
     "output_type": "display_data"
    }
   ],
   "source": [
    "data.frame(x=rep(1, 4), y=1:4, size=log1p(c(1, 10, 50, 200)), xend=rep(3, 4), yend=1:4, label=c(1, 10, 50, 200)) %>%\n",
    "    ggplot(aes(x = x, xend = xend, y=y, yend = yend, size=size, label=label)) +\n",
    "    geom_segment(arrow = arrow(length = unit(0.1, \"in\"))) +\n",
    "    scale_size_identity() +  \n",
    "    scale_y_discrete() +\n",
    "    geom_label(x=2, size=8) +\n",
    "    theme(plot.title = element_text(size=16, face='bold', hjust=0.5),\n",
    "          axis.ticks = element_blank(), \n",
    "          axis.line = element_blank(), \n",
    "          axis.title = element_blank(), \n",
    "          axis.text = element_blank())\n",
    "ggsave(\"final_figs/fig6/arrows/arrow_legend.png\", dpi=1200, width = 2, height=3)"
   ]
  },
  {
   "cell_type": "code",
   "execution_count": 341,
   "id": "0d27a211",
   "metadata": {},
   "outputs": [
    {
     "data": {
      "image/png": "[encoded data removed]",
      "text/plain": [
       "plot without title"
      ]
     },
     "metadata": {
      "image/png": {
       "height": 420,
       "width": 420
      }
     },
     "output_type": "display_data"
    }
   ],
   "source": [
    "data.frame(x=rep(1, 4), y=1:4, size=log1p(c(1, 10, 50, 200)), xend=rep(3, 4), yend=1:4, label=c(1, 10, 50, 200)) %>%\n",
    "    ggplot(aes(x = x, xend = xend, y=y, yend = yend, size=size, label=label)) +\n",
    "    geom_segment(arrow = arrow(length = unit(0.1, \"in\"))) +\n",
    "    scale_size_identity() +  \n",
    "    scale_y_discrete() +\n",
    "    geom_label(x=2, size=8, color='white') +\n",
    "    theme(plot.title = element_text(size=16, face='bold', hjust=0.5),\n",
    "          axis.ticks = element_blank(), \n",
    "          axis.line = element_blank(), \n",
    "          axis.title = element_blank(), \n",
    "          axis.text = element_blank())\n",
    "ggsave(\"final_figs/fig6/arrows/arrow_legend_blank.png\", dpi=1200, width = 2, height=3)"
   ]
  },
  {
   "cell_type": "markdown",
   "id": "791bbfbe",
   "metadata": {},
   "source": [
    "# Dotplots"
   ]
  },
  {
   "cell_type": "code",
   "execution_count": 247,
   "id": "16861139",
   "metadata": {},
   "outputs": [],
   "source": [
    "mc_kinetics = scdb_mc(\"kinetics_mc\")"
   ]
  },
  {
   "cell_type": "code",
   "execution_count": 248,
   "id": "554b2db8",
   "metadata": {},
   "outputs": [],
   "source": [
    "mc_neutrophil = scdb_mc(\"neutrophil_mc\")"
   ]
  },
  {
   "cell_type": "code",
   "execution_count": 249,
   "id": "13e5ca88",
   "metadata": {},
   "outputs": [],
   "source": [
    "all_mat = t(mat@mat)\n",
    "all_mat = all_mat[colnames(sce),]\n",
    "norm_mat = log1p(1e4 * all_mat / rowSums(all_mat))"
   ]
  },
  {
   "cell_type": "code",
   "execution_count": 250,
   "id": "d1a2fe11",
   "metadata": {},
   "outputs": [
    {
     "name": "stderr",
     "output_type": "stream",
     "text": [
      "Warning message in asMethod(object):\n",
      "“sparse->dense coercion: allocating vector of size 2.2 GiB”\n"
     ]
    }
   ],
   "source": [
    "norm_mat_df = data.frame(norm_mat, annot=sce$annots) %>% \n",
    "    melt(id.vars = 'annot', variable.name = 'Gene', value.name = 'LogNormExpr')"
   ]
  },
  {
   "cell_type": "code",
   "execution_count": 253,
   "id": "c3d31fa1",
   "metadata": {},
   "outputs": [
    {
     "name": "stderr",
     "output_type": "stream",
     "text": [
      "\u001b[1m\u001b[22m`summarise()` has grouped output by 'annot'. You can override using the\n",
      "`.groups` argument.\n",
      "Using pct_expression as value column: use value.var to override.\n",
      "\n"
     ]
    }
   ],
   "source": [
    "pct_expr = norm_mat_df %>%\n",
    "    group_by(annot, Gene) %>%\n",
    "    summarise(pct_expression = sum(LogNormExpr > 0) / n()) %>%\n",
    "    dcast(annot ~ Gene)"
   ]
  },
  {
   "cell_type": "code",
   "execution_count": 254,
   "id": "76c0e98f",
   "metadata": {},
   "outputs": [],
   "source": [
    "pct_expr = pct_expr %>% column_to_rownames('annot')"
   ]
  },
  {
   "cell_type": "code",
   "execution_count": 255,
   "id": "73865591",
   "metadata": {
    "scrolled": true
   },
   "outputs": [
    {
     "data": {
      "text/html": [
       "0.494186046511628"
      ],
      "text/latex": [
       "0.494186046511628"
      ],
      "text/markdown": [
       "0.494186046511628"
      ],
      "text/plain": [
       "[1] 0.494186"
      ]
     },
     "metadata": {},
     "output_type": "display_data"
    }
   ],
   "source": [
    "pct_expr['TANs__AlvTumor',c('Cxcl2')] %>% unlist %>% mean"
   ]
  },
  {
   "cell_type": "code",
   "execution_count": 417,
   "id": "2b67a8c0",
   "metadata": {
    "scrolled": true
   },
   "outputs": [
    {
     "data": {
      "text/html": [
       "4"
      ],
      "text/latex": [
       "4"
      ],
      "text/markdown": [
       "4"
      ],
      "text/plain": [
       "[1] 4"
      ]
     },
     "metadata": {},
     "output_type": "display_data"
    }
   ],
   "source": [
    "-log10(0.001) + 1"
   ]
  },
  {
   "cell_type": "code",
   "execution_count": 436,
   "id": "f1ae9847",
   "metadata": {},
   "outputs": [],
   "source": [
    "dotplot_plot = function(other, pic='TANs__AlvTumor', direction='OUT', basedir=\"final_figs/fig6/dotplots_agg/\",\n",
    "                        min_fraction=0.1, only_induced=T, sig_thresh=0.05, suffix=\"\"){\n",
    "    partners = str_split(pic, \"__\") %>% unlist\n",
    "    if (direction == 'IN'){\n",
    "        is_in = T\n",
    "    } else if (direction == 'OUT'){\n",
    "        is_in = F\n",
    "    } else {\n",
    "        message(\"WARNING - NOT A VALID DIRECTION\")\n",
    "    }\n",
    "    is_in_vector = rep(is_in, nrow(liana_carcinoma))\n",
    "\n",
    "    focus_liana = liana_carcinoma %>% \n",
    "        mutate(focus_cell = ifelse(is_in_vector, as.character(target), as.character(source)),\n",
    "               other_cell = ifelse(is_in_vector, as.character(source), as.character(target)),\n",
    "               focus_gene = ifelse(is_in_vector, receptor.complex, ligand.complex),\n",
    "               other_gene = ifelse(is_in_vector, ligand.complex, receptor.complex)) %>%\n",
    "        filter(focus_cell %in% c(pic, partners) & other_cell %in% other) %>% \n",
    "        mutate(lr = paste(ligand.complex, receptor.complex, sep=' -> ')) %>%\n",
    "        group_by(lr) %>%\n",
    "        mutate(min_pval = min(aggregate_rank)) %>%\n",
    "        filter(min_pval < sig_thresh)\n",
    "\n",
    "    upnew_interactions = focus_liana %>%\n",
    "        filter(aggregate_rank < sig_thresh) %>%\n",
    "        group_by(lr) %>%\n",
    "        mutate(is_up = ifelse(focus_cell == pic & any(unlist(str_split(focus_gene, \"_\")) %in% upgenes), 2, 0),\n",
    "               is_denovo = ifelse(focus_cell == pic & n() == 1, 1, 0)) %>%\n",
    "        filter(focus_cell == pic) %>%\n",
    "        mutate(interaction_type = factor(names(type_colors)[1 + is_up + is_denovo], levels=names(type_colors))) %>%\n",
    "        filter(pct_expr[pic, unlist(str_split(focus_gene, \"_\"))] %>% unlist %>% mean > min_fraction) %>%\n",
    "        column_to_rownames('lr')\n",
    "    \n",
    "    if (only_induced){\n",
    "        upnew_interactions = upnew_interactions %>% filter(interaction_type != 'Normal')\n",
    "    }\n",
    "    \n",
    "    if (nrow(upnew_interactions) == 0){\n",
    "        message(\"couldn't find interactions with \", sig_thresh)\n",
    "        return()\n",
    "    }\n",
    "    \n",
    "    upnew_full_tbl = focus_liana %>%\n",
    "        filter(lr %in% rownames(upnew_interactions)) %>%\n",
    "        mutate(focus_cell = factor(focus_cell, levels = c(partners, pic)),\n",
    "               interaction_type = upnew_interactions[lr, 'interaction_type'],\n",
    "               aggregate_rank = ifelse(aggregate_rank < 0.001, 0.001, aggregate_rank))\n",
    "\n",
    "    p = ggplot(upnew_full_tbl, aes(x=lr, y=focus_cell, size=-log10(aggregate_rank))) +\n",
    "        geom_point(color=group.colors[other]) +\n",
    "        geom_tile(inherit.aes = F, aes(x=lr, y=0, fill=interaction_type), height=0.25) +\n",
    "        labs(title = paste(other, direction)) +\n",
    "        scale_y_discrete(drop=F) +\n",
    "        scale_size_continuous(limits=c(0,3), range = c(1, 8)) +\n",
    "        facet_grid(~ interaction_type, space = 'free_x', scales='free_x') +\n",
    "        scale_fill_manual(values = type_colors) +\n",
    "        theme(axis.text.x = element_text(angle = 90, hjust=1, vjust=0.5, size=6), axis.text.y = element_text(size=6),\n",
    "              axis.title.x = element_blank(), axis.title.y = element_blank(), plot.title = element_text(size=12, hjust=0.5))\n",
    "    \n",
    "    upnew_full_tbl[c('lr','interaction_type')] %>% \n",
    "        unique %>% \n",
    "        arrange(interaction_type, lr) %>% \n",
    "        as.data.frame %>%\n",
    "        select(lr) %>%\n",
    "        unlist %>%\n",
    "        write_lines(file = paste0(basedir, other, \"_\", direction, suffix, \"_names.txt\"))\n",
    "\n",
    "    l = get_legend(p)\n",
    "    p = plot_grid(p + theme(legend.position=\"none\"))\n",
    "\n",
    "    ggsave(plot=p, filename=paste0(basedir, other, \"_\", direction, suffix, \".png\"), dpi=1200, height=3, width=8)\n",
    "    ggsave(plot=l, filename=paste0(basedir, other, \"_\", direction, suffix, \"_legend.png\"), dpi=1200, height=8, \n",
    "           width=3)\n",
    "}"
   ]
  },
  {
   "cell_type": "code",
   "execution_count": 437,
   "id": "26027ded",
   "metadata": {
    "scrolled": true
   },
   "outputs": [
    {
     "name": "stderr",
     "output_type": "stream",
     "text": [
      "Mcam Endothelial...\n",
      "\n",
      "\tIN\n",
      "\n",
      "\tOUT\n",
      "\n",
      "Ductal macs...\n",
      "\n",
      "\tIN\n",
      "\n",
      "couldn't find interactions with 0.01\n",
      "\n",
      "\tOUT\n",
      "\n",
      "couldn't find interactions with 0.01\n",
      "\n",
      "Pericytes...\n",
      "\n",
      "\tIN\n",
      "\n",
      "couldn't find interactions with 0.01\n",
      "\n",
      "\tOUT\n",
      "\n",
      "CAFs...\n",
      "\n",
      "\tIN\n",
      "\n",
      "\tOUT\n",
      "\n",
      "couldn't find interactions with 0.01\n",
      "\n",
      "TANs...\n",
      "\n",
      "\tIN\n",
      "\n",
      "\tOUT\n",
      "\n",
      "Endothelial...\n",
      "\n",
      "\tIN\n",
      "\n",
      "\tOUT\n",
      "\n"
     ]
    }
   ],
   "source": [
    "for (pop in c('Mcam Endothelial', 'Ductal macs', 'Pericytes', 'CAFs', 'TANs', 'Endothelial')){\n",
    "    message(pop, \"...\")\n",
    "    for (direction in c('IN', 'OUT')){\n",
    "        message(\"\\t\", direction)\n",
    "        dotplot_plot(pop, direction = direction)\n",
    "        dotplot_plot(pop, only_induced=F, direction = direction, suffix=\"_all\")\n",
    "        dotplot_plot(pop, sig_thresh=0.01, direction = direction, suffix=\"_01\")\n",
    "        dotplot_plot(pop, sig_thresh=0.01, only_induced=F, direction = direction, suffix=\"_01_all\")\n",
    "    }\n",
    "}"
   ]
  },
  {
   "cell_type": "code",
   "execution_count": 430,
   "id": "4a85ad21",
   "metadata": {
    "scrolled": true
   },
   "outputs": [
    {
     "name": "stderr",
     "output_type": "stream",
     "text": [
      "CAFs...\n",
      "\n",
      "\tIN\n",
      "\n",
      "couldn't find interactions with 0.001\n",
      "\n"
     ]
    }
   ],
   "source": [
    "for (pop in c('CAFs')){\n",
    "    message(pop, \"...\")\n",
    "    for (direction in c('IN')){\n",
    "        message(\"\\t\", direction)\n",
    "        dotplot_plot(pop, sig_thresh=0.001, direction = direction, suffix=\"_001\")\n",
    "        dotplot_plot(pop, sig_thresh=0.001, only_induced=F, direction = direction, suffix=\"_001_all\")\n",
    "    }\n",
    "}"
   ]
  },
  {
   "cell_type": "code",
   "execution_count": 435,
   "id": "906d62ea",
   "metadata": {},
   "outputs": [
    {
     "data": {
      "image/png": "[encoded data removed]",
      "text/plain": [
       "plot without title"
      ]
     },
     "metadata": {
      "image/png": {
       "height": 420,
       "width": 420
      }
     },
     "output_type": "display_data"
    }
   ],
   "source": [
    "data.frame(x=c(1, 0.05, 0.01, 0.001), y=1:4) %>%\n",
    "    ggplot(aes(x=1, y=y, size=-log10(x))) +\n",
    "    geom_point() +\n",
    "    geom_text(aes(x=0,y=y + 0.3,label=x), inherit.aes = F) +\n",
    "    scale_size_continuous(limits=c(0,3), range = c(1, 8))\n",
    "ggsave(\"final_figs/fig6/dotplot_legend.png\", dpi=1200, height=3, width=5)"
   ]
  },
  {
   "cell_type": "code",
   "execution_count": 386,
   "id": "b7a20918",
   "metadata": {},
   "outputs": [
    {
     "name": "stderr",
     "output_type": "stream",
     "text": [
      "\u001b[1m\u001b[22mSaving 6.67 x 6.67 in image\n"
     ]
    }
   ],
   "source": [
    "p = c('Normal', 'De novo', 'Upregulated', 'Both') %>%\n",
    "data.frame(x=factor(., levels=.)) %>%\n",
    "    ggplot(aes(x=x, y=1, fill=x)) +\n",
    "    geom_bar(stat='identity') +\n",
    "    scale_fill_manual(values = type_colors) \n",
    "l = get_legend(p)\n",
    "ggsave(\"final_figs/fig6/dotplot_line_legend.png\", l, dpi=1200)"
   ]
  },
  {
   "cell_type": "markdown",
   "id": "87216209",
   "metadata": {},
   "source": [
    "# Gene barplots"
   ]
  },
  {
   "cell_type": "code",
   "execution_count": 353,
   "id": "b586637c",
   "metadata": {},
   "outputs": [],
   "source": [
    "mc_kinetics = scdb_mc(\"kinetics_mc\")"
   ]
  },
  {
   "cell_type": "code",
   "execution_count": 354,
   "id": "b0d4e967",
   "metadata": {},
   "outputs": [],
   "source": [
    "mc_neutrophil = scdb_mc(\"neutrophil_mc\")"
   ]
  },
  {
   "cell_type": "code",
   "execution_count": 355,
   "id": "b026229e",
   "metadata": {},
   "outputs": [],
   "source": [
    "all_mat = t(mat@mat)\n",
    "all_mat = all_mat[colnames(sce),]\n",
    "norm_mat = log1p(1e4 * all_mat / rowSums(all_mat))"
   ]
  },
  {
   "cell_type": "code",
   "execution_count": 356,
   "id": "6fcbad20",
   "metadata": {},
   "outputs": [
    {
     "name": "stderr",
     "output_type": "stream",
     "text": [
      "Warning message in asMethod(object):\n",
      "“sparse->dense coercion: allocating vector of size 2.2 GiB”\n"
     ]
    }
   ],
   "source": [
    "norm_mat_df = data.frame(norm_mat, annot=sce$annots) %>% \n",
    "    melt(id.vars = 'annot', variable.name = 'Gene', value.name = 'LogNormExpr')"
   ]
  },
  {
   "cell_type": "code",
   "execution_count": 357,
   "id": "9d756254",
   "metadata": {},
   "outputs": [],
   "source": [
    "plot_bar_per_pop = function(gene, pops){\n",
    "    if (grepl(\"_\", gene)){\n",
    "        plot_df = data.frame(LogNormExpr=rowSums(norm_mat[,str_split(gene, \"_\") %>% unlist]), \n",
    "                             annot=factor(sce$annots, levels=pops))\n",
    "    } else {\n",
    "        plot_df = data.frame(LogNormExpr=norm_mat[,gene], annot=factor(sce$annots, levels=pops))\n",
    "    }\n",
    "    plot_df = plot_df %>% filter(annot %in% pops)\n",
    "    ggplot(plot_df, aes(x=annot, y=LogNormExpr, fill=annot)) +\n",
    "        stat_summary(fun = mean, geom = 'bar', color='black', show.legend=F) +\n",
    "        stat_summary(fun.data = mean_se, geom='errorbar', width=0.2) +\n",
    "        scale_fill_manual(values=group.colors) +\n",
    "        geom_hline(yintercept = 0) +\n",
    "        labs(title = gene) +\n",
    "        theme(axis.title.x = element_blank(), axis.text.x = element_blank(), axis.ticks.x = element_blank(),\n",
    "              axis.line.x = element_blank(), axis.text.y = element_text(size=8), axis.title.y = element_blank(), \n",
    "              plot.title = element_text(hjust=0.5, size=12))\n",
    "}\n"
   ]
  },
  {
   "cell_type": "code",
   "execution_count": 365,
   "id": "569c9c07",
   "metadata": {},
   "outputs": [],
   "source": [
    "barplot_interactions = function(other_name, others, pic='TANs__AlvTumor', direction='OUT', \n",
    "                                basedir=\"final_figs/fig6/barplots/\", only_induced=T){\n",
    "    partners = str_split(pic, \"__\") %>% unlist\n",
    "    if (direction == 'IN'){\n",
    "        is_in = T\n",
    "    } else if (direction == 'OUT'){\n",
    "        is_in = F\n",
    "    } else {\n",
    "        message(\"WARNING - NOT A VALID DIRECTION\")\n",
    "    }\n",
    "    is_in_vector = rep(is_in, nrow(liana_carcinoma))\n",
    "\n",
    "    upnew_interactions = liana_carcinoma %>% \n",
    "        mutate(focus_cell = ifelse(is_in_vector, as.character(target), as.character(source)),\n",
    "               other_cell = ifelse(is_in_vector, as.character(source), as.character(target)),\n",
    "               focus_gene = ifelse(is_in_vector, receptor.complex, ligand.complex),\n",
    "               other_gene = ifelse(is_in_vector, ligand.complex, receptor.complex)) %>%\n",
    "        filter(focus_cell %in% c(pic, partners) & other_cell %in% others & cellphonedb.pvalue < 0.05) %>%\n",
    "            group_by(other_cell, ligand.complex, receptor.complex) %>%\n",
    "            mutate(type=ifelse(focus_cell == pic, \n",
    "                               ifelse(any(unlist(str_split(focus_gene, \"_\")) %in% upgenes), \"Upregulated\",\n",
    "                                      ifelse(n() == 1, \"De novo\", \"Normal\")),\n",
    "                               NA))\n",
    "    if (only_induced){\n",
    "        upnew_interactions = upnew_interactions %>% filter(type %in% c('De novo', 'Upregulated'))\n",
    "    } \n",
    "    \n",
    "    dirname = paste0(basedir, other_name, \"_\", direction)\n",
    "    if (!dir.exists(dirname)) {dir.create(dirname)}\n",
    "    for (gene_a in upnew_interactions$focus_gene %>% unique){\n",
    "        gene_dir = paste0(dirname, \"/\", gene_a, \"/\")\n",
    "        if (!dir.exists(gene_dir)) {dir.create(gene_dir)}\n",
    "        p = plot_bar_per_pop(gene_a, c(partners, pic))\n",
    "        ggsave(paste0(gene_dir, gene_a, \".png\"), dpi=1200, height=3, width=1.6)\n",
    "            ggsave(paste0(gene_dir, gene_a, \"_noaxis.png\"), plot = p + theme(axis.text.y = element_blank()),\n",
    "                   dpi=1200, height=3, width=1.6)\n",
    "        \n",
    "        other_genes = upnew_interactions[upnew_interactions$focus_gene == gene_a,'other_gene'] %>% unlist %>% unique\n",
    "        for (gene_b in other_genes){\n",
    "            p = plot_bar_per_pop(gene_b, others)\n",
    "            ggsave(paste0(gene_dir, gene_b, \".png\"), dpi=1200, height=3, width=0.1 + (0.5 * length(others)))\n",
    "            ggsave(paste0(gene_dir, gene_b, \"_noaxis.png\"), plot = p + theme(axis.text.y = element_blank()),\n",
    "                   dpi=1200, height=3, width=0.1 + (0.5 * length(others)))\n",
    "        }\n",
    "    }\n",
    "}"
   ]
  },
  {
   "cell_type": "code",
   "execution_count": 366,
   "id": "0d777234",
   "metadata": {},
   "outputs": [],
   "source": [
    "barplot_interactions(\"final\", c('Ductal macs', 'CAFs', 'Mcam Endothelial', 'Pericytes'))"
   ]
  },
  {
   "cell_type": "code",
   "execution_count": 367,
   "id": "3758657a",
   "metadata": {},
   "outputs": [],
   "source": [
    "barplot_interactions(\"final\", c('Ductal macs', 'CAFs', 'Mcam Endothelial', 'Pericytes'), direction=\"IN\", only_induced=F)"
   ]
  },
  {
   "cell_type": "code",
   "execution_count": 383,
   "id": "e9d769a6",
   "metadata": {},
   "outputs": [
    {
     "name": "stderr",
     "output_type": "stream",
     "text": [
      "\u001b[1m\u001b[22mSaving 6.67 x 6.67 in image\n"
     ]
    }
   ],
   "source": [
    "p = c(partners, pic, 'Ductal macs', 'CAFs', 'Mcam Endothelial', 'Pericytes') %>%\n",
    "data.frame(x=factor(., levels=.)) %>%\n",
    "    ggplot(aes(x=x, y=1, fill=x)) +\n",
    "    geom_bar(stat='identity') +\n",
    "    scale_fill_manual(values = group.colors) \n",
    "l = get_legend(p)\n",
    "        for (gene_b in other_genes){\n",
    "            p = plot_bar_per_pop(gene_b, others)\n",
    "            ggsave(paste0(gene_dir, gene_b, \".png\"), dpi=1200, height=3, width=0.1 + (0.5 * length(others)))\n",
    "            ggsave(paste0(gene_dir, gene_b, \"_noaxis.png\"), plot = p + theme(axis.text.y = element_blank()),\n",
    "                   dpi=1200, height=3, width=0.1 + (0.5 * length(others)))\n",
    "        }\n",
    "ggsave(\"final_figs/fig6/barplots/barplot_legend.png\", l, dpi=1200)"
   ]
  },
  {
   "cell_type": "code",
   "execution_count": 441,
   "id": "73bea659",
   "metadata": {},
   "outputs": [],
   "source": [
    "gene_dir = \"final_figs/fig6/barplots/final_OUT/Vegfa/\"\n",
    "others = c('Ductal macs', 'CAFs', 'Mcam Endothelial', 'Pericytes')\n",
    "for (gene in c(\"Flt1\", \"Kdr\")){\n",
    "    p = plot_bar_per_pop(gene, others)\n",
    "    ggsave(paste0(gene_dir, gene, \".png\"), dpi=1200, height=3, width=0.1 + (0.5 * length(others)))\n",
    "    ggsave(paste0(gene_dir, gene, \"_noaxis.png\"), plot = p + theme(axis.text.y = element_blank()),\n",
    "           dpi=1200, height=3, width=0.1 + (0.5 * length(others)))\n",
    "}"
   ]
  },
  {
   "cell_type": "code",
   "execution_count": null,
   "id": "3adaffd7",
   "metadata": {},
   "outputs": [],
   "source": [
    "barplot_interactions(\"Perivasc\", perivasc)"
   ]
  },
  {
   "cell_type": "code",
   "execution_count": null,
   "id": "7f0fbf3f",
   "metadata": {},
   "outputs": [],
   "source": [
    "barplot_interactions(\"Perivasc\", perivasc, direction=\"IN\")"
   ]
  },
  {
   "cell_type": "code",
   "execution_count": null,
   "id": "7d35db7e",
   "metadata": {},
   "outputs": [],
   "source": [
    "barplot_interactions(\"CA_cells\", c('Ductal macs', 'CAFs'))"
   ]
  },
  {
   "cell_type": "code",
   "execution_count": null,
   "id": "d154e257",
   "metadata": {},
   "outputs": [],
   "source": [
    "barplot_interactions(\"CA_cells\", c('Ductal macs', 'CAFs'), direction=\"IN\")"
   ]
  },
  {
   "cell_type": "code",
   "execution_count": null,
   "id": "5cb8c0b4",
   "metadata": {},
   "outputs": [],
   "source": [
    "barplot_interactions(\"MonMacs\", monmacs)"
   ]
  },
  {
   "cell_type": "code",
   "execution_count": null,
   "id": "8ed52b4d",
   "metadata": {},
   "outputs": [],
   "source": [
    "barplot_interactions(\"MonMacs\", monmacs, direction=\"IN\")"
   ]
  },
  {
   "cell_type": "code",
   "execution_count": null,
   "id": "b685de69",
   "metadata": {},
   "outputs": [],
   "source": [
    "barplot_interactions(\"CA_cells_expanded\", c('Ductal macs', 'CAFs', 'Mcam Endothelial', 'Pericytes', 'MyoLum'))"
   ]
  },
  {
   "cell_type": "code",
   "execution_count": null,
   "id": "2016411c",
   "metadata": {},
   "outputs": [],
   "source": [
    "barplot_interactions(\"CA_cells_expanded\", c('Ductal macs', 'CAFs', 'Mcam Endothelial', 'Pericytes', 'MyoLum'), direction=\"IN\")"
   ]
  },
  {
   "cell_type": "code",
   "execution_count": null,
   "id": "f1df21ad",
   "metadata": {},
   "outputs": [],
   "source": []
  },
  {
   "cell_type": "code",
   "execution_count": null,
   "id": "4f9e2115",
   "metadata": {},
   "outputs": [],
   "source": []
  },
  {
   "cell_type": "code",
   "execution_count": null,
   "id": "447ab003",
   "metadata": {},
   "outputs": [],
   "source": []
  },
  {
   "cell_type": "code",
   "execution_count": null,
   "id": "63123bc1",
   "metadata": {},
   "outputs": [],
   "source": [
    "plot_bars = function(genes, pops, expr_df){\n",
    "    genes = genes\n",
    "    plot_df = expr_df %>% filter(annot %in% pops) %>% filter(Gene %in% genes)\n",
    "    ggplot(plot_df, aes(x=annot, y=LogNormExpr, fill=annot)) +\n",
    "        stat_summary(fun = mean, geom = 'bar', color='black', show.legend=F) +\n",
    "        stat_summary(fun.data = mean_se, geom='errorbar', width=0.2) +\n",
    "        scale_fill_manual(values=group.colors) +\n",
    "        facet_grid(~ Gene) +\n",
    "        geom_hline(yintercept = 0) +\n",
    "        theme(axis.title.x = element_blank(), axis.text.x = element_blank(), axis.ticks.x = element_blank(), \n",
    "              strip.background = element_blank(), strip.text = element_text(size = 16),\n",
    "              axis.title.y = element_blank(), axis.line.x = element_blank())\n",
    "}\n"
   ]
  },
  {
   "cell_type": "code",
   "execution_count": null,
   "id": "6ab02c6f",
   "metadata": {},
   "outputs": [],
   "source": [
    "barplot_interactions = function(others, pic='TANs__AlvTumor', direction='OUT'){\n",
    "    partners = str_split(pic, \"__\") %>% unlist\n",
    "    if (direction == 'IN'){\n",
    "        is_in = T\n",
    "    } else if (direction == 'OUT'){\n",
    "        is_in = F\n",
    "    } else {\n",
    "        message(\"WARNING - NOT A VALID DIRECTION\")\n",
    "    }\n",
    "    is_in_vector = rep(is_in, nrow(liana_carcinoma))\n",
    "\n",
    "    upnew_interactions = liana_carcinoma %>% \n",
    "        mutate(focus_cell = ifelse(is_in_vector, as.character(target), as.character(source)),\n",
    "               other_cell = ifelse(is_in_vector, as.character(source), as.character(target)),\n",
    "               focus_gene = ifelse(is_in_vector, receptor.complex, ligand.complex),\n",
    "               other_gene = ifelse(is_in_vector, ligand.complex, receptor.complex)) %>%\n",
    "        filter(focus_cell %in% c(pic, partners) & other_cell %in% others & cellphonedb.pvalue < 0.05) %>%\n",
    "            group_by(other_cell, ligand.complex, receptor.complex) %>%\n",
    "            mutate(type=ifelse(focus_cell == pic, \n",
    "                               ifelse(n() == 1, \"De novo\", \n",
    "                                      ifelse(any(unlist(str_split(focus_gene, \"_\")) %in% upgenes), \n",
    "                                              \"Upregulated\", \"Normal\")),\n",
    "                               NA)) %>%\n",
    "        filter(type %in% c('De novo', 'Upregulated'))\n",
    "\n",
    "    gene_plots = lapply(upnew_interactions$focus_gene %>% unique, function(gene){\n",
    "        pic_gene_plot = plot_bars(gene, c(partners, pic), norm_mat_df %>% filter(annot %in% c(partners, pic)))\n",
    "        other_genes = upnew_interactions[upnew_interactions$focus_gene == gene,'other_gene'] %>% unlist %>% unique\n",
    "        singlet_gene_plot = plot_bars(other_genes, others, norm_mat_df %>% filter(annot %in% others)) + \n",
    "            theme(strip.text=element_text(angle=90))        \n",
    "        if (is_in){\n",
    "            ggarrange(singlet_gene_plot, pic_gene_plot, ncol = 1, nrow=2)\n",
    "        } else {\n",
    "            ggarrange(pic_gene_plot, singlet_gene_plot, ncol = 1, nrow=2)\n",
    "        }\n",
    "    })\n",
    "\n",
    "    return(ggarrange(plotlist = gene_plots, nrow = 1))\n",
    "}"
   ]
  },
  {
   "cell_type": "code",
   "execution_count": null,
   "id": "792c382e",
   "metadata": {},
   "outputs": [],
   "source": [
    "    partners = str_split(pic, \"__\") %>% unlist\n",
    "    if (direction == 'IN'){\n",
    "        is_in = T\n",
    "    } else if (direction == 'OUT'){\n",
    "        is_in = F\n",
    "    } else {\n",
    "        message(\"WARNING - NOT A VALID DIRECTION\")\n",
    "    }\n",
    "    is_in_vector = rep(is_in, nrow(liana_carcinoma))\n",
    "\n",
    "    upnew_interactions = liana_carcinoma %>% \n",
    "        mutate(focus_cell = ifelse(is_in_vector, as.character(target), as.character(source)),\n",
    "               other_cell = ifelse(is_in_vector, as.character(source), as.character(target)),\n",
    "               focus_gene = ifelse(is_in_vector, receptor.complex, ligand.complex),\n",
    "               other_gene = ifelse(is_in_vector, ligand.complex, receptor.complex)) %>%\n",
    "        filter(focus_cell %in% c(pic, partners) & other_cell %in% others & cellphonedb.pvalue < 0.05) %>%\n",
    "            group_by(other_cell, ligand.complex, receptor.complex) %>%\n",
    "            mutate(type=ifelse(focus_cell == pic, \n",
    "                               ifelse(n() == 1, \"De novo\", \n",
    "                                      ifelse(any(unlist(str_split(focus_gene, \"_\")) %in% upgenes), \n",
    "                                              \"Upregulated\", \"Normal\")),\n",
    "                               NA)) %>%\n",
    "        filter(type %in% c('De novo', 'Upregulated'))\n",
    "\n",
    "    gene_plots = lapply(upnew_interactions$focus_gene %>% unique, function(gene){\n",
    "        pic_gene_plot = plot_bars(gene, c(partners, pic), norm_mat_df)\n",
    "        other_genes = upnew_interactions[upnew_interactions$focus_gene == gene,'other_gene'] %>% unlist %>% unique\n",
    "        singlet_gene_plot = plot_bars(other_genes, others, norm_mat_df) + theme(strip.text=element_text(angle=90))        \n",
    "        if (is_in){\n",
    "            ggarrange(singlet_gene_plot, pic_gene_plot, ncol = 1, nrow=2)\n",
    "        } else {\n",
    "            ggarrange(pic_gene_plot, singlet_gene_plot, ncol = 1, nrow=2)\n",
    "        }\n",
    "    })\n"
   ]
  },
  {
   "cell_type": "code",
   "execution_count": null,
   "id": "a1da8a8e",
   "metadata": {},
   "outputs": [],
   "source": [
    "barplot_interactions(perivasc)"
   ]
  },
  {
   "cell_type": "code",
   "execution_count": null,
   "id": "e650dde4",
   "metadata": {},
   "outputs": [],
   "source": [
    "barplot_interactions(\"CAFs\")"
   ]
  },
  {
   "cell_type": "code",
   "execution_count": null,
   "id": "28aea103",
   "metadata": {},
   "outputs": [],
   "source": [
    "barplot_interactions(\"CAFs\", direction = 'IN')"
   ]
  },
  {
   "cell_type": "code",
   "execution_count": null,
   "id": "ab625409",
   "metadata": {},
   "outputs": [],
   "source": [
    "barplot_interactions(\"Ductal macs\")"
   ]
  },
  {
   "cell_type": "code",
   "execution_count": null,
   "id": "05d8af44",
   "metadata": {},
   "outputs": [],
   "source": [
    "barplot_interactions(\"Ductal macs\", direction = 'IN')"
   ]
  },
  {
   "cell_type": "code",
   "execution_count": null,
   "id": "d51c9188",
   "metadata": {},
   "outputs": [],
   "source": [
    "barplot_interactions(c(\"Monocytes\", \"MonMacs\", \"Ductal macs\"))"
   ]
  },
  {
   "cell_type": "code",
   "execution_count": null,
   "id": "3507798b",
   "metadata": {},
   "outputs": [],
   "source": [
    "barplot_interactions(c(\"Monocytes\", \"MonMacs\", \"Ductal macs\"), direction = 'IN')"
   ]
  },
  {
   "cell_type": "code",
   "execution_count": null,
   "id": "ed95bfb5",
   "metadata": {},
   "outputs": [],
   "source": []
  },
  {
   "cell_type": "code",
   "execution_count": null,
   "id": "895cd135",
   "metadata": {},
   "outputs": [],
   "source": []
  },
  {
   "cell_type": "code",
   "execution_count": null,
   "id": "6c65f0c2",
   "metadata": {},
   "outputs": [],
   "source": []
  },
  {
   "cell_type": "code",
   "execution_count": null,
   "id": "f14a5c8b",
   "metadata": {},
   "outputs": [],
   "source": []
  },
  {
   "cell_type": "code",
   "execution_count": null,
   "id": "b14798ac",
   "metadata": {},
   "outputs": [],
   "source": []
  },
  {
   "cell_type": "code",
   "execution_count": null,
   "id": "26db5a9a",
   "metadata": {},
   "outputs": [],
   "source": [
    "singlet_pics = c('TANs', 'AlvTumor', 'TANs__AlvTumor')"
   ]
  },
  {
   "cell_type": "code",
   "execution_count": null,
   "id": "48828410",
   "metadata": {},
   "outputs": [],
   "source": [
    "plot_bars(c('Sirpa', 'Cd44', 'S1pr1'), others, norm_mat_df)"
   ]
  },
  {
   "cell_type": "code",
   "execution_count": null,
   "id": "9b3a9529",
   "metadata": {
    "scrolled": true
   },
   "outputs": [],
   "source": [
    "cell_order"
   ]
  },
  {
   "cell_type": "code",
   "execution_count": null,
   "id": "50e16d92",
   "metadata": {},
   "outputs": [],
   "source": [
    "others = c('Endothelial', 'Mcam Endothelial', 'Pericytes', 'CAFs', 'Ductal macs')"
   ]
  },
  {
   "cell_type": "code",
   "execution_count": null,
   "id": "5e559d2f",
   "metadata": {},
   "outputs": [],
   "source": [
    "partners = str_split(pic, \"__\") %>% unlist\n",
    "if (direction == 'IN'){\n",
    "    is_in = T\n",
    "} else if (direction == 'OUT'){\n",
    "    is_in = F\n",
    "} else {\n",
    "    message(\"WARNING - NOT A VALID DIRECTION\")\n",
    "}\n",
    "is_in_vector = rep(is_in, nrow(liana_carcinoma))\n",
    "\n",
    "upnew_interactions = liana_carcinoma %>% \n",
    "    mutate(focus_cell = ifelse(is_in_vector, as.character(target), as.character(source)),\n",
    "           other_cell = ifelse(is_in_vector, as.character(source), as.character(target)),\n",
    "           focus_gene = ifelse(is_in_vector, receptor.complex, ligand.complex),\n",
    "           other_gene = ifelse(is_in_vector, ligand.complex, receptor.complex)) %>%\n",
    "    filter(focus_cell %in% c(pic, partners) & other_cell %in% others & cellphonedb.pvalue < 0.05) %>%\n",
    "        group_by(other_cell, ligand.complex, receptor.complex) %>%\n",
    "        mutate(type=ifelse(focus_cell == pic, \n",
    "                           ifelse(n() == 1, \"De novo\", \n",
    "                                  ifelse(any(unlist(str_split(focus_gene, \"_\")) %in% upgenes), \n",
    "                                          \"Upregulated\", \"Normal\")),\n",
    "                           NA)) %>%\n",
    "    filter(type %in% c('De novo', 'Upregulated'))"
   ]
  },
  {
   "cell_type": "code",
   "execution_count": null,
   "id": "2b806c44",
   "metadata": {},
   "outputs": [],
   "source": [
    "focus_genes = unique(upnew_interactions$ligand.complex)"
   ]
  },
  {
   "cell_type": "code",
   "execution_count": null,
   "id": "2fbc0cb7",
   "metadata": {},
   "outputs": [],
   "source": [
    "pic_gene_plot = plot_obs_exp(gene, genedata)\n",
    "singlet_df = upnew_interactions %>% \n",
    "    filter(focus_gene == gene) %>%\n",
    "    mutate(mean_expr = mean(gene_means[unlist(str_split(other_gene, \"_\"))]))\n",
    "singlet_gene_plot = ggplot(singlet_df, aes(x=other_gene, y=mean_expr)) +\n",
    "    geom_bar(stat='identity', fill=group.colors[other]) +\n",
    "    theme(strip.background = element_blank(), strip.text.x = element_blank(), axis.title.x = element_blank(), \n",
    "          axis.text.x = element_text(angle=90, vjust=0.5))\n",
    "if (is_in){\n",
    "    ggarrange(singlet_gene_plot, pic_gene_plot, ncol = 1, nrow=2)\n",
    "} else {\n",
    "    ggarrange(pic_gene_plot, singlet_gene_plot, ncol = 1, nrow=2)\n",
    "}\n"
   ]
  },
  {
   "cell_type": "code",
   "execution_count": null,
   "id": "c5a89c77",
   "metadata": {},
   "outputs": [],
   "source": [
    "    gene_plots = lapply(upnew_interactions$focus_gene %>% unique, function(gene){\n",
    "        pic_gene_plot = plot_obs_exp(gene, genedata)\n",
    "        singlet_df = upnew_interactions %>% \n",
    "            filter(focus_gene == gene) %>%\n",
    "            mutate(mean_expr = mean(gene_means[unlist(str_split(other_gene, \"_\"))]))\n",
    "        singlet_gene_plot = ggplot(singlet_df, aes(x=other_gene, y=mean_expr)) +\n",
    "            geom_bar(stat='identity', fill=group.colors[other]) +\n",
    "            theme(strip.background = element_blank(), strip.text.x = element_blank(), axis.title.x = element_blank(), \n",
    "                  axis.text.x = element_text(angle=90, vjust=0.5))\n",
    "        if (is_in){\n",
    "            ggarrange(singlet_gene_plot, pic_gene_plot, ncol = 1, nrow=2)\n",
    "        } else {\n",
    "            ggarrange(pic_gene_plot, singlet_gene_plot, ncol = 1, nrow=2)\n",
    "        }\n",
    "    })\n"
   ]
  },
  {
   "cell_type": "code",
   "execution_count": null,
   "id": "4107e874",
   "metadata": {},
   "outputs": [],
   "source": []
  },
  {
   "cell_type": "code",
   "execution_count": null,
   "id": "17bd066b",
   "metadata": {},
   "outputs": [],
   "source": []
  },
  {
   "cell_type": "code",
   "execution_count": null,
   "id": "5d4c73b3",
   "metadata": {},
   "outputs": [],
   "source": []
  },
  {
   "cell_type": "markdown",
   "id": "4320a23f",
   "metadata": {},
   "source": [
    "# OLD"
   ]
  },
  {
   "cell_type": "code",
   "execution_count": null,
   "id": "b44daa67",
   "metadata": {
    "scrolled": true
   },
   "outputs": [],
   "source": [
    "plot_obs_exp = function(focus_gene, genedata){\n",
    "\n",
    "    gene_df = genedata[focus_gene,] %>%\n",
    "        mutate(immune_exp=Simulated_mean * (1 - epi_imm_ratio), \n",
    "               epithelial_exp=Simulated_mean * epi_imm_ratio) %>%\n",
    "        select(Observed_mean, immune_exp, epithelial_exp) %>%\n",
    "        melt(variable.name = \"source\", value.name = \"norm_mean\") %>%\n",
    "        mutate(obs_exp = ifelse(source == \"Observed_mean\", \"Observed\", \"Expected\"),\n",
    "               fill=factor(ifelse(source == 'immune_exp', group.colors['TANs'], \n",
    "                                  ifelse(source == \"epithelial_exp\", group.colors['AlvTumor'], \"slategray\")),\n",
    "                           levels=c(group.colors, \"slategray\")))\n",
    "\n",
    "\n",
    "\n",
    "    p1 = ggplot(gene_df, aes(x=obs_exp, y=norm_mean, fill=fill)) +\n",
    "        geom_bar(stat='identity', position='stack', color='black', show.legend = F) +\n",
    "        geom_errorbar(data=genedata[focus_gene,] %>% mutate(obs_exp=\"Expected\"),\n",
    "                      aes(ymin=pmax(0, Simulated_mean - Sim_SD), ymax=Simulated_mean + Sim_SD, y=0, fill=NA), width=0.1) +\n",
    "        scale_fill_identity() +\n",
    "        labs(title = focus_gene) +\n",
    "        theme(strip.background = element_blank(), strip.text.x = element_blank(), plot.title = element_text(hjust=0, size=20),\n",
    "              axis.title.x=element_blank(), axis.line.x=element_blank(), axis.ticks.x=element_blank(), \n",
    "              axis.text.x=element_blank())\n",
    "    \n",
    "    return(p1)\n",
    "}"
   ]
  },
  {
   "cell_type": "code",
   "execution_count": null,
   "id": "7dd93a29",
   "metadata": {},
   "outputs": [],
   "source": []
  },
  {
   "cell_type": "code",
   "execution_count": null,
   "id": "05ccbd95",
   "metadata": {},
   "outputs": [],
   "source": [
    "barplot_interactions = function(other, pic='TANs__AlvTumor', direction='OUT'){\n",
    "    partners = str_split(pic, \"__\") %>% unlist\n",
    "    if (direction == 'IN'){\n",
    "        is_in = T\n",
    "    } else if (direction == 'OUT'){\n",
    "        is_in = F\n",
    "    } else {\n",
    "        message(\"WARNING - NOT A VALID DIRECTION\")\n",
    "    }\n",
    "    is_in_vector = rep(is_in, nrow(liana_carcinoma))\n",
    "\n",
    "    upnew_interactions = liana_carcinoma %>% \n",
    "        mutate(focus_cell = ifelse(is_in_vector, as.character(target), as.character(source)),\n",
    "               other_cell = ifelse(is_in_vector, as.character(source), as.character(target)),\n",
    "               focus_gene = ifelse(is_in_vector, receptor.complex, ligand.complex),\n",
    "               other_gene = ifelse(is_in_vector, ligand.complex, receptor.complex)) %>%\n",
    "        filter(focus_cell %in% c(pic, partners) & other_cell == other & cellphonedb.pvalue < 0.05) %>%\n",
    "            group_by(other_cell, ligand.complex, receptor.complex) %>%\n",
    "            mutate(type=ifelse(focus_cell == pic, \n",
    "                               ifelse(n() == 1, \"De novo\", \n",
    "                                      ifelse(any(unlist(str_split(focus_gene, \"_\")) %in% upgenes), \n",
    "                                              \"Upregulated\", \"Normal\")),\n",
    "                               NA)) %>%\n",
    "        filter(type %in% c('De novo', 'Upregulated'))\n",
    "\n",
    "    other_singlets = names(mc_kinetics@mc)[mc_kinetics@annots[mc_kinetics@mc] == other]\n",
    "    other_singlets = other_singlets[with(mat@cell_metadata[other_singlets,], Age %in% c('10w', '12w') & condition == 'tumor')]\n",
    "    gene_means = colMeans(norm_mat[other_singlets,str_split(upnew_interactions$other_gene, \"_\") %>% unlist %>% unique])\n",
    "\n",
    "    gene_plots = lapply(upnew_interactions$focus_gene %>% unique, function(gene){\n",
    "        pic_gene_plot = plot_obs_exp(gene, genedata)\n",
    "        singlet_df = upnew_interactions %>% \n",
    "            filter(focus_gene == gene) %>%\n",
    "            mutate(mean_expr = mean(gene_means[unlist(str_split(other_gene, \"_\"))]))\n",
    "        singlet_gene_plot = ggplot(singlet_df, aes(x=other_gene, y=mean_expr)) +\n",
    "            geom_bar(stat='identity', fill=group.colors[other]) +\n",
    "            theme(strip.background = element_blank(), strip.text.x = element_blank(), axis.title.x = element_blank(), \n",
    "                  axis.text.x = element_text(angle=90, vjust=0.5))\n",
    "        if (is_in){\n",
    "            ggarrange(singlet_gene_plot, pic_gene_plot, ncol = 1, nrow=2)\n",
    "        } else {\n",
    "            ggarrange(pic_gene_plot, singlet_gene_plot, ncol = 1, nrow=2)\n",
    "        }\n",
    "    })\n",
    "\n",
    "    return(ggarrange(plotlist = gene_plots, nrow = 1))\n",
    "}"
   ]
  },
  {
   "cell_type": "code",
   "execution_count": null,
   "id": "7d91bc70",
   "metadata": {},
   "outputs": [],
   "source": [
    "for (other in liana_carcinoma$target %>% as.character %>% unique){\n",
    "    p = barplot_interactions(other, direction=\"OUT\")\n",
    "    message(other)\n",
    "    ggsave(plot=p, paste0(\"final_figs/fig6/barplots/\", as.character(other), \"_out.png\"))\n",
    "}\n",
    "for (other in liana_carcinoma$source %>% as.character %>% unique){\n",
    "    p = barplot_interactions(other, direction=\"IN\")\n",
    "    ggsave(p, paste0(\"final_figs/fig6/barplots/\", other, \"_in.png\"))\n",
    "}"
   ]
  },
  {
   "cell_type": "code",
   "execution_count": null,
   "id": "64128ffd",
   "metadata": {},
   "outputs": [],
   "source": [
    "barplot_interactions('Ductal macs')"
   ]
  },
  {
   "cell_type": "code",
   "execution_count": null,
   "id": "594d31a1",
   "metadata": {},
   "outputs": [],
   "source": [
    "barplot_interactions('Mcam Endothelial')"
   ]
  },
  {
   "cell_type": "code",
   "execution_count": null,
   "id": "ddcf46f2",
   "metadata": {},
   "outputs": [],
   "source": []
  },
  {
   "cell_type": "code",
   "execution_count": null,
   "id": "a4dbbe97",
   "metadata": {},
   "outputs": [],
   "source": []
  },
  {
   "cell_type": "code",
   "execution_count": null,
   "id": "9df16352",
   "metadata": {},
   "outputs": [],
   "source": [
    "library(ggpubr)"
   ]
  },
  {
   "cell_type": "code",
   "execution_count": null,
   "id": "a9fe267a",
   "metadata": {
    "scrolled": true
   },
   "outputs": [],
   "source": [
    "bottom_plots = upnew_interactions %>% \n",
    "    mutate(mean_expr = gene_means[receptor.complex]) %>%\n",
    "    ggplot(aes(x=receptor.complex, y=mean_expr)) +\n",
    "        geom_bar(stat='identity', fill=group.colors[other]) +\n",
    "        facet_grid(~ ligand.complex, scales = 'free_x') +\n",
    "        #scale_x_discrete(position = \"top\") +\n",
    "        theme(strip.background = element_blank(), strip.text.x = element_blank(), axis.title.x = element_blank(), \n",
    "              axis.text.x = element_text(angle=90, vjust=0.5))\n"
   ]
  },
  {
   "cell_type": "code",
   "execution_count": null,
   "id": "198a1ba7",
   "metadata": {},
   "outputs": [],
   "source": []
  },
  {
   "cell_type": "code",
   "execution_count": 145,
   "id": "6fb3a480",
   "metadata": {},
   "outputs": [
    {
     "name": "stderr",
     "output_type": "stream",
     "text": [
      "\u001b[1m\u001b[22m`summarise()` has grouped output by 'annot'. You can override using the\n",
      "`.groups` argument.\n",
      "Using pct_expression as value column: use value.var to override.\n",
      "\n"
     ]
    }
   ],
   "source": [
    "norm_mat_df %>%\n",
    "    group_by(annot, Gene) %>%\n",
    "    summarise(pct_expression = sum(LogNormExpr > 0) / n()) %>%\n",
    "    dcast(annot ~ Gene) %>%\n",
    "    write_csv(\"final_figs/fig6/percent_expression.csv\")"
   ]
  },
  {
   "cell_type": "code",
   "execution_count": 102,
   "id": "7cc38200",
   "metadata": {},
   "outputs": [
    {
     "name": "stderr",
     "output_type": "stream",
     "text": [
      "\u001b[1mRows: \u001b[22m\u001b[34m34\u001b[39m \u001b[1mColumns: \u001b[22m\u001b[34m36985\u001b[39m\n",
      "\u001b[36m──\u001b[39m \u001b[1mColumn specification\u001b[22m \u001b[36m────────────────────────────────────────────────────────\u001b[39m\n",
      "\u001b[1mDelimiter:\u001b[22m \",\"\n",
      "\u001b[31mchr\u001b[39m     (1): annot\n",
      "\u001b[32mdbl\u001b[39m (36984): X0610009B22Rik, X4921524J17Rik, X4930523C07Rik, X5430403G16Rik,...\n",
      "\n",
      "\u001b[36mℹ\u001b[39m Use `spec()` to retrieve the full column specification for this data.\n",
      "\u001b[36mℹ\u001b[39m Specify the column types or set `show_col_types = FALSE` to quiet this message.\n"
     ]
    }
   ],
   "source": [
    "pct_expr = read_csv(\"final_figs/fig6/percent_expression.csv\")"
   ]
  },
  {
   "cell_type": "code",
   "execution_count": 104,
   "id": "0955e420",
   "metadata": {},
   "outputs": [
    {
     "data": {
      "text/html": [
       "<style>\n",
       ".list-inline {list-style: none; margin:0; padding: 0}\n",
       ".list-inline>li {display: inline-block}\n",
       ".list-inline>li:not(:last-child)::after {content: \"\\00b7\"; padding: 0 .5ex}\n",
       "</style>\n",
       "<ol class=list-inline><li>0.011509817197021</li><li>0.32258064516129</li><li>0.417322834645669</li><li>0.0458937198067633</li><li>0</li><li>0.0512820512820513</li><li>0.0630630630630631</li><li>0.0779220779220779</li><li>0</li><li>0.284306292645944</li><li>0</li><li>0</li><li>0.0454545454545454</li><li>0.0810810810810811</li><li>0</li><li>0</li><li>0.00819672131147541</li><li>0.306532663316583</li><li>0.146666666666667</li><li>0</li><li>0.105263157894737</li><li>0.0161290322580645</li><li>0.0645161290322581</li><li>0</li><li>0.2</li><li>0</li><li>0.909090909090909</li><li>0.816326530612245</li><li>0.0352348993288591</li><li>0.934782608695652</li><li>0.635135135135135</li><li>0.327586206896552</li><li>0.494186046511628</li><li>0.0566037735849057</li></ol>\n"
      ],
      "text/latex": [
       "\\begin{enumerate*}\n",
       "\\item 0.011509817197021\n",
       "\\item 0.32258064516129\n",
       "\\item 0.417322834645669\n",
       "\\item 0.0458937198067633\n",
       "\\item 0\n",
       "\\item 0.0512820512820513\n",
       "\\item 0.0630630630630631\n",
       "\\item 0.0779220779220779\n",
       "\\item 0\n",
       "\\item 0.284306292645944\n",
       "\\item 0\n",
       "\\item 0\n",
       "\\item 0.0454545454545454\n",
       "\\item 0.0810810810810811\n",
       "\\item 0\n",
       "\\item 0\n",
       "\\item 0.00819672131147541\n",
       "\\item 0.306532663316583\n",
       "\\item 0.146666666666667\n",
       "\\item 0\n",
       "\\item 0.105263157894737\n",
       "\\item 0.0161290322580645\n",
       "\\item 0.0645161290322581\n",
       "\\item 0\n",
       "\\item 0.2\n",
       "\\item 0\n",
       "\\item 0.909090909090909\n",
       "\\item 0.816326530612245\n",
       "\\item 0.0352348993288591\n",
       "\\item 0.934782608695652\n",
       "\\item 0.635135135135135\n",
       "\\item 0.327586206896552\n",
       "\\item 0.494186046511628\n",
       "\\item 0.0566037735849057\n",
       "\\end{enumerate*}\n"
      ],
      "text/markdown": [
       "1. 0.011509817197021\n",
       "2. 0.32258064516129\n",
       "3. 0.417322834645669\n",
       "4. 0.0458937198067633\n",
       "5. 0\n",
       "6. 0.0512820512820513\n",
       "7. 0.0630630630630631\n",
       "8. 0.0779220779220779\n",
       "9. 0\n",
       "10. 0.284306292645944\n",
       "11. 0\n",
       "12. 0\n",
       "13. 0.0454545454545454\n",
       "14. 0.0810810810810811\n",
       "15. 0\n",
       "16. 0\n",
       "17. 0.00819672131147541\n",
       "18. 0.306532663316583\n",
       "19. 0.146666666666667\n",
       "20. 0\n",
       "21. 0.105263157894737\n",
       "22. 0.0161290322580645\n",
       "23. 0.0645161290322581\n",
       "24. 0\n",
       "25. 0.2\n",
       "26. 0\n",
       "27. 0.909090909090909\n",
       "28. 0.816326530612245\n",
       "29. 0.0352348993288591\n",
       "30. 0.934782608695652\n",
       "31. 0.635135135135135\n",
       "32. 0.327586206896552\n",
       "33. 0.494186046511628\n",
       "34. 0.0566037735849057\n",
       "\n",
       "\n"
      ],
      "text/plain": [
       " [1] 0.011509817 0.322580645 0.417322835 0.045893720 0.000000000 0.051282051\n",
       " [7] 0.063063063 0.077922078 0.000000000 0.284306293 0.000000000 0.000000000\n",
       "[13] 0.045454545 0.081081081 0.000000000 0.000000000 0.008196721 0.306532663\n",
       "[19] 0.146666667 0.000000000 0.105263158 0.016129032 0.064516129 0.000000000\n",
       "[25] 0.200000000 0.000000000 0.909090909 0.816326531 0.035234899 0.934782609\n",
       "[31] 0.635135135 0.327586207 0.494186047 0.056603774"
      ]
     },
     "metadata": {},
     "output_type": "display_data"
    }
   ],
   "source": [
    "pct_expr$Cxcl2"
   ]
  },
  {
   "cell_type": "code",
   "execution_count": 322,
   "id": "8f479623",
   "metadata": {},
   "outputs": [
    {
     "name": "stdout",
     "output_type": "stream",
     "text": [
      "Gnai2, Vegfa, Vegfb, Itgb2, Cxcl2, Csf1, Csf1_Il34, Fadd, Il16, Gstp1"
     ]
    }
   ],
   "source": [
    "liana_carcinoma %>% \n",
    "    filter(source %in% c(pic, partners) & target %in% c('Mcam Endothelial', 'Pericytes', 'Ductal macs', 'CAFs') & cellphonedb.pvalue < max_rank) %>%\n",
    "    group_by(target, ligand.complex, receptor.complex) %>%\n",
    "    mutate(is_up = ifelse(source == pic & any(ligand.complex %in% upgenes), 1, 0),\n",
    "           is_denovo = ifelse(source == pic & n() == 1, 2, 0)) %>%\n",
    "    mutate(interaction_type = c('Normal', 'Upregulated', 'De novo', 'Both')[1 + is_up + is_denovo]) %>%\n",
    "    filter(interaction_type != \"Normal\") %>%\n",
    "    as.data.frame %>%\n",
    "    select(ligand.complex) %>%\n",
    "    unlist %>%\n",
    "    unique %>%\n",
    "    cat(sep=\", \")"
   ]
  },
  {
   "cell_type": "code",
   "execution_count": null,
   "id": "5b002f18",
   "metadata": {},
   "outputs": [],
   "source": []
  },
  {
   "cell_type": "markdown",
   "id": "031631a6",
   "metadata": {},
   "source": [
    "# Obs/exp plots"
   ]
  },
  {
   "cell_type": "code",
   "execution_count": 555,
   "id": "de9a3d79",
   "metadata": {},
   "outputs": [],
   "source": [
    "genedata = read.csv(\"final_figs/fig4/new_gene_sd/TANs_merged_1012w_genedata.csv\", row.names=1)"
   ]
  },
  {
   "cell_type": "code",
   "execution_count": 556,
   "id": "d0748b80",
   "metadata": {},
   "outputs": [],
   "source": [
    "genedata = genedata %>% rownames_to_column(\"gene\")"
   ]
  },
  {
   "cell_type": "code",
   "execution_count": 557,
   "id": "670e54f3",
   "metadata": {},
   "outputs": [],
   "source": [
    "focus_genes = c(\"Vegfa\", \"Gnai2\", \"Itgb2\")"
   ]
  },
  {
   "cell_type": "code",
   "execution_count": 558,
   "id": "69532dab",
   "metadata": {},
   "outputs": [
    {
     "name": "stderr",
     "output_type": "stream",
     "text": [
      "Using gene as id variables\n",
      "\n",
      "Warning message in geom_errorbar(data = genedata %>% filter(gene == focus_gene) %>% :\n",
      "“\u001b[1m\u001b[22mIgnoring unknown aesthetics: \u001b[32mfill\u001b[39m”\n",
      "Using gene as id variables\n",
      "\n",
      "Warning message in geom_errorbar(data = genedata %>% filter(gene == focus_gene) %>% :\n",
      "“\u001b[1m\u001b[22mIgnoring unknown aesthetics: \u001b[32mfill\u001b[39m”\n",
      "Using gene as id variables\n",
      "\n",
      "Warning message in geom_errorbar(data = genedata %>% filter(gene == focus_gene) %>% :\n",
      "“\u001b[1m\u001b[22mIgnoring unknown aesthetics: \u001b[32mfill\u001b[39m”\n"
     ]
    }
   ],
   "source": [
    "for (focus_gene in focus_genes){\n",
    "\n",
    "    gene_df = genedata %>% \n",
    "        filter(gene == focus_gene) %>%\n",
    "        mutate(immune_exp=Simulated_mean * (1 - epi_imm_ratio), \n",
    "               epithelial_exp=Simulated_mean * epi_imm_ratio) %>%\n",
    "        select(Observed_mean, immune_exp, epithelial_exp, gene) %>%\n",
    "        melt(variable.name = \"source\", value.name = \"norm_mean\") %>%\n",
    "        mutate(obs_exp = ifelse(source == \"Observed_mean\", \"Observed\", \"Expected\"),\n",
    "               fill=factor(ifelse(source == 'immune_exp', \n",
    "                                  group.colors[\"TANs\"], \n",
    "                                  ifelse(source == \"epithelial_exp\", \n",
    "                                         group.colors[\"AlvTumor\"],\n",
    "                                         group.colors[\"TANs__AlvTumor\"])),\n",
    "                           levels=group.colors))\n",
    "\n",
    "    ggplot(gene_df, aes(x=obs_exp, y=norm_mean, fill=fill)) +\n",
    "            geom_bar(stat='identity', position='stack', color='black', show.legend = F) +\n",
    "            geom_errorbar(data=genedata %>% filter(gene == focus_gene) %>% mutate(obs_exp=\"Expected\"),\n",
    "                          aes(ymin=pmax(0, Simulated_mean - Sim_SD), ymax=Simulated_mean + Sim_SD, y=0, fill=NA), width=0.1) +\n",
    "            scale_fill_identity() +\n",
    "            labs(title = focus_gene) +\n",
    "            theme(strip.background = element_blank(), strip.text.x = element_blank(), plot.title = element_text(hjust=0, size=20),\n",
    "                  axis.title.x=element_blank(), axis.line.x=element_blank(), axis.ticks.x=element_blank(), \n",
    "                  axis.text.x=element_blank())\n",
    "    \n",
    "    ggsave(paste0(\"final_figs/fig6/obs_exp_barplots/\", focus_gene, \".png\"), height=3, width=2, dpi=1200)\n",
    "    \n",
    "}"
   ]
  },
  {
   "cell_type": "code",
   "execution_count": 560,
   "id": "88df1e90",
   "metadata": {},
   "outputs": [
    {
     "data": {
      "text/html": [
       "<table class=\"dataframe\">\n",
       "<caption>A data.frame: 3 × 2</caption>\n",
       "<thead>\n",
       "\t<tr><th scope=col>gene</th><th scope=col>adj_pval</th></tr>\n",
       "\t<tr><th scope=col>&lt;chr&gt;</th><th scope=col>&lt;dbl&gt;</th></tr>\n",
       "</thead>\n",
       "<tbody>\n",
       "\t<tr><td>Gnai2</td><td>0.024767017</td></tr>\n",
       "\t<tr><td>Itgb2</td><td>0.001893692</td></tr>\n",
       "\t<tr><td>Vegfa</td><td>0.000125479</td></tr>\n",
       "</tbody>\n",
       "</table>\n"
      ],
      "text/latex": [
       "A data.frame: 3 × 2\n",
       "\\begin{tabular}{ll}\n",
       " gene & adj\\_pval\\\\\n",
       " <chr> & <dbl>\\\\\n",
       "\\hline\n",
       "\t Gnai2 & 0.024767017\\\\\n",
       "\t Itgb2 & 0.001893692\\\\\n",
       "\t Vegfa & 0.000125479\\\\\n",
       "\\end{tabular}\n"
      ],
      "text/markdown": [
       "\n",
       "A data.frame: 3 × 2\n",
       "\n",
       "| gene &lt;chr&gt; | adj_pval &lt;dbl&gt; |\n",
       "|---|---|\n",
       "| Gnai2 | 0.024767017 |\n",
       "| Itgb2 | 0.001893692 |\n",
       "| Vegfa | 0.000125479 |\n",
       "\n"
      ],
      "text/plain": [
       "  gene  adj_pval   \n",
       "1 Gnai2 0.024767017\n",
       "2 Itgb2 0.001893692\n",
       "3 Vegfa 0.000125479"
      ]
     },
     "metadata": {},
     "output_type": "display_data"
    }
   ],
   "source": [
    "genedata %>% filter(gene %in% focus_genes) %>% select(gene, adj_pval)"
   ]
  },
  {
   "cell_type": "code",
   "execution_count": null,
   "id": "cb8cb329",
   "metadata": {},
   "outputs": [],
   "source": []
  }
 ],
 "metadata": {
  "kernelspec": {
   "display_name": "R",
   "language": "R",
   "name": "ir"
  },
  "language_info": {
   "codemirror_mode": "r",
   "file_extension": ".r",
   "mimetype": "text/x-r-source",
   "name": "R",
   "pygments_lexer": "r",
   "version": "4.1.3"
  }
 },
 "nbformat": 4,
 "nbformat_minor": 5
}
